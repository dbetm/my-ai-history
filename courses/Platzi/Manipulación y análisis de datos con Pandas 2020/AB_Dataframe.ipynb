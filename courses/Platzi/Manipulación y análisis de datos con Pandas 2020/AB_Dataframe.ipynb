{
 "cells": [
  {
   "cell_type": "code",
   "execution_count": 2,
   "metadata": {},
   "outputs": [],
   "source": [
    "import numpy as np\n",
    "import pandas as pd"
   ]
  },
  {
   "cell_type": "code",
   "execution_count": 3,
   "metadata": {},
   "outputs": [
    {
     "data": {
      "text/plain": [
       "'1.4.1'"
      ]
     },
     "execution_count": 3,
     "metadata": {},
     "output_type": "execute_result"
    }
   ],
   "source": [
    "pd.__version__"
   ]
  },
  {
   "cell_type": "code",
   "execution_count": 4,
   "metadata": {},
   "outputs": [
    {
     "data": {
      "text/plain": [
       "{'CH': [100, 800, 200], 'CO': [100, 200, 300], 'MX': [300, 500, 400]}"
      ]
     },
     "execution_count": 4,
     "metadata": {},
     "output_type": "execute_result"
    }
   ],
   "source": [
    "# Creando dataframe desde diccionario\n",
    "data = {\"CH\": [100, 800, 200], \"CO\": [100, 200, 300], \"MX\": [300, 500, 400]}\n",
    "data"
   ]
  },
  {
   "cell_type": "code",
   "execution_count": 6,
   "metadata": {},
   "outputs": [
    {
     "data": {
      "text/html": [
       "<div>\n",
       "<style scoped>\n",
       "    .dataframe tbody tr th:only-of-type {\n",
       "        vertical-align: middle;\n",
       "    }\n",
       "\n",
       "    .dataframe tbody tr th {\n",
       "        vertical-align: top;\n",
       "    }\n",
       "\n",
       "    .dataframe thead th {\n",
       "        text-align: right;\n",
       "    }\n",
       "</style>\n",
       "<table border=\"1\" class=\"dataframe\">\n",
       "  <thead>\n",
       "    <tr style=\"text-align: right;\">\n",
       "      <th></th>\n",
       "      <th>CH</th>\n",
       "      <th>CO</th>\n",
       "      <th>MX</th>\n",
       "    </tr>\n",
       "  </thead>\n",
       "  <tbody>\n",
       "    <tr>\n",
       "      <th>0</th>\n",
       "      <td>100</td>\n",
       "      <td>100</td>\n",
       "      <td>300</td>\n",
       "    </tr>\n",
       "    <tr>\n",
       "      <th>1</th>\n",
       "      <td>800</td>\n",
       "      <td>200</td>\n",
       "      <td>500</td>\n",
       "    </tr>\n",
       "    <tr>\n",
       "      <th>2</th>\n",
       "      <td>200</td>\n",
       "      <td>300</td>\n",
       "      <td>400</td>\n",
       "    </tr>\n",
       "  </tbody>\n",
       "</table>\n",
       "</div>"
      ],
      "text/plain": [
       "    CH   CO   MX\n",
       "0  100  100  300\n",
       "1  800  200  500\n",
       "2  200  300  400"
      ]
     },
     "execution_count": 6,
     "metadata": {},
     "output_type": "execute_result"
    }
   ],
   "source": [
    "df = pd.DataFrame(data)\n",
    "df"
   ]
  },
  {
   "cell_type": "markdown",
   "metadata": {},
   "source": [
    "Con datos más complejos"
   ]
  },
  {
   "cell_type": "code",
   "execution_count": 7,
   "metadata": {},
   "outputs": [],
   "source": [
    "dict_data = {\n",
    "    'edad': [10,9,13,14,12,11,12],\n",
    "    'cm': [115,110,130,155,125,120,125],\n",
    "    'pais': ['co','mx','co','mx','mx','ch','ch'],\n",
    "    'genero': ['M','F','F','M','M','M','F'],\n",
    "    'Q1': [5,10,8,np.nan,7,8,3],\n",
    "    'Q2': [7,9,9,8,8,8,9]\n",
    "}"
   ]
  },
  {
   "cell_type": "code",
   "execution_count": 8,
   "metadata": {},
   "outputs": [
    {
     "data": {
      "text/html": [
       "<div>\n",
       "<style scoped>\n",
       "    .dataframe tbody tr th:only-of-type {\n",
       "        vertical-align: middle;\n",
       "    }\n",
       "\n",
       "    .dataframe tbody tr th {\n",
       "        vertical-align: top;\n",
       "    }\n",
       "\n",
       "    .dataframe thead th {\n",
       "        text-align: right;\n",
       "    }\n",
       "</style>\n",
       "<table border=\"1\" class=\"dataframe\">\n",
       "  <thead>\n",
       "    <tr style=\"text-align: right;\">\n",
       "      <th></th>\n",
       "      <th>edad</th>\n",
       "      <th>cm</th>\n",
       "      <th>pais</th>\n",
       "      <th>genero</th>\n",
       "      <th>Q1</th>\n",
       "      <th>Q2</th>\n",
       "    </tr>\n",
       "  </thead>\n",
       "  <tbody>\n",
       "    <tr>\n",
       "      <th>0</th>\n",
       "      <td>10</td>\n",
       "      <td>115</td>\n",
       "      <td>co</td>\n",
       "      <td>M</td>\n",
       "      <td>5.0</td>\n",
       "      <td>7</td>\n",
       "    </tr>\n",
       "    <tr>\n",
       "      <th>1</th>\n",
       "      <td>9</td>\n",
       "      <td>110</td>\n",
       "      <td>mx</td>\n",
       "      <td>F</td>\n",
       "      <td>10.0</td>\n",
       "      <td>9</td>\n",
       "    </tr>\n",
       "    <tr>\n",
       "      <th>2</th>\n",
       "      <td>13</td>\n",
       "      <td>130</td>\n",
       "      <td>co</td>\n",
       "      <td>F</td>\n",
       "      <td>8.0</td>\n",
       "      <td>9</td>\n",
       "    </tr>\n",
       "    <tr>\n",
       "      <th>3</th>\n",
       "      <td>14</td>\n",
       "      <td>155</td>\n",
       "      <td>mx</td>\n",
       "      <td>M</td>\n",
       "      <td>NaN</td>\n",
       "      <td>8</td>\n",
       "    </tr>\n",
       "    <tr>\n",
       "      <th>4</th>\n",
       "      <td>12</td>\n",
       "      <td>125</td>\n",
       "      <td>mx</td>\n",
       "      <td>M</td>\n",
       "      <td>7.0</td>\n",
       "      <td>8</td>\n",
       "    </tr>\n",
       "    <tr>\n",
       "      <th>5</th>\n",
       "      <td>11</td>\n",
       "      <td>120</td>\n",
       "      <td>ch</td>\n",
       "      <td>M</td>\n",
       "      <td>8.0</td>\n",
       "      <td>8</td>\n",
       "    </tr>\n",
       "    <tr>\n",
       "      <th>6</th>\n",
       "      <td>12</td>\n",
       "      <td>125</td>\n",
       "      <td>ch</td>\n",
       "      <td>F</td>\n",
       "      <td>3.0</td>\n",
       "      <td>9</td>\n",
       "    </tr>\n",
       "  </tbody>\n",
       "</table>\n",
       "</div>"
      ],
      "text/plain": [
       "   edad   cm pais genero    Q1  Q2\n",
       "0    10  115   co      M   5.0   7\n",
       "1     9  110   mx      F  10.0   9\n",
       "2    13  130   co      F   8.0   9\n",
       "3    14  155   mx      M   NaN   8\n",
       "4    12  125   mx      M   7.0   8\n",
       "5    11  120   ch      M   8.0   8\n",
       "6    12  125   ch      F   3.0   9"
      ]
     },
     "execution_count": 8,
     "metadata": {},
     "output_type": "execute_result"
    }
   ],
   "source": [
    "df = pd.DataFrame(dict_data)\n",
    "df"
   ]
  },
  {
   "cell_type": "code",
   "execution_count": 9,
   "metadata": {},
   "outputs": [
    {
     "data": {
      "text/html": [
       "<div>\n",
       "<style scoped>\n",
       "    .dataframe tbody tr th:only-of-type {\n",
       "        vertical-align: middle;\n",
       "    }\n",
       "\n",
       "    .dataframe tbody tr th {\n",
       "        vertical-align: top;\n",
       "    }\n",
       "\n",
       "    .dataframe thead th {\n",
       "        text-align: right;\n",
       "    }\n",
       "</style>\n",
       "<table border=\"1\" class=\"dataframe\">\n",
       "  <thead>\n",
       "    <tr style=\"text-align: right;\">\n",
       "      <th></th>\n",
       "      <th>edad</th>\n",
       "      <th>cm</th>\n",
       "      <th>pais</th>\n",
       "      <th>genero</th>\n",
       "      <th>Q1</th>\n",
       "      <th>Q2</th>\n",
       "    </tr>\n",
       "  </thead>\n",
       "  <tbody>\n",
       "    <tr>\n",
       "      <th>Ana</th>\n",
       "      <td>10</td>\n",
       "      <td>115</td>\n",
       "      <td>co</td>\n",
       "      <td>M</td>\n",
       "      <td>5.0</td>\n",
       "      <td>7</td>\n",
       "    </tr>\n",
       "    <tr>\n",
       "      <th>Benito</th>\n",
       "      <td>9</td>\n",
       "      <td>110</td>\n",
       "      <td>mx</td>\n",
       "      <td>F</td>\n",
       "      <td>10.0</td>\n",
       "      <td>9</td>\n",
       "    </tr>\n",
       "    <tr>\n",
       "      <th>Camilo</th>\n",
       "      <td>13</td>\n",
       "      <td>130</td>\n",
       "      <td>co</td>\n",
       "      <td>F</td>\n",
       "      <td>8.0</td>\n",
       "      <td>9</td>\n",
       "    </tr>\n",
       "    <tr>\n",
       "      <th>Daniel</th>\n",
       "      <td>14</td>\n",
       "      <td>155</td>\n",
       "      <td>mx</td>\n",
       "      <td>M</td>\n",
       "      <td>NaN</td>\n",
       "      <td>8</td>\n",
       "    </tr>\n",
       "    <tr>\n",
       "      <th>Erika</th>\n",
       "      <td>12</td>\n",
       "      <td>125</td>\n",
       "      <td>mx</td>\n",
       "      <td>M</td>\n",
       "      <td>7.0</td>\n",
       "      <td>8</td>\n",
       "    </tr>\n",
       "    <tr>\n",
       "      <th>Fabian</th>\n",
       "      <td>11</td>\n",
       "      <td>120</td>\n",
       "      <td>ch</td>\n",
       "      <td>M</td>\n",
       "      <td>8.0</td>\n",
       "      <td>8</td>\n",
       "    </tr>\n",
       "    <tr>\n",
       "      <th>Gabriela</th>\n",
       "      <td>12</td>\n",
       "      <td>125</td>\n",
       "      <td>ch</td>\n",
       "      <td>F</td>\n",
       "      <td>3.0</td>\n",
       "      <td>9</td>\n",
       "    </tr>\n",
       "  </tbody>\n",
       "</table>\n",
       "</div>"
      ],
      "text/plain": [
       "          edad   cm pais genero    Q1  Q2\n",
       "Ana         10  115   co      M   5.0   7\n",
       "Benito       9  110   mx      F  10.0   9\n",
       "Camilo      13  130   co      F   8.0   9\n",
       "Daniel      14  155   mx      M   NaN   8\n",
       "Erika       12  125   mx      M   7.0   8\n",
       "Fabian      11  120   ch      M   8.0   8\n",
       "Gabriela    12  125   ch      F   3.0   9"
      ]
     },
     "execution_count": 9,
     "metadata": {},
     "output_type": "execute_result"
    }
   ],
   "source": [
    "# que el índice sea el nombre del estudiante\n",
    "student_names = [\"Ana\", \"Benito\", \"Camilo\", \"Daniel\", \"Erika\", \"Fabian\", \"Gabriela\"]\n",
    "df_idx = pd.DataFrame(dict_data, index=student_names)\n",
    "df_idx"
   ]
  },
  {
   "cell_type": "code",
   "execution_count": 10,
   "metadata": {},
   "outputs": [
    {
     "data": {
      "text/plain": [
       "Index(['Ana', 'Benito', 'Camilo', 'Daniel', 'Erika', 'Fabian', 'Gabriela'], dtype='object')"
      ]
     },
     "execution_count": 10,
     "metadata": {},
     "output_type": "execute_result"
    }
   ],
   "source": [
    "df_idx.index"
   ]
  },
  {
   "cell_type": "code",
   "execution_count": 11,
   "metadata": {},
   "outputs": [
    {
     "data": {
      "text/plain": [
       "Index(['edad', 'cm', 'pais', 'genero', 'Q1', 'Q2'], dtype='object')"
      ]
     },
     "execution_count": 11,
     "metadata": {},
     "output_type": "execute_result"
    }
   ],
   "source": [
    "df_idx.columns"
   ]
  },
  {
   "cell_type": "code",
   "execution_count": 12,
   "metadata": {},
   "outputs": [
    {
     "data": {
      "text/plain": [
       "array([[10, 115, 'co', 'M', 5.0, 7],\n",
       "       [9, 110, 'mx', 'F', 10.0, 9],\n",
       "       [13, 130, 'co', 'F', 8.0, 9],\n",
       "       [14, 155, 'mx', 'M', nan, 8],\n",
       "       [12, 125, 'mx', 'M', 7.0, 8],\n",
       "       [11, 120, 'ch', 'M', 8.0, 8],\n",
       "       [12, 125, 'ch', 'F', 3.0, 9]], dtype=object)"
      ]
     },
     "execution_count": 12,
     "metadata": {},
     "output_type": "execute_result"
    }
   ],
   "source": [
    "df_idx.values"
   ]
  },
  {
   "cell_type": "code",
   "execution_count": 15,
   "metadata": {},
   "outputs": [
    {
     "data": {
      "text/plain": [
       "Ana         10\n",
       "Benito       9\n",
       "Camilo      13\n",
       "Daniel      14\n",
       "Erika       12\n",
       "Fabian      11\n",
       "Gabriela    12\n",
       "Name: edad, dtype: int64"
      ]
     },
     "execution_count": 15,
     "metadata": {},
     "output_type": "execute_result"
    }
   ],
   "source": [
    "# Seleccionado solo una columna\n",
    "df_idx[\"edad\"]"
   ]
  },
  {
   "cell_type": "code",
   "execution_count": 16,
   "metadata": {},
   "outputs": [
    {
     "data": {
      "text/html": [
       "<div>\n",
       "<style scoped>\n",
       "    .dataframe tbody tr th:only-of-type {\n",
       "        vertical-align: middle;\n",
       "    }\n",
       "\n",
       "    .dataframe tbody tr th {\n",
       "        vertical-align: top;\n",
       "    }\n",
       "\n",
       "    .dataframe thead th {\n",
       "        text-align: right;\n",
       "    }\n",
       "</style>\n",
       "<table border=\"1\" class=\"dataframe\">\n",
       "  <thead>\n",
       "    <tr style=\"text-align: right;\">\n",
       "      <th></th>\n",
       "      <th>edad</th>\n",
       "      <th>pais</th>\n",
       "      <th>Q1</th>\n",
       "    </tr>\n",
       "  </thead>\n",
       "  <tbody>\n",
       "    <tr>\n",
       "      <th>Ana</th>\n",
       "      <td>10</td>\n",
       "      <td>co</td>\n",
       "      <td>5.0</td>\n",
       "    </tr>\n",
       "    <tr>\n",
       "      <th>Benito</th>\n",
       "      <td>9</td>\n",
       "      <td>mx</td>\n",
       "      <td>10.0</td>\n",
       "    </tr>\n",
       "    <tr>\n",
       "      <th>Camilo</th>\n",
       "      <td>13</td>\n",
       "      <td>co</td>\n",
       "      <td>8.0</td>\n",
       "    </tr>\n",
       "    <tr>\n",
       "      <th>Daniel</th>\n",
       "      <td>14</td>\n",
       "      <td>mx</td>\n",
       "      <td>NaN</td>\n",
       "    </tr>\n",
       "    <tr>\n",
       "      <th>Erika</th>\n",
       "      <td>12</td>\n",
       "      <td>mx</td>\n",
       "      <td>7.0</td>\n",
       "    </tr>\n",
       "    <tr>\n",
       "      <th>Fabian</th>\n",
       "      <td>11</td>\n",
       "      <td>ch</td>\n",
       "      <td>8.0</td>\n",
       "    </tr>\n",
       "    <tr>\n",
       "      <th>Gabriela</th>\n",
       "      <td>12</td>\n",
       "      <td>ch</td>\n",
       "      <td>3.0</td>\n",
       "    </tr>\n",
       "  </tbody>\n",
       "</table>\n",
       "</div>"
      ],
      "text/plain": [
       "          edad pais    Q1\n",
       "Ana         10   co   5.0\n",
       "Benito       9   mx  10.0\n",
       "Camilo      13   co   8.0\n",
       "Daniel      14   mx   NaN\n",
       "Erika       12   mx   7.0\n",
       "Fabian      11   ch   8.0\n",
       "Gabriela    12   ch   3.0"
      ]
     },
     "execution_count": 16,
     "metadata": {},
     "output_type": "execute_result"
    }
   ],
   "source": [
    "# Seleccionando solo ciertas columnas\n",
    "columns = [\"edad\", \"pais\", \"Q1\"]\n",
    "subset_ = df_idx[columns]\n",
    "subset_"
   ]
  },
  {
   "cell_type": "markdown",
   "metadata": {},
   "source": [
    "**Columnas específicas de un cierto registro**"
   ]
  },
  {
   "cell_type": "code",
   "execution_count": 19,
   "metadata": {},
   "outputs": [
    {
     "name": "stdout",
     "output_type": "stream",
     "text": [
      "<class 'pandas.core.series.Series'>\n"
     ]
    },
    {
     "data": {
      "text/plain": [
       "edad     14\n",
       "pais     mx\n",
       "Q1      NaN\n",
       "Name: Daniel, dtype: object"
      ]
     },
     "execution_count": 19,
     "metadata": {},
     "output_type": "execute_result"
    }
   ],
   "source": [
    "# retorna una serie\n",
    "example = df_idx.loc[\"Daniel\", columns]\n",
    "print(type(example))\n",
    "example"
   ]
  },
  {
   "cell_type": "code",
   "execution_count": 22,
   "metadata": {},
   "outputs": [
    {
     "name": "stdout",
     "output_type": "stream",
     "text": [
      "<class 'pandas.core.frame.DataFrame'>\n"
     ]
    },
    {
     "data": {
      "text/html": [
       "<div>\n",
       "<style scoped>\n",
       "    .dataframe tbody tr th:only-of-type {\n",
       "        vertical-align: middle;\n",
       "    }\n",
       "\n",
       "    .dataframe tbody tr th {\n",
       "        vertical-align: top;\n",
       "    }\n",
       "\n",
       "    .dataframe thead th {\n",
       "        text-align: right;\n",
       "    }\n",
       "</style>\n",
       "<table border=\"1\" class=\"dataframe\">\n",
       "  <thead>\n",
       "    <tr style=\"text-align: right;\">\n",
       "      <th></th>\n",
       "      <th>edad</th>\n",
       "      <th>pais</th>\n",
       "      <th>Q1</th>\n",
       "    </tr>\n",
       "  </thead>\n",
       "  <tbody>\n",
       "    <tr>\n",
       "      <th>Ana</th>\n",
       "      <td>10</td>\n",
       "      <td>co</td>\n",
       "      <td>5.0</td>\n",
       "    </tr>\n",
       "    <tr>\n",
       "      <th>Daniel</th>\n",
       "      <td>14</td>\n",
       "      <td>mx</td>\n",
       "      <td>NaN</td>\n",
       "    </tr>\n",
       "  </tbody>\n",
       "</table>\n",
       "</div>"
      ],
      "text/plain": [
       "        edad pais   Q1\n",
       "Ana       10   co  5.0\n",
       "Daniel    14   mx  NaN"
      ]
     },
     "execution_count": 22,
     "metadata": {},
     "output_type": "execute_result"
    }
   ],
   "source": [
    "# retorna un dataframe\n",
    "example = df_idx.loc[[\"Ana\", \"Daniel\"], columns]\n",
    "print(type(example))\n",
    "example"
   ]
  },
  {
   "cell_type": "code",
   "execution_count": 23,
   "metadata": {},
   "outputs": [
    {
     "data": {
      "text/plain": [
       "nan"
      ]
     },
     "execution_count": 23,
     "metadata": {},
     "output_type": "execute_result"
    }
   ],
   "source": [
    "# un valor en específico\n",
    "df_idx.loc[\"Daniel\", \"Q1\"]"
   ]
  },
  {
   "cell_type": "markdown",
   "metadata": {},
   "source": [
    "**Usando iloc**"
   ]
  },
  {
   "cell_type": "code",
   "execution_count": 24,
   "metadata": {},
   "outputs": [
    {
     "data": {
      "text/html": [
       "<div>\n",
       "<style scoped>\n",
       "    .dataframe tbody tr th:only-of-type {\n",
       "        vertical-align: middle;\n",
       "    }\n",
       "\n",
       "    .dataframe tbody tr th {\n",
       "        vertical-align: top;\n",
       "    }\n",
       "\n",
       "    .dataframe thead th {\n",
       "        text-align: right;\n",
       "    }\n",
       "</style>\n",
       "<table border=\"1\" class=\"dataframe\">\n",
       "  <thead>\n",
       "    <tr style=\"text-align: right;\">\n",
       "      <th></th>\n",
       "      <th>edad</th>\n",
       "      <th>cm</th>\n",
       "      <th>pais</th>\n",
       "      <th>genero</th>\n",
       "      <th>Q1</th>\n",
       "      <th>Q2</th>\n",
       "    </tr>\n",
       "  </thead>\n",
       "  <tbody>\n",
       "    <tr>\n",
       "      <th>Ana</th>\n",
       "      <td>10</td>\n",
       "      <td>115</td>\n",
       "      <td>co</td>\n",
       "      <td>M</td>\n",
       "      <td>5.0</td>\n",
       "      <td>7</td>\n",
       "    </tr>\n",
       "    <tr>\n",
       "      <th>Benito</th>\n",
       "      <td>9</td>\n",
       "      <td>110</td>\n",
       "      <td>mx</td>\n",
       "      <td>F</td>\n",
       "      <td>10.0</td>\n",
       "      <td>9</td>\n",
       "    </tr>\n",
       "    <tr>\n",
       "      <th>Camilo</th>\n",
       "      <td>13</td>\n",
       "      <td>130</td>\n",
       "      <td>co</td>\n",
       "      <td>F</td>\n",
       "      <td>8.0</td>\n",
       "      <td>9</td>\n",
       "    </tr>\n",
       "    <tr>\n",
       "      <th>Daniel</th>\n",
       "      <td>14</td>\n",
       "      <td>155</td>\n",
       "      <td>mx</td>\n",
       "      <td>M</td>\n",
       "      <td>NaN</td>\n",
       "      <td>8</td>\n",
       "    </tr>\n",
       "    <tr>\n",
       "      <th>Erika</th>\n",
       "      <td>12</td>\n",
       "      <td>125</td>\n",
       "      <td>mx</td>\n",
       "      <td>M</td>\n",
       "      <td>7.0</td>\n",
       "      <td>8</td>\n",
       "    </tr>\n",
       "    <tr>\n",
       "      <th>Fabian</th>\n",
       "      <td>11</td>\n",
       "      <td>120</td>\n",
       "      <td>ch</td>\n",
       "      <td>M</td>\n",
       "      <td>8.0</td>\n",
       "      <td>8</td>\n",
       "    </tr>\n",
       "    <tr>\n",
       "      <th>Gabriela</th>\n",
       "      <td>12</td>\n",
       "      <td>125</td>\n",
       "      <td>ch</td>\n",
       "      <td>F</td>\n",
       "      <td>3.0</td>\n",
       "      <td>9</td>\n",
       "    </tr>\n",
       "  </tbody>\n",
       "</table>\n",
       "</div>"
      ],
      "text/plain": [
       "          edad   cm pais genero    Q1  Q2\n",
       "Ana         10  115   co      M   5.0   7\n",
       "Benito       9  110   mx      F  10.0   9\n",
       "Camilo      13  130   co      F   8.0   9\n",
       "Daniel      14  155   mx      M   NaN   8\n",
       "Erika       12  125   mx      M   7.0   8\n",
       "Fabian      11  120   ch      M   8.0   8\n",
       "Gabriela    12  125   ch      F   3.0   9"
      ]
     },
     "execution_count": 24,
     "metadata": {},
     "output_type": "execute_result"
    }
   ],
   "source": [
    "# vemos el df para tener referencia\n",
    "df_idx"
   ]
  },
  {
   "cell_type": "code",
   "execution_count": 25,
   "metadata": {},
   "outputs": [
    {
     "data": {
      "text/plain": [
       "130"
      ]
     },
     "execution_count": 25,
     "metadata": {},
     "output_type": "execute_result"
    }
   ],
   "source": [
    "df_idx.iloc[2, 1]"
   ]
  },
  {
   "cell_type": "code",
   "execution_count": 26,
   "metadata": {},
   "outputs": [
    {
     "data": {
      "text/plain": [
       "edad     13\n",
       "cm      130\n",
       "pais     co\n",
       "Name: Camilo, dtype: object"
      ]
     },
     "execution_count": 26,
     "metadata": {},
     "output_type": "execute_result"
    }
   ],
   "source": [
    "df_idx.iloc[2, [0, 1, 2]]"
   ]
  },
  {
   "cell_type": "code",
   "execution_count": 29,
   "metadata": {},
   "outputs": [
    {
     "data": {
      "text/html": [
       "<div>\n",
       "<style scoped>\n",
       "    .dataframe tbody tr th:only-of-type {\n",
       "        vertical-align: middle;\n",
       "    }\n",
       "\n",
       "    .dataframe tbody tr th {\n",
       "        vertical-align: top;\n",
       "    }\n",
       "\n",
       "    .dataframe thead th {\n",
       "        text-align: right;\n",
       "    }\n",
       "</style>\n",
       "<table border=\"1\" class=\"dataframe\">\n",
       "  <thead>\n",
       "    <tr style=\"text-align: right;\">\n",
       "      <th></th>\n",
       "      <th>edad</th>\n",
       "      <th>cm</th>\n",
       "      <th>pais</th>\n",
       "    </tr>\n",
       "  </thead>\n",
       "  <tbody>\n",
       "    <tr>\n",
       "      <th>Camilo</th>\n",
       "      <td>13</td>\n",
       "      <td>130</td>\n",
       "      <td>co</td>\n",
       "    </tr>\n",
       "    <tr>\n",
       "      <th>Daniel</th>\n",
       "      <td>14</td>\n",
       "      <td>155</td>\n",
       "      <td>mx</td>\n",
       "    </tr>\n",
       "  </tbody>\n",
       "</table>\n",
       "</div>"
      ],
      "text/plain": [
       "        edad   cm pais\n",
       "Camilo    13  130   co\n",
       "Daniel    14  155   mx"
      ]
     },
     "execution_count": 29,
     "metadata": {},
     "output_type": "execute_result"
    }
   ],
   "source": [
    "df_idx.iloc[[2, 3], [0, 1, 2]]"
   ]
  },
  {
   "cell_type": "code",
   "execution_count": 30,
   "metadata": {},
   "outputs": [
    {
     "data": {
      "text/html": [
       "<div>\n",
       "<style scoped>\n",
       "    .dataframe tbody tr th:only-of-type {\n",
       "        vertical-align: middle;\n",
       "    }\n",
       "\n",
       "    .dataframe tbody tr th {\n",
       "        vertical-align: top;\n",
       "    }\n",
       "\n",
       "    .dataframe thead th {\n",
       "        text-align: right;\n",
       "    }\n",
       "</style>\n",
       "<table border=\"1\" class=\"dataframe\">\n",
       "  <thead>\n",
       "    <tr style=\"text-align: right;\">\n",
       "      <th></th>\n",
       "      <th>edad</th>\n",
       "      <th>cm</th>\n",
       "      <th>pais</th>\n",
       "    </tr>\n",
       "  </thead>\n",
       "  <tbody>\n",
       "    <tr>\n",
       "      <th>Ana</th>\n",
       "      <td>10</td>\n",
       "      <td>115</td>\n",
       "      <td>co</td>\n",
       "    </tr>\n",
       "    <tr>\n",
       "      <th>Benito</th>\n",
       "      <td>9</td>\n",
       "      <td>110</td>\n",
       "      <td>mx</td>\n",
       "    </tr>\n",
       "    <tr>\n",
       "      <th>Camilo</th>\n",
       "      <td>13</td>\n",
       "      <td>130</td>\n",
       "      <td>co</td>\n",
       "    </tr>\n",
       "    <tr>\n",
       "      <th>Daniel</th>\n",
       "      <td>14</td>\n",
       "      <td>155</td>\n",
       "      <td>mx</td>\n",
       "    </tr>\n",
       "    <tr>\n",
       "      <th>Erika</th>\n",
       "      <td>12</td>\n",
       "      <td>125</td>\n",
       "      <td>mx</td>\n",
       "    </tr>\n",
       "    <tr>\n",
       "      <th>Fabian</th>\n",
       "      <td>11</td>\n",
       "      <td>120</td>\n",
       "      <td>ch</td>\n",
       "    </tr>\n",
       "    <tr>\n",
       "      <th>Gabriela</th>\n",
       "      <td>12</td>\n",
       "      <td>125</td>\n",
       "      <td>ch</td>\n",
       "    </tr>\n",
       "  </tbody>\n",
       "</table>\n",
       "</div>"
      ],
      "text/plain": [
       "          edad   cm pais\n",
       "Ana         10  115   co\n",
       "Benito       9  110   mx\n",
       "Camilo      13  130   co\n",
       "Daniel      14  155   mx\n",
       "Erika       12  125   mx\n",
       "Fabian      11  120   ch\n",
       "Gabriela    12  125   ch"
      ]
     },
     "execution_count": 30,
     "metadata": {},
     "output_type": "execute_result"
    }
   ],
   "source": [
    "# seleccionar todas las filas de ciertas columnas\n",
    "df_idx.iloc[:, [0, 1, 2]]"
   ]
  },
  {
   "cell_type": "code",
   "execution_count": 31,
   "metadata": {},
   "outputs": [
    {
     "data": {
      "text/plain": [
       "edad       13\n",
       "cm        130\n",
       "pais       co\n",
       "genero      F\n",
       "Q1        8.0\n",
       "Q2          9\n",
       "Name: Camilo, dtype: object"
      ]
     },
     "execution_count": 31,
     "metadata": {},
     "output_type": "execute_result"
    }
   ],
   "source": [
    "df_idx.iloc[2]"
   ]
  },
  {
   "cell_type": "markdown",
   "metadata": {},
   "source": [
    "**Condiciones**"
   ]
  },
  {
   "cell_type": "code",
   "execution_count": 32,
   "metadata": {},
   "outputs": [
    {
     "data": {
      "text/plain": [
       "Ana         False\n",
       "Benito      False\n",
       "Camilo       True\n",
       "Daniel       True\n",
       "Erika        True\n",
       "Fabian      False\n",
       "Gabriela     True\n",
       "Name: edad, dtype: bool"
      ]
     },
     "execution_count": 32,
     "metadata": {},
     "output_type": "execute_result"
    }
   ],
   "source": [
    "df_idx[\"edad\"] >= 12"
   ]
  },
  {
   "cell_type": "code",
   "execution_count": 34,
   "metadata": {},
   "outputs": [
    {
     "data": {
      "text/html": [
       "<div>\n",
       "<style scoped>\n",
       "    .dataframe tbody tr th:only-of-type {\n",
       "        vertical-align: middle;\n",
       "    }\n",
       "\n",
       "    .dataframe tbody tr th {\n",
       "        vertical-align: top;\n",
       "    }\n",
       "\n",
       "    .dataframe thead th {\n",
       "        text-align: right;\n",
       "    }\n",
       "</style>\n",
       "<table border=\"1\" class=\"dataframe\">\n",
       "  <thead>\n",
       "    <tr style=\"text-align: right;\">\n",
       "      <th></th>\n",
       "      <th>edad</th>\n",
       "      <th>cm</th>\n",
       "      <th>pais</th>\n",
       "      <th>genero</th>\n",
       "      <th>Q1</th>\n",
       "      <th>Q2</th>\n",
       "    </tr>\n",
       "  </thead>\n",
       "  <tbody>\n",
       "    <tr>\n",
       "      <th>Camilo</th>\n",
       "      <td>13</td>\n",
       "      <td>130</td>\n",
       "      <td>co</td>\n",
       "      <td>F</td>\n",
       "      <td>8.0</td>\n",
       "      <td>9</td>\n",
       "    </tr>\n",
       "    <tr>\n",
       "      <th>Daniel</th>\n",
       "      <td>14</td>\n",
       "      <td>155</td>\n",
       "      <td>mx</td>\n",
       "      <td>M</td>\n",
       "      <td>NaN</td>\n",
       "      <td>8</td>\n",
       "    </tr>\n",
       "    <tr>\n",
       "      <th>Erika</th>\n",
       "      <td>12</td>\n",
       "      <td>125</td>\n",
       "      <td>mx</td>\n",
       "      <td>M</td>\n",
       "      <td>7.0</td>\n",
       "      <td>8</td>\n",
       "    </tr>\n",
       "    <tr>\n",
       "      <th>Gabriela</th>\n",
       "      <td>12</td>\n",
       "      <td>125</td>\n",
       "      <td>ch</td>\n",
       "      <td>F</td>\n",
       "      <td>3.0</td>\n",
       "      <td>9</td>\n",
       "    </tr>\n",
       "  </tbody>\n",
       "</table>\n",
       "</div>"
      ],
      "text/plain": [
       "          edad   cm pais genero   Q1  Q2\n",
       "Camilo      13  130   co      F  8.0   9\n",
       "Daniel      14  155   mx      M  NaN   8\n",
       "Erika       12  125   mx      M  7.0   8\n",
       "Gabriela    12  125   ch      F  3.0   9"
      ]
     },
     "execution_count": 34,
     "metadata": {},
     "output_type": "execute_result"
    }
   ],
   "source": [
    "# subconjunto de datos filtrado por la edad\n",
    "df_idx[df_idx[\"edad\"] >= 12]"
   ]
  },
  {
   "cell_type": "code",
   "execution_count": 35,
   "metadata": {},
   "outputs": [
    {
     "data": {
      "text/html": [
       "<div>\n",
       "<style scoped>\n",
       "    .dataframe tbody tr th:only-of-type {\n",
       "        vertical-align: middle;\n",
       "    }\n",
       "\n",
       "    .dataframe tbody tr th {\n",
       "        vertical-align: top;\n",
       "    }\n",
       "\n",
       "    .dataframe thead th {\n",
       "        text-align: right;\n",
       "    }\n",
       "</style>\n",
       "<table border=\"1\" class=\"dataframe\">\n",
       "  <thead>\n",
       "    <tr style=\"text-align: right;\">\n",
       "      <th></th>\n",
       "      <th>edad</th>\n",
       "      <th>cm</th>\n",
       "      <th>pais</th>\n",
       "      <th>genero</th>\n",
       "      <th>Q1</th>\n",
       "      <th>Q2</th>\n",
       "    </tr>\n",
       "  </thead>\n",
       "  <tbody>\n",
       "    <tr>\n",
       "      <th>Daniel</th>\n",
       "      <td>14</td>\n",
       "      <td>155</td>\n",
       "      <td>mx</td>\n",
       "      <td>M</td>\n",
       "      <td>NaN</td>\n",
       "      <td>8</td>\n",
       "    </tr>\n",
       "    <tr>\n",
       "      <th>Erika</th>\n",
       "      <td>12</td>\n",
       "      <td>125</td>\n",
       "      <td>mx</td>\n",
       "      <td>M</td>\n",
       "      <td>7.0</td>\n",
       "      <td>8</td>\n",
       "    </tr>\n",
       "  </tbody>\n",
       "</table>\n",
       "</div>"
      ],
      "text/plain": [
       "        edad   cm pais genero   Q1  Q2\n",
       "Daniel    14  155   mx      M  NaN   8\n",
       "Erika     12  125   mx      M  7.0   8"
      ]
     },
     "execution_count": 35,
     "metadata": {},
     "output_type": "execute_result"
    }
   ],
   "source": [
    "# varias condiciones\n",
    "df_idx[(df_idx[\"edad\"] >= 12) & (df_idx[\"pais\"] == \"mx\")]"
   ]
  },
  {
   "cell_type": "code",
   "execution_count": 40,
   "metadata": {},
   "outputs": [
    {
     "data": {
      "text/html": [
       "<div>\n",
       "<style scoped>\n",
       "    .dataframe tbody tr th:only-of-type {\n",
       "        vertical-align: middle;\n",
       "    }\n",
       "\n",
       "    .dataframe tbody tr th {\n",
       "        vertical-align: top;\n",
       "    }\n",
       "\n",
       "    .dataframe thead th {\n",
       "        text-align: right;\n",
       "    }\n",
       "</style>\n",
       "<table border=\"1\" class=\"dataframe\">\n",
       "  <thead>\n",
       "    <tr style=\"text-align: right;\">\n",
       "      <th></th>\n",
       "      <th>edad</th>\n",
       "      <th>cm</th>\n",
       "      <th>pais</th>\n",
       "      <th>genero</th>\n",
       "      <th>Q1</th>\n",
       "      <th>Q2</th>\n",
       "    </tr>\n",
       "  </thead>\n",
       "  <tbody>\n",
       "    <tr>\n",
       "      <th>Camilo</th>\n",
       "      <td>13</td>\n",
       "      <td>130</td>\n",
       "      <td>co</td>\n",
       "      <td>F</td>\n",
       "      <td>8.0</td>\n",
       "      <td>9</td>\n",
       "    </tr>\n",
       "    <tr>\n",
       "      <th>Daniel</th>\n",
       "      <td>14</td>\n",
       "      <td>155</td>\n",
       "      <td>mx</td>\n",
       "      <td>M</td>\n",
       "      <td>NaN</td>\n",
       "      <td>8</td>\n",
       "    </tr>\n",
       "  </tbody>\n",
       "</table>\n",
       "</div>"
      ],
      "text/plain": [
       "        edad   cm pais genero   Q1  Q2\n",
       "Camilo    13  130   co      F  8.0   9\n",
       "Daniel    14  155   mx      M  NaN   8"
      ]
     },
     "execution_count": 40,
     "metadata": {},
     "output_type": "execute_result"
    }
   ],
   "source": [
    "# usando el método query\n",
    "df_idx.query(\"edad > 12\")"
   ]
  }
 ],
 "metadata": {
  "interpreter": {
   "hash": "dc5a9dac03e998ab103a1a93de0dfbd01efa0b02e6ca1570475e7ad9aef00aad"
  },
  "kernelspec": {
   "display_name": "Python 3.7.5 ('tf_cv')",
   "language": "python",
   "name": "python3"
  },
  "language_info": {
   "codemirror_mode": {
    "name": "ipython",
    "version": 3
   },
   "file_extension": ".py",
   "mimetype": "text/x-python",
   "name": "python",
   "nbconvert_exporter": "python",
   "pygments_lexer": "ipython3",
   "version": "3.8.12"
  },
  "orig_nbformat": 4
 },
 "nbformat": 4,
 "nbformat_minor": 2
}
