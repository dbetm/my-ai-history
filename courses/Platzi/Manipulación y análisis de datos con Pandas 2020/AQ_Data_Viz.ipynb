{
 "cells": [
  {
   "cell_type": "code",
   "execution_count": 1,
   "metadata": {},
   "outputs": [],
   "source": [
    "import numpy as np\n",
    "import pandas as pd"
   ]
  },
  {
   "cell_type": "code",
   "execution_count": 2,
   "metadata": {},
   "outputs": [],
   "source": [
    "# cargar dataset\n",
    "# dataset link: https://www.kaggle.com/datasets/sudalairajkumar/novel-corona-virus-2019-dataset?select=covid_19_data.csv\n",
    "dataset_path = \"/home/david/ML_DL/datasets/Novel Corona Virus 2019/covid_19_data.csv\"\n",
    "df = pd.read_csv(dataset_path)"
   ]
  },
  {
   "cell_type": "code",
   "execution_count": 3,
   "metadata": {},
   "outputs": [],
   "source": [
    "# cambiar el tipo de dato de la columna de ObservationDate\n",
    "df[\"ObservationDate\"] = pd.to_datetime(df[\"ObservationDate\"])"
   ]
  },
  {
   "cell_type": "code",
   "execution_count": 4,
   "metadata": {},
   "outputs": [
    {
     "data": {
      "text/html": [
       "<div>\n",
       "<style scoped>\n",
       "    .dataframe tbody tr th:only-of-type {\n",
       "        vertical-align: middle;\n",
       "    }\n",
       "\n",
       "    .dataframe tbody tr th {\n",
       "        vertical-align: top;\n",
       "    }\n",
       "\n",
       "    .dataframe thead th {\n",
       "        text-align: right;\n",
       "    }\n",
       "</style>\n",
       "<table border=\"1\" class=\"dataframe\">\n",
       "  <thead>\n",
       "    <tr style=\"text-align: right;\">\n",
       "      <th></th>\n",
       "      <th>ObservationDate</th>\n",
       "      <th>Country/Region</th>\n",
       "      <th>Confirmed</th>\n",
       "      <th>Deaths</th>\n",
       "      <th>Recovered</th>\n",
       "    </tr>\n",
       "  </thead>\n",
       "  <tbody>\n",
       "    <tr>\n",
       "      <th>0</th>\n",
       "      <td>2020-01-22</td>\n",
       "      <td>Mainland China</td>\n",
       "      <td>1.0</td>\n",
       "      <td>0.0</td>\n",
       "      <td>0.0</td>\n",
       "    </tr>\n",
       "    <tr>\n",
       "      <th>1</th>\n",
       "      <td>2020-01-22</td>\n",
       "      <td>Mainland China</td>\n",
       "      <td>14.0</td>\n",
       "      <td>0.0</td>\n",
       "      <td>0.0</td>\n",
       "    </tr>\n",
       "    <tr>\n",
       "      <th>2</th>\n",
       "      <td>2020-01-22</td>\n",
       "      <td>Mainland China</td>\n",
       "      <td>6.0</td>\n",
       "      <td>0.0</td>\n",
       "      <td>0.0</td>\n",
       "    </tr>\n",
       "    <tr>\n",
       "      <th>3</th>\n",
       "      <td>2020-01-22</td>\n",
       "      <td>Mainland China</td>\n",
       "      <td>1.0</td>\n",
       "      <td>0.0</td>\n",
       "      <td>0.0</td>\n",
       "    </tr>\n",
       "    <tr>\n",
       "      <th>4</th>\n",
       "      <td>2020-01-22</td>\n",
       "      <td>Mainland China</td>\n",
       "      <td>0.0</td>\n",
       "      <td>0.0</td>\n",
       "      <td>0.0</td>\n",
       "    </tr>\n",
       "    <tr>\n",
       "      <th>...</th>\n",
       "      <td>...</td>\n",
       "      <td>...</td>\n",
       "      <td>...</td>\n",
       "      <td>...</td>\n",
       "      <td>...</td>\n",
       "    </tr>\n",
       "    <tr>\n",
       "      <th>306424</th>\n",
       "      <td>2021-05-29</td>\n",
       "      <td>Ukraine</td>\n",
       "      <td>102641.0</td>\n",
       "      <td>2335.0</td>\n",
       "      <td>95289.0</td>\n",
       "    </tr>\n",
       "    <tr>\n",
       "      <th>306425</th>\n",
       "      <td>2021-05-29</td>\n",
       "      <td>Netherlands</td>\n",
       "      <td>29147.0</td>\n",
       "      <td>245.0</td>\n",
       "      <td>0.0</td>\n",
       "    </tr>\n",
       "    <tr>\n",
       "      <th>306426</th>\n",
       "      <td>2021-05-29</td>\n",
       "      <td>Mainland China</td>\n",
       "      <td>1364.0</td>\n",
       "      <td>1.0</td>\n",
       "      <td>1324.0</td>\n",
       "    </tr>\n",
       "    <tr>\n",
       "      <th>306427</th>\n",
       "      <td>2021-05-29</td>\n",
       "      <td>Ukraine</td>\n",
       "      <td>87550.0</td>\n",
       "      <td>1738.0</td>\n",
       "      <td>83790.0</td>\n",
       "    </tr>\n",
       "    <tr>\n",
       "      <th>306428</th>\n",
       "      <td>2021-05-29</td>\n",
       "      <td>Netherlands</td>\n",
       "      <td>391559.0</td>\n",
       "      <td>4252.0</td>\n",
       "      <td>0.0</td>\n",
       "    </tr>\n",
       "  </tbody>\n",
       "</table>\n",
       "<p>306429 rows × 5 columns</p>\n",
       "</div>"
      ],
      "text/plain": [
       "       ObservationDate  Country/Region  Confirmed  Deaths  Recovered\n",
       "0           2020-01-22  Mainland China        1.0     0.0        0.0\n",
       "1           2020-01-22  Mainland China       14.0     0.0        0.0\n",
       "2           2020-01-22  Mainland China        6.0     0.0        0.0\n",
       "3           2020-01-22  Mainland China        1.0     0.0        0.0\n",
       "4           2020-01-22  Mainland China        0.0     0.0        0.0\n",
       "...                ...             ...        ...     ...        ...\n",
       "306424      2021-05-29         Ukraine   102641.0  2335.0    95289.0\n",
       "306425      2021-05-29     Netherlands    29147.0   245.0        0.0\n",
       "306426      2021-05-29  Mainland China     1364.0     1.0     1324.0\n",
       "306427      2021-05-29         Ukraine    87550.0  1738.0    83790.0\n",
       "306428      2021-05-29     Netherlands   391559.0  4252.0        0.0\n",
       "\n",
       "[306429 rows x 5 columns]"
      ]
     },
     "execution_count": 4,
     "metadata": {},
     "output_type": "execute_result"
    }
   ],
   "source": [
    "# elegir solo algunas columnas\n",
    "df.drop(labels=[\"SNo\", \"Province/State\", \"Last Update\"], axis=1, inplace=True)\n",
    "df"
   ]
  },
  {
   "cell_type": "markdown",
   "metadata": {},
   "source": [
    "**En qué país hay más ocurrencias de COVID-19**"
   ]
  },
  {
   "cell_type": "code",
   "execution_count": 6,
   "metadata": {},
   "outputs": [
    {
     "data": {
      "text/plain": [
       "Country/Region\n",
       "France                   5863138.0\n",
       "India                    5713215.0\n",
       "Turkey                   5235978.0\n",
       "UK                       3910803.0\n",
       "US                       3788713.0\n",
       "                           ...    \n",
       "Micronesia                     1.0\n",
       "North Ireland                  1.0\n",
       "Republic of the Congo          1.0\n",
       " Azerbaijan                    1.0\n",
       "China                          0.0\n",
       "Name: Confirmed, Length: 229, dtype: float64"
      ]
     },
     "execution_count": 6,
     "metadata": {},
     "output_type": "execute_result"
    }
   ],
   "source": [
    "df.groupby(\"Country/Region\")[\"Confirmed\"].max().sort_values(ascending=False)"
   ]
  },
  {
   "cell_type": "markdown",
   "metadata": {},
   "source": [
    "**Agrupado por países como una serie de tiempo**"
   ]
  },
  {
   "cell_type": "code",
   "execution_count": 8,
   "metadata": {},
   "outputs": [
    {
     "data": {
      "text/html": [
       "<div>\n",
       "<style scoped>\n",
       "    .dataframe tbody tr th:only-of-type {\n",
       "        vertical-align: middle;\n",
       "    }\n",
       "\n",
       "    .dataframe tbody tr th {\n",
       "        vertical-align: top;\n",
       "    }\n",
       "\n",
       "    .dataframe thead th {\n",
       "        text-align: right;\n",
       "    }\n",
       "</style>\n",
       "<table border=\"1\" class=\"dataframe\">\n",
       "  <thead>\n",
       "    <tr style=\"text-align: right;\">\n",
       "      <th></th>\n",
       "      <th></th>\n",
       "      <th>Confirmed</th>\n",
       "      <th>Deaths</th>\n",
       "      <th>Recovered</th>\n",
       "    </tr>\n",
       "    <tr>\n",
       "      <th>Country/Region</th>\n",
       "      <th>ObservationDate</th>\n",
       "      <th></th>\n",
       "      <th></th>\n",
       "      <th></th>\n",
       "    </tr>\n",
       "  </thead>\n",
       "  <tbody>\n",
       "    <tr>\n",
       "      <th>Azerbaijan</th>\n",
       "      <th>2020-02-28</th>\n",
       "      <td>1.0</td>\n",
       "      <td>0.0</td>\n",
       "      <td>0.0</td>\n",
       "    </tr>\n",
       "    <tr>\n",
       "      <th>('St. Martin',)</th>\n",
       "      <th>2020-03-10</th>\n",
       "      <td>2.0</td>\n",
       "      <td>0.0</td>\n",
       "      <td>0.0</td>\n",
       "    </tr>\n",
       "    <tr>\n",
       "      <th rowspan=\"3\" valign=\"top\">Afghanistan</th>\n",
       "      <th>2020-02-24</th>\n",
       "      <td>1.0</td>\n",
       "      <td>0.0</td>\n",
       "      <td>0.0</td>\n",
       "    </tr>\n",
       "    <tr>\n",
       "      <th>2020-02-25</th>\n",
       "      <td>1.0</td>\n",
       "      <td>0.0</td>\n",
       "      <td>0.0</td>\n",
       "    </tr>\n",
       "    <tr>\n",
       "      <th>2020-02-26</th>\n",
       "      <td>1.0</td>\n",
       "      <td>0.0</td>\n",
       "      <td>0.0</td>\n",
       "    </tr>\n",
       "    <tr>\n",
       "      <th>...</th>\n",
       "      <th>...</th>\n",
       "      <td>...</td>\n",
       "      <td>...</td>\n",
       "      <td>...</td>\n",
       "    </tr>\n",
       "    <tr>\n",
       "      <th rowspan=\"5\" valign=\"top\">occupied Palestinian territory</th>\n",
       "      <th>2020-03-12</th>\n",
       "      <td>0.0</td>\n",
       "      <td>0.0</td>\n",
       "      <td>0.0</td>\n",
       "    </tr>\n",
       "    <tr>\n",
       "      <th>2020-03-14</th>\n",
       "      <td>0.0</td>\n",
       "      <td>0.0</td>\n",
       "      <td>0.0</td>\n",
       "    </tr>\n",
       "    <tr>\n",
       "      <th>2020-03-15</th>\n",
       "      <td>0.0</td>\n",
       "      <td>0.0</td>\n",
       "      <td>0.0</td>\n",
       "    </tr>\n",
       "    <tr>\n",
       "      <th>2020-03-16</th>\n",
       "      <td>0.0</td>\n",
       "      <td>0.0</td>\n",
       "      <td>0.0</td>\n",
       "    </tr>\n",
       "    <tr>\n",
       "      <th>2020-03-17</th>\n",
       "      <td>0.0</td>\n",
       "      <td>0.0</td>\n",
       "      <td>0.0</td>\n",
       "    </tr>\n",
       "  </tbody>\n",
       "</table>\n",
       "<p>87281 rows × 3 columns</p>\n",
       "</div>"
      ],
      "text/plain": [
       "                                                Confirmed  Deaths  Recovered\n",
       "Country/Region                 ObservationDate                              \n",
       " Azerbaijan                    2020-02-28             1.0     0.0        0.0\n",
       "('St. Martin',)                2020-03-10             2.0     0.0        0.0\n",
       "Afghanistan                    2020-02-24             1.0     0.0        0.0\n",
       "                               2020-02-25             1.0     0.0        0.0\n",
       "                               2020-02-26             1.0     0.0        0.0\n",
       "...                                                   ...     ...        ...\n",
       "occupied Palestinian territory 2020-03-12             0.0     0.0        0.0\n",
       "                               2020-03-14             0.0     0.0        0.0\n",
       "                               2020-03-15             0.0     0.0        0.0\n",
       "                               2020-03-16             0.0     0.0        0.0\n",
       "                               2020-03-17             0.0     0.0        0.0\n",
       "\n",
       "[87281 rows x 3 columns]"
      ]
     },
     "execution_count": 8,
     "metadata": {},
     "output_type": "execute_result"
    }
   ],
   "source": [
    "df_time = df.groupby([\"Country/Region\", pd.Grouper(key=\"ObservationDate\", freq=\"1D\")]).sum()\n",
    "df_time"
   ]
  },
  {
   "cell_type": "code",
   "execution_count": 11,
   "metadata": {},
   "outputs": [
    {
     "data": {
      "text/html": [
       "<div>\n",
       "<style scoped>\n",
       "    .dataframe tbody tr th:only-of-type {\n",
       "        vertical-align: middle;\n",
       "    }\n",
       "\n",
       "    .dataframe tbody tr th {\n",
       "        vertical-align: top;\n",
       "    }\n",
       "\n",
       "    .dataframe thead th {\n",
       "        text-align: right;\n",
       "    }\n",
       "</style>\n",
       "<table border=\"1\" class=\"dataframe\">\n",
       "  <thead>\n",
       "    <tr style=\"text-align: right;\">\n",
       "      <th></th>\n",
       "      <th>Confirmed</th>\n",
       "      <th>Deaths</th>\n",
       "      <th>Recovered</th>\n",
       "    </tr>\n",
       "    <tr>\n",
       "      <th>ObservationDate</th>\n",
       "      <th></th>\n",
       "      <th></th>\n",
       "      <th></th>\n",
       "    </tr>\n",
       "  </thead>\n",
       "  <tbody>\n",
       "    <tr>\n",
       "      <th>2020-01-24</th>\n",
       "      <td>2.0</td>\n",
       "      <td>0.0</td>\n",
       "      <td>0.0</td>\n",
       "    </tr>\n",
       "    <tr>\n",
       "      <th>2020-01-25</th>\n",
       "      <td>3.0</td>\n",
       "      <td>0.0</td>\n",
       "      <td>0.0</td>\n",
       "    </tr>\n",
       "    <tr>\n",
       "      <th>2020-01-26</th>\n",
       "      <td>3.0</td>\n",
       "      <td>0.0</td>\n",
       "      <td>0.0</td>\n",
       "    </tr>\n",
       "    <tr>\n",
       "      <th>2020-01-27</th>\n",
       "      <td>3.0</td>\n",
       "      <td>0.0</td>\n",
       "      <td>0.0</td>\n",
       "    </tr>\n",
       "    <tr>\n",
       "      <th>2020-01-28</th>\n",
       "      <td>4.0</td>\n",
       "      <td>0.0</td>\n",
       "      <td>0.0</td>\n",
       "    </tr>\n",
       "    <tr>\n",
       "      <th>...</th>\n",
       "      <td>...</td>\n",
       "      <td>...</td>\n",
       "      <td>...</td>\n",
       "    </tr>\n",
       "    <tr>\n",
       "      <th>2021-05-25</th>\n",
       "      <td>5670486.0</td>\n",
       "      <td>109040.0</td>\n",
       "      <td>386798.0</td>\n",
       "    </tr>\n",
       "    <tr>\n",
       "      <th>2021-05-26</th>\n",
       "      <td>5683143.0</td>\n",
       "      <td>109185.0</td>\n",
       "      <td>388128.0</td>\n",
       "    </tr>\n",
       "    <tr>\n",
       "      <th>2021-05-27</th>\n",
       "      <td>5697076.0</td>\n",
       "      <td>109327.0</td>\n",
       "      <td>389105.0</td>\n",
       "    </tr>\n",
       "    <tr>\n",
       "      <th>2021-05-28</th>\n",
       "      <td>5708350.0</td>\n",
       "      <td>109452.0</td>\n",
       "      <td>390196.0</td>\n",
       "    </tr>\n",
       "    <tr>\n",
       "      <th>2021-05-29</th>\n",
       "      <td>5719877.0</td>\n",
       "      <td>109518.0</td>\n",
       "      <td>390878.0</td>\n",
       "    </tr>\n",
       "  </tbody>\n",
       "</table>\n",
       "<p>492 rows × 3 columns</p>\n",
       "</div>"
      ],
      "text/plain": [
       "                 Confirmed    Deaths  Recovered\n",
       "ObservationDate                                \n",
       "2020-01-24             2.0       0.0        0.0\n",
       "2020-01-25             3.0       0.0        0.0\n",
       "2020-01-26             3.0       0.0        0.0\n",
       "2020-01-27             3.0       0.0        0.0\n",
       "2020-01-28             4.0       0.0        0.0\n",
       "...                    ...       ...        ...\n",
       "2021-05-25       5670486.0  109040.0   386798.0\n",
       "2021-05-26       5683143.0  109185.0   388128.0\n",
       "2021-05-27       5697076.0  109327.0   389105.0\n",
       "2021-05-28       5708350.0  109452.0   390196.0\n",
       "2021-05-29       5719877.0  109518.0   390878.0\n",
       "\n",
       "[492 rows x 3 columns]"
      ]
     },
     "execution_count": 11,
     "metadata": {},
     "output_type": "execute_result"
    }
   ],
   "source": [
    "# obtener muestra de Francia\n",
    "df_france = df_time.loc[\"France\", :]\n",
    "df_france"
   ]
  },
  {
   "cell_type": "markdown",
   "metadata": {},
   "source": [
    "**Graficar la muestra**"
   ]
  },
  {
   "cell_type": "code",
   "execution_count": 13,
   "metadata": {},
   "outputs": [],
   "source": [
    "import matplotlib.pyplot as plt"
   ]
  },
  {
   "cell_type": "code",
   "execution_count": 14,
   "metadata": {},
   "outputs": [
    {
     "data": {
      "image/png": "[encoded data removed]",
      "text/plain": [
       "<Figure size 720x504 with 1 Axes>"
      ]
     },
     "metadata": {
      "needs_background": "light"
     },
     "output_type": "display_data"
    }
   ],
   "source": [
    "# graficar la muestra\n",
    "df_france.plot(figsize=(10, 7), title=\"COVID-19 France\")\n",
    "plt.xlabel(\"Date\")\n",
    "plt.ylabel(\"Number of people\")\n",
    "plt.show()"
   ]
  },
  {
   "cell_type": "markdown",
   "metadata": {},
   "source": [
    "**Tuneando la gráfica**"
   ]
  },
  {
   "cell_type": "code",
   "execution_count": 15,
   "metadata": {},
   "outputs": [
    {
     "data": {
      "image/png": "[encoded data removed]",
      "text/plain": [
       "<Figure size 720x504 with 1 Axes>"
      ]
     },
     "metadata": {
      "needs_background": "light"
     },
     "output_type": "display_data"
    }
   ],
   "source": [
    "ax = df_france.plot(\n",
    "    figsize=(10, 7), \n",
    "    legend=False,\n",
    "    title=\"COVID-19 France\",\n",
    "    style=[\"r-\", \"g--\", \"b:*\"]\n",
    ")\n",
    "ax.legend([\"1 Confirmed\", \"2 Deaths\", \"3 Recovered\"])\n",
    "plt.xlabel(\"Date\")\n",
    "plt.ylabel(\"Number of people\")\n",
    "plt.show()"
   ]
  },
  {
   "cell_type": "code",
   "execution_count": 16,
   "metadata": {},
   "outputs": [
    {
     "data": {
      "text/html": [
       "<div>\n",
       "<style scoped>\n",
       "    .dataframe tbody tr th:only-of-type {\n",
       "        vertical-align: middle;\n",
       "    }\n",
       "\n",
       "    .dataframe tbody tr th {\n",
       "        vertical-align: top;\n",
       "    }\n",
       "\n",
       "    .dataframe thead th {\n",
       "        text-align: right;\n",
       "    }\n",
       "</style>\n",
       "<table border=\"1\" class=\"dataframe\">\n",
       "  <thead>\n",
       "    <tr style=\"text-align: right;\">\n",
       "      <th></th>\n",
       "      <th>Confirmed</th>\n",
       "      <th>Deaths</th>\n",
       "      <th>Recovered</th>\n",
       "    </tr>\n",
       "    <tr>\n",
       "      <th>ObservationDate</th>\n",
       "      <th></th>\n",
       "      <th></th>\n",
       "      <th></th>\n",
       "    </tr>\n",
       "  </thead>\n",
       "  <tbody>\n",
       "    <tr>\n",
       "      <th>2020-01-23</th>\n",
       "      <td>0.0</td>\n",
       "      <td>0.0</td>\n",
       "      <td>0.0</td>\n",
       "    </tr>\n",
       "    <tr>\n",
       "      <th>2020-02-28</th>\n",
       "      <td>1.0</td>\n",
       "      <td>0.0</td>\n",
       "      <td>0.0</td>\n",
       "    </tr>\n",
       "    <tr>\n",
       "      <th>2020-02-29</th>\n",
       "      <td>4.0</td>\n",
       "      <td>0.0</td>\n",
       "      <td>0.0</td>\n",
       "    </tr>\n",
       "    <tr>\n",
       "      <th>2020-03-01</th>\n",
       "      <td>5.0</td>\n",
       "      <td>0.0</td>\n",
       "      <td>0.0</td>\n",
       "    </tr>\n",
       "    <tr>\n",
       "      <th>2020-03-02</th>\n",
       "      <td>5.0</td>\n",
       "      <td>0.0</td>\n",
       "      <td>0.0</td>\n",
       "    </tr>\n",
       "    <tr>\n",
       "      <th>...</th>\n",
       "      <td>...</td>\n",
       "      <td>...</td>\n",
       "      <td>...</td>\n",
       "    </tr>\n",
       "    <tr>\n",
       "      <th>2021-05-25</th>\n",
       "      <td>2399790.0</td>\n",
       "      <td>221960.0</td>\n",
       "      <td>1917958.0</td>\n",
       "    </tr>\n",
       "    <tr>\n",
       "      <th>2021-05-26</th>\n",
       "      <td>2402722.0</td>\n",
       "      <td>222232.0</td>\n",
       "      <td>1919821.0</td>\n",
       "    </tr>\n",
       "    <tr>\n",
       "      <th>2021-05-27</th>\n",
       "      <td>2405772.0</td>\n",
       "      <td>222661.0</td>\n",
       "      <td>1921510.0</td>\n",
       "    </tr>\n",
       "    <tr>\n",
       "      <th>2021-05-28</th>\n",
       "      <td>2408778.0</td>\n",
       "      <td>223072.0</td>\n",
       "      <td>1923744.0</td>\n",
       "    </tr>\n",
       "    <tr>\n",
       "      <th>2021-05-29</th>\n",
       "      <td>2411503.0</td>\n",
       "      <td>223455.0</td>\n",
       "      <td>1924865.0</td>\n",
       "    </tr>\n",
       "  </tbody>\n",
       "</table>\n",
       "<p>458 rows × 3 columns</p>\n",
       "</div>"
      ],
      "text/plain": [
       "                 Confirmed    Deaths  Recovered\n",
       "ObservationDate                                \n",
       "2020-01-23             0.0       0.0        0.0\n",
       "2020-02-28             1.0       0.0        0.0\n",
       "2020-02-29             4.0       0.0        0.0\n",
       "2020-03-01             5.0       0.0        0.0\n",
       "2020-03-02             5.0       0.0        0.0\n",
       "...                    ...       ...        ...\n",
       "2021-05-25       2399790.0  221960.0  1917958.0\n",
       "2021-05-26       2402722.0  222232.0  1919821.0\n",
       "2021-05-27       2405772.0  222661.0  1921510.0\n",
       "2021-05-28       2408778.0  223072.0  1923744.0\n",
       "2021-05-29       2411503.0  223455.0  1924865.0\n",
       "\n",
       "[458 rows x 3 columns]"
      ]
     },
     "execution_count": 16,
     "metadata": {},
     "output_type": "execute_result"
    }
   ],
   "source": [
    "# obtener muestra de Mexico\n",
    "df_mex = df_time.loc[\"Mexico\", :]\n",
    "df_mex"
   ]
  },
  {
   "cell_type": "code",
   "execution_count": 17,
   "metadata": {},
   "outputs": [
    {
     "data": {
      "text/html": [
       "<div>\n",
       "<style scoped>\n",
       "    .dataframe tbody tr th:only-of-type {\n",
       "        vertical-align: middle;\n",
       "    }\n",
       "\n",
       "    .dataframe tbody tr th {\n",
       "        vertical-align: top;\n",
       "    }\n",
       "\n",
       "    .dataframe thead th {\n",
       "        text-align: right;\n",
       "    }\n",
       "</style>\n",
       "<table border=\"1\" class=\"dataframe\">\n",
       "  <thead>\n",
       "    <tr style=\"text-align: right;\">\n",
       "      <th></th>\n",
       "      <th>Confirmed</th>\n",
       "      <th>Deaths</th>\n",
       "      <th>Recovered</th>\n",
       "    </tr>\n",
       "    <tr>\n",
       "      <th>ObservationDate</th>\n",
       "      <th></th>\n",
       "      <th></th>\n",
       "      <th></th>\n",
       "    </tr>\n",
       "  </thead>\n",
       "  <tbody>\n",
       "    <tr>\n",
       "      <th>2020-01-31</th>\n",
       "      <td>0.0</td>\n",
       "      <td>0.0</td>\n",
       "      <td>0.0</td>\n",
       "    </tr>\n",
       "    <tr>\n",
       "      <th>2020-02-29</th>\n",
       "      <td>4.0</td>\n",
       "      <td>0.0</td>\n",
       "      <td>0.0</td>\n",
       "    </tr>\n",
       "    <tr>\n",
       "      <th>2020-03-31</th>\n",
       "      <td>1094.0</td>\n",
       "      <td>28.0</td>\n",
       "      <td>35.0</td>\n",
       "    </tr>\n",
       "    <tr>\n",
       "      <th>2020-04-30</th>\n",
       "      <td>19224.0</td>\n",
       "      <td>1859.0</td>\n",
       "      <td>11423.0</td>\n",
       "    </tr>\n",
       "    <tr>\n",
       "      <th>2020-05-31</th>\n",
       "      <td>90664.0</td>\n",
       "      <td>9930.0</td>\n",
       "      <td>63772.0</td>\n",
       "    </tr>\n",
       "    <tr>\n",
       "      <th>2020-06-30</th>\n",
       "      <td>226089.0</td>\n",
       "      <td>27769.0</td>\n",
       "      <td>174538.0</td>\n",
       "    </tr>\n",
       "    <tr>\n",
       "      <th>2020-07-31</th>\n",
       "      <td>424637.0</td>\n",
       "      <td>46688.0</td>\n",
       "      <td>327115.0</td>\n",
       "    </tr>\n",
       "    <tr>\n",
       "      <th>2020-08-31</th>\n",
       "      <td>599560.0</td>\n",
       "      <td>64414.0</td>\n",
       "      <td>496222.0</td>\n",
       "    </tr>\n",
       "    <tr>\n",
       "      <th>2020-09-30</th>\n",
       "      <td>743216.0</td>\n",
       "      <td>77646.0</td>\n",
       "      <td>628007.0</td>\n",
       "    </tr>\n",
       "    <tr>\n",
       "      <th>2020-10-31</th>\n",
       "      <td>924962.0</td>\n",
       "      <td>91753.0</td>\n",
       "      <td>779371.0</td>\n",
       "    </tr>\n",
       "    <tr>\n",
       "      <th>2020-11-30</th>\n",
       "      <td>1113543.0</td>\n",
       "      <td>105940.0</td>\n",
       "      <td>824355.0</td>\n",
       "    </tr>\n",
       "    <tr>\n",
       "      <th>2020-12-31</th>\n",
       "      <td>1426094.0</td>\n",
       "      <td>125807.0</td>\n",
       "      <td>1074795.0</td>\n",
       "    </tr>\n",
       "    <tr>\n",
       "      <th>2021-01-31</th>\n",
       "      <td>1864260.0</td>\n",
       "      <td>158536.0</td>\n",
       "      <td>1412393.0</td>\n",
       "    </tr>\n",
       "    <tr>\n",
       "      <th>2021-02-28</th>\n",
       "      <td>2086938.0</td>\n",
       "      <td>185715.0</td>\n",
       "      <td>1633900.0</td>\n",
       "    </tr>\n",
       "    <tr>\n",
       "      <th>2021-03-31</th>\n",
       "      <td>2238887.0</td>\n",
       "      <td>203210.0</td>\n",
       "      <td>1773236.0</td>\n",
       "    </tr>\n",
       "    <tr>\n",
       "      <th>2021-04-30</th>\n",
       "      <td>2344755.0</td>\n",
       "      <td>216907.0</td>\n",
       "      <td>1864914.0</td>\n",
       "    </tr>\n",
       "    <tr>\n",
       "      <th>2021-05-31</th>\n",
       "      <td>2411503.0</td>\n",
       "      <td>223455.0</td>\n",
       "      <td>1924865.0</td>\n",
       "    </tr>\n",
       "  </tbody>\n",
       "</table>\n",
       "</div>"
      ],
      "text/plain": [
       "                 Confirmed    Deaths  Recovered\n",
       "ObservationDate                                \n",
       "2020-01-31             0.0       0.0        0.0\n",
       "2020-02-29             4.0       0.0        0.0\n",
       "2020-03-31          1094.0      28.0       35.0\n",
       "2020-04-30         19224.0    1859.0    11423.0\n",
       "2020-05-31         90664.0    9930.0    63772.0\n",
       "2020-06-30        226089.0   27769.0   174538.0\n",
       "2020-07-31        424637.0   46688.0   327115.0\n",
       "2020-08-31        599560.0   64414.0   496222.0\n",
       "2020-09-30        743216.0   77646.0   628007.0\n",
       "2020-10-31        924962.0   91753.0   779371.0\n",
       "2020-11-30       1113543.0  105940.0   824355.0\n",
       "2020-12-31       1426094.0  125807.0  1074795.0\n",
       "2021-01-31       1864260.0  158536.0  1412393.0\n",
       "2021-02-28       2086938.0  185715.0  1633900.0\n",
       "2021-03-31       2238887.0  203210.0  1773236.0\n",
       "2021-04-30       2344755.0  216907.0  1864914.0\n",
       "2021-05-31       2411503.0  223455.0  1924865.0"
      ]
     },
     "execution_count": 17,
     "metadata": {},
     "output_type": "execute_result"
    }
   ],
   "source": [
    "df_mx_monthly = df_mex.resample(\"M\").max()\n",
    "df_mx_monthly"
   ]
  },
  {
   "cell_type": "code",
   "execution_count": 19,
   "metadata": {},
   "outputs": [
    {
     "data": {
      "text/plain": [
       "<AxesSubplot:xlabel='ObservationDate'>"
      ]
     },
     "execution_count": 19,
     "metadata": {},
     "output_type": "execute_result"
    },
    {
     "data": {
      "image/png": "[encoded data removed]",
      "text/plain": [
       "<Figure size 720x504 with 1 Axes>"
      ]
     },
     "metadata": {
      "needs_background": "light"
     },
     "output_type": "display_data"
    }
   ],
   "source": [
    "# crear histograma\n",
    "df_mx_monthly.plot(figsize=(10, 7), kind=\"bar\")"
   ]
  },
  {
   "cell_type": "code",
   "execution_count": 20,
   "metadata": {},
   "outputs": [
    {
     "data": {
      "text/plain": [
       "<AxesSubplot:xlabel='ObservationDate'>"
      ]
     },
     "execution_count": 20,
     "metadata": {},
     "output_type": "execute_result"
    },
    {
     "data": {
      "image/png": "[encoded data removed]",
      "text/plain": [
       "<Figure size 720x504 with 1 Axes>"
      ]
     },
     "metadata": {
      "needs_background": "light"
     },
     "output_type": "display_data"
    }
   ],
   "source": [
    "# verlo en forma de stack\n",
    "df_mx_monthly.plot(figsize=(10, 7), kind=\"bar\", stacked=True)"
   ]
  },
  {
   "cell_type": "code",
   "execution_count": 21,
   "metadata": {},
   "outputs": [
    {
     "data": {
      "text/html": [
       "<div>\n",
       "<style scoped>\n",
       "    .dataframe tbody tr th:only-of-type {\n",
       "        vertical-align: middle;\n",
       "    }\n",
       "\n",
       "    .dataframe tbody tr th {\n",
       "        vertical-align: top;\n",
       "    }\n",
       "\n",
       "    .dataframe thead th {\n",
       "        text-align: right;\n",
       "    }\n",
       "</style>\n",
       "<table border=\"1\" class=\"dataframe\">\n",
       "  <thead>\n",
       "    <tr style=\"text-align: right;\">\n",
       "      <th></th>\n",
       "      <th>Confirmed</th>\n",
       "      <th>Deaths</th>\n",
       "      <th>Recovered</th>\n",
       "      <th>Traitment</th>\n",
       "    </tr>\n",
       "    <tr>\n",
       "      <th>ObservationDate</th>\n",
       "      <th></th>\n",
       "      <th></th>\n",
       "      <th></th>\n",
       "      <th></th>\n",
       "    </tr>\n",
       "  </thead>\n",
       "  <tbody>\n",
       "    <tr>\n",
       "      <th>2020-01-31</th>\n",
       "      <td>0.0</td>\n",
       "      <td>0.0</td>\n",
       "      <td>0.0</td>\n",
       "      <td>0.0</td>\n",
       "    </tr>\n",
       "    <tr>\n",
       "      <th>2020-02-29</th>\n",
       "      <td>4.0</td>\n",
       "      <td>0.0</td>\n",
       "      <td>0.0</td>\n",
       "      <td>4.0</td>\n",
       "    </tr>\n",
       "    <tr>\n",
       "      <th>2020-03-31</th>\n",
       "      <td>1094.0</td>\n",
       "      <td>28.0</td>\n",
       "      <td>35.0</td>\n",
       "      <td>1031.0</td>\n",
       "    </tr>\n",
       "    <tr>\n",
       "      <th>2020-04-30</th>\n",
       "      <td>19224.0</td>\n",
       "      <td>1859.0</td>\n",
       "      <td>11423.0</td>\n",
       "      <td>5942.0</td>\n",
       "    </tr>\n",
       "    <tr>\n",
       "      <th>2020-05-31</th>\n",
       "      <td>90664.0</td>\n",
       "      <td>9930.0</td>\n",
       "      <td>63772.0</td>\n",
       "      <td>16962.0</td>\n",
       "    </tr>\n",
       "    <tr>\n",
       "      <th>2020-06-30</th>\n",
       "      <td>226089.0</td>\n",
       "      <td>27769.0</td>\n",
       "      <td>174538.0</td>\n",
       "      <td>23782.0</td>\n",
       "    </tr>\n",
       "    <tr>\n",
       "      <th>2020-07-31</th>\n",
       "      <td>424637.0</td>\n",
       "      <td>46688.0</td>\n",
       "      <td>327115.0</td>\n",
       "      <td>50834.0</td>\n",
       "    </tr>\n",
       "    <tr>\n",
       "      <th>2020-08-31</th>\n",
       "      <td>599560.0</td>\n",
       "      <td>64414.0</td>\n",
       "      <td>496222.0</td>\n",
       "      <td>38924.0</td>\n",
       "    </tr>\n",
       "    <tr>\n",
       "      <th>2020-09-30</th>\n",
       "      <td>743216.0</td>\n",
       "      <td>77646.0</td>\n",
       "      <td>628007.0</td>\n",
       "      <td>37563.0</td>\n",
       "    </tr>\n",
       "    <tr>\n",
       "      <th>2020-10-31</th>\n",
       "      <td>924962.0</td>\n",
       "      <td>91753.0</td>\n",
       "      <td>779371.0</td>\n",
       "      <td>53838.0</td>\n",
       "    </tr>\n",
       "    <tr>\n",
       "      <th>2020-11-30</th>\n",
       "      <td>1113543.0</td>\n",
       "      <td>105940.0</td>\n",
       "      <td>824355.0</td>\n",
       "      <td>183248.0</td>\n",
       "    </tr>\n",
       "    <tr>\n",
       "      <th>2020-12-31</th>\n",
       "      <td>1426094.0</td>\n",
       "      <td>125807.0</td>\n",
       "      <td>1074795.0</td>\n",
       "      <td>225492.0</td>\n",
       "    </tr>\n",
       "    <tr>\n",
       "      <th>2021-01-31</th>\n",
       "      <td>1864260.0</td>\n",
       "      <td>158536.0</td>\n",
       "      <td>1412393.0</td>\n",
       "      <td>293331.0</td>\n",
       "    </tr>\n",
       "    <tr>\n",
       "      <th>2021-02-28</th>\n",
       "      <td>2086938.0</td>\n",
       "      <td>185715.0</td>\n",
       "      <td>1633900.0</td>\n",
       "      <td>267323.0</td>\n",
       "    </tr>\n",
       "    <tr>\n",
       "      <th>2021-03-31</th>\n",
       "      <td>2238887.0</td>\n",
       "      <td>203210.0</td>\n",
       "      <td>1773236.0</td>\n",
       "      <td>262441.0</td>\n",
       "    </tr>\n",
       "    <tr>\n",
       "      <th>2021-04-30</th>\n",
       "      <td>2344755.0</td>\n",
       "      <td>216907.0</td>\n",
       "      <td>1864914.0</td>\n",
       "      <td>262934.0</td>\n",
       "    </tr>\n",
       "    <tr>\n",
       "      <th>2021-05-31</th>\n",
       "      <td>2411503.0</td>\n",
       "      <td>223455.0</td>\n",
       "      <td>1924865.0</td>\n",
       "      <td>263183.0</td>\n",
       "    </tr>\n",
       "  </tbody>\n",
       "</table>\n",
       "</div>"
      ],
      "text/plain": [
       "                 Confirmed    Deaths  Recovered  Traitment\n",
       "ObservationDate                                           \n",
       "2020-01-31             0.0       0.0        0.0        0.0\n",
       "2020-02-29             4.0       0.0        0.0        4.0\n",
       "2020-03-31          1094.0      28.0       35.0     1031.0\n",
       "2020-04-30         19224.0    1859.0    11423.0     5942.0\n",
       "2020-05-31         90664.0    9930.0    63772.0    16962.0\n",
       "2020-06-30        226089.0   27769.0   174538.0    23782.0\n",
       "2020-07-31        424637.0   46688.0   327115.0    50834.0\n",
       "2020-08-31        599560.0   64414.0   496222.0    38924.0\n",
       "2020-09-30        743216.0   77646.0   628007.0    37563.0\n",
       "2020-10-31        924962.0   91753.0   779371.0    53838.0\n",
       "2020-11-30       1113543.0  105940.0   824355.0   183248.0\n",
       "2020-12-31       1426094.0  125807.0  1074795.0   225492.0\n",
       "2021-01-31       1864260.0  158536.0  1412393.0   293331.0\n",
       "2021-02-28       2086938.0  185715.0  1633900.0   267323.0\n",
       "2021-03-31       2238887.0  203210.0  1773236.0   262441.0\n",
       "2021-04-30       2344755.0  216907.0  1864914.0   262934.0\n",
       "2021-05-31       2411503.0  223455.0  1924865.0   263183.0"
      ]
     },
     "execution_count": 21,
     "metadata": {},
     "output_type": "execute_result"
    }
   ],
   "source": [
    "# agregar una columna para los casos en tratamiento\n",
    "df_mx_monthly[\"Traitment\"] = df_mx_monthly[\"Confirmed\"] - df_mx_monthly[\"Deaths\"] - df_mx_monthly[\"Recovered\"]\n",
    "df_mx_monthly"
   ]
  },
  {
   "cell_type": "code",
   "execution_count": 30,
   "metadata": {},
   "outputs": [
    {
     "data": {
      "text/plain": [
       "array([<AxesSubplot:ylabel='2021-01-31 00:00:00'>,\n",
       "       <AxesSubplot:ylabel='2021-02-28 00:00:00'>,\n",
       "       <AxesSubplot:ylabel='2020-02-29 00:00:00'>], dtype=object)"
      ]
     },
     "execution_count": 30,
     "metadata": {},
     "output_type": "execute_result"
    },
    {
     "data": {
      "image/png": "[encoded data removed]",
      "text/plain": [
       "<Figure size 720x504 with 3 Axes>"
      ]
     },
     "metadata": {},
     "output_type": "display_data"
    }
   ],
   "source": [
    "# crear gráficas de pastel con algunos meses, para el estado de los casos que han sido confirmados\n",
    "df_mx_monthly_sample = df_mx_monthly.sample(3)\n",
    "df_mx_monthly_sample[[\"Deaths\", \"Recovered\", \"Traitment\"]].T.plot(figsize=(10, 7), kind=\"pie\", subplots=True)\n"
   ]
  },
  {
   "cell_type": "code",
   "execution_count": 32,
   "metadata": {},
   "outputs": [
    {
     "data": {
      "text/plain": [
       "<AxesSubplot:>"
      ]
     },
     "execution_count": 32,
     "metadata": {},
     "output_type": "execute_result"
    },
    {
     "data": {
      "image/png": "[encoded data removed]",
      "text/plain": [
       "<Figure size 720x504 with 1 Axes>"
      ]
     },
     "metadata": {
      "needs_background": "light"
     },
     "output_type": "display_data"
    }
   ],
   "source": [
    "# ver la tasa de supervivencia\n",
    "df_mex[\"rate\"] = 1 - df_mex[\"Deaths\"] / df_mex[\"Confirmed\"]\n",
    "df_mex[\"rate\"].hist(figsize=(10, 7), bins=10)"
   ]
  },
  {
   "cell_type": "code",
   "execution_count": 33,
   "metadata": {},
   "outputs": [
    {
     "data": {
      "text/plain": [
       "<AxesSubplot:ylabel='Density'>"
      ]
     },
     "execution_count": 33,
     "metadata": {},
     "output_type": "execute_result"
    },
    {
     "data": {
      "image/png": "[encoded data removed]",
      "text/plain": [
       "<Figure size 720x504 with 1 Axes>"
      ]
     },
     "metadata": {
      "needs_background": "light"
     },
     "output_type": "display_data"
    }
   ],
   "source": [
    "# ver la tasa de distribución\n",
    "df_mex[\"rate\"].plot(kind=\"kde\", figsize=(10, 7))"
   ]
  }
 ],
 "metadata": {
  "interpreter": {
   "hash": "d9e32202f3adda5901c80653460e82fb3893b359cf23c625231ac574bb643162"
  },
  "kernelspec": {
   "display_name": "Python 3.8.12 ('basics')",
   "language": "python",
   "name": "python3"
  },
  "language_info": {
   "codemirror_mode": {
    "name": "ipython",
    "version": 3
   },
   "file_extension": ".py",
   "mimetype": "text/x-python",
   "name": "python",
   "nbconvert_exporter": "python",
   "pygments_lexer": "ipython3",
   "version": "3.8.12"
  },
  "orig_nbformat": 4
 },
 "nbformat": 4,
 "nbformat_minor": 2
}
