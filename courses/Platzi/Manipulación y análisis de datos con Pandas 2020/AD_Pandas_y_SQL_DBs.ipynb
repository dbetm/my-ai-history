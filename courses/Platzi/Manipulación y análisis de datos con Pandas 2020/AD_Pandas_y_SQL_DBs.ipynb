{
 "cells": [
  {
   "cell_type": "code",
   "execution_count": 1,
   "metadata": {},
   "outputs": [],
   "source": [
    "import pandas as pd"
   ]
  },
  {
   "cell_type": "markdown",
   "metadata": {},
   "source": [
    "### PostgreSQL\n"
   ]
  },
  {
   "cell_type": "code",
   "execution_count": null,
   "metadata": {},
   "outputs": [],
   "source": [
    "import psycopg2 # necesario instalar"
   ]
  },
  {
   "cell_type": "code",
   "execution_count": null,
   "metadata": {},
   "outputs": [],
   "source": [
    "sql_conn = psycopg2.connect(\n",
    "    user = \"user_name\",\n",
    "    password = \"password\",\n",
    "    host = \"xxx.xxx.xxx.xxx\",\n",
    "    port = \"5432\",\n",
    "    database = \"postgres_db_name\"\n",
    ")"
   ]
  },
  {
   "cell_type": "code",
   "execution_count": null,
   "metadata": {},
   "outputs": [],
   "source": [
    "query_sql = \"SELECT * FROM TABLE_NAME LIMIT 10\""
   ]
  },
  {
   "cell_type": "code",
   "execution_count": null,
   "metadata": {},
   "outputs": [],
   "source": [
    "df = pd.read_sql(query_sql, sql_conn)\n",
    "df.head(5)"
   ]
  },
  {
   "cell_type": "markdown",
   "metadata": {},
   "source": [
    "### SQL Server"
   ]
  },
  {
   "cell_type": "code",
   "execution_count": null,
   "metadata": {},
   "outputs": [],
   "source": [
    "import pyodbc # necesario instalar"
   ]
  },
  {
   "cell_type": "code",
   "execution_count": null,
   "metadata": {},
   "outputs": [],
   "source": [
    "# crear conexión\n",
    "driver = '{SQL Server}'\n",
    "server_name = 'server_name'\n",
    "db_name = 'database_name'\n",
    "user = 'user'\n",
    "password = 'password'\n",
    "config = (\n",
    "    f\"DRIVER={driver};\"\n",
    "    f\"SERVER={server_name};\"\n",
    "    f\"DATABASE={db_name};\"\n",
    "    f\"UID={user};\"\n",
    "    f\"PWD={password};\"\n",
    "    \"Trusted_Connection=yes;\"\n",
    ")\n",
    "sql_conn = pyodbc.connect(config)"
   ]
  },
  {
   "cell_type": "code",
   "execution_count": null,
   "metadata": {},
   "outputs": [],
   "source": [
    "# o si se tiene DNS\n",
    "dns = 'odbc_datasource_name'\n",
    "config = (\n",
    "    f\"DNS={dns};\"\n",
    "    f\"UID={user};\"\n",
    "    f\"PWD={password};\"\n",
    "    \"Trusted_Connection=yes;\"\n",
    ")\n",
    "sql_conn = pyodbc.connect(config)\n",
    "\n",
    "query_sql = 'select * from table_name limit 10'"
   ]
  },
  {
   "cell_type": "code",
   "execution_count": null,
   "metadata": {},
   "outputs": [],
   "source": [
    "df = pd.read_sql(query_sql, sql_conn)\n",
    "df.head(5)"
   ]
  },
  {
   "cell_type": "markdown",
   "metadata": {},
   "source": [
    "### MySQL / Oracle / Otras"
   ]
  },
  {
   "cell_type": "code",
   "execution_count": null,
   "metadata": {},
   "outputs": [],
   "source": [
    "import sqlalchemy as sql # necesario instalar\n",
    "# Escogemos nuestra base de datos, Oracle, MySql o la de tu preferencia:\n",
    "database_type = 'mysql' # 'oracle'"
   ]
  },
  {
   "cell_type": "code",
   "execution_count": null,
   "metadata": {},
   "outputs": [],
   "source": [
    "user = 'user_name'\n",
    "password = 'password'\n",
    "host = 'xxx.xxx.xxx.xxx:port'\n",
    "database = 'database_name'\n",
    "\n",
    "conn_string = '{}://{}:{}@{}/{}'.format(\n",
    "    database_type, user, password, host, database\n",
    ")\n",
    "\n",
    "sql_conn = sql.create_engine(conn_string)"
   ]
  },
  {
   "cell_type": "code",
   "execution_count": null,
   "metadata": {},
   "outputs": [],
   "source": [
    "df = pd.read_sql(query_sql, sql_conn)\n",
    "df.head(5)"
   ]
  }
 ],
 "metadata": {
  "interpreter": {
   "hash": "d9e32202f3adda5901c80653460e82fb3893b359cf23c625231ac574bb643162"
  },
  "kernelspec": {
   "display_name": "Python 3.8.12 ('basics')",
   "language": "python",
   "name": "python3"
  },
  "language_info": {
   "codemirror_mode": {
    "name": "ipython",
    "version": 3
   },
   "file_extension": ".py",
   "mimetype": "text/x-python",
   "name": "python",
   "nbconvert_exporter": "python",
   "pygments_lexer": "ipython3",
   "version": "3.8.12"
  },
  "orig_nbformat": 4
 },
 "nbformat": 4,
 "nbformat_minor": 2
}
