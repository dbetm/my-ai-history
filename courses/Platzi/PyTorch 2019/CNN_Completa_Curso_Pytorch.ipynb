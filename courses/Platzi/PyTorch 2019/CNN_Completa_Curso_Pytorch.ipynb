{
  "nbformat": 4,
  "nbformat_minor": 0,
  "metadata": {
    "colab": {
      "name": "CNN Completa - Curso Pytorch.ipynb",
      "provenance": []
    },
    "kernelspec": {
      "name": "python3",
      "display_name": "Python 3"
    },
    "language_info": {
      "name": "python"
    },
    "accelerator": "GPU"
  },
  "cells": [
    {
      "cell_type": "code",
      "metadata": {
        "id": "iHkdFks0O4M6"
      },
      "source": [
        "import torch\n",
        "import torch.nn as nn\n",
        "import torch.nn.functional as F # capas para aplicar funciones"
      ],
      "execution_count": null,
      "outputs": []
    },
    {
      "cell_type": "code",
      "metadata": {
        "id": "MMmTMtw4RChd"
      },
      "source": [
        "class Net(nn.Module):\n",
        "  def __init__(self, num_channels, num_classes):\n",
        "    super(Net, self).__init__()\n",
        "\n",
        "    self.num_channels = num_channels\n",
        "    self.num_classes = num_classes\n",
        "\n",
        "    # Definición de las capas de convolución, es aquí donde se aplican los filtros\n",
        "    self.conv1 = nn.Conv2d(\n",
        "        in_channels=3, out_channels=self.num_channels, \n",
        "        kernel_size=3, stride=1, padding=1\n",
        "    )\n",
        "    self.conv2 = nn.Conv2d(\n",
        "        in_channels=self.num_channels, out_channels=self.num_channels*2, \n",
        "        kernel_size=3, stride=1, padding=1\n",
        "    )\n",
        "    self.conv3 = nn.Conv2d(\n",
        "        in_channels=self.num_channels*2, out_channels=self.num_channels*4, \n",
        "        kernel_size=3, stride=1, padding=1\n",
        "    )\n",
        "\n",
        "    # Fully connected\n",
        "    self.fc1 = nn.Linear(in_features=self.num_channels*4*8*8, out_features=self.num_channels*4)\n",
        "    self.fc2 = nn.Linear(in_features=self.num_channels*4, out_features=self.num_classes)\n",
        "\n",
        "  # Flujo de información hacia adelante (predicción)\n",
        "  def forward(self, x):\n",
        "    # Inicialmente el tensor tiene dimensión (3, 64, 64)\n",
        "    x = self.conv1(x) # ahora dim = (num_channels, 64, 64)\n",
        "    x = F.relu(F.max_pool2d(x, 2)) # dim = (num_channels, 32, 32)\n",
        "    x = self.conv2(x) # ahora dim = (num_channels * 2, 32, 32)\n",
        "    x = F.relu(F.max_pool2d(x, 2)) # dim = (num_channels * 2, 16, 16)\n",
        "    x = self.conv3(x) # ahora dim = (num_channels * 4, 16, 16)\n",
        "    x = F.relu(F.max_pool2d(x, 2)) # dim = (num_channels * 4, 8, 8)\n",
        "\n",
        "    # Flatten\n",
        "    x = x.view(-1, self.num_channels*4*8*8)\n",
        "\n",
        "    # Fully connected\n",
        "    x = self.fc1(x)\n",
        "    x = F.relu(x)\n",
        "    x = self.fc2(x)\n",
        "\n",
        "    # Classificación probabilística multiclase\n",
        "    y = F.log_softmax(x, dim=1)\n",
        "\n",
        "    return y"
      ],
      "execution_count": null,
      "outputs": []
    },
    {
      "cell_type": "markdown",
      "metadata": {
        "id": "yhpNQcGhdV5a"
      },
      "source": [
        "## Cargar datos"
      ]
    },
    {
      "cell_type": "code",
      "metadata": {
        "colab": {
          "base_uri": "https://localhost:8080/"
        },
        "id": "SqOxvom7ddCs",
        "outputId": "1d467b69-5d2f-42ee-8799-aa8d51b4ddc0"
      },
      "source": [
        "from google.colab import drive\n",
        "\n",
        "drive.mount('/gdrive')"
      ],
      "execution_count": null,
      "outputs": [
        {
          "output_type": "stream",
          "text": [
            "Mounted at /gdrive\n"
          ],
          "name": "stdout"
        }
      ]
    },
    {
      "cell_type": "code",
      "metadata": {
        "colab": {
          "base_uri": "https://localhost:8080/"
        },
        "id": "puGjm-H6dwPP",
        "outputId": "f5fe445c-00aa-4cc6-860b-7acd5d72f405"
      },
      "source": [
        "# Ver la estructura del dataset\n",
        "!ls '/gdrive/My Drive/dl-pytorch/datasets/64x64_SIGNS'"
      ],
      "execution_count": null,
      "outputs": [
        {
          "output_type": "stream",
          "text": [
            "test_signs  train_signs  val_signs\n"
          ],
          "name": "stdout"
        }
      ]
    },
    {
      "cell_type": "code",
      "metadata": {
        "id": "TZHBFhQeezaX"
      },
      "source": [
        "import sys\n",
        "sys.path.append('/gdrive/My Drive/dl-pytorch/')\n",
        "\n",
        "from plot_helpers import imshow"
      ],
      "execution_count": null,
      "outputs": []
    },
    {
      "cell_type": "code",
      "metadata": {
        "id": "Dj5XqvkSgwia"
      },
      "source": [
        "import os\n",
        "\n",
        "from PIL import Image\n",
        "from torch.utils.data import Dataset, DataLoader\n",
        "\n",
        "class SIGNSDatasets(Dataset):\n",
        "  def __init__(self, base_dir, split='train', transform=None):\n",
        "    path = os.path.join(base_dir, '{}_signs'.format(split))\n",
        "    files = os.listdir(path)\n",
        "\n",
        "    self.filenames = [os.path.join(path, f) for f in files if f.endswith('.jpg')]\n",
        "    # classes\n",
        "    self.targets = [int(f[0]) for f in files]\n",
        "    self.transform = transform\n",
        "\n",
        "  def __len__(self):\n",
        "    return len(self.filenames)\n",
        "\n",
        "  def __getitem__(self, idx):\n",
        "    image = Image.open(self.filenames[idx])\n",
        "\n",
        "    if self.transform:\n",
        "      image = self.transform(image)\n",
        "\n",
        "    \n",
        "    return image, self.targets[idx]"
      ],
      "execution_count": null,
      "outputs": []
    },
    {
      "cell_type": "code",
      "metadata": {
        "id": "2H7ot2_5ipfB"
      },
      "source": [
        "# Instanciar la clase para cargar el dataset de entrenamiento\n",
        "dataset_path = '/gdrive/My Drive/dl-pytorch/datasets/64x64_SIGNS'\n",
        "\n",
        "signs = SIGNSDatasets(dataset_path, split='train')"
      ],
      "execution_count": null,
      "outputs": []
    },
    {
      "cell_type": "code",
      "metadata": {
        "colab": {
          "base_uri": "https://localhost:8080/"
        },
        "id": "1vcQKmDujAyl",
        "outputId": "02707a34-590d-4390-d14e-501e903721c9"
      },
      "source": [
        "# Probar los métodos que se sobreescribieron\n",
        "\n",
        "# Longitud\n",
        "print(len(signs))\n",
        "print('-'*42)\n"
      ],
      "execution_count": null,
      "outputs": [
        {
          "output_type": "stream",
          "text": [
            "864\n",
            "------------------------------------------\n"
          ],
          "name": "stdout"
        }
      ]
    },
    {
      "cell_type": "code",
      "metadata": {
        "colab": {
          "base_uri": "https://localhost:8080/",
          "height": 81
        },
        "id": "6nr6V6WWjueo",
        "outputId": "15040a65-5031-4b12-8e1f-886b333beb56"
      },
      "source": [
        "# Get Item\n",
        "signs[42][0]"
      ],
      "execution_count": null,
      "outputs": [
        {
          "output_type": "execute_result",
          "data": {
            "image/png": "[encoded data removed]",
            "text/plain": [
              "<PIL.JpegImagePlugin.JpegImageFile image mode=RGB size=64x64 at 0x7F058B408CD0>"
            ]
          },
          "metadata": {
            "tags": []
          },
          "execution_count": 9
        }
      ]
    },
    {
      "cell_type": "markdown",
      "metadata": {
        "id": "-lQuYTTikPvC"
      },
      "source": [
        "#### Cargar el dataset de entrenamiento con la transformación a tensor"
      ]
    },
    {
      "cell_type": "code",
      "metadata": {
        "id": "dt2tnAMmkVEs"
      },
      "source": [
        "import torchvision.transforms as transforms\n",
        "\n",
        "dataset_path = '/gdrive/My Drive/dl-pytorch/datasets/64x64_SIGNS'\n",
        "\n",
        "traindataset = SIGNSDatasets(dataset_path, split='train', transform=transforms.ToTensor())"
      ],
      "execution_count": null,
      "outputs": []
    },
    {
      "cell_type": "code",
      "metadata": {
        "colab": {
          "base_uri": "https://localhost:8080/",
          "height": 256
        },
        "id": "ebD6Q-oAkna-",
        "outputId": "c1b65ee0-665b-441b-86c2-c4c80e4ba0f9"
      },
      "source": [
        "from torchvision.utils import make_grid\n",
        "\n",
        "dataloader = DataLoader(traindataset, batch_size=32)\n",
        "\n",
        "for inputs, targets in dataloader:\n",
        "  out = make_grid(inputs)\n",
        "  imshow(out)\n",
        "  print(targets)\n",
        "  break"
      ],
      "execution_count": null,
      "outputs": [
        {
          "output_type": "display_data",
          "data": {
            "image/png": "[encoded data removed]",
            "text/plain": [
              "<Figure size 432x288 with 1 Axes>"
            ]
          },
          "metadata": {
            "tags": [],
            "needs_background": "light"
          }
        },
        {
          "output_type": "stream",
          "text": [
            "tensor([2, 1, 1, 1, 3, 2, 0, 3, 1, 2, 4, 4, 5, 1, 1, 4, 1, 5, 3, 2, 4, 1, 4, 3,\n",
            "        2, 1, 0, 3, 0, 4, 5, 5])\n"
          ],
          "name": "stdout"
        }
      ]
    },
    {
      "cell_type": "code",
      "metadata": {
        "id": "YwJSP9o5op9O"
      },
      "source": [
        "import torch.optim as optim\n",
        "\n",
        "device = torch.device('cuda')\n",
        "\n",
        "# Instanciar nuestra Red Neuronal Convolucional\n",
        "loss_fn = nn.NLLLoss()\n",
        "\n",
        "net = Net(num_channels=32, num_classes=6).to(device)\n",
        "\n",
        "optimizer = optim.SGD(net.parameters(), lr=1e-3, momentum=0.9)\n"
      ],
      "execution_count": null,
      "outputs": []
    },
    {
      "cell_type": "markdown",
      "metadata": {
        "id": "pO7bX16RrO_v"
      },
      "source": [
        "#### Función helper para mostrar métricas durante el entrenamiento"
      ]
    },
    {
      "cell_type": "code",
      "metadata": {
        "id": "_7hJoFXhrUBF"
      },
      "source": [
        "class RunningMetric():\n",
        "  def __init__(self):\n",
        "    self.sum = 0\n",
        "    self.size = 0\n",
        "\n",
        "  def update(self, val, size):\n",
        "    self.sum += val\n",
        "    self.size += size\n",
        "\n",
        "  def __call__(self):\n",
        "    return self.sum / float(self.size)\n"
      ],
      "execution_count": null,
      "outputs": []
    },
    {
      "cell_type": "markdown",
      "metadata": {
        "id": "V755cprAs0E1"
      },
      "source": [
        "## ENTRENAMIENTO"
      ]
    },
    {
      "cell_type": "code",
      "metadata": {
        "id": "cfY3z9las2h7"
      },
      "source": [
        "num_epochs = 100"
      ],
      "execution_count": null,
      "outputs": []
    },
    {
      "cell_type": "code",
      "metadata": {
        "colab": {
          "base_uri": "https://localhost:8080/"
        },
        "id": "IhXaO8Mvtf1-",
        "outputId": "48095591-091e-4fa6-921d-12d99850365c"
      },
      "source": [
        "# Iterar las épocas del entrenamiento\n",
        "\n",
        "for epoch in range(num_epochs):\n",
        "  print('Epoch {}/{}'.format(epoch + 1, num_epochs))\n",
        "  print('-'*14)\n",
        "\n",
        "  running_loss_metric = RunningMetric() \n",
        "  running_acc_metric = RunningMetric()\n",
        "\n",
        "  for inputs, targets  in dataloader:\n",
        "    inputs, targets = inputs.to(device), targets.to(device)\n",
        "    optimizer.zero_grad()\n",
        "\n",
        "    outputs = net(inputs)\n",
        "    _, preds = torch.max(outputs, 1)\n",
        "    loss = loss_fn(outputs, targets)\n",
        "\n",
        "    # Backpropagation\n",
        "    loss.backward()\n",
        "    optimizer.step()\n",
        "\n",
        "    batch_size = inputs.size()[0]\n",
        "\n",
        "    # Actualizar métricas\n",
        "    running_loss_metric.update(loss.item()*batch_size, batch_size)\n",
        "    running_acc_metric.update(torch.sum(preds == targets).float(), batch_size)\n",
        "  \n",
        "\n",
        "  print('Loss: {:.4f}, Acc: {:.4f} '.format(running_loss_metric(), running_acc_metric()))\n",
        "\n",
        "\n"
      ],
      "execution_count": null,
      "outputs": [
        {
          "output_type": "stream",
          "text": [
            "Epoch 1/100\n",
            "--------------\n",
            "Loss: 1.7926, Acc: 0.1644 \n",
            "Epoch 2/100\n",
            "--------------\n",
            "Loss: 1.7918, Acc: 0.1644 \n",
            "Epoch 3/100\n",
            "--------------\n",
            "Loss: 1.7913, Acc: 0.1690 \n",
            "Epoch 4/100\n",
            "--------------\n",
            "Loss: 1.7908, Acc: 0.1782 \n",
            "Epoch 5/100\n",
            "--------------\n",
            "Loss: 1.7904, Acc: 0.1725 \n",
            "Epoch 6/100\n",
            "--------------\n",
            "Loss: 1.7900, Acc: 0.1725 \n",
            "Epoch 7/100\n",
            "--------------\n",
            "Loss: 1.7895, Acc: 0.1725 \n",
            "Epoch 8/100\n",
            "--------------\n",
            "Loss: 1.7891, Acc: 0.1725 \n",
            "Epoch 9/100\n",
            "--------------\n",
            "Loss: 1.7886, Acc: 0.1725 \n",
            "Epoch 10/100\n",
            "--------------\n",
            "Loss: 1.7881, Acc: 0.1736 \n",
            "Epoch 11/100\n",
            "--------------\n",
            "Loss: 1.7875, Acc: 0.1748 \n",
            "Epoch 12/100\n",
            "--------------\n",
            "Loss: 1.7869, Acc: 0.1771 \n",
            "Epoch 13/100\n",
            "--------------\n",
            "Loss: 1.7863, Acc: 0.1887 \n",
            "Epoch 14/100\n",
            "--------------\n",
            "Loss: 1.7855, Acc: 0.1991 \n",
            "Epoch 15/100\n",
            "--------------\n",
            "Loss: 1.7847, Acc: 0.2106 \n",
            "Epoch 16/100\n",
            "--------------\n",
            "Loss: 1.7838, Acc: 0.2315 \n",
            "Epoch 17/100\n",
            "--------------\n",
            "Loss: 1.7828, Acc: 0.2442 \n",
            "Epoch 18/100\n",
            "--------------\n",
            "Loss: 1.7816, Acc: 0.2569 \n",
            "Epoch 19/100\n",
            "--------------\n",
            "Loss: 1.7802, Acc: 0.2755 \n",
            "Epoch 20/100\n",
            "--------------\n",
            "Loss: 1.7786, Acc: 0.2859 \n",
            "Epoch 21/100\n",
            "--------------\n",
            "Loss: 1.7767, Acc: 0.2928 \n",
            "Epoch 22/100\n",
            "--------------\n",
            "Loss: 1.7745, Acc: 0.3056 \n",
            "Epoch 23/100\n",
            "--------------\n",
            "Loss: 1.7718, Acc: 0.3113 \n",
            "Epoch 24/100\n",
            "--------------\n",
            "Loss: 1.7686, Acc: 0.3252 \n",
            "Epoch 25/100\n",
            "--------------\n",
            "Loss: 1.7646, Acc: 0.3241 \n",
            "Epoch 26/100\n",
            "--------------\n",
            "Loss: 1.7596, Acc: 0.3229 \n",
            "Epoch 27/100\n",
            "--------------\n",
            "Loss: 1.7534, Acc: 0.3079 \n",
            "Epoch 28/100\n",
            "--------------\n",
            "Loss: 1.7456, Acc: 0.2998 \n",
            "Epoch 29/100\n",
            "--------------\n",
            "Loss: 1.7360, Acc: 0.2812 \n",
            "Epoch 30/100\n",
            "--------------\n",
            "Loss: 1.7250, Acc: 0.2674 \n",
            "Epoch 31/100\n",
            "--------------\n",
            "Loss: 1.7118, Acc: 0.2604 \n",
            "Epoch 32/100\n",
            "--------------\n",
            "Loss: 1.6935, Acc: 0.2546 \n",
            "Epoch 33/100\n",
            "--------------\n",
            "Loss: 1.6678, Acc: 0.2882 \n",
            "Epoch 34/100\n",
            "--------------\n",
            "Loss: 1.6319, Acc: 0.3171 \n",
            "Epoch 35/100\n",
            "--------------\n",
            "Loss: 1.5820, Acc: 0.3669 \n",
            "Epoch 36/100\n",
            "--------------\n",
            "Loss: 1.5165, Acc: 0.4259 \n",
            "Epoch 37/100\n",
            "--------------\n",
            "Loss: 1.4451, Acc: 0.4502 \n",
            "Epoch 38/100\n",
            "--------------\n",
            "Loss: 1.3897, Acc: 0.4387 \n",
            "Epoch 39/100\n",
            "--------------\n",
            "Loss: 1.3184, Acc: 0.4757 \n",
            "Epoch 40/100\n",
            "--------------\n",
            "Loss: 1.2393, Acc: 0.5231 \n",
            "Epoch 41/100\n",
            "--------------\n",
            "Loss: 1.1815, Acc: 0.5405 \n",
            "Epoch 42/100\n",
            "--------------\n",
            "Loss: 1.1358, Acc: 0.5637 \n",
            "Epoch 43/100\n",
            "--------------\n",
            "Loss: 1.1079, Acc: 0.5556 \n",
            "Epoch 44/100\n",
            "--------------\n",
            "Loss: 1.0580, Acc: 0.5752 \n",
            "Epoch 45/100\n",
            "--------------\n",
            "Loss: 1.0044, Acc: 0.6007 \n",
            "Epoch 46/100\n",
            "--------------\n",
            "Loss: 0.9158, Acc: 0.6400 \n",
            "Epoch 47/100\n",
            "--------------\n",
            "Loss: 0.8923, Acc: 0.6377 \n",
            "Epoch 48/100\n",
            "--------------\n",
            "Loss: 0.8594, Acc: 0.6701 \n",
            "Epoch 49/100\n",
            "--------------\n",
            "Loss: 0.8091, Acc: 0.6875 \n",
            "Epoch 50/100\n",
            "--------------\n",
            "Loss: 0.7888, Acc: 0.6910 \n",
            "Epoch 51/100\n",
            "--------------\n",
            "Loss: 0.7551, Acc: 0.7072 \n",
            "Epoch 52/100\n",
            "--------------\n",
            "Loss: 0.7223, Acc: 0.7199 \n",
            "Epoch 53/100\n",
            "--------------\n",
            "Loss: 0.6973, Acc: 0.7361 \n",
            "Epoch 54/100\n",
            "--------------\n",
            "Loss: 0.6725, Acc: 0.7465 \n",
            "Epoch 55/100\n",
            "--------------\n",
            "Loss: 0.6393, Acc: 0.7685 \n",
            "Epoch 56/100\n",
            "--------------\n",
            "Loss: 0.6183, Acc: 0.7743 \n",
            "Epoch 57/100\n",
            "--------------\n",
            "Loss: 0.5954, Acc: 0.7847 \n",
            "Epoch 58/100\n",
            "--------------\n",
            "Loss: 0.5775, Acc: 0.7986 \n",
            "Epoch 59/100\n",
            "--------------\n",
            "Loss: 0.5651, Acc: 0.8021 \n",
            "Epoch 60/100\n",
            "--------------\n",
            "Loss: 0.5650, Acc: 0.8032 \n",
            "Epoch 61/100\n",
            "--------------\n",
            "Loss: 0.5654, Acc: 0.7882 \n",
            "Epoch 62/100\n",
            "--------------\n",
            "Loss: 0.5283, Acc: 0.8044 \n",
            "Epoch 63/100\n",
            "--------------\n",
            "Loss: 0.4720, Acc: 0.8299 \n",
            "Epoch 64/100\n",
            "--------------\n",
            "Loss: 0.4578, Acc: 0.8333 \n",
            "Epoch 65/100\n",
            "--------------\n",
            "Loss: 0.4453, Acc: 0.8414 \n",
            "Epoch 66/100\n",
            "--------------\n",
            "Loss: 0.4289, Acc: 0.8438 \n",
            "Epoch 67/100\n",
            "--------------\n",
            "Loss: 0.4051, Acc: 0.8576 \n",
            "Epoch 68/100\n",
            "--------------\n",
            "Loss: 0.3866, Acc: 0.8634 \n",
            "Epoch 69/100\n",
            "--------------\n",
            "Loss: 0.3683, Acc: 0.8738 \n",
            "Epoch 70/100\n",
            "--------------\n",
            "Loss: 0.3501, Acc: 0.8773 \n",
            "Epoch 71/100\n",
            "--------------\n",
            "Loss: 0.3334, Acc: 0.8831 \n",
            "Epoch 72/100\n",
            "--------------\n",
            "Loss: 0.3114, Acc: 0.8866 \n",
            "Epoch 73/100\n",
            "--------------\n",
            "Loss: 0.2938, Acc: 0.8924 \n",
            "Epoch 74/100\n",
            "--------------\n",
            "Loss: 0.2750, Acc: 0.9028 \n",
            "Epoch 75/100\n",
            "--------------\n",
            "Loss: 0.2577, Acc: 0.9120 \n",
            "Epoch 76/100\n",
            "--------------\n",
            "Loss: 0.2458, Acc: 0.9201 \n",
            "Epoch 77/100\n",
            "--------------\n",
            "Loss: 0.2314, Acc: 0.9282 \n",
            "Epoch 78/100\n",
            "--------------\n",
            "Loss: 0.2259, Acc: 0.9294 \n",
            "Epoch 79/100\n",
            "--------------\n",
            "Loss: 0.2164, Acc: 0.9282 \n",
            "Epoch 80/100\n",
            "--------------\n",
            "Loss: 0.2114, Acc: 0.9340 \n",
            "Epoch 81/100\n",
            "--------------\n",
            "Loss: 0.2069, Acc: 0.9317 \n",
            "Epoch 82/100\n",
            "--------------\n",
            "Loss: 0.2004, Acc: 0.9363 \n",
            "Epoch 83/100\n",
            "--------------\n",
            "Loss: 0.2028, Acc: 0.9329 \n",
            "Epoch 84/100\n",
            "--------------\n",
            "Loss: 0.1975, Acc: 0.9317 \n",
            "Epoch 85/100\n",
            "--------------\n",
            "Loss: 0.1925, Acc: 0.9363 \n",
            "Epoch 86/100\n",
            "--------------\n",
            "Loss: 0.1709, Acc: 0.9456 \n",
            "Epoch 87/100\n",
            "--------------\n",
            "Loss: 0.1547, Acc: 0.9514 \n",
            "Epoch 88/100\n",
            "--------------\n",
            "Loss: 0.1355, Acc: 0.9630 \n",
            "Epoch 89/100\n",
            "--------------\n",
            "Loss: 0.1139, Acc: 0.9711 \n",
            "Epoch 90/100\n",
            "--------------\n",
            "Loss: 0.1070, Acc: 0.9711 \n",
            "Epoch 91/100\n",
            "--------------\n",
            "Loss: 0.0914, Acc: 0.9803 \n",
            "Epoch 92/100\n",
            "--------------\n",
            "Loss: 0.0843, Acc: 0.9850 \n",
            "Epoch 93/100\n",
            "--------------\n",
            "Loss: 0.0800, Acc: 0.9838 \n",
            "Epoch 94/100\n",
            "--------------\n",
            "Loss: 0.0772, Acc: 0.9838 \n",
            "Epoch 95/100\n",
            "--------------\n",
            "Loss: 0.0762, Acc: 0.9861 \n",
            "Epoch 96/100\n",
            "--------------\n",
            "Loss: 0.0731, Acc: 0.9861 \n",
            "Epoch 97/100\n",
            "--------------\n",
            "Loss: 0.0777, Acc: 0.9850 \n",
            "Epoch 98/100\n",
            "--------------\n",
            "Loss: 0.0756, Acc: 0.9850 \n",
            "Epoch 99/100\n",
            "--------------\n",
            "Loss: 0.0757, Acc: 0.9850 \n",
            "Epoch 100/100\n",
            "--------------\n",
            "Loss: 0.0802, Acc: 0.9861 \n"
          ],
          "name": "stdout"
        }
      ]
    },
    {
      "cell_type": "markdown",
      "metadata": {
        "id": "mb01p8ad0IZt"
      },
      "source": [
        "### SALVANDO EL MODELO"
      ]
    },
    {
      "cell_type": "code",
      "metadata": {
        "colab": {
          "base_uri": "https://localhost:8080/"
        },
        "id": "SwCq74Yf0KlV",
        "outputId": "48f532e8-7cd1-4a00-9ff8-65c025fe56cf"
      },
      "source": [
        "model_path = '/gdrive/My Drive/dl-pytorch/datasets/model.pt'\n",
        "\n",
        "#Para salvar el modelo\n",
        "torch.save(net.state_dict(), model_path)\n",
        "\n",
        "model = Net(num_channels=32, num_classes=6).to(device)\n",
        "\n",
        "#Para cargar el modelo\n",
        "model.load_state_dict(torch.load(model_path))\n",
        "print(model)"
      ],
      "execution_count": null,
      "outputs": [
        {
          "output_type": "stream",
          "text": [
            "Net(\n",
            "  (conv1): Conv2d(3, 32, kernel_size=(3, 3), stride=(1, 1), padding=(1, 1))\n",
            "  (conv2): Conv2d(32, 64, kernel_size=(3, 3), stride=(1, 1), padding=(1, 1))\n",
            "  (conv3): Conv2d(64, 128, kernel_size=(3, 3), stride=(1, 1), padding=(1, 1))\n",
            "  (fc1): Linear(in_features=8192, out_features=128, bias=True)\n",
            "  (fc2): Linear(in_features=128, out_features=6, bias=True)\n",
            ")\n"
          ],
          "name": "stdout"
        }
      ]
    }
  ]
}