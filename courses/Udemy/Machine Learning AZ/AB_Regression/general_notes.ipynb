{
 "cells": [
  {
   "cell_type": "markdown",
   "metadata": {},
   "source": [
    "### Simple Linear Regression\n",
    "\n",
    "`y = b0 + b1 * x1`\n",
    "\n",
    "- y  => dependent variable\n",
    "- x1 => independent variable\n",
    "- b0 => constant\n",
    "- b1 => coefficient"
   ]
  },
  {
   "cell_type": "markdown",
   "metadata": {},
   "source": [
    "The best fit line is which has the minimum sum of **\"ordinary least squares\"**\n",
    "\n",
    "`MIN(SUM(Y - Y_PREDICTED)^2)`"
   ]
  }
 ],
 "metadata": {
  "language_info": {
   "name": "python"
  },
  "orig_nbformat": 4
 },
 "nbformat": 4,
 "nbformat_minor": 2
}
