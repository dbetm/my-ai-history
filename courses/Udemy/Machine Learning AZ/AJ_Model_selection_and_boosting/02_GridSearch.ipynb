{
 "cells": [
  {
   "attachments": {},
   "cell_type": "markdown",
   "metadata": {},
   "source": [
    "### Problem\n",
    "\n",
    "\n",
    "You're a data scientist working for a car company, your job is to determine when a customer will purchase a new SUV car given its age and estimated salary. The endgame is to show an ad to the customers which prediction is 1."
   ]
  },
  {
   "attachments": {},
   "cell_type": "markdown",
   "metadata": {},
   "source": [
    "### Grid search\n",
    "\n",
    "Technique to find just the right model's parameters (called hyperameters) that are not learned."
   ]
  },
  {
   "attachments": {},
   "cell_type": "markdown",
   "metadata": {},
   "source": [
    "### Libraries"
   ]
  },
  {
   "cell_type": "code",
   "execution_count": 1,
   "metadata": {},
   "outputs": [],
   "source": [
    "import numpy as np\n",
    "import pandas as pd\n",
    "import matplotlib.pyplot as plt"
   ]
  },
  {
   "attachments": {},
   "cell_type": "markdown",
   "metadata": {},
   "source": [
    "### Dataset"
   ]
  },
  {
   "cell_type": "code",
   "execution_count": 2,
   "metadata": {},
   "outputs": [
    {
     "data": {
      "text/html": [
       "<div>\n",
       "<style scoped>\n",
       "    .dataframe tbody tr th:only-of-type {\n",
       "        vertical-align: middle;\n",
       "    }\n",
       "\n",
       "    .dataframe tbody tr th {\n",
       "        vertical-align: top;\n",
       "    }\n",
       "\n",
       "    .dataframe thead th {\n",
       "        text-align: right;\n",
       "    }\n",
       "</style>\n",
       "<table border=\"1\" class=\"dataframe\">\n",
       "  <thead>\n",
       "    <tr style=\"text-align: right;\">\n",
       "      <th></th>\n",
       "      <th>Age</th>\n",
       "      <th>EstimatedSalary</th>\n",
       "      <th>Purchased</th>\n",
       "    </tr>\n",
       "  </thead>\n",
       "  <tbody>\n",
       "    <tr>\n",
       "      <th>0</th>\n",
       "      <td>19</td>\n",
       "      <td>19000</td>\n",
       "      <td>0</td>\n",
       "    </tr>\n",
       "    <tr>\n",
       "      <th>1</th>\n",
       "      <td>35</td>\n",
       "      <td>20000</td>\n",
       "      <td>0</td>\n",
       "    </tr>\n",
       "    <tr>\n",
       "      <th>2</th>\n",
       "      <td>26</td>\n",
       "      <td>43000</td>\n",
       "      <td>0</td>\n",
       "    </tr>\n",
       "    <tr>\n",
       "      <th>3</th>\n",
       "      <td>27</td>\n",
       "      <td>57000</td>\n",
       "      <td>0</td>\n",
       "    </tr>\n",
       "    <tr>\n",
       "      <th>4</th>\n",
       "      <td>19</td>\n",
       "      <td>76000</td>\n",
       "      <td>0</td>\n",
       "    </tr>\n",
       "    <tr>\n",
       "      <th>...</th>\n",
       "      <td>...</td>\n",
       "      <td>...</td>\n",
       "      <td>...</td>\n",
       "    </tr>\n",
       "    <tr>\n",
       "      <th>395</th>\n",
       "      <td>46</td>\n",
       "      <td>41000</td>\n",
       "      <td>1</td>\n",
       "    </tr>\n",
       "    <tr>\n",
       "      <th>396</th>\n",
       "      <td>51</td>\n",
       "      <td>23000</td>\n",
       "      <td>1</td>\n",
       "    </tr>\n",
       "    <tr>\n",
       "      <th>397</th>\n",
       "      <td>50</td>\n",
       "      <td>20000</td>\n",
       "      <td>1</td>\n",
       "    </tr>\n",
       "    <tr>\n",
       "      <th>398</th>\n",
       "      <td>36</td>\n",
       "      <td>33000</td>\n",
       "      <td>0</td>\n",
       "    </tr>\n",
       "    <tr>\n",
       "      <th>399</th>\n",
       "      <td>49</td>\n",
       "      <td>36000</td>\n",
       "      <td>1</td>\n",
       "    </tr>\n",
       "  </tbody>\n",
       "</table>\n",
       "<p>400 rows × 3 columns</p>\n",
       "</div>"
      ],
      "text/plain": [
       "     Age  EstimatedSalary  Purchased\n",
       "0     19            19000          0\n",
       "1     35            20000          0\n",
       "2     26            43000          0\n",
       "3     27            57000          0\n",
       "4     19            76000          0\n",
       "..   ...              ...        ...\n",
       "395   46            41000          1\n",
       "396   51            23000          1\n",
       "397   50            20000          1\n",
       "398   36            33000          0\n",
       "399   49            36000          1\n",
       "\n",
       "[400 rows x 3 columns]"
      ]
     },
     "execution_count": 2,
     "metadata": {},
     "output_type": "execute_result"
    }
   ],
   "source": [
    "dataset_path = \"../../../../datasets/ml_az_course/006_social_network_ads.csv\"\n",
    "\n",
    "df = pd.read_csv(dataset_path)\n",
    "df"
   ]
  },
  {
   "cell_type": "code",
   "execution_count": 3,
   "metadata": {},
   "outputs": [
    {
     "data": {
      "text/plain": [
       "array([   19, 19000])"
      ]
     },
     "execution_count": 3,
     "metadata": {},
     "output_type": "execute_result"
    }
   ],
   "source": [
    "x = df.iloc[:, :-1].values\n",
    "y = df.iloc[:, -1].values\n",
    "\n",
    "x[0]"
   ]
  },
  {
   "cell_type": "code",
   "execution_count": 4,
   "metadata": {},
   "outputs": [],
   "source": [
    "from sklearn.model_selection import train_test_split\n",
    "\n",
    "x_train, x_test, y_train, y_test = train_test_split(x, y, test_size=0.2, random_state=42)"
   ]
  },
  {
   "attachments": {},
   "cell_type": "markdown",
   "metadata": {},
   "source": [
    "### Feature Scaling"
   ]
  },
  {
   "cell_type": "code",
   "execution_count": 5,
   "metadata": {},
   "outputs": [],
   "source": [
    "from sklearn.preprocessing import StandardScaler\n",
    "\n",
    "sc = StandardScaler()\n",
    "\n",
    "x_train = sc.fit_transform(X=x_train)\n",
    "x_test = sc.transform(X=x_test)"
   ]
  },
  {
   "attachments": {},
   "cell_type": "markdown",
   "metadata": {},
   "source": [
    "### Training"
   ]
  },
  {
   "cell_type": "code",
   "execution_count": 6,
   "metadata": {},
   "outputs": [
    {
     "data": {
      "text/html": [
       "<style>#sk-container-id-1 {color: black;background-color: white;}#sk-container-id-1 pre{padding: 0;}#sk-container-id-1 div.sk-toggleable {background-color: white;}#sk-container-id-1 label.sk-toggleable__label {cursor: pointer;display: block;width: 100%;margin-bottom: 0;padding: 0.3em;box-sizing: border-box;text-align: center;}#sk-container-id-1 label.sk-toggleable__label-arrow:before {content: \"▸\";float: left;margin-right: 0.25em;color: #696969;}#sk-container-id-1 label.sk-toggleable__label-arrow:hover:before {color: black;}#sk-container-id-1 div.sk-estimator:hover label.sk-toggleable__label-arrow:before {color: black;}#sk-container-id-1 div.sk-toggleable__content {max-height: 0;max-width: 0;overflow: hidden;text-align: left;background-color: #f0f8ff;}#sk-container-id-1 div.sk-toggleable__content pre {margin: 0.2em;color: black;border-radius: 0.25em;background-color: #f0f8ff;}#sk-container-id-1 input.sk-toggleable__control:checked~div.sk-toggleable__content {max-height: 200px;max-width: 100%;overflow: auto;}#sk-container-id-1 input.sk-toggleable__control:checked~label.sk-toggleable__label-arrow:before {content: \"▾\";}#sk-container-id-1 div.sk-estimator input.sk-toggleable__control:checked~label.sk-toggleable__label {background-color: #d4ebff;}#sk-container-id-1 div.sk-label input.sk-toggleable__control:checked~label.sk-toggleable__label {background-color: #d4ebff;}#sk-container-id-1 input.sk-hidden--visually {border: 0;clip: rect(1px 1px 1px 1px);clip: rect(1px, 1px, 1px, 1px);height: 1px;margin: -1px;overflow: hidden;padding: 0;position: absolute;width: 1px;}#sk-container-id-1 div.sk-estimator {font-family: monospace;background-color: #f0f8ff;border: 1px dotted black;border-radius: 0.25em;box-sizing: border-box;margin-bottom: 0.5em;}#sk-container-id-1 div.sk-estimator:hover {background-color: #d4ebff;}#sk-container-id-1 div.sk-parallel-item::after {content: \"\";width: 100%;border-bottom: 1px solid gray;flex-grow: 1;}#sk-container-id-1 div.sk-label:hover label.sk-toggleable__label {background-color: #d4ebff;}#sk-container-id-1 div.sk-serial::before {content: \"\";position: absolute;border-left: 1px solid gray;box-sizing: border-box;top: 0;bottom: 0;left: 50%;z-index: 0;}#sk-container-id-1 div.sk-serial {display: flex;flex-direction: column;align-items: center;background-color: white;padding-right: 0.2em;padding-left: 0.2em;position: relative;}#sk-container-id-1 div.sk-item {position: relative;z-index: 1;}#sk-container-id-1 div.sk-parallel {display: flex;align-items: stretch;justify-content: center;background-color: white;position: relative;}#sk-container-id-1 div.sk-item::before, #sk-container-id-1 div.sk-parallel-item::before {content: \"\";position: absolute;border-left: 1px solid gray;box-sizing: border-box;top: 0;bottom: 0;left: 50%;z-index: -1;}#sk-container-id-1 div.sk-parallel-item {display: flex;flex-direction: column;z-index: 1;position: relative;background-color: white;}#sk-container-id-1 div.sk-parallel-item:first-child::after {align-self: flex-end;width: 50%;}#sk-container-id-1 div.sk-parallel-item:last-child::after {align-self: flex-start;width: 50%;}#sk-container-id-1 div.sk-parallel-item:only-child::after {width: 0;}#sk-container-id-1 div.sk-dashed-wrapped {border: 1px dashed gray;margin: 0 0.4em 0.5em 0.4em;box-sizing: border-box;padding-bottom: 0.4em;background-color: white;}#sk-container-id-1 div.sk-label label {font-family: monospace;font-weight: bold;display: inline-block;line-height: 1.2em;}#sk-container-id-1 div.sk-label-container {text-align: center;}#sk-container-id-1 div.sk-container {/* jupyter's `normalize.less` sets `[hidden] { display: none; }` but bootstrap.min.css set `[hidden] { display: none !important; }` so we also need the `!important` here to be able to override the default hidden behavior on the sphinx rendered scikit-learn.org. See: https://github.com/scikit-learn/scikit-learn/issues/21755 */display: inline-block !important;position: relative;}#sk-container-id-1 div.sk-text-repr-fallback {display: none;}</style><div id=\"sk-container-id-1\" class=\"sk-top-container\"><div class=\"sk-text-repr-fallback\"><pre>SVC(random_state=42)</pre><b>In a Jupyter environment, please rerun this cell to show the HTML representation or trust the notebook. <br />On GitHub, the HTML representation is unable to render, please try loading this page with nbviewer.org.</b></div><div class=\"sk-container\" hidden><div class=\"sk-item\"><div class=\"sk-estimator sk-toggleable\"><input class=\"sk-toggleable__control sk-hidden--visually\" id=\"sk-estimator-id-1\" type=\"checkbox\" checked><label for=\"sk-estimator-id-1\" class=\"sk-toggleable__label sk-toggleable__label-arrow\">SVC</label><div class=\"sk-toggleable__content\"><pre>SVC(random_state=42)</pre></div></div></div></div></div>"
      ],
      "text/plain": [
       "SVC(random_state=42)"
      ]
     },
     "execution_count": 6,
     "metadata": {},
     "output_type": "execute_result"
    }
   ],
   "source": [
    "from sklearn.svm import SVC\n",
    "\n",
    "# kernel SVC - Support Vector Classification\n",
    "model = SVC(kernel=\"rbf\", random_state=42) # with Radious Basic Function Kernel, we are building a non-linear model\n",
    "\n",
    "model.fit(X=x_train, y=y_train)"
   ]
  },
  {
   "attachments": {},
   "cell_type": "markdown",
   "metadata": {},
   "source": [
    "### Confusion Matrix"
   ]
  },
  {
   "cell_type": "code",
   "execution_count": 7,
   "metadata": {},
   "outputs": [
    {
     "data": {
      "text/plain": [
       "array([[47,  5],\n",
       "       [ 1, 27]])"
      ]
     },
     "execution_count": 7,
     "metadata": {},
     "output_type": "execute_result"
    }
   ],
   "source": [
    "from sklearn.metrics import confusion_matrix, accuracy_score\n",
    "\n",
    "\n",
    "preds = model.predict(X=x_test)\n",
    "confusion_matrix(y_true=y_test, y_pred=preds)\n",
    "\n"
   ]
  },
  {
   "cell_type": "code",
   "execution_count": 8,
   "metadata": {},
   "outputs": [
    {
     "data": {
      "text/plain": [
       "0.925"
      ]
     },
     "execution_count": 8,
     "metadata": {},
     "output_type": "execute_result"
    }
   ],
   "source": [
    "accuracy_score(y_true=y_test, y_pred=preds)"
   ]
  },
  {
   "attachments": {},
   "cell_type": "markdown",
   "metadata": {},
   "source": [
    "### Applying k-fold Cross Validation"
   ]
  },
  {
   "cell_type": "code",
   "execution_count": 9,
   "metadata": {},
   "outputs": [
    {
     "name": "stdout",
     "output_type": "stream",
     "text": [
      "accuracy: 77.25 %\n",
      "std 0.08 %\n"
     ]
    }
   ],
   "source": [
    "from sklearn.model_selection import cross_val_score\n",
    "\n",
    "\"\"\"The basic idea is to make 10 splits of the dataset (into training and test set)\n",
    "then evaluate the accuracy for each iteration on test set, finally we get the\n",
    "average accuracy. With that we validate the result.\n",
    "\"\"\"\n",
    "\n",
    "accuracies = cross_val_score(\n",
    "    estimator=model, X=x, y=y, cv=8\n",
    ")\n",
    "\n",
    "print(\"accuracy: {:.2f} %\".format(accuracies.mean() * 100))\n",
    "print(\"std {:.2f} %\".format(accuracies.std()))"
   ]
  },
  {
   "attachments": {},
   "cell_type": "markdown",
   "metadata": {},
   "source": [
    "### Applying Grid Search to find the best model and the best parameters"
   ]
  },
  {
   "cell_type": "code",
   "execution_count": 17,
   "metadata": {},
   "outputs": [
    {
     "name": "stdout",
     "output_type": "stream",
     "text": [
      "Fitting 10 folds for each of 16 candidates, totalling 160 fits\n",
      "[CV] END ..............................C=0.25, kernel=linear; total time=   0.0s\n",
      "[CV] END ..............................C=0.25, kernel=linear; total time=   0.0s\n",
      "[CV] END ..............................C=0.25, kernel=linear; total time=   0.0s\n",
      "[CV] END ..............................C=0.25, kernel=linear; total time=   0.0s\n",
      "[CV] END ..............................C=0.25, kernel=linear; total time=   0.0s\n",
      "[CV] END ..............................C=0.25, kernel=linear; total time=   0.0s[CV] END ..............................C=0.25, kernel=linear; total time=   0.0s\n",
      "\n",
      "[CV] END ..............................C=0.25, kernel=linear; total time=   0.0s\n",
      "[CV] END ..............................C=0.25, kernel=linear; total time=   0.0s[CV] END ...............................C=0.5, kernel=linear; total time=   0.0s\n",
      "\n",
      "[CV] END ...............................C=0.5, kernel=linear; total time=   0.0s\n",
      "[CV] END ..............................C=0.25, kernel=linear; total time=   0.0s\n",
      "[CV] END ...............................C=0.5, kernel=linear; total time=   0.0s\n",
      "[CV] END ...............................C=0.5, kernel=linear; total time=   0.0s\n",
      "[CV] END ...............................C=0.5, kernel=linear; total time=   0.0s\n",
      "[CV] END ...............................C=0.5, kernel=linear; total time=   0.0s\n",
      "[CV] END ...............................C=0.5, kernel=linear; total time=   0.0s\n",
      "[CV] END ..............................C=0.75, kernel=linear; total time=   0.0s\n",
      "[CV] END ...............................C=0.5, kernel=linear; total time=   0.0s\n",
      "[CV] END ..............................C=0.75, kernel=linear; total time=   0.0s\n",
      "[CV] END ..............................C=0.75, kernel=linear; total time=   0.0s\n",
      "[CV] END ..............................C=0.75, kernel=linear; total time=   0.0s\n",
      "[CV] END ...............................C=0.5, kernel=linear; total time=   0.0s\n",
      "[CV] END ..............................C=0.75, kernel=linear; total time=   0.0s[CV] END ..............................C=0.75, kernel=linear; total time=   0.0s\n",
      "[CV] END ...............................C=0.5, kernel=linear; total time=   0.0s\n",
      "[CV] END ..............................C=0.75, kernel=linear; total time=   0.0s\n",
      "[CV] END ..............................C=0.75, kernel=linear; total time=   0.0s\n",
      "[CV] END .................................C=1, kernel=linear; total time=   0.0s\n",
      "\n",
      "[CV] END ..............................C=0.75, kernel=linear; total time=   0.0s\n",
      "[CV] END ..............................C=0.75, kernel=linear; total time=   0.0s\n",
      "[CV] END .................................C=1, kernel=linear; total time=   0.0s[CV] END .................................C=1, kernel=linear; total time=   0.0s\n",
      "[CV] END .................................C=1, kernel=linear; total time=   0.0s\n",
      "[CV] END ......................C=0.25, gamma=0.1, kernel=rbf; total time=   0.0s\n",
      "\n",
      "[CV] END ......................C=0.25, gamma=0.1, kernel=rbf; total time=   0.0s[CV] END .................................C=1, kernel=linear; total time=   0.0s\n",
      "[CV] END .................................C=1, kernel=linear; total time=   0.0s\n",
      "\n",
      "[CV] END .................................C=1, kernel=linear; total time=   0.0s[CV] END ......................C=0.25, gamma=0.1, kernel=rbf; total time=   0.0s[CV] END ......................C=0.25, gamma=0.1, kernel=rbf; total time=   0.0s\n",
      "\n",
      "[CV] END .................................C=1, kernel=linear; total time=   0.0s\n",
      "[CV] END .................................C=1, kernel=linear; total time=   0.0s\n",
      "[CV] END .................................C=1, kernel=linear; total time=   0.0s\n",
      "[CV] END ......................C=0.25, gamma=0.1, kernel=rbf; total time=   0.0s\n",
      "\n",
      "[CV] END ......................C=0.25, gamma=0.1, kernel=rbf; total time=   0.0s\n",
      "[CV] END ......................C=0.25, gamma=0.1, kernel=rbf; total time=   0.0s\n",
      "[CV] END ......................C=0.25, gamma=0.1, kernel=rbf; total time=   0.0s\n",
      "[CV] END ......................C=0.25, gamma=0.5, kernel=rbf; total time=   0.0s[CV] END ......................C=0.25, gamma=0.1, kernel=rbf; total time=   0.0s\n",
      "\n",
      "[CV] END ......................C=0.25, gamma=0.1, kernel=rbf; total time=   0.0s\n",
      "[CV] END .......................C=0.5, gamma=0.1, kernel=rbf; total time=   0.0s\n",
      "[CV] END ......................C=0.25, gamma=0.9, kernel=rbf; total time=   0.0s\n",
      "[CV] END ......................C=0.25, gamma=0.9, kernel=rbf; total time=   0.0s\n",
      "[CV] END ......................C=0.25, gamma=0.5, kernel=rbf; total time=   0.0s[CV] END ......................C=0.25, gamma=0.5, kernel=rbf; total time=   0.0s\n",
      "\n",
      "[CV] END ......................C=0.25, gamma=0.5, kernel=rbf; total time=   0.0s[CV] END ......................C=0.25, gamma=0.5, kernel=rbf; total time=   0.0s\n",
      "[CV] END ......................C=0.25, gamma=0.9, kernel=rbf; total time=   0.0s\n",
      "[CV] END .......................C=0.5, gamma=0.1, kernel=rbf; total time=   0.0s\n",
      "\n",
      "[CV] END ......................C=0.25, gamma=0.9, kernel=rbf; total time=   0.0s\n",
      "[CV] END ......................C=0.25, gamma=0.5, kernel=rbf; total time=   0.0s\n",
      "[CV] END ......................C=0.25, gamma=0.5, kernel=rbf; total time=   0.0s[CV] END .......................C=0.5, gamma=0.1, kernel=rbf; total time=   0.0s\n",
      "[CV] END ......................C=0.25, gamma=0.9, kernel=rbf; total time=   0.0s[CV] END ......................C=0.25, gamma=0.5, kernel=rbf; total time=   0.0s\n",
      "\n",
      "[CV] END .......................C=0.5, gamma=0.1, kernel=rbf; total time=   0.0s\n",
      "[CV] END ......................C=0.25, gamma=0.9, kernel=rbf; total time=   0.0s[CV] END ......................C=0.25, gamma=0.5, kernel=rbf; total time=   0.0s[CV] END ......................C=0.25, gamma=0.9, kernel=rbf; total time=   0.0s\n",
      "\n",
      "\n",
      "\n",
      "[CV] END ......................C=0.25, gamma=0.5, kernel=rbf; total time=   0.0s\n",
      "[CV] END ......................C=0.25, gamma=0.9, kernel=rbf; total time=   0.0s\n",
      "[CV] END .......................C=0.5, gamma=0.1, kernel=rbf; total time=   0.0s\n",
      "[CV] END ......................C=0.25, gamma=0.9, kernel=rbf; total time=   0.0s[CV] END .......................C=0.5, gamma=0.1, kernel=rbf; total time=   0.0s\n",
      "\n",
      "[CV] END .......................C=0.5, gamma=0.1, kernel=rbf; total time=   0.0s\n",
      "[CV] END .......................C=0.5, gamma=0.1, kernel=rbf; total time=   0.0s\n",
      "[CV] END ......................C=0.25, gamma=0.9, kernel=rbf; total time=   0.0s\n",
      "[CV] END .......................C=0.5, gamma=0.1, kernel=rbf; total time=   0.0s\n",
      "[CV] END .......................C=0.5, gamma=0.5, kernel=rbf; total time=   0.0s\n",
      "[CV] END .......................C=0.5, gamma=0.5, kernel=rbf; total time=   0.0s[CV] END .......................C=0.5, gamma=0.9, kernel=rbf; total time=   0.0s\n",
      "\n",
      "[CV] END .......................C=0.5, gamma=0.1, kernel=rbf; total time=   0.0s\n",
      "[CV] END .......................C=0.5, gamma=0.9, kernel=rbf; total time=   0.0s[CV] END .......................C=0.5, gamma=0.5, kernel=rbf; total time=   0.0s\n",
      "\n",
      "[CV] END .......................C=0.5, gamma=0.5, kernel=rbf; total time=   0.0s\n",
      "[CV] END ......................C=0.75, gamma=0.1, kernel=rbf; total time=   0.0s\n",
      "[CV] END .......................C=0.5, gamma=0.9, kernel=rbf; total time=   0.0s[CV] END .......................C=0.5, gamma=0.9, kernel=rbf; total time=   0.0s\n",
      "[CV] END ......................C=0.75, gamma=0.1, kernel=rbf; total time=   0.0s\n",
      "[CV] END .......................C=0.5, gamma=0.5, kernel=rbf; total time=   0.0s\n",
      "\n",
      "[CV] END .......................C=0.5, gamma=0.9, kernel=rbf; total time=   0.0s[CV] END .......................C=0.5, gamma=0.9, kernel=rbf; total time=   0.0s[CV] END ......................C=0.75, gamma=0.1, kernel=rbf; total time=   0.0s\n",
      "\n",
      "[CV] END .......................C=0.5, gamma=0.5, kernel=rbf; total time=   0.0s\n",
      "[CV] END .......................C=0.5, gamma=0.9, kernel=rbf; total time=   0.0s\n",
      "\n",
      "[CV] END .......................C=0.5, gamma=0.5, kernel=rbf; total time=   0.0s\n",
      "[CV] END ......................C=0.75, gamma=0.1, kernel=rbf; total time=   0.0s\n",
      "[CV] END ......................C=0.75, gamma=0.1, kernel=rbf; total time=   0.0s\n",
      "[CV] END ......................C=0.75, gamma=0.1, kernel=rbf; total time=   0.0s\n",
      "[CV] END ......................C=0.75, gamma=0.1, kernel=rbf; total time=   0.0s\n",
      "[CV] END ......................C=0.75, gamma=0.1, kernel=rbf; total time=   0.0s\n",
      "[CV] END .......................C=0.5, gamma=0.9, kernel=rbf; total time=   0.1s\n",
      "[CV] END .......................C=0.5, gamma=0.5, kernel=rbf; total time=   0.0s\n",
      "[CV] END ......................C=0.75, gamma=0.1, kernel=rbf; total time=   0.1s\n",
      "[CV] END ......................C=0.75, gamma=0.5, kernel=rbf; total time=   0.0s\n",
      "[CV] END .......................C=0.5, gamma=0.9, kernel=rbf; total time=   0.0s\n",
      "[CV] END ......................C=0.75, gamma=0.5, kernel=rbf; total time=   0.0s\n",
      "[CV] END ......................C=0.75, gamma=0.1, kernel=rbf; total time=   0.0s\n",
      "[CV] END .......................C=0.5, gamma=0.5, kernel=rbf; total time=   0.0s\n",
      "[CV] END ......................C=0.75, gamma=0.5, kernel=rbf; total time=   0.0s\n",
      "[CV] END .......................C=0.5, gamma=0.9, kernel=rbf; total time=   0.0s\n",
      "[CV] END ......................C=0.75, gamma=0.5, kernel=rbf; total time=   0.0s\n",
      "[CV] END ......................C=0.75, gamma=0.5, kernel=rbf; total time=   0.0s[CV] END ......................C=0.75, gamma=0.5, kernel=rbf; total time=   0.0s\n",
      "\n",
      "[CV] END .......................C=0.5, gamma=0.5, kernel=rbf; total time=   0.0s\n",
      "[CV] END ......................C=0.75, gamma=0.9, kernel=rbf; total time=   0.0s\n",
      "[CV] END ......................C=0.75, gamma=0.5, kernel=rbf; total time=   0.0s\n",
      "[CV] END ......................C=0.75, gamma=0.5, kernel=rbf; total time=   0.0s\n",
      "[CV] END ......................C=0.75, gamma=0.9, kernel=rbf; total time=   0.0s[CV] END ......................C=0.75, gamma=0.5, kernel=rbf; total time=   0.0s\n",
      "\n",
      "[CV] END .........................C=1, gamma=0.1, kernel=rbf; total time=   0.0s\n",
      "[CV] END ......................C=0.75, gamma=0.5, kernel=rbf; total time=   0.1s\n",
      "[CV] END ......................C=0.75, gamma=0.9, kernel=rbf; total time=   0.0s\n",
      "[CV] END ......................C=0.75, gamma=0.9, kernel=rbf; total time=   0.1s\n",
      "[CV] END .........................C=1, gamma=0.1, kernel=rbf; total time=   0.0s\n",
      "[CV] END .........................C=1, gamma=0.5, kernel=rbf; total time=   0.0s\n",
      "[CV] END ......................C=0.75, gamma=0.9, kernel=rbf; total time=   0.0s\n",
      "[CV] END ......................C=0.75, gamma=0.9, kernel=rbf; total time=   0.0s[CV] END .........................C=1, gamma=0.1, kernel=rbf; total time=   0.0s\n",
      "[CV] END .........................C=1, gamma=0.5, kernel=rbf; total time=   0.0s\n",
      "\n",
      "[CV] END ......................C=0.75, gamma=0.9, kernel=rbf; total time=   0.0s[CV] END .........................C=1, gamma=0.1, kernel=rbf; total time=   0.0s\n",
      "[CV] END .........................C=1, gamma=0.5, kernel=rbf; total time=   0.0s\n",
      "\n",
      "[CV] END .........................C=1, gamma=0.1, kernel=rbf; total time=   0.0s\n",
      "[CV] END .........................C=1, gamma=0.5, kernel=rbf; total time=   0.0s\n",
      "[CV] END ......................C=0.75, gamma=0.9, kernel=rbf; total time=   0.0s\n",
      "[CV] END .........................C=1, gamma=0.5, kernel=rbf; total time=   0.0s\n",
      "[CV] END .........................C=1, gamma=0.5, kernel=rbf; total time=   0.0s\n",
      "[CV] END .........................C=1, gamma=0.1, kernel=rbf; total time=   0.0s\n",
      "[CV] END .........................C=1, gamma=0.5, kernel=rbf; total time=   0.0s\n",
      "[CV] END ......................C=0.75, gamma=0.9, kernel=rbf; total time=   0.0s\n",
      "[CV] END .........................C=1, gamma=0.1, kernel=rbf; total time=   0.0s\n",
      "[CV] END .........................C=1, gamma=0.1, kernel=rbf; total time=   0.0s[CV] END .........................C=1, gamma=0.5, kernel=rbf; total time=   0.0s\n",
      "\n",
      "[CV] END .........................C=1, gamma=0.5, kernel=rbf; total time=   0.0s[CV] END ......................C=0.75, gamma=0.9, kernel=rbf; total time=   0.0s\n",
      "\n",
      "[CV] END .........................C=1, gamma=0.1, kernel=rbf; total time=   0.0s\n",
      "[CV] END .........................C=1, gamma=0.5, kernel=rbf; total time=   0.0s[CV] END .........................C=1, gamma=0.9, kernel=rbf; total time=   0.0s\n",
      "[CV] END .........................C=1, gamma=0.9, kernel=rbf; total time=   0.0s\n",
      "\n",
      "[CV] END .........................C=1, gamma=0.1, kernel=rbf; total time=   0.0s\n",
      "[CV] END .........................C=1, gamma=0.9, kernel=rbf; total time=   0.0s\n",
      "[CV] END .........................C=1, gamma=0.9, kernel=rbf; total time=   0.0s\n",
      "[CV] END .........................C=1, gamma=0.9, kernel=rbf; total time=   0.0s\n",
      "[CV] END .........................C=1, gamma=0.9, kernel=rbf; total time=   0.0s\n",
      "[CV] END .........................C=1, gamma=0.9, kernel=rbf; total time=   0.0s\n",
      "[CV] END .........................C=1, gamma=0.9, kernel=rbf; total time=   0.0s\n",
      "[CV] END .........................C=1, gamma=0.9, kernel=rbf; total time=   0.0s\n",
      "[CV] END .........................C=1, gamma=0.9, kernel=rbf; total time=   0.0s\n"
     ]
    },
    {
     "data": {
      "text/html": [
       "<style>#sk-container-id-3 {color: black;background-color: white;}#sk-container-id-3 pre{padding: 0;}#sk-container-id-3 div.sk-toggleable {background-color: white;}#sk-container-id-3 label.sk-toggleable__label {cursor: pointer;display: block;width: 100%;margin-bottom: 0;padding: 0.3em;box-sizing: border-box;text-align: center;}#sk-container-id-3 label.sk-toggleable__label-arrow:before {content: \"▸\";float: left;margin-right: 0.25em;color: #696969;}#sk-container-id-3 label.sk-toggleable__label-arrow:hover:before {color: black;}#sk-container-id-3 div.sk-estimator:hover label.sk-toggleable__label-arrow:before {color: black;}#sk-container-id-3 div.sk-toggleable__content {max-height: 0;max-width: 0;overflow: hidden;text-align: left;background-color: #f0f8ff;}#sk-container-id-3 div.sk-toggleable__content pre {margin: 0.2em;color: black;border-radius: 0.25em;background-color: #f0f8ff;}#sk-container-id-3 input.sk-toggleable__control:checked~div.sk-toggleable__content {max-height: 200px;max-width: 100%;overflow: auto;}#sk-container-id-3 input.sk-toggleable__control:checked~label.sk-toggleable__label-arrow:before {content: \"▾\";}#sk-container-id-3 div.sk-estimator input.sk-toggleable__control:checked~label.sk-toggleable__label {background-color: #d4ebff;}#sk-container-id-3 div.sk-label input.sk-toggleable__control:checked~label.sk-toggleable__label {background-color: #d4ebff;}#sk-container-id-3 input.sk-hidden--visually {border: 0;clip: rect(1px 1px 1px 1px);clip: rect(1px, 1px, 1px, 1px);height: 1px;margin: -1px;overflow: hidden;padding: 0;position: absolute;width: 1px;}#sk-container-id-3 div.sk-estimator {font-family: monospace;background-color: #f0f8ff;border: 1px dotted black;border-radius: 0.25em;box-sizing: border-box;margin-bottom: 0.5em;}#sk-container-id-3 div.sk-estimator:hover {background-color: #d4ebff;}#sk-container-id-3 div.sk-parallel-item::after {content: \"\";width: 100%;border-bottom: 1px solid gray;flex-grow: 1;}#sk-container-id-3 div.sk-label:hover label.sk-toggleable__label {background-color: #d4ebff;}#sk-container-id-3 div.sk-serial::before {content: \"\";position: absolute;border-left: 1px solid gray;box-sizing: border-box;top: 0;bottom: 0;left: 50%;z-index: 0;}#sk-container-id-3 div.sk-serial {display: flex;flex-direction: column;align-items: center;background-color: white;padding-right: 0.2em;padding-left: 0.2em;position: relative;}#sk-container-id-3 div.sk-item {position: relative;z-index: 1;}#sk-container-id-3 div.sk-parallel {display: flex;align-items: stretch;justify-content: center;background-color: white;position: relative;}#sk-container-id-3 div.sk-item::before, #sk-container-id-3 div.sk-parallel-item::before {content: \"\";position: absolute;border-left: 1px solid gray;box-sizing: border-box;top: 0;bottom: 0;left: 50%;z-index: -1;}#sk-container-id-3 div.sk-parallel-item {display: flex;flex-direction: column;z-index: 1;position: relative;background-color: white;}#sk-container-id-3 div.sk-parallel-item:first-child::after {align-self: flex-end;width: 50%;}#sk-container-id-3 div.sk-parallel-item:last-child::after {align-self: flex-start;width: 50%;}#sk-container-id-3 div.sk-parallel-item:only-child::after {width: 0;}#sk-container-id-3 div.sk-dashed-wrapped {border: 1px dashed gray;margin: 0 0.4em 0.5em 0.4em;box-sizing: border-box;padding-bottom: 0.4em;background-color: white;}#sk-container-id-3 div.sk-label label {font-family: monospace;font-weight: bold;display: inline-block;line-height: 1.2em;}#sk-container-id-3 div.sk-label-container {text-align: center;}#sk-container-id-3 div.sk-container {/* jupyter's `normalize.less` sets `[hidden] { display: none; }` but bootstrap.min.css set `[hidden] { display: none !important; }` so we also need the `!important` here to be able to override the default hidden behavior on the sphinx rendered scikit-learn.org. See: https://github.com/scikit-learn/scikit-learn/issues/21755 */display: inline-block !important;position: relative;}#sk-container-id-3 div.sk-text-repr-fallback {display: none;}</style><div id=\"sk-container-id-3\" class=\"sk-top-container\"><div class=\"sk-text-repr-fallback\"><pre>GridSearchCV(cv=10, estimator=SVC(random_state=42), n_jobs=-1,\n",
       "             param_grid=[{&#x27;C&#x27;: [0.25, 0.5, 0.75, 1], &#x27;kernel&#x27;: [&#x27;linear&#x27;]},\n",
       "                         {&#x27;C&#x27;: [0.25, 0.5, 0.75, 1], &#x27;gamma&#x27;: [0.1, 0.5, 0.9],\n",
       "                          &#x27;kernel&#x27;: [&#x27;rbf&#x27;]}],\n",
       "             scoring=&#x27;accuracy&#x27;, verbose=2)</pre><b>In a Jupyter environment, please rerun this cell to show the HTML representation or trust the notebook. <br />On GitHub, the HTML representation is unable to render, please try loading this page with nbviewer.org.</b></div><div class=\"sk-container\" hidden><div class=\"sk-item sk-dashed-wrapped\"><div class=\"sk-label-container\"><div class=\"sk-label sk-toggleable\"><input class=\"sk-toggleable__control sk-hidden--visually\" id=\"sk-estimator-id-5\" type=\"checkbox\" ><label for=\"sk-estimator-id-5\" class=\"sk-toggleable__label sk-toggleable__label-arrow\">GridSearchCV</label><div class=\"sk-toggleable__content\"><pre>GridSearchCV(cv=10, estimator=SVC(random_state=42), n_jobs=-1,\n",
       "             param_grid=[{&#x27;C&#x27;: [0.25, 0.5, 0.75, 1], &#x27;kernel&#x27;: [&#x27;linear&#x27;]},\n",
       "                         {&#x27;C&#x27;: [0.25, 0.5, 0.75, 1], &#x27;gamma&#x27;: [0.1, 0.5, 0.9],\n",
       "                          &#x27;kernel&#x27;: [&#x27;rbf&#x27;]}],\n",
       "             scoring=&#x27;accuracy&#x27;, verbose=2)</pre></div></div></div><div class=\"sk-parallel\"><div class=\"sk-parallel-item\"><div class=\"sk-item\"><div class=\"sk-label-container\"><div class=\"sk-label sk-toggleable\"><input class=\"sk-toggleable__control sk-hidden--visually\" id=\"sk-estimator-id-6\" type=\"checkbox\" ><label for=\"sk-estimator-id-6\" class=\"sk-toggleable__label sk-toggleable__label-arrow\">estimator: SVC</label><div class=\"sk-toggleable__content\"><pre>SVC(random_state=42)</pre></div></div></div><div class=\"sk-serial\"><div class=\"sk-item\"><div class=\"sk-estimator sk-toggleable\"><input class=\"sk-toggleable__control sk-hidden--visually\" id=\"sk-estimator-id-7\" type=\"checkbox\" ><label for=\"sk-estimator-id-7\" class=\"sk-toggleable__label sk-toggleable__label-arrow\">SVC</label><div class=\"sk-toggleable__content\"><pre>SVC(random_state=42)</pre></div></div></div></div></div></div></div></div></div></div>"
      ],
      "text/plain": [
       "GridSearchCV(cv=10, estimator=SVC(random_state=42), n_jobs=-1,\n",
       "             param_grid=[{'C': [0.25, 0.5, 0.75, 1], 'kernel': ['linear']},\n",
       "                         {'C': [0.25, 0.5, 0.75, 1], 'gamma': [0.1, 0.5, 0.9],\n",
       "                          'kernel': ['rbf']}],\n",
       "             scoring='accuracy', verbose=2)"
      ]
     },
     "execution_count": 17,
     "metadata": {},
     "output_type": "execute_result"
    }
   ],
   "source": [
    "from sklearn.model_selection import GridSearchCV\n",
    "\n",
    "\"\"\"\n",
    "C: Regularization parameter. The strength of the regularization is inversely proportional to C. Must be strictly positive. The penalty is a squared l2 penalty.\n",
    "\n",
    "kernel: {‘linear’, ‘poly’, ‘rbf’, ‘sigmoid’, ‘precomputed’} or callable.\n",
    "Specifies the kernel type to be used in the algorithm. If none is given, ‘rbf’ will be used.\n",
    "\n",
    "gamma: {‘scale’, ‘auto’} or float, default=’scale’\n",
    "Kernel coefficient for ‘rbf’, ‘poly’ and ‘sigmoid’. - Only necessary when using supported kernels.\n",
    "\"\"\"\n",
    "\n",
    "hyperparameters_set = [\n",
    "    {\"C\": [0.25, 0.5, 0.75, 1], \"kernel\": [\"linear\"]},\n",
    "    {\"C\": [0.25, 0.5, 0.75, 1], \"kernel\": [\"rbf\"], \"gamma\": np.linspace(0.1, 0.9, num=3).tolist()}\n",
    "]\n",
    "\n",
    "# it's a slow process on local\n",
    "grid_search = GridSearchCV(\n",
    "    estimator=model, param_grid=hyperparameters_set, scoring=\"accuracy\", cv=10, verbose=2, n_jobs=-1\n",
    ")\n",
    "\n",
    "grid_search.fit(X=x_train, y=y_train)"
   ]
  },
  {
   "cell_type": "code",
   "execution_count": 18,
   "metadata": {},
   "outputs": [
    {
     "name": "stdout",
     "output_type": "stream",
     "text": [
      "best accuracy 0.909375\n",
      "best hyperameters {'C': 0.5, 'gamma': 0.9, 'kernel': 'rbf'}\n"
     ]
    }
   ],
   "source": [
    "best_accuracy = grid_search.best_score_\n",
    "print(\"best accuracy\", best_accuracy)\n",
    "\n",
    "best_hyperparameters = grid_search.best_params_\n",
    "\n",
    "print(\"best hyperameters\", best_hyperparameters)"
   ]
  }
 ],
 "metadata": {
  "kernelspec": {
   "display_name": "ml_az",
   "language": "python",
   "name": "python3"
  },
  "language_info": {
   "codemirror_mode": {
    "name": "ipython",
    "version": 3
   },
   "file_extension": ".py",
   "mimetype": "text/x-python",
   "name": "python",
   "nbconvert_exporter": "python",
   "pygments_lexer": "ipython3",
   "version": "3.9.12"
  },
  "orig_nbformat": 4
 },
 "nbformat": 4,
 "nbformat_minor": 2
}
