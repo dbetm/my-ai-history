{
 "cells": [
  {
   "attachments": {},
   "cell_type": "markdown",
   "metadata": {},
   "source": [
    "### Business problem\n",
    "\n",
    "Dataset of a bank, the objective is to give some insights about the churn rate found in the bank (when a client stops to being a client). The dataset consists in info collected since 6 months ago, like geography of the client, age, tenure, balance, num of product, has credit card, is active member and if they have exited from the bank.\n",
    "\n",
    "Create a geodemographic segmentation model that tell the bank which of their customers are at the highest risk of leaving. "
   ]
  },
  {
   "attachments": {},
   "cell_type": "markdown",
   "metadata": {},
   "source": [
    "## Artificial Neural Network"
   ]
  },
  {
   "attachments": {},
   "cell_type": "markdown",
   "metadata": {},
   "source": [
    "### Importing the libraries"
   ]
  },
  {
   "cell_type": "code",
   "execution_count": 1,
   "metadata": {},
   "outputs": [
    {
     "name": "stderr",
     "output_type": "stream",
     "text": [
      "2023-04-25 19:58:40.520707: I tensorflow/core/platform/cpu_feature_guard.cc:182] This TensorFlow binary is optimized to use available CPU instructions in performance-critical operations.\n",
      "To enable the following instructions: AVX2 FMA, in other operations, rebuild TensorFlow with the appropriate compiler flags.\n"
     ]
    }
   ],
   "source": [
    "import numpy as np\n",
    "import pandas as pd\n",
    "import tensorflow as tf"
   ]
  },
  {
   "attachments": {},
   "cell_type": "markdown",
   "metadata": {},
   "source": [
    "### Part 1 - Data Preprocessing"
   ]
  },
  {
   "attachments": {},
   "cell_type": "markdown",
   "metadata": {},
   "source": [
    "#### Dataset"
   ]
  },
  {
   "cell_type": "code",
   "execution_count": 2,
   "metadata": {},
   "outputs": [
    {
     "data": {
      "text/html": [
       "<div>\n",
       "<style scoped>\n",
       "    .dataframe tbody tr th:only-of-type {\n",
       "        vertical-align: middle;\n",
       "    }\n",
       "\n",
       "    .dataframe tbody tr th {\n",
       "        vertical-align: top;\n",
       "    }\n",
       "\n",
       "    .dataframe thead th {\n",
       "        text-align: right;\n",
       "    }\n",
       "</style>\n",
       "<table border=\"1\" class=\"dataframe\">\n",
       "  <thead>\n",
       "    <tr style=\"text-align: right;\">\n",
       "      <th></th>\n",
       "      <th>RowNumber</th>\n",
       "      <th>CustomerId</th>\n",
       "      <th>Surname</th>\n",
       "      <th>CreditScore</th>\n",
       "      <th>Geography</th>\n",
       "      <th>Gender</th>\n",
       "      <th>Age</th>\n",
       "      <th>Tenure</th>\n",
       "      <th>Balance</th>\n",
       "      <th>NumOfProducts</th>\n",
       "      <th>HasCrCard</th>\n",
       "      <th>IsActiveMember</th>\n",
       "      <th>EstimatedSalary</th>\n",
       "      <th>Exited</th>\n",
       "    </tr>\n",
       "  </thead>\n",
       "  <tbody>\n",
       "    <tr>\n",
       "      <th>0</th>\n",
       "      <td>1</td>\n",
       "      <td>15634602</td>\n",
       "      <td>Hargrave</td>\n",
       "      <td>619</td>\n",
       "      <td>France</td>\n",
       "      <td>Female</td>\n",
       "      <td>42</td>\n",
       "      <td>2</td>\n",
       "      <td>0.00</td>\n",
       "      <td>1</td>\n",
       "      <td>1</td>\n",
       "      <td>1</td>\n",
       "      <td>101348.88</td>\n",
       "      <td>1</td>\n",
       "    </tr>\n",
       "    <tr>\n",
       "      <th>1</th>\n",
       "      <td>2</td>\n",
       "      <td>15647311</td>\n",
       "      <td>Hill</td>\n",
       "      <td>608</td>\n",
       "      <td>Spain</td>\n",
       "      <td>Female</td>\n",
       "      <td>41</td>\n",
       "      <td>1</td>\n",
       "      <td>83807.86</td>\n",
       "      <td>1</td>\n",
       "      <td>0</td>\n",
       "      <td>1</td>\n",
       "      <td>112542.58</td>\n",
       "      <td>0</td>\n",
       "    </tr>\n",
       "    <tr>\n",
       "      <th>2</th>\n",
       "      <td>3</td>\n",
       "      <td>15619304</td>\n",
       "      <td>Onio</td>\n",
       "      <td>502</td>\n",
       "      <td>France</td>\n",
       "      <td>Female</td>\n",
       "      <td>42</td>\n",
       "      <td>8</td>\n",
       "      <td>159660.80</td>\n",
       "      <td>3</td>\n",
       "      <td>1</td>\n",
       "      <td>0</td>\n",
       "      <td>113931.57</td>\n",
       "      <td>1</td>\n",
       "    </tr>\n",
       "    <tr>\n",
       "      <th>3</th>\n",
       "      <td>4</td>\n",
       "      <td>15701354</td>\n",
       "      <td>Boni</td>\n",
       "      <td>699</td>\n",
       "      <td>France</td>\n",
       "      <td>Female</td>\n",
       "      <td>39</td>\n",
       "      <td>1</td>\n",
       "      <td>0.00</td>\n",
       "      <td>2</td>\n",
       "      <td>0</td>\n",
       "      <td>0</td>\n",
       "      <td>93826.63</td>\n",
       "      <td>0</td>\n",
       "    </tr>\n",
       "    <tr>\n",
       "      <th>4</th>\n",
       "      <td>5</td>\n",
       "      <td>15737888</td>\n",
       "      <td>Mitchell</td>\n",
       "      <td>850</td>\n",
       "      <td>Spain</td>\n",
       "      <td>Female</td>\n",
       "      <td>43</td>\n",
       "      <td>2</td>\n",
       "      <td>125510.82</td>\n",
       "      <td>1</td>\n",
       "      <td>1</td>\n",
       "      <td>1</td>\n",
       "      <td>79084.10</td>\n",
       "      <td>0</td>\n",
       "    </tr>\n",
       "  </tbody>\n",
       "</table>\n",
       "</div>"
      ],
      "text/plain": [
       "   RowNumber  CustomerId   Surname  CreditScore Geography  Gender  Age  \\\n",
       "0          1    15634602  Hargrave          619    France  Female   42   \n",
       "1          2    15647311      Hill          608     Spain  Female   41   \n",
       "2          3    15619304      Onio          502    France  Female   42   \n",
       "3          4    15701354      Boni          699    France  Female   39   \n",
       "4          5    15737888  Mitchell          850     Spain  Female   43   \n",
       "\n",
       "   Tenure    Balance  NumOfProducts  HasCrCard  IsActiveMember  \\\n",
       "0       2       0.00              1          1               1   \n",
       "1       1   83807.86              1          0               1   \n",
       "2       8  159660.80              3          1               0   \n",
       "3       1       0.00              2          0               0   \n",
       "4       2  125510.82              1          1               1   \n",
       "\n",
       "   EstimatedSalary  Exited  \n",
       "0        101348.88       1  \n",
       "1        112542.58       0  \n",
       "2        113931.57       1  \n",
       "3         93826.63       0  \n",
       "4         79084.10       0  "
      ]
     },
     "execution_count": 2,
     "metadata": {},
     "output_type": "execute_result"
    }
   ],
   "source": [
    "DATASET_PATH = \"../../../../datasets/ml_az_course/012_churn_modeling.csv\"\n",
    "data = pd.read_csv(DATASET_PATH)\n",
    "data.head()"
   ]
  },
  {
   "cell_type": "code",
   "execution_count": 3,
   "metadata": {},
   "outputs": [
    {
     "data": {
      "text/plain": [
       "array([[619, 'France', 'Female', ..., 1, 1, 101348.88],\n",
       "       [608, 'Spain', 'Female', ..., 0, 1, 112542.58],\n",
       "       [502, 'France', 'Female', ..., 1, 0, 113931.57],\n",
       "       ...,\n",
       "       [709, 'France', 'Female', ..., 0, 1, 42085.58],\n",
       "       [772, 'Germany', 'Male', ..., 1, 0, 92888.52],\n",
       "       [792, 'France', 'Female', ..., 1, 0, 38190.78]], dtype=object)"
      ]
     },
     "execution_count": 3,
     "metadata": {},
     "output_type": "execute_result"
    }
   ],
   "source": [
    "x = data.iloc[:, 3:-1].values # ignore the irst three columns\n",
    "y = data.iloc[:, -1].values\n",
    "x"
   ]
  },
  {
   "attachments": {},
   "cell_type": "markdown",
   "metadata": {},
   "source": [
    "#### Encoding categorical data"
   ]
  },
  {
   "cell_type": "code",
   "execution_count": 4,
   "metadata": {},
   "outputs": [
    {
     "data": {
      "text/plain": [
       "array([[619, 'France', 0, ..., 1, 1, 101348.88],\n",
       "       [608, 'Spain', 0, ..., 0, 1, 112542.58],\n",
       "       [502, 'France', 0, ..., 1, 0, 113931.57],\n",
       "       ...,\n",
       "       [709, 'France', 0, ..., 0, 1, 42085.58],\n",
       "       [772, 'Germany', 1, ..., 1, 0, 92888.52],\n",
       "       [792, 'France', 0, ..., 1, 0, 38190.78]], dtype=object)"
      ]
     },
     "execution_count": 4,
     "metadata": {},
     "output_type": "execute_result"
    }
   ],
   "source": [
    "# encode gender column\n",
    "from sklearn.preprocessing import LabelEncoder\n",
    "\n",
    "label_encoder = LabelEncoder()\n",
    "x[:, 2] = label_encoder.fit_transform(x[:, 2])\n",
    "x"
   ]
  },
  {
   "cell_type": "code",
   "execution_count": 5,
   "metadata": {},
   "outputs": [
    {
     "data": {
      "text/plain": [
       "array([[1.0, 0.0, 0.0, ..., 1, 1, 101348.88],\n",
       "       [0.0, 0.0, 1.0, ..., 0, 1, 112542.58],\n",
       "       [1.0, 0.0, 0.0, ..., 1, 0, 113931.57],\n",
       "       ...,\n",
       "       [1.0, 0.0, 0.0, ..., 0, 1, 42085.58],\n",
       "       [0.0, 1.0, 0.0, ..., 1, 0, 92888.52],\n",
       "       [1.0, 0.0, 0.0, ..., 1, 0, 38190.78]], dtype=object)"
      ]
     },
     "execution_count": 5,
     "metadata": {},
     "output_type": "execute_result"
    }
   ],
   "source": [
    "from sklearn.compose import ColumnTransformer\n",
    "from sklearn.preprocessing import OneHotEncoder\n",
    "\n",
    "# perform hot-encoding on geography column\n",
    "\n",
    "ct = ColumnTransformer(\n",
    "    transformers=[(\"encoder\", OneHotEncoder(), [1])], remainder=\"passthrough\"\n",
    ")\n",
    "x = np.array(ct.fit_transform(x))\n",
    "x"
   ]
  },
  {
   "attachments": {},
   "cell_type": "markdown",
   "metadata": {},
   "source": [
    "#### Splitting the dataset into the Training set and Test set"
   ]
  },
  {
   "cell_type": "code",
   "execution_count": 6,
   "metadata": {},
   "outputs": [
    {
     "data": {
      "text/plain": [
       "(array([[1.0, 0.0, 0.0, 686, 1, 32, 6, 0.0, 2, 1, 1, 179093.26],\n",
       "        [0.0, 1.0, 0.0, 632, 1, 42, 4, 119624.6, 2, 1, 1, 195978.86],\n",
       "        [0.0, 0.0, 1.0, 559, 1, 24, 3, 114739.92, 1, 1, 0, 85891.02]],\n",
       "       dtype=object),\n",
       " array([0, 0, 1]))"
      ]
     },
     "execution_count": 6,
     "metadata": {},
     "output_type": "execute_result"
    }
   ],
   "source": [
    "from sklearn.model_selection import train_test_split\n",
    "\n",
    "x_train, x_test, y_train, y_test = train_test_split(\n",
    "    x, y, test_size=0.2, random_state=42\n",
    ")\n",
    "\n",
    "x_train[:3], y_train[:3]"
   ]
  },
  {
   "attachments": {},
   "cell_type": "markdown",
   "metadata": {},
   "source": [
    "#### Feature scaling"
   ]
  },
  {
   "cell_type": "code",
   "execution_count": 7,
   "metadata": {},
   "outputs": [],
   "source": [
    "# it's good idea to stability of training to apply scaling to all features.\n",
    "from sklearn.preprocessing import StandardScaler\n",
    "\n",
    "sc = StandardScaler()\n",
    "x_train = sc.fit_transform(x_train)\n",
    "x_test = sc.transform(x_test)"
   ]
  },
  {
   "cell_type": "code",
   "execution_count": 8,
   "metadata": {},
   "outputs": [
    {
     "data": {
      "text/plain": [
       "array([[ 1.00150113, -0.57946723, -0.57638802]])"
      ]
     },
     "execution_count": 8,
     "metadata": {},
     "output_type": "execute_result"
    }
   ],
   "source": [
    "x_train[:1, :3]"
   ]
  },
  {
   "cell_type": "code",
   "execution_count": 17,
   "metadata": {},
   "outputs": [
    {
     "data": {
      "text/plain": [
       "8000"
      ]
     },
     "execution_count": 17,
     "metadata": {},
     "output_type": "execute_result"
    }
   ],
   "source": [
    "len(x_train)"
   ]
  },
  {
   "attachments": {},
   "cell_type": "markdown",
   "metadata": {},
   "source": [
    "### Part 2 - Building the ANN"
   ]
  },
  {
   "attachments": {},
   "cell_type": "markdown",
   "metadata": {},
   "source": [
    "#### Initializing the ANN"
   ]
  },
  {
   "cell_type": "code",
   "execution_count": 10,
   "metadata": {},
   "outputs": [],
   "source": [
    "ann = tf.keras.models.Sequential()"
   ]
  },
  {
   "attachments": {},
   "cell_type": "markdown",
   "metadata": {},
   "source": [
    "#### Adding the input layer and the first hidden layer"
   ]
  },
  {
   "cell_type": "code",
   "execution_count": 11,
   "metadata": {},
   "outputs": [],
   "source": [
    "ann.add(layer=tf.keras.layers.Dense(units=6, activation=\"relu\"))"
   ]
  },
  {
   "attachments": {},
   "cell_type": "markdown",
   "metadata": {},
   "source": [
    "#### Adding the second layer hidden layer"
   ]
  },
  {
   "cell_type": "code",
   "execution_count": 12,
   "metadata": {},
   "outputs": [],
   "source": [
    "ann.add(layer=tf.keras.layers.Dense(units=7, activation=\"relu\"))"
   ]
  },
  {
   "attachments": {},
   "cell_type": "markdown",
   "metadata": {},
   "source": [
    "#### Adding the output layer"
   ]
  },
  {
   "cell_type": "code",
   "execution_count": 13,
   "metadata": {},
   "outputs": [],
   "source": [
    "ann.add(layer=tf.keras.layers.Dense(units=1, activation=\"sigmoid\"))"
   ]
  },
  {
   "attachments": {},
   "cell_type": "markdown",
   "metadata": {},
   "source": [
    "### Part 3 - Training the ANN"
   ]
  },
  {
   "attachments": {},
   "cell_type": "markdown",
   "metadata": {},
   "source": [
    "#### Compiling the ANN"
   ]
  },
  {
   "cell_type": "code",
   "execution_count": 14,
   "metadata": {},
   "outputs": [],
   "source": [
    "ann.compile(\n",
    "    optimizer=\"adam\", # a replacement optimization algorithm for stochastic gradient descent \n",
    "    loss=\"binary_crossentropy\", \n",
    "    metrics=[\"accuracy\"],\n",
    ")"
   ]
  },
  {
   "attachments": {},
   "cell_type": "markdown",
   "metadata": {},
   "source": [
    "#### Training the ANN"
   ]
  },
  {
   "cell_type": "code",
   "execution_count": 16,
   "metadata": {},
   "outputs": [
    {
     "name": "stdout",
     "output_type": "stream",
     "text": [
      "Epoch 1/100\n",
      "250/250 [==============================] - 3s 13ms/step - loss: 0.4060 - accuracy: 0.8305\n",
      "Epoch 2/100\n",
      "250/250 [==============================] - 3s 10ms/step - loss: 0.4041 - accuracy: 0.8311\n",
      "Epoch 3/100\n",
      "250/250 [==============================] - 2s 9ms/step - loss: 0.4033 - accuracy: 0.8324\n",
      "Epoch 4/100\n",
      "250/250 [==============================] - 3s 10ms/step - loss: 0.4019 - accuracy: 0.8339\n",
      "Epoch 5/100\n",
      "250/250 [==============================] - 2s 10ms/step - loss: 0.4010 - accuracy: 0.8319\n",
      "Epoch 6/100\n",
      "250/250 [==============================] - 3s 13ms/step - loss: 0.4004 - accuracy: 0.8332\n",
      "Epoch 7/100\n",
      "250/250 [==============================] - 3s 10ms/step - loss: 0.3996 - accuracy: 0.8338\n",
      "Epoch 8/100\n",
      "250/250 [==============================] - 3s 11ms/step - loss: 0.3990 - accuracy: 0.8328\n",
      "Epoch 9/100\n",
      "250/250 [==============================] - 2s 7ms/step - loss: 0.3979 - accuracy: 0.8347\n",
      "Epoch 10/100\n",
      "250/250 [==============================] - 2s 9ms/step - loss: 0.3973 - accuracy: 0.8345\n",
      "Epoch 11/100\n",
      "250/250 [==============================] - 2s 7ms/step - loss: 0.3967 - accuracy: 0.8342\n",
      "Epoch 12/100\n",
      "250/250 [==============================] - 2s 7ms/step - loss: 0.3957 - accuracy: 0.8356\n",
      "Epoch 13/100\n",
      "250/250 [==============================] - 2s 7ms/step - loss: 0.3950 - accuracy: 0.8361\n",
      "Epoch 14/100\n",
      "250/250 [==============================] - 2s 8ms/step - loss: 0.3940 - accuracy: 0.8364\n",
      "Epoch 15/100\n",
      "250/250 [==============================] - 3s 11ms/step - loss: 0.3928 - accuracy: 0.8381\n",
      "Epoch 16/100\n",
      "250/250 [==============================] - 2s 9ms/step - loss: 0.3912 - accuracy: 0.8374\n",
      "Epoch 17/100\n",
      "250/250 [==============================] - 3s 10ms/step - loss: 0.3894 - accuracy: 0.8389\n",
      "Epoch 18/100\n",
      "250/250 [==============================] - 2s 10ms/step - loss: 0.3867 - accuracy: 0.8400\n",
      "Epoch 19/100\n",
      "250/250 [==============================] - 2s 9ms/step - loss: 0.3842 - accuracy: 0.8416\n",
      "Epoch 20/100\n",
      "250/250 [==============================] - 2s 8ms/step - loss: 0.3815 - accuracy: 0.8435\n",
      "Epoch 21/100\n",
      "250/250 [==============================] - 2s 9ms/step - loss: 0.3782 - accuracy: 0.8447\n",
      "Epoch 22/100\n",
      "250/250 [==============================] - 2s 9ms/step - loss: 0.3741 - accuracy: 0.8466\n",
      "Epoch 23/100\n",
      "250/250 [==============================] - 2s 10ms/step - loss: 0.3695 - accuracy: 0.8490\n",
      "Epoch 24/100\n",
      "250/250 [==============================] - 2s 9ms/step - loss: 0.3646 - accuracy: 0.8491\n",
      "Epoch 25/100\n",
      "250/250 [==============================] - 2s 8ms/step - loss: 0.3602 - accuracy: 0.8526\n",
      "Epoch 26/100\n",
      "250/250 [==============================] - 2s 8ms/step - loss: 0.3566 - accuracy: 0.8535\n",
      "Epoch 27/100\n",
      "250/250 [==============================] - 3s 11ms/step - loss: 0.3533 - accuracy: 0.8543\n",
      "Epoch 28/100\n",
      "250/250 [==============================] - 2s 8ms/step - loss: 0.3504 - accuracy: 0.8558\n",
      "Epoch 29/100\n",
      "250/250 [==============================] - 2s 8ms/step - loss: 0.3477 - accuracy: 0.8593\n",
      "Epoch 30/100\n",
      "250/250 [==============================] - 2s 9ms/step - loss: 0.3458 - accuracy: 0.8583\n",
      "Epoch 31/100\n",
      "250/250 [==============================] - 2s 8ms/step - loss: 0.3437 - accuracy: 0.8590\n",
      "Epoch 32/100\n",
      "250/250 [==============================] - 2s 8ms/step - loss: 0.3423 - accuracy: 0.8600\n",
      "Epoch 33/100\n",
      "250/250 [==============================] - 2s 9ms/step - loss: 0.3412 - accuracy: 0.8593\n",
      "Epoch 34/100\n",
      "250/250 [==============================] - 2s 9ms/step - loss: 0.3400 - accuracy: 0.8602\n",
      "Epoch 35/100\n",
      "250/250 [==============================] - 2s 8ms/step - loss: 0.3390 - accuracy: 0.8593\n",
      "Epoch 36/100\n",
      "250/250 [==============================] - 2s 9ms/step - loss: 0.3380 - accuracy: 0.8620\n",
      "Epoch 37/100\n",
      "250/250 [==============================] - 2s 8ms/step - loss: 0.3370 - accuracy: 0.8609\n",
      "Epoch 38/100\n",
      "250/250 [==============================] - 2s 7ms/step - loss: 0.3357 - accuracy: 0.8622\n",
      "Epoch 39/100\n",
      "250/250 [==============================] - 2s 7ms/step - loss: 0.3355 - accuracy: 0.8626\n",
      "Epoch 40/100\n",
      "250/250 [==============================] - 2s 7ms/step - loss: 0.3347 - accuracy: 0.8634\n",
      "Epoch 41/100\n",
      "250/250 [==============================] - 2s 7ms/step - loss: 0.3341 - accuracy: 0.8650\n",
      "Epoch 42/100\n",
      "250/250 [==============================] - 2s 8ms/step - loss: 0.3335 - accuracy: 0.8631\n",
      "Epoch 43/100\n",
      "250/250 [==============================] - 2s 7ms/step - loss: 0.3332 - accuracy: 0.8630\n",
      "Epoch 44/100\n",
      "250/250 [==============================] - 2s 8ms/step - loss: 0.3330 - accuracy: 0.8640\n",
      "Epoch 45/100\n",
      "250/250 [==============================] - 2s 8ms/step - loss: 0.3323 - accuracy: 0.8637\n",
      "Epoch 46/100\n",
      "250/250 [==============================] - 2s 8ms/step - loss: 0.3318 - accuracy: 0.8645\n",
      "Epoch 47/100\n",
      "250/250 [==============================] - 2s 9ms/step - loss: 0.3316 - accuracy: 0.8644\n",
      "Epoch 48/100\n",
      "250/250 [==============================] - 2s 9ms/step - loss: 0.3318 - accuracy: 0.8644\n",
      "Epoch 49/100\n",
      "250/250 [==============================] - 2s 8ms/step - loss: 0.3312 - accuracy: 0.8651\n",
      "Epoch 50/100\n",
      "250/250 [==============================] - 2s 9ms/step - loss: 0.3313 - accuracy: 0.8644\n",
      "Epoch 51/100\n",
      "250/250 [==============================] - 2s 10ms/step - loss: 0.3307 - accuracy: 0.8648\n",
      "Epoch 52/100\n",
      "250/250 [==============================] - 3s 11ms/step - loss: 0.3305 - accuracy: 0.8648\n",
      "Epoch 53/100\n",
      "250/250 [==============================] - 2s 8ms/step - loss: 0.3303 - accuracy: 0.8651\n",
      "Epoch 54/100\n",
      "250/250 [==============================] - 3s 10ms/step - loss: 0.3302 - accuracy: 0.8644\n",
      "Epoch 55/100\n",
      "250/250 [==============================] - 2s 9ms/step - loss: 0.3298 - accuracy: 0.8645\n",
      "Epoch 56/100\n",
      "250/250 [==============================] - 2s 8ms/step - loss: 0.3297 - accuracy: 0.8658\n",
      "Epoch 57/100\n",
      "250/250 [==============================] - 2s 8ms/step - loss: 0.3300 - accuracy: 0.8650\n",
      "Epoch 58/100\n",
      "250/250 [==============================] - 1s 5ms/step - loss: 0.3299 - accuracy: 0.8659\n",
      "Epoch 59/100\n",
      "250/250 [==============================] - 1s 3ms/step - loss: 0.3296 - accuracy: 0.8650\n",
      "Epoch 60/100\n",
      "250/250 [==============================] - 1s 3ms/step - loss: 0.3296 - accuracy: 0.8649\n",
      "Epoch 61/100\n",
      "250/250 [==============================] - 1s 5ms/step - loss: 0.3294 - accuracy: 0.8646\n",
      "Epoch 62/100\n",
      "250/250 [==============================] - 1s 3ms/step - loss: 0.3292 - accuracy: 0.8648\n",
      "Epoch 63/100\n",
      "250/250 [==============================] - 1s 3ms/step - loss: 0.3296 - accuracy: 0.8644\n",
      "Epoch 64/100\n",
      "250/250 [==============================] - 1s 3ms/step - loss: 0.3290 - accuracy: 0.8661\n",
      "Epoch 65/100\n",
      "250/250 [==============================] - 1s 3ms/step - loss: 0.3293 - accuracy: 0.8654\n",
      "Epoch 66/100\n",
      "250/250 [==============================] - 1s 3ms/step - loss: 0.3292 - accuracy: 0.8649\n",
      "Epoch 67/100\n",
      "250/250 [==============================] - 1s 4ms/step - loss: 0.3293 - accuracy: 0.8649\n",
      "Epoch 68/100\n",
      "250/250 [==============================] - 1s 3ms/step - loss: 0.3292 - accuracy: 0.8656\n",
      "Epoch 69/100\n",
      "250/250 [==============================] - 1s 3ms/step - loss: 0.3288 - accuracy: 0.8654\n",
      "Epoch 70/100\n",
      "250/250 [==============================] - 1s 3ms/step - loss: 0.3293 - accuracy: 0.8668\n",
      "Epoch 71/100\n",
      "250/250 [==============================] - 1s 4ms/step - loss: 0.3291 - accuracy: 0.8650\n",
      "Epoch 72/100\n",
      "250/250 [==============================] - 1s 3ms/step - loss: 0.3291 - accuracy: 0.8645\n",
      "Epoch 73/100\n",
      "250/250 [==============================] - 1s 4ms/step - loss: 0.3289 - accuracy: 0.8648\n",
      "Epoch 74/100\n",
      "250/250 [==============================] - 1s 4ms/step - loss: 0.3293 - accuracy: 0.8656\n",
      "Epoch 75/100\n",
      "250/250 [==============================] - 1s 3ms/step - loss: 0.3287 - accuracy: 0.8646\n",
      "Epoch 76/100\n",
      "250/250 [==============================] - 1s 3ms/step - loss: 0.3287 - accuracy: 0.8654\n",
      "Epoch 77/100\n",
      "250/250 [==============================] - 1s 3ms/step - loss: 0.3286 - accuracy: 0.8641\n",
      "Epoch 78/100\n",
      "250/250 [==============================] - 1s 3ms/step - loss: 0.3289 - accuracy: 0.8655\n",
      "Epoch 79/100\n",
      "250/250 [==============================] - 1s 3ms/step - loss: 0.3287 - accuracy: 0.8644\n",
      "Epoch 80/100\n",
      "250/250 [==============================] - 1s 4ms/step - loss: 0.3287 - accuracy: 0.8656\n",
      "Epoch 81/100\n",
      "250/250 [==============================] - 1s 4ms/step - loss: 0.3287 - accuracy: 0.8649\n",
      "Epoch 82/100\n",
      "250/250 [==============================] - 1s 4ms/step - loss: 0.3287 - accuracy: 0.8661\n",
      "Epoch 83/100\n",
      "250/250 [==============================] - 1s 3ms/step - loss: 0.3287 - accuracy: 0.8659\n",
      "Epoch 84/100\n",
      "250/250 [==============================] - 1s 5ms/step - loss: 0.3282 - accuracy: 0.8652\n",
      "Epoch 85/100\n",
      "250/250 [==============================] - 1s 6ms/step - loss: 0.3284 - accuracy: 0.8665\n",
      "Epoch 86/100\n",
      "250/250 [==============================] - 1s 5ms/step - loss: 0.3282 - accuracy: 0.8659\n",
      "Epoch 87/100\n",
      "250/250 [==============================] - 1s 4ms/step - loss: 0.3283 - accuracy: 0.8665\n",
      "Epoch 88/100\n",
      "250/250 [==============================] - 2s 7ms/step - loss: 0.3281 - accuracy: 0.8666\n",
      "Epoch 89/100\n",
      "250/250 [==============================] - 1s 4ms/step - loss: 0.3285 - accuracy: 0.8658\n",
      "Epoch 90/100\n",
      "250/250 [==============================] - 1s 4ms/step - loss: 0.3284 - accuracy: 0.8656\n",
      "Epoch 91/100\n",
      "250/250 [==============================] - 1s 4ms/step - loss: 0.3282 - accuracy: 0.8666\n",
      "Epoch 92/100\n",
      "250/250 [==============================] - 1s 4ms/step - loss: 0.3282 - accuracy: 0.8659\n",
      "Epoch 93/100\n",
      "250/250 [==============================] - 1s 5ms/step - loss: 0.3286 - accuracy: 0.8668\n",
      "Epoch 94/100\n",
      "250/250 [==============================] - 1s 4ms/step - loss: 0.3280 - accuracy: 0.8679\n",
      "Epoch 95/100\n",
      "250/250 [==============================] - 1s 5ms/step - loss: 0.3282 - accuracy: 0.8669\n",
      "Epoch 96/100\n",
      "250/250 [==============================] - 1s 5ms/step - loss: 0.3282 - accuracy: 0.8664\n",
      "Epoch 97/100\n",
      "250/250 [==============================] - 1s 4ms/step - loss: 0.3280 - accuracy: 0.8673\n",
      "Epoch 98/100\n",
      "250/250 [==============================] - 1s 4ms/step - loss: 0.3279 - accuracy: 0.8660\n",
      "Epoch 99/100\n",
      "250/250 [==============================] - 1s 4ms/step - loss: 0.3281 - accuracy: 0.8662\n",
      "Epoch 100/100\n",
      "250/250 [==============================] - 1s 5ms/step - loss: 0.3279 - accuracy: 0.8666\n"
     ]
    },
    {
     "data": {
      "text/plain": [
       "<keras.callbacks.History at 0x7f3d9c0bf430>"
      ]
     },
     "execution_count": 16,
     "metadata": {},
     "output_type": "execute_result"
    }
   ],
   "source": [
    "ann.fit(x=x_train, y=y_train, batch_size=32, epochs=100)"
   ]
  },
  {
   "attachments": {},
   "cell_type": "markdown",
   "metadata": {},
   "source": [
    "### Part 4 - Making the predictions and evaluating the model"
   ]
  },
  {
   "attachments": {},
   "cell_type": "markdown",
   "metadata": {},
   "source": [
    "#### Predicting the result of a single observation"
   ]
  },
  {
   "attachments": {},
   "cell_type": "markdown",
   "metadata": {},
   "source": [
    "Use the model to predict if the customer with the following informations will leave the bank:\n",
    "\n",
    "- Geography: France\n",
    "- Credit score: 600\n",
    "- Gender: Male\n",
    "- Age: 40 years old\n",
    "- Tenure: 3 years\n",
    "- Balance: $ 60_000\n",
    "- Numb of products: 2\n",
    "- Does this customer have a credit card? Yes\n",
    "- Is this customer an active member: yes\n",
    "- Estimated salary: $ 50_000\n",
    "- So, should we say goodbye to that customers? X (thing to predict)"
   ]
  },
  {
   "cell_type": "code",
   "execution_count": 20,
   "metadata": {},
   "outputs": [
    {
     "name": "stdout",
     "output_type": "stream",
     "text": [
      "1/1 [==============================] - 1s 527ms/step\n"
     ]
    },
    {
     "data": {
      "text/plain": [
       "array([[0.02350391]], dtype=float32)"
      ]
     },
     "execution_count": 20,
     "metadata": {},
     "output_type": "execute_result"
    }
   ],
   "source": [
    "# one-hot encoding for France is 1 0 0\n",
    "\n",
    "ann.predict(\n",
    "    x=sc.transform([[1, 0, 0, 600, 1, 40, 3, 60_000, 2, 1, 1, 50_000]])\n",
    ")"
   ]
  },
  {
   "attachments": {},
   "cell_type": "markdown",
   "metadata": {},
   "source": [
    "so the answer is NO, the customer will stay"
   ]
  },
  {
   "attachments": {},
   "cell_type": "markdown",
   "metadata": {},
   "source": [
    "#### Predicting the Test set results"
   ]
  },
  {
   "cell_type": "code",
   "execution_count": 22,
   "metadata": {},
   "outputs": [
    {
     "name": "stdout",
     "output_type": "stream",
     "text": [
      "63/63 [==============================] - 1s 14ms/step\n"
     ]
    }
   ],
   "source": [
    "preds = ann.predict(x=x_test)\n",
    "\n",
    "threshold = 0.5\n",
    "preds = (preds > threshold)"
   ]
  },
  {
   "attachments": {},
   "cell_type": "markdown",
   "metadata": {},
   "source": [
    "#### Making the confusion matrix"
   ]
  },
  {
   "cell_type": "code",
   "execution_count": 36,
   "metadata": {},
   "outputs": [
    {
     "data": {
      "text/plain": [
       "array([[1545,   62],\n",
       "       [ 211,  182]])"
      ]
     },
     "execution_count": 36,
     "metadata": {},
     "output_type": "execute_result"
    }
   ],
   "source": [
    "from sklearn.metrics import confusion_matrix, accuracy_score, ConfusionMatrixDisplay\n",
    "\n",
    "cm = confusion_matrix(y_true=y_test, y_pred=preds)\n",
    "cm"
   ]
  },
  {
   "cell_type": "code",
   "execution_count": 37,
   "metadata": {},
   "outputs": [
    {
     "data": {
      "image/png": "[encoded data removed]",
      "text/plain": [
       "<Figure size 432x288 with 2 Axes>"
      ]
     },
     "metadata": {
      "needs_background": "light"
     },
     "output_type": "display_data"
    }
   ],
   "source": [
    "import matplotlib.pyplot as plt\n",
    "\n",
    "disp = ConfusionMatrixDisplay(confusion_matrix=cm, display_labels=np.array([0, 1]))\n",
    "disp.plot(cmap=plt.cm.Blues)\n",
    "plt.show()"
   ]
  },
  {
   "cell_type": "code",
   "execution_count": 24,
   "metadata": {},
   "outputs": [
    {
     "data": {
      "text/plain": [
       "0.8635"
      ]
     },
     "execution_count": 24,
     "metadata": {},
     "output_type": "execute_result"
    }
   ],
   "source": [
    "accuracy_score(y_true=y_test, y_pred=preds)\n"
   ]
  }
 ],
 "metadata": {
  "kernelspec": {
   "display_name": "ml_az",
   "language": "python",
   "name": "python3"
  },
  "language_info": {
   "codemirror_mode": {
    "name": "ipython",
    "version": 3
   },
   "file_extension": ".py",
   "mimetype": "text/x-python",
   "name": "python",
   "nbconvert_exporter": "python",
   "pygments_lexer": "ipython3",
   "version": "3.9.12"
  },
  "orig_nbformat": 4
 },
 "nbformat": 4,
 "nbformat_minor": 2
}
