{
 "cells": [
  {
   "cell_type": "markdown",
   "metadata": {},
   "source": [
    "You can download the `requirements.txt` for this course from the workspace of this lab. `File --> Open...`"
   ]
  },
  {
   "cell_type": "markdown",
   "metadata": {},
   "source": [
    "# L2: Create Agents to Research and Write an Article\n",
    "\n",
    "In this lesson, you will be introduced to the foundational concepts of multi-agent systems and get an overview of the crewAI framework."
   ]
  },
  {
   "cell_type": "markdown",
   "metadata": {},
   "source": [
    "The libraries are already installed in the classroom. If you're running this notebook on your own machine, you can install the following:\n",
    "```Python\n",
    "!pip install crewai==0.28.8 crewai_tools==0.1.6 langchain_community==0.0.29\n",
    "```"
   ]
  },
  {
   "cell_type": "code",
   "execution_count": 1,
   "metadata": {
    "height": 64
   },
   "outputs": [],
   "source": [
    "# Warning control\n",
    "import warnings\n",
    "warnings.filterwarnings('ignore')"
   ]
  },
  {
   "cell_type": "markdown",
   "metadata": {},
   "source": [
    "- Import from the crewAI libray."
   ]
  },
  {
   "cell_type": "code",
   "execution_count": 2,
   "metadata": {
    "height": 30
   },
   "outputs": [],
   "source": [
    "from crewai import Agent, Task, Crew"
   ]
  },
  {
   "cell_type": "markdown",
   "metadata": {},
   "source": [
    "- As a LLM for your agents, you'll be using OpenAI's `gpt-3.5-turbo`.\n",
    "\n",
    "**Optional Note:** crewAI also allow other popular models to be used as a LLM for your Agents. You can see some of the examples at the [bottom of the notebook](#1)."
   ]
  },
  {
   "cell_type": "code",
   "execution_count": 3,
   "metadata": {
    "height": 98
   },
   "outputs": [],
   "source": [
    "import os\n",
    "from utils import get_openai_api_key\n",
    "\n",
    "openai_api_key = get_openai_api_key()\n",
    "os.environ[\"OPENAI_MODEL_NAME\"] = 'gpt-3.5-turbo'"
   ]
  },
  {
   "cell_type": "markdown",
   "metadata": {},
   "source": [
    "## Creating Agents\n",
    "\n",
    "- Define your Agents, and provide them a `role`, `goal` and `backstory`.\n",
    "- It has been seen that LLMs perform better when they are role playing."
   ]
  },
  {
   "cell_type": "markdown",
   "metadata": {},
   "source": [
    "### Agent: Planner\n",
    "\n",
    "**Note**: The benefit of using _multiple strings_ :\n",
    "```Python\n",
    "varname = \"line 1 of text\"\n",
    "          \"line 2 of text\"\n",
    "```\n",
    "\n",
    "versus the _triple quote docstring_:\n",
    "```Python\n",
    "varname = \"\"\"line 1 of text\n",
    "             line 2 of text\n",
    "          \"\"\"\n",
    "```\n",
    "is that it can avoid adding those whitespaces and newline characters, making it better formatted to be passed to the LLM."
   ]
  },
  {
   "cell_type": "code",
   "execution_count": 4,
   "metadata": {
    "height": 234
   },
   "outputs": [],
   "source": [
    "planner = Agent(\n",
    "    role=\"Content Planner\",\n",
    "    goal=\"Plan engaging and factually accurate content on {topic}\",\n",
    "    backstory=\"You're working on planning a blog article \"\n",
    "              \"about the topic: {topic}.\"\n",
    "              \"You collect information that helps the \"\n",
    "              \"audience learn something \"\n",
    "              \"and make informed decisions. \"\n",
    "              \"Your work is the basis for \"\n",
    "              \"the Content Writer to write an article on this topic.\",\n",
    "    allow_delegation=False,\n",
    "    verbose=True\n",
    ")"
   ]
  },
  {
   "cell_type": "markdown",
   "metadata": {},
   "source": [
    "### Agent: Writer"
   ]
  },
  {
   "cell_type": "code",
   "execution_count": 5,
   "metadata": {
    "height": 370
   },
   "outputs": [],
   "source": [
    "writer = Agent(\n",
    "    role=\"Content Writer\",\n",
    "    goal=\"Write insightful and factually accurate \"\n",
    "         \"opinion piece about the topic: {topic}\",\n",
    "    backstory=\"You're working on a writing \"\n",
    "              \"a new opinion piece about the topic: {topic}. \"\n",
    "              \"You base your writing on the work of \"\n",
    "              \"the Content Planner, who provides an outline \"\n",
    "              \"and relevant context about the topic. \"\n",
    "              \"You follow the main objectives and \"\n",
    "              \"direction of the outline, \"\n",
    "              \"as provide by the Content Planner. \"\n",
    "              \"You also provide objective and impartial insights \"\n",
    "              \"and back them up with information \"\n",
    "              \"provide by the Content Planner. \"\n",
    "              \"You acknowledge in your opinion piece \"\n",
    "              \"when your statements are opinions \"\n",
    "              \"as opposed to objective statements.\",\n",
    "    allow_delegation=False,\n",
    "    verbose=True\n",
    ")"
   ]
  },
  {
   "cell_type": "markdown",
   "metadata": {},
   "source": [
    "### Agent: Editor"
   ]
  },
  {
   "cell_type": "code",
   "execution_count": 6,
   "metadata": {
    "height": 268
   },
   "outputs": [],
   "source": [
    "editor = Agent(\n",
    "    role=\"Editor\",\n",
    "    goal=\"Edit a given blog post to align with \"\n",
    "         \"the writing style of the organization. \",\n",
    "    backstory=\"You are an editor who receives a blog post \"\n",
    "              \"from the Content Writer. \"\n",
    "              \"Your goal is to review the blog post \"\n",
    "              \"to ensure that it follows journalistic best practices,\"\n",
    "              \"provides balanced viewpoints \"\n",
    "              \"when providing opinions or assertions, \"\n",
    "              \"and also avoids major controversial topics \"\n",
    "              \"or opinions when possible.\",\n",
    "    allow_delegation=False,\n",
    "    verbose=True\n",
    ")"
   ]
  },
  {
   "cell_type": "markdown",
   "metadata": {},
   "source": [
    "## Creating Tasks\n",
    "\n",
    "- Define your Tasks, and provide them a `description`, `expected_output` and `agent`."
   ]
  },
  {
   "cell_type": "markdown",
   "metadata": {},
   "source": [
    "### Task: Plan"
   ]
  },
  {
   "cell_type": "code",
   "execution_count": 7,
   "metadata": {
    "height": 268
   },
   "outputs": [],
   "source": [
    "plan = Task(\n",
    "    description=(\n",
    "        \"1. Prioritize the latest trends, key players, \"\n",
    "            \"and noteworthy news on {topic}.\\n\"\n",
    "        \"2. Identify the target audience, considering \"\n",
    "            \"their interests and pain points.\\n\"\n",
    "        \"3. Develop a detailed content outline including \"\n",
    "            \"an introduction, key points, and a call to action.\\n\"\n",
    "        \"4. Include SEO keywords and relevant data or sources.\"\n",
    "    ),\n",
    "    expected_output=\"A comprehensive content plan document \"\n",
    "        \"with an outline, audience analysis, \"\n",
    "        \"SEO keywords, and resources.\",\n",
    "    agent=planner,\n",
    ")"
   ]
  },
  {
   "cell_type": "markdown",
   "metadata": {},
   "source": [
    "### Task: Write"
   ]
  },
  {
   "cell_type": "code",
   "execution_count": 8,
   "metadata": {
    "height": 319
   },
   "outputs": [],
   "source": [
    "write = Task(\n",
    "    description=(\n",
    "        \"1. Use the content plan to craft a compelling \"\n",
    "            \"blog post on {topic}.\\n\"\n",
    "        \"2. Incorporate SEO keywords naturally.\\n\"\n",
    "        \"3. Sections/Subtitles are properly named \"\n",
    "            \"in an engaging manner.\\n\"\n",
    "        \"4. Ensure the post is structured with an \"\n",
    "            \"engaging introduction, insightful body, \"\n",
    "            \"and a summarizing conclusion.\\n\"\n",
    "        \"5. Proofread for grammatical errors and \"\n",
    "            \"alignment with the brand's voice.\\n\"\n",
    "    ),\n",
    "    expected_output=\"A well-written blog post \"\n",
    "        \"in markdown format, ready for publication, \"\n",
    "        \"each section should have 2 or 3 paragraphs.\",\n",
    "    agent=writer,\n",
    ")"
   ]
  },
  {
   "cell_type": "markdown",
   "metadata": {},
   "source": [
    "### Task: Edit"
   ]
  },
  {
   "cell_type": "code",
   "execution_count": 9,
   "metadata": {
    "height": 166
   },
   "outputs": [],
   "source": [
    "edit = Task(\n",
    "    description=(\"Proofread the given blog post for \"\n",
    "                 \"grammatical errors and \"\n",
    "                 \"alignment with the brand's voice.\"),\n",
    "    expected_output=\"A well-written blog post in markdown format, \"\n",
    "                    \"ready for publication, \"\n",
    "                    \"each section should have 2 or 3 paragraphs.\",\n",
    "    agent=editor\n",
    ")"
   ]
  },
  {
   "cell_type": "markdown",
   "metadata": {},
   "source": [
    "## Creating the Crew\n",
    "\n",
    "- Create your crew of Agents\n",
    "- Pass the tasks to be performed by those agents.\n",
    "    - **Note**: *For this simple example*, the tasks will be performed sequentially (i.e they are dependent on each other), so the _order_ of the task in the list _matters_.\n",
    "- `verbose=2` allows you to see all the logs of the execution. "
   ]
  },
  {
   "cell_type": "code",
   "execution_count": 10,
   "metadata": {
    "height": 98
   },
   "outputs": [
    {
     "name": "stderr",
     "output_type": "stream",
     "text": [
      "2025-08-10 21:12:29,749 - 140146752513728 - __init__.py-__init__:369 - ERROR: Exception while exporting Span batch.\n",
      "Traceback (most recent call last):\n",
      "  File \"/usr/local/lib/python3.11/site-packages/urllib3/connection.py\", line 198, in _new_conn\n",
      "    sock = connection.create_connection(\n",
      "           ^^^^^^^^^^^^^^^^^^^^^^^^^^^^^\n",
      "  File \"/usr/local/lib/python3.11/site-packages/urllib3/util/connection.py\", line 85, in create_connection\n",
      "    raise err\n",
      "  File \"/usr/local/lib/python3.11/site-packages/urllib3/util/connection.py\", line 73, in create_connection\n",
      "    sock.connect(sa)\n",
      "TimeoutError: timed out\n",
      "\n",
      "The above exception was the direct cause of the following exception:\n",
      "\n",
      "Traceback (most recent call last):\n",
      "  File \"/usr/local/lib/python3.11/site-packages/urllib3/connectionpool.py\", line 793, in urlopen\n",
      "    response = self._make_request(\n",
      "               ^^^^^^^^^^^^^^^^^^^\n",
      "  File \"/usr/local/lib/python3.11/site-packages/urllib3/connectionpool.py\", line 491, in _make_request\n",
      "    raise new_e\n",
      "  File \"/usr/local/lib/python3.11/site-packages/urllib3/connectionpool.py\", line 467, in _make_request\n",
      "    self._validate_conn(conn)\n",
      "  File \"/usr/local/lib/python3.11/site-packages/urllib3/connectionpool.py\", line 1099, in _validate_conn\n",
      "    conn.connect()\n",
      "  File \"/usr/local/lib/python3.11/site-packages/urllib3/connection.py\", line 616, in connect\n",
      "    self.sock = sock = self._new_conn()\n",
      "                       ^^^^^^^^^^^^^^^^\n",
      "  File \"/usr/local/lib/python3.11/site-packages/urllib3/connection.py\", line 207, in _new_conn\n",
      "    raise ConnectTimeoutError(\n",
      "urllib3.exceptions.ConnectTimeoutError: (<urllib3.connection.HTTPSConnection object at 0x7f7675715410>, 'Connection to telemetry.crewai.com timed out. (connect timeout=30)')\n",
      "\n",
      "The above exception was the direct cause of the following exception:\n",
      "\n",
      "Traceback (most recent call last):\n",
      "  File \"/usr/local/lib/python3.11/site-packages/requests/adapters.py\", line 486, in send\n",
      "    resp = conn.urlopen(\n",
      "           ^^^^^^^^^^^^^\n",
      "  File \"/usr/local/lib/python3.11/site-packages/urllib3/connectionpool.py\", line 847, in urlopen\n",
      "    retries = retries.increment(\n",
      "              ^^^^^^^^^^^^^^^^^^\n",
      "  File \"/usr/local/lib/python3.11/site-packages/urllib3/util/retry.py\", line 515, in increment\n",
      "    raise MaxRetryError(_pool, url, reason) from reason  # type: ignore[arg-type]\n",
      "    ^^^^^^^^^^^^^^^^^^^^^^^^^^^^^^^^^^^^^^^^^^^^^^^^^^^\n",
      "urllib3.exceptions.MaxRetryError: HTTPSConnectionPool(host='telemetry.crewai.com', port=4319): Max retries exceeded with url: /v1/traces (Caused by ConnectTimeoutError(<urllib3.connection.HTTPSConnection object at 0x7f7675715410>, 'Connection to telemetry.crewai.com timed out. (connect timeout=30)'))\n",
      "\n",
      "During handling of the above exception, another exception occurred:\n",
      "\n",
      "Traceback (most recent call last):\n",
      "  File \"/usr/local/lib/python3.11/site-packages/opentelemetry/sdk/trace/export/__init__.py\", line 367, in _export_batch\n",
      "    self.span_exporter.export(self.spans_list[:idx])  # type: ignore\n",
      "    ^^^^^^^^^^^^^^^^^^^^^^^^^^^^^^^^^^^^^^^^^^^^^^^^\n",
      "  File \"/usr/local/lib/python3.11/site-packages/opentelemetry/exporter/otlp/proto/http/trace_exporter/__init__.py\", line 145, in export\n",
      "    resp = self._export(serialized_data)\n",
      "           ^^^^^^^^^^^^^^^^^^^^^^^^^^^^^\n",
      "  File \"/usr/local/lib/python3.11/site-packages/opentelemetry/exporter/otlp/proto/http/trace_exporter/__init__.py\", line 114, in _export\n",
      "    return self._session.post(\n",
      "           ^^^^^^^^^^^^^^^^^^^\n",
      "  File \"/usr/local/lib/python3.11/site-packages/requests/sessions.py\", line 637, in post\n",
      "    return self.request(\"POST\", url, data=data, json=json, **kwargs)\n",
      "           ^^^^^^^^^^^^^^^^^^^^^^^^^^^^^^^^^^^^^^^^^^^^^^^^^^^^^^^^^\n",
      "  File \"/usr/local/lib/python3.11/site-packages/requests/sessions.py\", line 589, in request\n",
      "    resp = self.send(prep, **send_kwargs)\n",
      "           ^^^^^^^^^^^^^^^^^^^^^^^^^^^^^^\n",
      "  File \"/usr/local/lib/python3.11/site-packages/requests/sessions.py\", line 703, in send\n",
      "    r = adapter.send(request, **kwargs)\n",
      "        ^^^^^^^^^^^^^^^^^^^^^^^^^^^^^^^\n",
      "  File \"/usr/local/lib/python3.11/site-packages/requests/adapters.py\", line 507, in send\n",
      "    raise ConnectTimeout(e, request=request)\n",
      "requests.exceptions.ConnectTimeout: HTTPSConnectionPool(host='telemetry.crewai.com', port=4319): Max retries exceeded with url: /v1/traces (Caused by ConnectTimeoutError(<urllib3.connection.HTTPSConnection object at 0x7f7675715410>, 'Connection to telemetry.crewai.com timed out. (connect timeout=30)'))\n"
     ]
    }
   ],
   "source": [
    "crew = Crew(\n",
    "    agents=[planner, writer, editor],\n",
    "    tasks=[plan, write, edit],\n",
    "    verbose=2\n",
    ")"
   ]
  },
  {
   "cell_type": "markdown",
   "metadata": {},
   "source": [
    "## Running the Crew"
   ]
  },
  {
   "cell_type": "markdown",
   "metadata": {},
   "source": [
    "**Note**: LLMs can provide different outputs for they same input, so what you get might be different than what you see in the video."
   ]
  },
  {
   "cell_type": "code",
   "execution_count": 11,
   "metadata": {
    "height": 30
   },
   "outputs": [
    {
     "name": "stdout",
     "output_type": "stream",
     "text": [
      "\u001b[1m\u001b[95m [DEBUG]: == Working Agent: Content Planner\u001b[00m\n",
      "\u001b[1m\u001b[95m [INFO]: == Starting Task: 1. Prioritize the latest trends, key players, and noteworthy news on Artificial Intelligence.\n",
      "2. Identify the target audience, considering their interests and pain points.\n",
      "3. Develop a detailed content outline including an introduction, key points, and a call to action.\n",
      "4. Include SEO keywords and relevant data or sources.\u001b[00m\n",
      "\n",
      "\n",
      "\u001b[1m> Entering new CrewAgentExecutor chain...\u001b[0m\n",
      "\u001b[32;1m\u001b[1;3mI now can give a great answer\n",
      "\n",
      "Final Answer:\n",
      "\n",
      "Title: The Future of Artificial Intelligence: Trends, Players, and News\n",
      "\n",
      "Introduction:\n",
      "- Brief overview of Artificial Intelligence (AI) and its impact on various industries\n",
      "- Introduction to the latest trends, key players, and noteworthy news in the field of AI\n",
      "\n",
      "Key Points:\n",
      "1. Latest Trends in Artificial Intelligence:\n",
      "- Machine learning advancements\n",
      "- Natural language processing innovations\n",
      "- AI ethics and regulation developments\n",
      "- AI in healthcare, finance, and other industries\n",
      "\n",
      "2. Key Players in the AI Industry:\n",
      "- Google DeepMind\n",
      "- IBM Watson\n",
      "- Microsoft Azure AI\n",
      "- Amazon Web Services (AWS) AI\n",
      "- OpenAI\n",
      "- Nvidia\n",
      "- Intel AI\n",
      "\n",
      "3. Noteworthy News in Artificial Intelligence:\n",
      "- Breakthroughs in AI research\n",
      "- AI applications in solving real-world problems\n",
      "- Partnerships and collaborations in the AI industry\n",
      "- AI developments in autonomous vehicles, robotics, and other areas\n",
      "\n",
      "Audience Analysis:\n",
      "- Target audience includes professionals in the technology, business, and academic sectors\n",
      "- Interested in staying updated on the latest trends and news in the field of AI\n",
      "- Pain points may include understanding complex AI concepts, keeping up with rapid advancements, and making informed decisions regarding AI technologies\n",
      "\n",
      "Content Outline:\n",
      "- Introduction to AI and its significance\n",
      "- Latest trends in AI: machine learning, natural language processing, ethics, and regulation\n",
      "- Key players in the AI industry and their contributions\n",
      "- Noteworthy news in AI: breakthroughs, applications, partnerships\n",
      "- Call to action: Encouraging readers to stay informed and engaged with AI developments\n",
      "\n",
      "SEO Keywords:\n",
      "- Artificial Intelligence trends 2021\n",
      "- Key players in AI industry\n",
      "- Latest news in Artificial Intelligence\n",
      "- AI advancements and breakthroughs\n",
      "- Future of Artificial Intelligence\n",
      "\n",
      "Resources:\n",
      "- Forbes: Artificial Intelligence\n",
      "- MIT Technology Review: AI News\n",
      "- TechCrunch: AI Trends and Insights\n",
      "- World Economic Forum: The Fourth Industrial Revolution\n",
      "- OpenAI Blog: Latest Research and Developments in AI\n",
      "\n",
      "This comprehensive content plan will provide valuable insights to the target audience and help them make informed decisions about Artificial Intelligence.\u001b[0m\n",
      "\n",
      "\u001b[1m> Finished chain.\u001b[0m\n",
      "\u001b[1m\u001b[92m [DEBUG]: == [Content Planner] Task output: Title: The Future of Artificial Intelligence: Trends, Players, and News\n",
      "\n",
      "Introduction:\n",
      "- Brief overview of Artificial Intelligence (AI) and its impact on various industries\n",
      "- Introduction to the latest trends, key players, and noteworthy news in the field of AI\n",
      "\n",
      "Key Points:\n",
      "1. Latest Trends in Artificial Intelligence:\n",
      "- Machine learning advancements\n",
      "- Natural language processing innovations\n",
      "- AI ethics and regulation developments\n",
      "- AI in healthcare, finance, and other industries\n",
      "\n",
      "2. Key Players in the AI Industry:\n",
      "- Google DeepMind\n",
      "- IBM Watson\n",
      "- Microsoft Azure AI\n",
      "- Amazon Web Services (AWS) AI\n",
      "- OpenAI\n",
      "- Nvidia\n",
      "- Intel AI\n",
      "\n",
      "3. Noteworthy News in Artificial Intelligence:\n",
      "- Breakthroughs in AI research\n",
      "- AI applications in solving real-world problems\n",
      "- Partnerships and collaborations in the AI industry\n",
      "- AI developments in autonomous vehicles, robotics, and other areas\n",
      "\n",
      "Audience Analysis:\n",
      "- Target audience includes professionals in the technology, business, and academic sectors\n",
      "- Interested in staying updated on the latest trends and news in the field of AI\n",
      "- Pain points may include understanding complex AI concepts, keeping up with rapid advancements, and making informed decisions regarding AI technologies\n",
      "\n",
      "Content Outline:\n",
      "- Introduction to AI and its significance\n",
      "- Latest trends in AI: machine learning, natural language processing, ethics, and regulation\n",
      "- Key players in the AI industry and their contributions\n",
      "- Noteworthy news in AI: breakthroughs, applications, partnerships\n",
      "- Call to action: Encouraging readers to stay informed and engaged with AI developments\n",
      "\n",
      "SEO Keywords:\n",
      "- Artificial Intelligence trends 2021\n",
      "- Key players in AI industry\n",
      "- Latest news in Artificial Intelligence\n",
      "- AI advancements and breakthroughs\n",
      "- Future of Artificial Intelligence\n",
      "\n",
      "Resources:\n",
      "- Forbes: Artificial Intelligence\n",
      "- MIT Technology Review: AI News\n",
      "- TechCrunch: AI Trends and Insights\n",
      "- World Economic Forum: The Fourth Industrial Revolution\n",
      "- OpenAI Blog: Latest Research and Developments in AI\n",
      "\n",
      "This comprehensive content plan will provide valuable insights to the target audience and help them make informed decisions about Artificial Intelligence.\n",
      "\n",
      "\u001b[00m\n",
      "\u001b[1m\u001b[95m [DEBUG]: == Working Agent: Content Writer\u001b[00m\n",
      "\u001b[1m\u001b[95m [INFO]: == Starting Task: 1. Use the content plan to craft a compelling blog post on Artificial Intelligence.\n",
      "2. Incorporate SEO keywords naturally.\n",
      "3. Sections/Subtitles are properly named in an engaging manner.\n",
      "4. Ensure the post is structured with an engaging introduction, insightful body, and a summarizing conclusion.\n",
      "5. Proofread for grammatical errors and alignment with the brand's voice.\n",
      "\u001b[00m\n",
      "\n",
      "\n",
      "\u001b[1m> Entering new CrewAgentExecutor chain...\u001b[0m\n",
      "\u001b[32;1m\u001b[1;3mI have a clear understanding of the content plan and the key points to cover in the blog post about Artificial Intelligence. By incorporating the latest trends, key players, noteworthy news, and engaging the target audience, I can craft a compelling and informative piece on the future of AI.\n",
      "\n",
      "Final Answer: \n",
      "\n",
      "# The Future of Artificial Intelligence: Trends, Players, and News\n",
      "\n",
      "**Introduction:**\n",
      "Artificial Intelligence (AI) has revolutionized various industries with its capabilities to automate tasks, analyze data, and make predictions. From healthcare to finance, AI is transforming the way businesses operate and how we interact with technology. In this blog post, we will explore the latest trends, key players, and noteworthy news in the field of AI to provide valuable insights for professionals in the technology, business, and academic sectors.\n",
      "\n",
      "**Latest Trends in Artificial Intelligence:**\n",
      "Machine learning advancements have been at the forefront of AI innovation, allowing systems to learn from data and improve over time. Natural language processing innovations have also played a significant role in enhancing communication between humans and machines. Moreover, the development of AI ethics and regulations is crucial to ensure responsible and ethical AI deployment across various industries such as healthcare, finance, and beyond.\n",
      "\n",
      "**Key Players in the AI Industry:**\n",
      "Leading the way in AI research and development are key players such as Google DeepMind, IBM Watson, Microsoft Azure AI, Amazon Web Services (AWS) AI, OpenAI, Nvidia, and Intel AI. These companies have made significant contributions to the field of AI, pushing the boundaries of what is possible with artificial intelligence technologies.\n",
      "\n",
      "**Noteworthy News in Artificial Intelligence:**\n",
      "Recent breakthroughs in AI research have paved the way for exciting applications in solving real-world problems. Partnerships and collaborations within the AI industry have also led to innovative solutions in autonomous vehicles, robotics, and other areas. Staying informed about the latest developments in AI is essential for professionals looking to leverage the power of artificial intelligence in their respective fields.\n",
      "\n",
      "**Call to Action:**\n",
      "As the field of AI continues to evolve rapidly, it is essential for professionals to stay informed and engaged with the latest trends and news in artificial intelligence. By keeping up with advancements in AI technologies, individuals can make informed decisions and drive innovation in their organizations. Let's embrace the future of artificial intelligence and explore the endless possibilities it has to offer.\n",
      "\n",
      "In conclusion, the future of artificial intelligence is bright, with ongoing advancements, key players driving innovation, and noteworthy news shaping the industry. By staying informed and engaged with the latest trends in AI, professionals can harness the power of artificial intelligence to drive growth and success in their respective fields. Stay tuned for more updates on the exciting world of artificial intelligence.\u001b[0m\n",
      "\n",
      "\u001b[1m> Finished chain.\u001b[0m\n",
      "\u001b[1m\u001b[92m [DEBUG]: == [Content Writer] Task output: # The Future of Artificial Intelligence: Trends, Players, and News\n",
      "\n",
      "**Introduction:**\n",
      "Artificial Intelligence (AI) has revolutionized various industries with its capabilities to automate tasks, analyze data, and make predictions. From healthcare to finance, AI is transforming the way businesses operate and how we interact with technology. In this blog post, we will explore the latest trends, key players, and noteworthy news in the field of AI to provide valuable insights for professionals in the technology, business, and academic sectors.\n",
      "\n",
      "**Latest Trends in Artificial Intelligence:**\n",
      "Machine learning advancements have been at the forefront of AI innovation, allowing systems to learn from data and improve over time. Natural language processing innovations have also played a significant role in enhancing communication between humans and machines. Moreover, the development of AI ethics and regulations is crucial to ensure responsible and ethical AI deployment across various industries such as healthcare, finance, and beyond.\n",
      "\n",
      "**Key Players in the AI Industry:**\n",
      "Leading the way in AI research and development are key players such as Google DeepMind, IBM Watson, Microsoft Azure AI, Amazon Web Services (AWS) AI, OpenAI, Nvidia, and Intel AI. These companies have made significant contributions to the field of AI, pushing the boundaries of what is possible with artificial intelligence technologies.\n",
      "\n",
      "**Noteworthy News in Artificial Intelligence:**\n",
      "Recent breakthroughs in AI research have paved the way for exciting applications in solving real-world problems. Partnerships and collaborations within the AI industry have also led to innovative solutions in autonomous vehicles, robotics, and other areas. Staying informed about the latest developments in AI is essential for professionals looking to leverage the power of artificial intelligence in their respective fields.\n",
      "\n",
      "**Call to Action:**\n",
      "As the field of AI continues to evolve rapidly, it is essential for professionals to stay informed and engaged with the latest trends and news in artificial intelligence. By keeping up with advancements in AI technologies, individuals can make informed decisions and drive innovation in their organizations. Let's embrace the future of artificial intelligence and explore the endless possibilities it has to offer.\n",
      "\n",
      "In conclusion, the future of artificial intelligence is bright, with ongoing advancements, key players driving innovation, and noteworthy news shaping the industry. By staying informed and engaged with the latest trends in AI, professionals can harness the power of artificial intelligence to drive growth and success in their respective fields. Stay tuned for more updates on the exciting world of artificial intelligence.\n",
      "\n",
      "\u001b[00m\n",
      "\u001b[1m\u001b[95m [DEBUG]: == Working Agent: Editor\u001b[00m\n",
      "\u001b[1m\u001b[95m [INFO]: == Starting Task: Proofread the given blog post for grammatical errors and alignment with the brand's voice.\u001b[00m\n",
      "\n",
      "\n",
      "\u001b[1m> Entering new CrewAgentExecutor chain...\u001b[0m\n"
     ]
    },
    {
     "name": "stdout",
     "output_type": "stream",
     "text": [
      "\u001b[32;1m\u001b[1;3mI now can give a great answer\n",
      "\n",
      "Final Answer:\n",
      "# The Future of Artificial Intelligence: Trends, Players, and News\n",
      "\n",
      "**Introduction:**\n",
      "Artificial Intelligence (AI) has completely transformed various industries by introducing automation, data analysis, and predictive capabilities. From healthcare to finance, AI has changed the landscape of business operations and technological interactions. This blog post aims to delve into the latest trends, key players, and noteworthy news in the AI sector to offer valuable insights to professionals in the technology, business, and academic realms.\n",
      "\n",
      "**Latest Trends in Artificial Intelligence:**\n",
      "The forefront of AI innovation has been dominated by advancements in machine learning, enabling systems to enhance their performance by learning from data. Additionally, breakthroughs in natural language processing have significantly improved communication between humans and machines. The establishment of ethical guidelines and regulations for AI is crucial to ensure responsible and ethical deployment of AI solutions in industries like healthcare and finance.\n",
      "\n",
      "**Key Players in the AI Industry:**\n",
      "Leading the charge in AI research and development are major players such as Google DeepMind, IBM Watson, Microsoft Azure AI, Amazon Web Services (AWS) AI, OpenAI, Nvidia, and Intel AI. These companies have made substantial contributions to the field, pushing the boundaries of artificial intelligence technologies and driving innovation.\n",
      "\n",
      "**Noteworthy News in Artificial Intelligence:**\n",
      "Recent advancements in AI research have opened up new possibilities for addressing real-world challenges. Collaborations and partnerships within the AI industry have resulted in cutting-edge solutions for autonomous vehicles, robotics, and other domains. Remaining updated on the latest developments in AI is crucial for professionals seeking to leverage AI's potential in their respective fields.\n",
      "\n",
      "**Call to Action:**\n",
      "As AI continues to progress rapidly, professionals must actively stay informed and engaged with the latest trends and news in the field. By staying abreast of AI advancements, individuals can make informed decisions and spur innovation within their organizations. Let's embrace the promising future of artificial intelligence and explore the myriad opportunities it presents.\n",
      "\n",
      "In conclusion, the future of artificial intelligence looks promising, with continuous advancements, influential players shaping the industry, and groundbreaking news driving innovation. By staying informed and engaged with the evolving trends in AI, professionals can harness the power of artificial intelligence to propel growth and success in their fields. Stay tuned for more updates on the dynamic world of artificial intelligence.\u001b[0m\n",
      "\n",
      "\u001b[1m> Finished chain.\u001b[0m\n",
      "\u001b[1m\u001b[92m [DEBUG]: == [Editor] Task output: # The Future of Artificial Intelligence: Trends, Players, and News\n",
      "\n",
      "**Introduction:**\n",
      "Artificial Intelligence (AI) has completely transformed various industries by introducing automation, data analysis, and predictive capabilities. From healthcare to finance, AI has changed the landscape of business operations and technological interactions. This blog post aims to delve into the latest trends, key players, and noteworthy news in the AI sector to offer valuable insights to professionals in the technology, business, and academic realms.\n",
      "\n",
      "**Latest Trends in Artificial Intelligence:**\n",
      "The forefront of AI innovation has been dominated by advancements in machine learning, enabling systems to enhance their performance by learning from data. Additionally, breakthroughs in natural language processing have significantly improved communication between humans and machines. The establishment of ethical guidelines and regulations for AI is crucial to ensure responsible and ethical deployment of AI solutions in industries like healthcare and finance.\n",
      "\n",
      "**Key Players in the AI Industry:**\n",
      "Leading the charge in AI research and development are major players such as Google DeepMind, IBM Watson, Microsoft Azure AI, Amazon Web Services (AWS) AI, OpenAI, Nvidia, and Intel AI. These companies have made substantial contributions to the field, pushing the boundaries of artificial intelligence technologies and driving innovation.\n",
      "\n",
      "**Noteworthy News in Artificial Intelligence:**\n",
      "Recent advancements in AI research have opened up new possibilities for addressing real-world challenges. Collaborations and partnerships within the AI industry have resulted in cutting-edge solutions for autonomous vehicles, robotics, and other domains. Remaining updated on the latest developments in AI is crucial for professionals seeking to leverage AI's potential in their respective fields.\n",
      "\n",
      "**Call to Action:**\n",
      "As AI continues to progress rapidly, professionals must actively stay informed and engaged with the latest trends and news in the field. By staying abreast of AI advancements, individuals can make informed decisions and spur innovation within their organizations. Let's embrace the promising future of artificial intelligence and explore the myriad opportunities it presents.\n",
      "\n",
      "In conclusion, the future of artificial intelligence looks promising, with continuous advancements, influential players shaping the industry, and groundbreaking news driving innovation. By staying informed and engaged with the evolving trends in AI, professionals can harness the power of artificial intelligence to propel growth and success in their fields. Stay tuned for more updates on the dynamic world of artificial intelligence.\n",
      "\n",
      "\u001b[00m\n"
     ]
    }
   ],
   "source": [
    "result = crew.kickoff(inputs={\"topic\": \"Artificial Intelligence\"})"
   ]
  },
  {
   "cell_type": "markdown",
   "metadata": {},
   "source": [
    "- Display the results of your execution as markdown in the notebook."
   ]
  },
  {
   "cell_type": "code",
   "execution_count": 12,
   "metadata": {
    "height": 47
   },
   "outputs": [
    {
     "data": {
      "text/markdown": [
       "# The Future of Artificial Intelligence: Trends, Players, and News\n",
       "\n",
       "**Introduction:**\n",
       "Artificial Intelligence (AI) has completely transformed various industries by introducing automation, data analysis, and predictive capabilities. From healthcare to finance, AI has changed the landscape of business operations and technological interactions. This blog post aims to delve into the latest trends, key players, and noteworthy news in the AI sector to offer valuable insights to professionals in the technology, business, and academic realms.\n",
       "\n",
       "**Latest Trends in Artificial Intelligence:**\n",
       "The forefront of AI innovation has been dominated by advancements in machine learning, enabling systems to enhance their performance by learning from data. Additionally, breakthroughs in natural language processing have significantly improved communication between humans and machines. The establishment of ethical guidelines and regulations for AI is crucial to ensure responsible and ethical deployment of AI solutions in industries like healthcare and finance.\n",
       "\n",
       "**Key Players in the AI Industry:**\n",
       "Leading the charge in AI research and development are major players such as Google DeepMind, IBM Watson, Microsoft Azure AI, Amazon Web Services (AWS) AI, OpenAI, Nvidia, and Intel AI. These companies have made substantial contributions to the field, pushing the boundaries of artificial intelligence technologies and driving innovation.\n",
       "\n",
       "**Noteworthy News in Artificial Intelligence:**\n",
       "Recent advancements in AI research have opened up new possibilities for addressing real-world challenges. Collaborations and partnerships within the AI industry have resulted in cutting-edge solutions for autonomous vehicles, robotics, and other domains. Remaining updated on the latest developments in AI is crucial for professionals seeking to leverage AI's potential in their respective fields.\n",
       "\n",
       "**Call to Action:**\n",
       "As AI continues to progress rapidly, professionals must actively stay informed and engaged with the latest trends and news in the field. By staying abreast of AI advancements, individuals can make informed decisions and spur innovation within their organizations. Let's embrace the promising future of artificial intelligence and explore the myriad opportunities it presents.\n",
       "\n",
       "In conclusion, the future of artificial intelligence looks promising, with continuous advancements, influential players shaping the industry, and groundbreaking news driving innovation. By staying informed and engaged with the evolving trends in AI, professionals can harness the power of artificial intelligence to propel growth and success in their fields. Stay tuned for more updates on the dynamic world of artificial intelligence."
      ],
      "text/plain": [
       "<IPython.core.display.Markdown object>"
      ]
     },
     "execution_count": 12,
     "metadata": {},
     "output_type": "execute_result"
    }
   ],
   "source": [
    "from IPython.display import Markdown\n",
    "Markdown(result)"
   ]
  },
  {
   "cell_type": "markdown",
   "metadata": {},
   "source": [
    "## Try it Yourself\n",
    "\n",
    "- Pass in a topic of your choice and see what the agents come up with!"
   ]
  },
  {
   "cell_type": "code",
   "execution_count": 13,
   "metadata": {
    "height": 47
   },
   "outputs": [
    {
     "name": "stdout",
     "output_type": "stream",
     "text": [
      "\u001b[1m\u001b[95m [DEBUG]: == Working Agent: Content Planner\u001b[00m\n",
      "\u001b[1m\u001b[95m [INFO]: == Starting Task: 1. Prioritize the latest trends, key players, and noteworthy news on Máquina da Gödel.\n",
      "2. Identify the target audience, considering their interests and pain points.\n",
      "3. Develop a detailed content outline including an introduction, key points, and a call to action.\n",
      "4. Include SEO keywords and relevant data or sources.\u001b[00m\n",
      "\n",
      "\n",
      "\u001b[1m> Entering new CrewAgentExecutor chain...\u001b[0m\n",
      "\u001b[32;1m\u001b[1;3mI now can give a great answer\n",
      "\n",
      "Final Answer:\n",
      "\n",
      "Content Plan: \n",
      "Title: Unveiling the Mysteries of Máquina da Gödel\n",
      "\n",
      "Introduction:\n",
      "- Brief overview of Máquina da Gödel and its significance in the field of computer science and mathematics.\n",
      "- Highlight the complexity and implications of Gödel's incompleteness theorems in relation to the machine.\n",
      "\n",
      "Key Points:\n",
      "1. The History of Máquina da Gödel\n",
      "- Discuss the origins of the concept and its development over time.\n",
      "- Explain how the machine operates and its theoretical capabilities.\n",
      "\n",
      "2. Latest Trends and Noteworthy News\n",
      "- Explore recent advancements in the field of computational logic and artificial intelligence.\n",
      "- Discuss any new research or breakthroughs related to Máquina da Gödel.\n",
      "\n",
      "3. Key Players in the Field\n",
      "- Highlight influential researchers and scholars who have contributed to the understanding of Gödel's theorems and their applications.\n",
      "- Provide insights into the work of key figures in the development of Máquina da Gödel.\n",
      "\n",
      "Audience Analysis:\n",
      "Target Audience: \n",
      "- Students and professionals in the fields of computer science, mathematics, and artificial intelligence.\n",
      "- Individuals interested in theoretical computer science and logic.\n",
      "\n",
      "Interests:\n",
      "- Understanding the complexities of Gödel's incompleteness theorems and their implications.\n",
      "- Exploring the intersection of philosophy, mathematics, and technology.\n",
      "- Learning about cutting-edge research in the field of computational logic.\n",
      "\n",
      "Pain Points:\n",
      "- Difficulty grasping the abstract concepts of Gödel's theorems and their practical applications.\n",
      "- Limited access to comprehensive resources and information on Máquina da Gödel.\n",
      "- Desire for clear explanations and practical examples to enhance understanding.\n",
      "\n",
      "SEO Keywords:\n",
      "- Máquina da Gödel\n",
      "- Gödel's incompleteness theorems\n",
      "- Computational logic\n",
      "- Artificial intelligence\n",
      "- Theoretical computer science\n",
      "\n",
      "Resources:\n",
      "1. \"Gödel's Incompleteness Theorems\" by Raymond M. Smullyan\n",
      "2. \"Computability and Logic\" by George S. Boolos\n",
      "3. \"The Gödel Machine\" by Jürgen Schmidhuber\n",
      "4. Stanford Encyclopedia of Philosophy entry on Kurt Gödel\n",
      "5. ACM Digital Library for research articles on Máquina da Gödel\n",
      "\n",
      "By following this comprehensive content plan, the blog article on Máquina da Gödel will provide valuable insights and information for the target audience, ensuring engagement and education on this intriguing topic.\u001b[0m\n",
      "\n",
      "\u001b[1m> Finished chain.\u001b[0m\n",
      "\u001b[1m\u001b[92m [DEBUG]: == [Content Planner] Task output: Content Plan: \n",
      "Title: Unveiling the Mysteries of Máquina da Gödel\n",
      "\n",
      "Introduction:\n",
      "- Brief overview of Máquina da Gödel and its significance in the field of computer science and mathematics.\n",
      "- Highlight the complexity and implications of Gödel's incompleteness theorems in relation to the machine.\n",
      "\n",
      "Key Points:\n",
      "1. The History of Máquina da Gödel\n",
      "- Discuss the origins of the concept and its development over time.\n",
      "- Explain how the machine operates and its theoretical capabilities.\n",
      "\n",
      "2. Latest Trends and Noteworthy News\n",
      "- Explore recent advancements in the field of computational logic and artificial intelligence.\n",
      "- Discuss any new research or breakthroughs related to Máquina da Gödel.\n",
      "\n",
      "3. Key Players in the Field\n",
      "- Highlight influential researchers and scholars who have contributed to the understanding of Gödel's theorems and their applications.\n",
      "- Provide insights into the work of key figures in the development of Máquina da Gödel.\n",
      "\n",
      "Audience Analysis:\n",
      "Target Audience: \n",
      "- Students and professionals in the fields of computer science, mathematics, and artificial intelligence.\n",
      "- Individuals interested in theoretical computer science and logic.\n",
      "\n",
      "Interests:\n",
      "- Understanding the complexities of Gödel's incompleteness theorems and their implications.\n",
      "- Exploring the intersection of philosophy, mathematics, and technology.\n",
      "- Learning about cutting-edge research in the field of computational logic.\n",
      "\n",
      "Pain Points:\n",
      "- Difficulty grasping the abstract concepts of Gödel's theorems and their practical applications.\n",
      "- Limited access to comprehensive resources and information on Máquina da Gödel.\n",
      "- Desire for clear explanations and practical examples to enhance understanding.\n",
      "\n",
      "SEO Keywords:\n",
      "- Máquina da Gödel\n",
      "- Gödel's incompleteness theorems\n",
      "- Computational logic\n",
      "- Artificial intelligence\n",
      "- Theoretical computer science\n",
      "\n",
      "Resources:\n",
      "1. \"Gödel's Incompleteness Theorems\" by Raymond M. Smullyan\n",
      "2. \"Computability and Logic\" by George S. Boolos\n",
      "3. \"The Gödel Machine\" by Jürgen Schmidhuber\n",
      "4. Stanford Encyclopedia of Philosophy entry on Kurt Gödel\n",
      "5. ACM Digital Library for research articles on Máquina da Gödel\n",
      "\n",
      "By following this comprehensive content plan, the blog article on Máquina da Gödel will provide valuable insights and information for the target audience, ensuring engagement and education on this intriguing topic.\n",
      "\n",
      "\u001b[00m\n",
      "\u001b[1m\u001b[95m [DEBUG]: == Working Agent: Content Writer\u001b[00m\n",
      "\u001b[1m\u001b[95m [INFO]: == Starting Task: 1. Use the content plan to craft a compelling blog post on Máquina da Gödel.\n",
      "2. Incorporate SEO keywords naturally.\n",
      "3. Sections/Subtitles are properly named in an engaging manner.\n",
      "4. Ensure the post is structured with an engaging introduction, insightful body, and a summarizing conclusion.\n",
      "5. Proofread for grammatical errors and alignment with the brand's voice.\n",
      "\u001b[00m\n",
      "\n",
      "\n",
      "\u001b[1m> Entering new CrewAgentExecutor chain...\u001b[0m\n",
      "\u001b[32;1m\u001b[1;3mI now can give a great answer\n",
      "\n",
      "Final Answer:\n",
      "\n",
      "# Unveiling the Mysteries of Máquina da Gödel\n",
      "\n",
      "## Introduction\n",
      "\n",
      "Máquina da Gödel, also known as the Gödel Machine, is a fascinating concept that intertwines the realms of computer science and mathematics, particularly in the context of Gödel's incompleteness theorems. These theorems, formulated by the renowned mathematician Kurt Gödel, have profound implications for the limits of formal systems and computational logic. The Máquina da Gödel serves as a theoretical construct that embodies the essence of Gödel's theorems, pushing the boundaries of what is computationally possible.\n",
      "\n",
      "## The History of Máquina da Gödel\n",
      "\n",
      "The origins of the Máquina da Gödel can be traced back to Gödel's groundbreaking work on the incompleteness theorems in the early 20th century. This machine, in essence, is a hypothetical device that can perform any mathematical computation based on a given set of axioms. It operates by recursively improving its own code, leading to potentially infinite self-enhancement in solving mathematical problems. The theoretical capabilities of the Máquina da Gödel are vast, showcasing the power and complexity of computational logic inspired by Gödel's theorems.\n",
      "\n",
      "## Latest Trends and Noteworthy News\n",
      "\n",
      "In recent years, advancements in computational logic and artificial intelligence have reignited interest in the concepts underlying the Máquina da Gödel. Researchers and scholars are exploring new avenues in theoretical computer science, delving into the depths of Gödel's theorems to push the boundaries of what is achievable in computation. Breakthroughs related to the Máquina da Gödel are paving the way for innovative solutions in logic-based problem-solving and artificial intelligence applications.\n",
      "\n",
      "## Key Players in the Field\n",
      "\n",
      "Key figures in the field of computational logic and Gödel's theorems have played instrumental roles in shaping our understanding of the Máquina da Gödel. Influential researchers and scholars, such as Jürgen Schmidhuber, have contributed significantly to the development of this theoretical machine, shedding light on the intricate connections between mathematics, philosophy, and technology. Their work continues to inspire new generations of students and professionals in the fields of computer science, mathematics, and artificial intelligence.\n",
      "\n",
      "In conclusion, the Máquina da Gödel stands as a testament to the enduring legacy of Kurt Gödel and his incompleteness theorems. By delving into the complexities of computational logic and theoretical computer science, we embark on a journey of discovery and innovation that challenges the very fabric of what is computationally possible. As we explore the intersection of philosophy, mathematics, and technology through the lens of the Máquina da Gödel, we uncover new horizons of knowledge and understanding in this ever-evolving field.\u001b[0m\n",
      "\n",
      "\u001b[1m> Finished chain.\u001b[0m\n",
      "\u001b[1m\u001b[92m [DEBUG]: == [Content Writer] Task output: # Unveiling the Mysteries of Máquina da Gödel\n",
      "\n",
      "## Introduction\n",
      "\n",
      "Máquina da Gödel, also known as the Gödel Machine, is a fascinating concept that intertwines the realms of computer science and mathematics, particularly in the context of Gödel's incompleteness theorems. These theorems, formulated by the renowned mathematician Kurt Gödel, have profound implications for the limits of formal systems and computational logic. The Máquina da Gödel serves as a theoretical construct that embodies the essence of Gödel's theorems, pushing the boundaries of what is computationally possible.\n",
      "\n",
      "## The History of Máquina da Gödel\n",
      "\n",
      "The origins of the Máquina da Gödel can be traced back to Gödel's groundbreaking work on the incompleteness theorems in the early 20th century. This machine, in essence, is a hypothetical device that can perform any mathematical computation based on a given set of axioms. It operates by recursively improving its own code, leading to potentially infinite self-enhancement in solving mathematical problems. The theoretical capabilities of the Máquina da Gödel are vast, showcasing the power and complexity of computational logic inspired by Gödel's theorems.\n",
      "\n",
      "## Latest Trends and Noteworthy News\n",
      "\n",
      "In recent years, advancements in computational logic and artificial intelligence have reignited interest in the concepts underlying the Máquina da Gödel. Researchers and scholars are exploring new avenues in theoretical computer science, delving into the depths of Gödel's theorems to push the boundaries of what is achievable in computation. Breakthroughs related to the Máquina da Gödel are paving the way for innovative solutions in logic-based problem-solving and artificial intelligence applications.\n",
      "\n",
      "## Key Players in the Field\n",
      "\n",
      "Key figures in the field of computational logic and Gödel's theorems have played instrumental roles in shaping our understanding of the Máquina da Gödel. Influential researchers and scholars, such as Jürgen Schmidhuber, have contributed significantly to the development of this theoretical machine, shedding light on the intricate connections between mathematics, philosophy, and technology. Their work continues to inspire new generations of students and professionals in the fields of computer science, mathematics, and artificial intelligence.\n",
      "\n",
      "In conclusion, the Máquina da Gödel stands as a testament to the enduring legacy of Kurt Gödel and his incompleteness theorems. By delving into the complexities of computational logic and theoretical computer science, we embark on a journey of discovery and innovation that challenges the very fabric of what is computationally possible. As we explore the intersection of philosophy, mathematics, and technology through the lens of the Máquina da Gödel, we uncover new horizons of knowledge and understanding in this ever-evolving field.\n",
      "\n",
      "\u001b[00m\n",
      "\u001b[1m\u001b[95m [DEBUG]: == Working Agent: Editor\u001b[00m\n",
      "\u001b[1m\u001b[95m [INFO]: == Starting Task: Proofread the given blog post for grammatical errors and alignment with the brand's voice.\u001b[00m\n",
      "\n",
      "\n",
      "\u001b[1m> Entering new CrewAgentExecutor chain...\u001b[0m\n"
     ]
    },
    {
     "name": "stdout",
     "output_type": "stream",
     "text": [
      "\u001b[32;1m\u001b[1;3mI now can give a great answer\n",
      "Final Answer: \n",
      "\n",
      "# Unveiling the Mysteries of Máquina da Gödel\n",
      "\n",
      "## Introduction\n",
      "\n",
      "The Máquina da Gödel, also known as the Gödel Machine, is a captivating concept that merges the realms of computer science and mathematics, particularly within the context of Gödel's incompleteness theorems. These theorems, formulated by the esteemed mathematician Kurt Gödel, hold profound implications for the boundaries of formal systems and computational logic. The Máquina da Gödel serves as a theoretical construct that embodies the essence of Gödel's theorems, pushing the limits of what is computationally feasible.\n",
      "\n",
      "## The History of Máquina da Gödel\n",
      "\n",
      "The roots of the Máquina da Gödel can be traced back to Gödel's groundbreaking work on the incompleteness theorems in the early 20th century. This machine, essentially, is a hypothetical device capable of executing any mathematical computation based on a given set of axioms. It functions by iteratively enhancing its own code, potentially leading to infinite self-improvement in solving mathematical problems. The theoretical capacities of the Máquina da Gödel are extensive, demonstrating the power and intricacy of computational logic inspired by Gödel's theorems.\n",
      "\n",
      "## Latest Trends and Noteworthy News\n",
      "\n",
      "In recent times, progressions in computational logic and artificial intelligence have sparked renewed interest in the principles underpinning the Máquina da Gödel. Researchers and academics are exploring novel pathways in theoretical computer science, delving deep into Gödel's theorems to expand the boundaries of what is attainable in computation. Breakthroughs associated with the Máquina da Gödel are paving the way for inventive solutions in logic-based issue resolution and artificial intelligence applications.\n",
      "\n",
      "## Key Players in the Field\n",
      "\n",
      "Prominent figures in the realm of computational logic and Gödel's theorems have played pivotal roles in shaping our comprehension of the Máquina da Gödel. Influential researchers and scholars, such as Jürgen Schmidhuber, have made significant contributions to the advancement of this theoretical machine, elucidating the intricate connections between mathematics, philosophy, and technology. Their endeavors continue to inspire new cohorts of students and professionals in the domains of computer science, mathematics, and artificial intelligence.\n",
      "\n",
      "In conclusion, the Máquina da Gödel stands as a testament to the enduring legacy of Kurt Gödel and his incompleteness theorems. By delving into the intricacies of computational logic and theoretical computer science, we embark on a voyage of exploration and innovation that challenges the very essence of what is computationally achievable. As we investigate the confluence of philosophy, mathematics, and technology through the prism of the Máquina da Gödel, we unearth fresh horizons of knowledge and insight in this ever-evolving field.\u001b[0m\n",
      "\n",
      "\u001b[1m> Finished chain.\u001b[0m\n",
      "\u001b[1m\u001b[92m [DEBUG]: == [Editor] Task output: # Unveiling the Mysteries of Máquina da Gödel\n",
      "\n",
      "## Introduction\n",
      "\n",
      "The Máquina da Gödel, also known as the Gödel Machine, is a captivating concept that merges the realms of computer science and mathematics, particularly within the context of Gödel's incompleteness theorems. These theorems, formulated by the esteemed mathematician Kurt Gödel, hold profound implications for the boundaries of formal systems and computational logic. The Máquina da Gödel serves as a theoretical construct that embodies the essence of Gödel's theorems, pushing the limits of what is computationally feasible.\n",
      "\n",
      "## The History of Máquina da Gödel\n",
      "\n",
      "The roots of the Máquina da Gödel can be traced back to Gödel's groundbreaking work on the incompleteness theorems in the early 20th century. This machine, essentially, is a hypothetical device capable of executing any mathematical computation based on a given set of axioms. It functions by iteratively enhancing its own code, potentially leading to infinite self-improvement in solving mathematical problems. The theoretical capacities of the Máquina da Gödel are extensive, demonstrating the power and intricacy of computational logic inspired by Gödel's theorems.\n",
      "\n",
      "## Latest Trends and Noteworthy News\n",
      "\n",
      "In recent times, progressions in computational logic and artificial intelligence have sparked renewed interest in the principles underpinning the Máquina da Gödel. Researchers and academics are exploring novel pathways in theoretical computer science, delving deep into Gödel's theorems to expand the boundaries of what is attainable in computation. Breakthroughs associated with the Máquina da Gödel are paving the way for inventive solutions in logic-based issue resolution and artificial intelligence applications.\n",
      "\n",
      "## Key Players in the Field\n",
      "\n",
      "Prominent figures in the realm of computational logic and Gödel's theorems have played pivotal roles in shaping our comprehension of the Máquina da Gödel. Influential researchers and scholars, such as Jürgen Schmidhuber, have made significant contributions to the advancement of this theoretical machine, elucidating the intricate connections between mathematics, philosophy, and technology. Their endeavors continue to inspire new cohorts of students and professionals in the domains of computer science, mathematics, and artificial intelligence.\n",
      "\n",
      "In conclusion, the Máquina da Gödel stands as a testament to the enduring legacy of Kurt Gödel and his incompleteness theorems. By delving into the intricacies of computational logic and theoretical computer science, we embark on a voyage of exploration and innovation that challenges the very essence of what is computationally achievable. As we investigate the confluence of philosophy, mathematics, and technology through the prism of the Máquina da Gödel, we unearth fresh horizons of knowledge and insight in this ever-evolving field.\n",
      "\n",
      "\u001b[00m\n"
     ]
    }
   ],
   "source": [
    "topic = \"Máquina da Gödel\"\n",
    "result = crew.kickoff(inputs={\"topic\": topic})"
   ]
  },
  {
   "cell_type": "code",
   "execution_count": 14,
   "metadata": {
    "height": 30
   },
   "outputs": [
    {
     "data": {
      "text/markdown": [
       "# Unveiling the Mysteries of Máquina da Gödel\n",
       "\n",
       "## Introduction\n",
       "\n",
       "The Máquina da Gödel, also known as the Gödel Machine, is a captivating concept that merges the realms of computer science and mathematics, particularly within the context of Gödel's incompleteness theorems. These theorems, formulated by the esteemed mathematician Kurt Gödel, hold profound implications for the boundaries of formal systems and computational logic. The Máquina da Gödel serves as a theoretical construct that embodies the essence of Gödel's theorems, pushing the limits of what is computationally feasible.\n",
       "\n",
       "## The History of Máquina da Gödel\n",
       "\n",
       "The roots of the Máquina da Gödel can be traced back to Gödel's groundbreaking work on the incompleteness theorems in the early 20th century. This machine, essentially, is a hypothetical device capable of executing any mathematical computation based on a given set of axioms. It functions by iteratively enhancing its own code, potentially leading to infinite self-improvement in solving mathematical problems. The theoretical capacities of the Máquina da Gödel are extensive, demonstrating the power and intricacy of computational logic inspired by Gödel's theorems.\n",
       "\n",
       "## Latest Trends and Noteworthy News\n",
       "\n",
       "In recent times, progressions in computational logic and artificial intelligence have sparked renewed interest in the principles underpinning the Máquina da Gödel. Researchers and academics are exploring novel pathways in theoretical computer science, delving deep into Gödel's theorems to expand the boundaries of what is attainable in computation. Breakthroughs associated with the Máquina da Gödel are paving the way for inventive solutions in logic-based issue resolution and artificial intelligence applications.\n",
       "\n",
       "## Key Players in the Field\n",
       "\n",
       "Prominent figures in the realm of computational logic and Gödel's theorems have played pivotal roles in shaping our comprehension of the Máquina da Gödel. Influential researchers and scholars, such as Jürgen Schmidhuber, have made significant contributions to the advancement of this theoretical machine, elucidating the intricate connections between mathematics, philosophy, and technology. Their endeavors continue to inspire new cohorts of students and professionals in the domains of computer science, mathematics, and artificial intelligence.\n",
       "\n",
       "In conclusion, the Máquina da Gödel stands as a testament to the enduring legacy of Kurt Gödel and his incompleteness theorems. By delving into the intricacies of computational logic and theoretical computer science, we embark on a voyage of exploration and innovation that challenges the very essence of what is computationally achievable. As we investigate the confluence of philosophy, mathematics, and technology through the prism of the Máquina da Gödel, we unearth fresh horizons of knowledge and insight in this ever-evolving field."
      ],
      "text/plain": [
       "<IPython.core.display.Markdown object>"
      ]
     },
     "execution_count": 14,
     "metadata": {},
     "output_type": "execute_result"
    }
   ],
   "source": [
    "Markdown(result)"
   ]
  },
  {
   "cell_type": "markdown",
   "metadata": {},
   "source": [
    "<a name='1'></a>\n",
    " ## Other Popular Models as LLM for your Agents"
   ]
  },
  {
   "cell_type": "markdown",
   "metadata": {},
   "source": [
    "#### Hugging Face (HuggingFaceHub endpoint)\n",
    "\n",
    "```Python\n",
    "from langchain_community.llms import HuggingFaceHub\n",
    "\n",
    "llm = HuggingFaceHub(\n",
    "    repo_id=\"HuggingFaceH4/zephyr-7b-beta\",\n",
    "    huggingfacehub_api_token=\"<HF_TOKEN_HERE>\",\n",
    "    task=\"text-generation\",\n",
    ")\n",
    "\n",
    "### you will pass \"llm\" to your agent function\n",
    "```"
   ]
  },
  {
   "cell_type": "markdown",
   "metadata": {},
   "source": [
    "#### Mistral API\n",
    "\n",
    "```Python\n",
    "OPENAI_API_KEY=your-mistral-api-key\n",
    "OPENAI_API_BASE=https://api.mistral.ai/v1\n",
    "OPENAI_MODEL_NAME=\"mistral-small\"\n",
    "```"
   ]
  },
  {
   "cell_type": "markdown",
   "metadata": {},
   "source": [
    "#### Cohere\n",
    "\n",
    "```Python\n",
    "from langchain_community.chat_models import ChatCohere\n",
    "# Initialize language model\n",
    "os.environ[\"COHERE_API_KEY\"] = \"your-cohere-api-key\"\n",
    "llm = ChatCohere()\n",
    "\n",
    "### you will pass \"llm\" to your agent function\n",
    "```"
   ]
  },
  {
   "cell_type": "markdown",
   "metadata": {},
   "source": [
    "### For using Llama locally with Ollama and more, checkout the crewAI documentation on [Connecting to any LLM](https://docs.crewai.com/how-to/LLM-Connections/)."
   ]
  },
  {
   "cell_type": "code",
   "execution_count": null,
   "metadata": {
    "height": 30
   },
   "outputs": [],
   "source": []
  },
  {
   "cell_type": "code",
   "execution_count": null,
   "metadata": {
    "height": 30
   },
   "outputs": [],
   "source": []
  },
  {
   "cell_type": "code",
   "execution_count": null,
   "metadata": {
    "height": 30
   },
   "outputs": [],
   "source": []
  }
 ],
 "metadata": {
  "colab": {
   "gpuType": "T4",
   "provenance": []
  },
  "kernelspec": {
   "display_name": "Python 3 (ipykernel)",
   "language": "python",
   "name": "python3"
  },
  "language_info": {
   "codemirror_mode": {
    "name": "ipython",
    "version": 3
   },
   "file_extension": ".py",
   "mimetype": "text/x-python",
   "name": "python",
   "nbconvert_exporter": "python",
   "pygments_lexer": "ipython3",
   "version": "3.11.9"
  }
 },
 "nbformat": 4,
 "nbformat_minor": 4
}
