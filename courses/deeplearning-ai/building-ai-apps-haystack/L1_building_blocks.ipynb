{
 "cells": [
  {
   "cell_type": "markdown",
   "id": "074cb0ae-eeb1-4082-acee-1b4c93c4fcc4",
   "metadata": {},
   "source": [
    "# L1: Haystack Building Blocks"
   ]
  },
  {
   "cell_type": "markdown",
   "id": "c90f55dc-4b00-4178-8177-caed293f7b24",
   "metadata": {},
   "source": [
    "<p style=\"background-color:#fff6e4; padding:15px; border-width:3px; border-color:#f5ecda; border-style:solid; border-radius:6px\"> ⏳ <b>Note <code>(Kernel Starting)</code>:</b> This notebook takes about 30 seconds to be ready to use. You may start and watch the video while you wait.</p>"
   ]
  },
  {
   "cell_type": "code",
   "execution_count": 1,
   "id": "b7a24ae1-bbd9-4d99-9cfe-c7d7cb4a3013",
   "metadata": {
    "height": 47
   },
   "outputs": [],
   "source": [
    "import warnings\n",
    "warnings.filterwarnings('ignore')"
   ]
  },
  {
   "cell_type": "code",
   "execution_count": 2,
   "id": "c7d8046a-9685-45e7-8c8d-74b0c654a99d",
   "metadata": {
    "height": 64
   },
   "outputs": [],
   "source": [
    "from helper import load_env\n",
    "# You need to set OPENAI_API_KEY\n",
    "load_env()"
   ]
  },
  {
   "cell_type": "markdown",
   "id": "d49501c0-c9ea-4a8c-bf8f-d0c7db3f79cb",
   "metadata": {},
   "source": [
    "<p style=\"background-color:#fff6ff; padding:15px; border-width:3px; border-color:#efe6ef; border-style:solid; border-radius:6px\"> 💻 &nbsp; <b>Access <code>requirements.txt</code> and <code>helper.py</code> files:</b> 1) click on the <em>\"File\"</em> option on the top menu of the notebook and then 2) click on <em>\"Open\"</em>. For more help, please see the <em>\"Appendix - Tips and Help\"</em> Lesson.</p>"
   ]
  },
  {
   "cell_type": "markdown",
   "id": "ad6b99b7",
   "metadata": {},
   "source": [
    "> **Note**: At time of recording, we are using haystack-ai==2.2.4 \n",
    "\n",
    "To build any sort of AI application with Haystack, we combine Components [[+]](https://docs.haystack.deepset.ai/docs/components?utm_campaign=developer-relations&utm_source=dlai) into full Pipelines [[+]](https://docs.haystack.deepset.ai/docs/pipelines?utm_campaign=developer-relations&utm_source=dlai)."
   ]
  },
  {
   "cell_type": "markdown",
   "id": "7ca01476-ddc8-47ef-b6c9-d03dc3e6cd30",
   "metadata": {},
   "source": [
    "## Components"
   ]
  },
  {
   "cell_type": "code",
   "execution_count": 3,
   "id": "a3ab0d4c-3270-4904-af40-d3a2e0fba9f6",
   "metadata": {
    "height": 64
   },
   "outputs": [],
   "source": [
    "from haystack.components.embedders import OpenAIDocumentEmbedder\n",
    "\n",
    "embedder = OpenAIDocumentEmbedder(model=\"text-embedding-3-small\")"
   ]
  },
  {
   "cell_type": "code",
   "execution_count": 4,
   "id": "6fbc9a3c-8e03-4891-b2ea-a78b5bd9573f",
   "metadata": {
    "height": 30
   },
   "outputs": [
    {
     "data": {
      "text/plain": [
       "<haystack.components.embedders.openai_document_embedder.OpenAIDocumentEmbedder object at 0x7f45ceb80710>\n",
       "Inputs:\n",
       "  - documents: List[Document]\n",
       "Outputs:\n",
       "  - documents: List[Document]\n",
       "  - meta: Dict[str, Any]"
      ]
     },
     "execution_count": 4,
     "metadata": {},
     "output_type": "execute_result"
    }
   ],
   "source": [
    "embedder"
   ]
  },
  {
   "cell_type": "code",
   "execution_count": 6,
   "id": "e8bc48cf-c19b-4514-b40e-6519855d6148",
   "metadata": {
    "height": 132
   },
   "outputs": [
    {
     "name": "stderr",
     "output_type": "stream",
     "text": [
      "Calculating embeddings: 100%|██████████| 1/1 [00:00<00:00,  1.80it/s]\n"
     ]
    },
    {
     "data": {
      "text/plain": [
       "{'documents': [Document(id=cca6283a4f41557c49df1c5087a6be0ec172815a8d0c811e435caf6b1a93e0b4, content: 'Haystack is an open source AI framework to build full AI applications in Python', embedding: vector of size 1536),\n",
       "  Document(id=11ee1490e1dc5cd44361b1541008891b0b40aabd4d5bb2da6a2499f23e6120f7, content: 'You can build AI Pipelines by combining Components', embedding: vector of size 1536)],\n",
       " 'meta': {'model': 'text-embedding-3-small',\n",
       "  'usage': {'prompt_tokens': 24, 'total_tokens': 24}}}"
      ]
     },
     "execution_count": 6,
     "metadata": {},
     "output_type": "execute_result"
    }
   ],
   "source": [
    "from haystack.dataclasses import Document\n",
    "\n",
    "documents = [Document(content=\"Haystack is an open source AI framework to build full AI applications in Python\"),\n",
    "             Document(content=\"You can build AI Pipelines by combining Components\"),]\n",
    "\n",
    "result_embedder = embedder.run(documents=documents)\n",
    "result_embedder"
   ]
  },
  {
   "cell_type": "code",
   "execution_count": 12,
   "id": "8ba57aeb",
   "metadata": {
    "height": 47
   },
   "outputs": [],
   "source": [
    "# acess the embedding of the first document\n",
    "# result_embedder[\"documents\"][0].embedding"
   ]
  },
  {
   "cell_type": "markdown",
   "id": "a5a80062-7da6-4402-955c-3e66c084f008",
   "metadata": {},
   "source": [
    "## Pipelines\n",
    "### Initialize a Document Store\n",
    "\n",
    "Check out other available [Document Stores](https://docs.haystack.deepset.ai/docs/document-store?utm_campaign=developer-relations&utm_source=dlai). In this example, we will use the simplest document store that has no setup requirements, the [`InMemoryDocumentStore`](https://docs.haystack.deepset.ai/docs/inmemorydocumentstore?utm_campaign=developer-relations&utm_source=dlai).\n"
   ]
  },
  {
   "cell_type": "code",
   "execution_count": 13,
   "id": "833acda7-69ff-4910-b804-5b5e1055ed25",
   "metadata": {
    "height": 64
   },
   "outputs": [],
   "source": [
    "from haystack.document_stores.in_memory import InMemoryDocumentStore\n",
    "\n",
    "document_store = InMemoryDocumentStore()"
   ]
  },
  {
   "cell_type": "markdown",
   "id": "faec1072-2e4e-4af6-aae0-abb843094773",
   "metadata": {},
   "source": [
    "### Writing documents with embeddings into a document store\n"
   ]
  },
  {
   "cell_type": "code",
   "execution_count": 14,
   "id": "7e22e448-d929-4bb7-9eb1-a803b90cfa90",
   "metadata": {
    "height": 319
   },
   "outputs": [],
   "source": [
    "from haystack import Pipeline\n",
    "\n",
    "from haystack.components.converters.txt import TextFileToDocument\n",
    "from haystack.components.preprocessors.document_splitter import DocumentSplitter\n",
    "from haystack.components.embedders import OpenAIDocumentEmbedder\n",
    "from haystack.components.writers import DocumentWriter\n",
    "\n",
    "converter = TextFileToDocument()\n",
    "splitter = DocumentSplitter()\n",
    "embedder = OpenAIDocumentEmbedder()\n",
    "writer = DocumentWriter(document_store=document_store)\n",
    "\n",
    "indexing_pipeline = Pipeline()\n",
    "\n",
    "indexing_pipeline.add_component(\"converter\", converter)\n",
    "indexing_pipeline.add_component(\"splitter\", splitter)\n",
    "indexing_pipeline.add_component(\"embedder\", embedder)\n",
    "indexing_pipeline.add_component(\"writer\", writer)"
   ]
  },
  {
   "cell_type": "markdown",
   "id": "0e97387b-71c2-401a-9206-74e29626ce4d",
   "metadata": {},
   "source": [
    "#### Connecting Components"
   ]
  },
  {
   "cell_type": "code",
   "execution_count": 15,
   "id": "570405d2-2517-43c7-a29d-cc4c0ffbff24",
   "metadata": {
    "height": 64
   },
   "outputs": [
    {
     "data": {
      "text/plain": [
       "<haystack.core.pipeline.pipeline.Pipeline object at 0x7f45788ab8d0>\n",
       "🚅 Components\n",
       "  - converter: TextFileToDocument\n",
       "  - splitter: DocumentSplitter\n",
       "  - embedder: OpenAIDocumentEmbedder\n",
       "  - writer: DocumentWriter\n",
       "🛤️ Connections\n",
       "  - converter.documents -> splitter.documents (List[Document])\n",
       "  - splitter.documents -> embedder.documents (List[Document])\n",
       "  - embedder.documents -> writer.documents (List[Document])"
      ]
     },
     "execution_count": 15,
     "metadata": {},
     "output_type": "execute_result"
    }
   ],
   "source": [
    "indexing_pipeline.connect(\"converter\", \"splitter\")\n",
    "indexing_pipeline.connect(\"splitter\", \"embedder\")\n",
    "indexing_pipeline.connect(\"embedder\", \"writer\")"
   ]
  },
  {
   "cell_type": "code",
   "execution_count": 16,
   "id": "81bb8d46-91c4-4dfd-a9d5-cca9b463105d",
   "metadata": {
    "height": 30
   },
   "outputs": [
    {
     "data": {
      "image/png": "[encoded data removed]",
      "text/plain": [
       "<IPython.core.display.Image object>"
      ]
     },
     "metadata": {},
     "output_type": "display_data"
    }
   ],
   "source": [
    "indexing_pipeline.show()"
   ]
  },
  {
   "cell_type": "markdown",
   "id": "369efbd7-f94c-468d-9de5-872dc2567a94",
   "metadata": {},
   "source": [
    "#### Running Pipelines\n"
   ]
  },
  {
   "cell_type": "code",
   "execution_count": 17,
   "id": "93396169-0559-4fce-ad5e-bbd28f30c5ca",
   "metadata": {
    "height": 30
   },
   "outputs": [
    {
     "name": "stderr",
     "output_type": "stream",
     "text": [
      "Calculating embeddings: 100%|██████████| 2/2 [00:01<00:00,  1.75it/s]\n"
     ]
    },
    {
     "data": {
      "text/plain": [
       "{'embedder': {'meta': {'model': 'text-embedding-ada-002-v2',\n",
       "   'usage': {'prompt_tokens': 14631, 'total_tokens': 14631}}},\n",
       " 'writer': {'documents_written': 47}}"
      ]
     },
     "execution_count": 17,
     "metadata": {},
     "output_type": "execute_result"
    }
   ],
   "source": [
    "indexing_pipeline.run({\"converter\": {\"sources\": ['data/davinci.txt']}})"
   ]
  },
  {
   "cell_type": "code",
   "execution_count": 18,
   "id": "6c7e214c-b550-4447-8bdb-6fe78f5a532d",
   "metadata": {
    "height": 30
   },
   "outputs": [
    {
     "data": {
      "text/plain": [
       "'Leonardo\\'s achievements it is necessary to\\r\\nregard him as a scientist quite as much as an artist, as a philosopher\\r\\nno less than a painter, and as a draughtsman rather than a colourist.\\r\\nThere is hardly a branch of human learning to which he did not at\\r\\none time or another give his eager attention, and he was engrossed in\\r\\nturn by the study of architecture--the foundation-stone of all true\\r\\nart--sculpture, mathematics, engineering and music. His versatility\\r\\nwas unbounded, and we are apt to regret that this many-sided genius\\r\\ndid not realise that it is by developing his power within certain\\r\\nlimits that the great master is revealed. Leonardo may be described as\\r\\nthe most Universal Genius of Christian times-perhaps of all time.\\r\\n\\r\\n[Illustration: PLATE III.-THE VIRGIN OF THE ROCKS\\r\\n\\r\\nIn the National Gallery. No. 1093. 6 ft. ½ in. h. by 3 ft 9 ½ in. w.\\r\\n(1.83 x 1.15)\\r\\n\\r\\nThis picture was painted in Milan about 1495 by Ambrogio da Predis\\r\\nunder the supervision and guidance of Leonardo da Vinci, the\\r\\nessential features of the composition being borrowed from the earlier\\r\\n\"Vierge aux Rochers,\" now in the Louvre.]\\r\\n\\r\\n\\r\\n\\r\\n\\r\\nHIS EARLY WORKS\\r\\n\\r\\nTo about the year 1472 belongs the small picture of the\\r\\n\"Annunciation,\" now in the Louvre, which after being the subject of\\r\\nmuch contention among European critics has '"
      ]
     },
     "execution_count": 18,
     "metadata": {},
     "output_type": "execute_result"
    }
   ],
   "source": [
    "document_store.filter_documents()[5].content"
   ]
  },
  {
   "cell_type": "markdown",
   "id": "61750f54-f993-4933-9fc1-5df55d6e6d13",
   "metadata": {},
   "source": [
    "### Creating a document search pipeline"
   ]
  },
  {
   "cell_type": "code",
   "execution_count": 19,
   "id": "1fa8b081-8d4e-420d-9c4d-eeb1d6f2ab82",
   "metadata": {
    "height": 217
   },
   "outputs": [
    {
     "data": {
      "text/plain": [
       "<haystack.core.pipeline.pipeline.Pipeline object at 0x7f4578627e90>\n",
       "🚅 Components\n",
       "  - query_embedder: OpenAITextEmbedder\n",
       "  - retriever: InMemoryEmbeddingRetriever\n",
       "🛤️ Connections\n",
       "  - query_embedder.embedding -> retriever.query_embedding (List[float])"
      ]
     },
     "execution_count": 19,
     "metadata": {},
     "output_type": "execute_result"
    }
   ],
   "source": [
    "from haystack.components.embedders import OpenAITextEmbedder\n",
    "from haystack.components.retrievers.in_memory import InMemoryEmbeddingRetriever\n",
    "\n",
    "query_embedder = OpenAITextEmbedder()\n",
    "retriever = InMemoryEmbeddingRetriever(document_store=document_store)\n",
    "\n",
    "document_search = Pipeline()\n",
    "\n",
    "document_search.add_component(\"query_embedder\", query_embedder)\n",
    "document_search.add_component(\"retriever\", retriever)\n",
    "\n",
    "document_search.connect(\"query_embedder.embedding\", \"retriever.query_embedding\")"
   ]
  },
  {
   "cell_type": "code",
   "execution_count": null,
   "id": "a5c1f792-fcbd-4752-a4ad-aa5f6364d0d7",
   "metadata": {
    "height": 30
   },
   "outputs": [],
   "source": [
    "document_search.show()"
   ]
  },
  {
   "cell_type": "code",
   "execution_count": 21,
   "id": "fd3ffd75-334a-47d4-89a8-9d366bcbbbb6",
   "metadata": {
    "height": 149
   },
   "outputs": [
    {
     "name": "stdout",
     "output_type": "stream",
     "text": [
      "\n",
      "--------------\n",
      "\n",
      "DOCUMENT 0\n",
      "CHRIST, AND ST. ANNE\r\n",
      "\r\n",
      "In the Louvre. No. 1508. 5 ft. 7 in. h. by 4 ft. 3 in. w. (1.70 x\r\n",
      "1.29)\r\n",
      "\r\n",
      "Painted between 1509 and 1516 with the help of assistants.]\r\n",
      "\r\n",
      "On October 10, 1516, when he was resident at the Manor House of Cloux\r\n",
      "near Amboise in Touraine with Francesco Melzi, his friend and\r\n",
      "assistant, he showed three of his pictures to the Cardinal of Aragon,\r\n",
      "but his right hand was now paralysed, and he could \"no longer colour\r\n",
      "with that sweetness with which he was wont, although still able to\r\n",
      "make drawings and to teach others.\"\r\n",
      "\r\n",
      "It was no doubt in these closing years of his life that he drew the\r\n",
      "\"Portrait of Himself\" in red chalk, now at Turin, which is probably\r\n",
      "the only authentic portrait of him in existence.\r\n",
      "\r\n",
      "\r\n",
      "\r\n",
      "HIS DEATH\r\n",
      "\r\n",
      "On April 23, 1519--Easter Eve--exactly forty-five years before the\r\n",
      "birth of Shakespeare, Leonardo da Vinci made his will, and on May 2 of\r\n",
      "the same year he passed away.\r\n",
      "\r\n",
      "Vasari informs us that Leonardo, \"having become old, lay sick for many\r\n",
      "months, and finding himself near death and being sustained in the arms\r\n",
      "of his servants and friends, devoutly received the Holy Sacrament. He\r\n",
      "was then seized with a paroxysm, the forerunner of death, when King\r\n",
      "Francis I., who was accustomed frequently and affectionately \n",
      "\n",
      "--------------\n",
      "\n",
      "DOCUMENT 1\n",
      "2.18)\r\n",
      "\r\n",
      "Although this panel is included in the Uffizi Catalogue as being by\r\n",
      "Leonardo, it is in all probability by his master, Verrocchio.]\r\n",
      "\r\n",
      "The date of Leonardo's birth is not known with any certainty. His age\r\n",
      "is given as five in a taxation return made in 1457 by his grandfather\r\n",
      "Antonio, in whose house he was educated; it is therefore concluded\r\n",
      "that he was born in 1452. Leonardo's father Ser Piero, who afterwards\r\n",
      "married four times, had eleven children by his third and fourth wives.\r\n",
      "Is it unreasonable to suggest that Leonardo may have had these numbers\r\n",
      "in mind in 1496-1498 when he was painting in his famous \"Last Supper\"\r\n",
      "the figures of eleven Apostles and one outcast?\r\n",
      "\r\n",
      "However, Ser Piero seems to have legitimised his \"love child\" who very\r\n",
      "early showed promise of extraordinary talent and untiring energy.\r\n",
      "\r\n",
      "\r\n",
      "\r\n",
      "\r\n",
      "HIS EARLY TRAINING\r\n",
      "\r\n",
      "Practically nothing is known about Leonardo's boyhood, but Vasari\r\n",
      "informs us that Ser Piero, impressed with the remarkable character of\r\n",
      "his son's genius, took some of his drawings to Andrea del Verrocchio,\r\n",
      "an intimate friend, and begged him earnestly to express an opinion on\r\n",
      "them. Verrocchio was so astonished at the power they revealed that he\r\n",
      "advised Ser Piero to send Leonardo to study under him. Leonardo thus\r\n",
      "entered the studio of Andrea del Verrocchio about 1469-1470. In \n",
      "\n",
      "--------------\n",
      "\n",
      "DOCUMENT 2\n",
      "to visit\r\n",
      "him, rose and supported his head to give him such assistance and to do\r\n",
      "him such favour as he could in the hope of alleviating his sufferings.\r\n",
      "The spirit of Leonardo, which was most divine, conscious that he could\r\n",
      "attain to no greater honour, departed in the arms of the monarch,\r\n",
      "being at that time in the seventy-fifth year of his age.\" The not\r\n",
      "over-veracious chronicler, however, is here drawing largely upon his\r\n",
      "imagination. Leonardo was only sixty-seven years of age, and the King\r\n",
      "was in all probability on that date at St. Germain-en Laye!\r\n",
      "\r\n",
      "Thus died \"Mr. Lionard de Vincy, the noble Milanese, painter,\r\n",
      "engineer, and architect to the King, State Mechanician\" and \"former\r\n",
      "Professor of Painting to the Duke of Milan.\"\r\n",
      "\r\n",
      "\"May God Almighty grant him His eternal peace,\" wrote his friend and\r\n",
      "assistant Francesco Melzi. \"Every one laments the loss of a man whose\r\n",
      "like Nature cannot produce a second time.\"\r\n",
      "\r\n",
      "\r\n",
      "\r\n",
      "HIS ART\r\n",
      "\r\n",
      "Leonardo, whose birth antedates that of Michelangelo and Raphael by\r\n",
      "twenty three and thirty-one years respectively, was thus in the\r\n",
      "forefront of the Florentine Renaissance, his life coinciding almost\r\n",
      "exactly with the best period of Tuscan painting.\r\n",
      "\r\n",
      "Leonardo was the first to investigate scientifically and to apply to\r\n",
      "art the laws of light and shade, though the preliminary investigations\r\n",
      "of Piero della Francesca deserve \n",
      "\n",
      "--------------\n",
      "\n",
      "DOCUMENT 3\n",
      " In the Louvre\r\n",
      "\r\n",
      "\r\n",
      "\r\n",
      "\r\n",
      "HIS BIRTH\r\n",
      "\r\n",
      "Leonardo Da Vinci, the many-sided genius of the Italian Renaissance,\r\n",
      "was born, as his name implies, at the little town of Vinci, which is\r\n",
      "about six miles from Empoli and twenty miles west of Florence. Vinci\r\n",
      "is still very inaccessible, and the only means of conveyance is the\r\n",
      "cart of a general carrier and postman, who sets out on his journey\r\n",
      "from Empoli at sunrise and sunset. Outside a house in the middle of\r\n",
      "the main street of Vinci to-day a modern and white-washed bust of the\r\n",
      "great artist is pointed to with much pride by the inhabitants.\r\n",
      "Leonardo's traditional birthplace on the outskirts of the town still\r\n",
      "exists, and serves now as the headquarters of a farmer and small wine\r\n",
      "exporter.\r\n",
      "\r\n",
      "Leonardo di Ser Piero d'Antonio di Ser Piero di Ser Guido da\r\n",
      "Vinci--for that was his full legal name--was the natural and\r\n",
      "first-born son of Ser Piero, a country notary, who, like his father,\r\n",
      "grandfather, and great-grandfather, followed that honourable\r\n",
      "vocation with distinction and success, and who subsequently--when\r\n",
      "Leonardo was a youth--was appointed notary to the Signoria of\r\n",
      "Florence. Leonardo's mother was one Caterina, who afterwards married\r\n",
      "Accabriga di Piero del Vaccha of Vinci.\r\n",
      "\r\n",
      "[Illustration: Plate II.--Annunciation\r\n",
      "\r\n",
      "In the Uffizi Gallery, Florence. No. 1288. 3 ft 3 ins. By 6 ft 11 ins.\r\n",
      "(0.99 x \n",
      "\n",
      "--------------\n",
      "\n",
      "DOCUMENT 4\n",
      "staircase in the Victoria and Albert Museum. It depicts the\r\n",
      "Florentines under Cardinal Ludovico Mezzarota Scarampo fighting\r\n",
      "against the Milanese under Niccolò Piccinino, the General of Filippo\r\n",
      "Maria Visconti, on June 29, 1440.\r\n",
      "\r\n",
      "\r\n",
      "\r\n",
      "AGAIN IN MILAN\r\n",
      "\r\n",
      "Leonardo was back in Milan in May 1506 in the service of the French\r\n",
      "King, for whom he executed, apparently with the help of assistants,\r\n",
      "\"the Madonna, the Infant Christ, and Saint Anne\" (Plate VIII.). The\r\n",
      "composition of this oil-painting seems to have been built up on the\r\n",
      "second cartoon, which he had made some eight years earlier, and which\r\n",
      "was apparently taken to France in 1516 and ultimately lost.\r\n",
      "\r\n",
      "\r\n",
      "\r\n",
      "IN ROME\r\n",
      "\r\n",
      "From 1513-1515 he was in Rome, where Giovanni de' Medici had been\r\n",
      "elected Pope under the title of Leo X. He did not, however, work for\r\n",
      "the Pope, although he resided in the Vatican, his time being occupied\r\n",
      "in studying acoustics, anatomy, optics, geology, minerals,\r\n",
      "engineering, and geometry!\r\n",
      "\r\n",
      "\r\n",
      "\r\n",
      "IN FRANCE\r\n",
      "\r\n",
      "At last in 1516, three years before his death, Leonardo left his\r\n",
      "native land for France, where he received from Francis I. a princely\r\n",
      "income. His powers, however, had already begun to fail, and he\r\n",
      "produced very little in the country of his adoption. It is,\r\n",
      "nevertheless, only in the Louvre that his achievements as a painter\r\n",
      "can to-day be adequately studied.\r\n",
      "\r\n",
      "[Illustration: PLATE VIII.-MADONNA, INFANT \n",
      "\n",
      "--------------\n",
      "\n",
      "DOCUMENT 5\n",
      "who left no stone\r\n",
      "unturned to acquire also the original studies for the heads of the\r\n",
      "Apostles. Some of these in red and black chalk are now preserved\r\n",
      "in the Royal Library at Windsor, where there are in all 145 drawings\r\n",
      "by Leonardo.\r\n",
      "\r\n",
      "Several other old copies of the fresco exist, notably the one in the\r\n",
      "Louvre. Francis I. wished to remove the whole wall of the Refectory to\r\n",
      "Paris, but he was persuaded that that would be impossible; the\r\n",
      "Constable de Montmorency then had a copy made for the Chapel of the\r\n",
      "Château d'Ecouen, whence it ultimately passed to the Louvre.\r\n",
      "\r\n",
      "The singularly beautiful \"Head of Christ\" (Plate VI.), now in the\r\n",
      "Brera Gallery at Milan, is the original study for the head of the\r\n",
      "principal figure in the fresco painting of the \"Last Supper.\" In\r\n",
      "spite of decay and restoration it expresses \"the most elevated\r\n",
      "seriousness together with Divine Gentleness, pain on account of\r\n",
      "the faithlessness of His disciples, a full presentiment of His own\r\n",
      "death, and resignation to the will of His Father.\"\r\n",
      "\r\n",
      "\r\n",
      "\r\n",
      "THE COURT OF MILAN\r\n",
      "\r\n",
      "Ludovico, to whom Leonardo was now court-painter, had married Beatrice\r\n",
      "d'Este, in 1491, when she was only fifteen years of age. The young\r\n",
      "Duchess, who at one time owned as many as eighty-four splendid gowns,\r\n",
      "refused to wear a certain dress \n",
      "\n",
      "--------------\n",
      "\n",
      "DOCUMENT 6\n",
      "the \"Virgin of the Rocks,\" now in the\r\n",
      "National Gallery (Plate III.).\r\n",
      "\r\n",
      "He certainly set to work about this time on the projected statue of\r\n",
      "Francesco Sforza, but probably then made very little progress with it.\r\n",
      "He may also in that year or the next have painted the lost portrait of\r\n",
      "Cecilia Gallerani, one of the mistresses of Ludovico Sforza. It has,\r\n",
      "however, been surmised that that lady's features are preserved to us\r\n",
      "in the \"Lady with a Weasel,\" by Leonardo's pupil Boltraffio, which is\r\n",
      "now in the Czartoryski Collection at Cracow.\r\n",
      "\r\n",
      "\r\n",
      "\r\n",
      "\r\n",
      "IN THE EAST\r\n",
      "\r\n",
      "The absence of any record of Leonardo in Milan, or elsewhere in Italy,\r\n",
      "between 1483 and 1487 has led critics to the conclusion, based on\r\n",
      "documentary evidence of a somewhat complicated nature, that he spent\r\n",
      "those years in the service of the Sultan of Egypt, travelling in\r\n",
      "Armenia and the East as his engineer.\r\n",
      "\r\n",
      "\r\n",
      "\r\n",
      "BACK IN MILAN\r\n",
      "\r\n",
      "\r\n",
      "In 1487 he was again resident in Milan as general artificer--using\r\n",
      "that term in its widest sense--to Ludovico. Among his various\r\n",
      "activities at this period must be mentioned the designs he made for\r\n",
      "the cupola of the cathedral at Milan, and the scenery he constructed\r\n",
      "for \"Il Paradiso,\" which was written by Bernardo Bellincioni on the\r\n",
      "occasion of the marriage of Gian Galeazzo with Isabella of Aragon.\r\n",
      "About 1489-1490 he \n",
      "\n",
      "--------------\n",
      "\n",
      "DOCUMENT 7\n",
      "the\r\n",
      "workshop of that great Florentine sculptor, goldsmith, and artist he\r\n",
      "met other craftsmen, metal workers, and youthful painters, among whom\r\n",
      "was Botticelli, at that moment of his development a jovial\r\n",
      "_habitué_ of the Poetical Supper Club, who had not yet given any\r\n",
      "premonitions of becoming the poet, mystic, and visionary of later\r\n",
      "times. There also Leonardo came into contact with that unoriginal\r\n",
      "painter Lorenzo di Credi, his junior by seven years. He also, no\r\n",
      "doubt, met Perugino, whom Michelangelo called \"that blockhead in art.\"\r\n",
      "The genius and versatility of the Vincian painter was, however, in no\r\n",
      "way dulled by intercourse with lesser artists than himself; on the\r\n",
      "contrary he vied with each in turn, and readily outstripped his fellow\r\n",
      "pupils. In 1472, at the age of twenty, he was admitted into the Guild\r\n",
      "of Florentine Painters.\r\n",
      "\r\n",
      "Unfortunately very few of Leonardo's paintings have come down to us.\r\n",
      "Indeed there do not exist a sufficient number of finished and\r\n",
      "absolutely authentic oil pictures from his own hand to afford\r\n",
      "illustrations for this short chronological sketch of his life's work.\r\n",
      "The few that do remain, however, are of so exquisite a quality--or\r\n",
      "were until they were \"comforted\" by the uninspired restorer--that we\r\n",
      "can unreservedly accept the enthusiastic records of tradition in\r\n",
      "respect of all his works. To rightly understand the essential\r\n",
      "characteristics of \n",
      "\n",
      "--------------\n",
      "\n",
      "DOCUMENT 8\n",
      "his Profession, so\r\n",
      "accomplished in the Arts, so knowing in the Sciences, and withal, so\r\n",
      "much esteemed by the Age wherein he lived, his Works so highly\r\n",
      "applauded by the Ages which have succeeded, and his Name and Memory\r\n",
      "still preserved with so much Veneration by the present Age--that, if\r\n",
      "anything could equal the Merit of the Man, it must be the Success he\r\n",
      "met with. Moreover, 'tis not in Painting alone, but in Philosophy,\r\n",
      "too, that Leonardo surpassed all his Brethren of the 'Pencil.'\"\r\n",
      "\r\n",
      "This admirable summary of the great Florentine painter's life's work\r\n",
      "still holds good to-day.\r\n",
      "\r\n",
      "\r\n",
      "\r\n",
      "\r\n",
      "CONTENTS\r\n",
      "\r\n",
      "His Birth\r\n",
      "His Early Training\r\n",
      "His Early Works\r\n",
      "First Visit to Milan\r\n",
      "In the East\r\n",
      "Back in Milan\r\n",
      "The Virgin of the Rocks\r\n",
      "The Last Supper\r\n",
      "The Court of Milan\r\n",
      "Leonardo Leaves Milan\r\n",
      "Mona Lisa\r\n",
      "Battle of Anghiari\r\n",
      "Again in Milan\r\n",
      "In Rome\r\n",
      "In France\r\n",
      "His Death\r\n",
      "His Art\r\n",
      "His Mind\r\n",
      "His Maxims\r\n",
      "His Spell\r\n",
      "His Descendants\r\n",
      "\r\n",
      "\r\n",
      "\r\n",
      "\r\n",
      "LIST OF ILLUSTRATIONS\r\n",
      "\r\n",
      "Plate\r\n",
      "I. Mona Lisa\r\n",
      "  In the Louvre\r\n",
      "II. Annunciation\r\n",
      "  In the Uffizi Gallery, Florence\r\n",
      "III. Virgin of the Rocks\r\n",
      "  In the National Gallery, London\r\n",
      "IV. The Last Supper\r\n",
      "  In the Refectory of Santa Maria delle Grazie, Milan\r\n",
      "V. Copy of the Last Supper\r\n",
      "  In the Diploma Gallery, Burlington House\r\n",
      "VI. Head of Christ\r\n",
      "  In the Brera Gallery, Milan\r\n",
      "VII. Portrait (presumed) of Lucrezia Crivelli\r\n",
      "  In the Louvre\r\n",
      "VIII. Madonna, Infant Christ, and St Anne.\r\n",
      " \n",
      "\n",
      "--------------\n",
      "\n",
      "DOCUMENT 9\n",
      "better than the portion executed by his master.\r\n",
      "This \"Baptism of Christ,\" which is now in the Accademia in Florence\r\n",
      "and is in a bad state of preservation, appears to have been a\r\n",
      "comparatively early work by Verrocchio, and to have been painted\r\n",
      "in 1480-1482, when Leonardo would be about thirty years of age.\r\n",
      "\r\n",
      "To about this period belongs the superb drawing of the \"Warrior,\" now\r\n",
      "in the Malcolm Collection in the British Museum. This drawing may have\r\n",
      "been made while Leonardo still frequented the studio of Andrea del\r\n",
      "Verrocchio, who in 1479 was commissioned to execute the equestrian\r\n",
      "statue of Bartolommeo Colleoni, which was completed twenty years later\r\n",
      "and still adorns the Campo di San Giovanni e Paolo in Venice.\r\n",
      "\r\n",
      "\r\n",
      "\r\n",
      "\r\n",
      "FIRST VISIT TO MILAN\r\n",
      "\r\n",
      "\r\n",
      "About 1482 Leonardo entered the service of Ludovico Sforza, having\r\n",
      "first written to his future patron a full statement of his various\r\n",
      "abilities in the following terms:--\r\n",
      "\r\n",
      "\"Having, most illustrious lord, seen and pondered over the experiments\r\n",
      "made by those who pass as masters in the art of inventing instruments\r\n",
      "of war, and having satisfied myself that they in no way differ from\r\n",
      "those in general use, I make so bold as to solicit, without prejudice\r\n",
      "to any one, an opportunity of informing your excellency of some of my\r\n",
      "own secrets.\"\r\n",
      "\r\n",
      "[Illustration: PLATE IV.-THE LAST SUPPER\r\n",
      "\r\n",
      "Refectory \n"
     ]
    }
   ],
   "source": [
    "question = \"How old was Davinci when he died?\"\n",
    "\n",
    "results = document_search.run({\"query_embedder\": {\"text\": question}})\n",
    "\n",
    "for i, document in enumerate(results[\"retriever\"][\"documents\"]):\n",
    "    print(\"\\n--------------\\n\")\n",
    "    print(f\"DOCUMENT {i}\")\n",
    "    print(document.content)"
   ]
  },
  {
   "cell_type": "code",
   "execution_count": 26,
   "id": "15f3495a",
   "metadata": {
    "height": 30
   },
   "outputs": [
    {
     "data": {
      "text/plain": [
       "(dict_keys(['meta']), dict_keys(['documents']))"
      ]
     },
     "execution_count": 26,
     "metadata": {},
     "output_type": "execute_result"
    }
   ],
   "source": [
    "results[\"query_embedder\"].keys(), results[\"retriever\"].keys()"
   ]
  },
  {
   "cell_type": "code",
   "execution_count": 27,
   "id": "38d5e8a6-0d58-40dc-b0db-0572a70809aa",
   "metadata": {
    "height": 166
   },
   "outputs": [
    {
     "name": "stdout",
     "output_type": "stream",
     "text": [
      "\n",
      "--------------\n",
      "\n",
      "DOCUMENT 0\n",
      "CHRIST, AND ST. ANNE\r\n",
      "\r\n",
      "In the Louvre. No. 1508. 5 ft. 7 in. h. by 4 ft. 3 in. w. (1.70 x\r\n",
      "1.29)\r\n",
      "\r\n",
      "Painted between 1509 and 1516 with the help of assistants.]\r\n",
      "\r\n",
      "On October 10, 1516, when he was resident at the Manor House of Cloux\r\n",
      "near Amboise in Touraine with Francesco Melzi, his friend and\r\n",
      "assistant, he showed three of his pictures to the Cardinal of Aragon,\r\n",
      "but his right hand was now paralysed, and he could \"no longer colour\r\n",
      "with that sweetness with which he was wont, although still able to\r\n",
      "make drawings and to teach others.\"\r\n",
      "\r\n",
      "It was no doubt in these closing years of his life that he drew the\r\n",
      "\"Portrait of Himself\" in red chalk, now at Turin, which is probably\r\n",
      "the only authentic portrait of him in existence.\r\n",
      "\r\n",
      "\r\n",
      "\r\n",
      "HIS DEATH\r\n",
      "\r\n",
      "On April 23, 1519--Easter Eve--exactly forty-five years before the\r\n",
      "birth of Shakespeare, Leonardo da Vinci made his will, and on May 2 of\r\n",
      "the same year he passed away.\r\n",
      "\r\n",
      "Vasari informs us that Leonardo, \"having become old, lay sick for many\r\n",
      "months, and finding himself near death and being sustained in the arms\r\n",
      "of his servants and friends, devoutly received the Holy Sacrament. He\r\n",
      "was then seized with a paroxysm, the forerunner of death, when King\r\n",
      "Francis I., who was accustomed frequently and affectionately \n"
     ]
    }
   ],
   "source": [
    "question = \"How old was Davinci when he died?\"\n",
    "\n",
    "results = document_search.run({\"query_embedder\": {\"text\": question},\n",
    "                               \"retriever\": {\"top_k\": 1}})\n",
    "\n",
    "for i, document in enumerate(results[\"retriever\"][\"documents\"]):\n",
    "    print(\"\\n--------------\\n\")\n",
    "    print(f\"DOCUMENT {i}\")\n",
    "    print(document.content)"
   ]
  },
  {
   "cell_type": "code",
   "execution_count": null,
   "id": "0319b319",
   "metadata": {
    "height": 30
   },
   "outputs": [],
   "source": []
  },
  {
   "cell_type": "markdown",
   "id": "c8e427ea",
   "metadata": {},
   "source": [
    "**Next: Try changing the `top_k` for the retriever, or change the question:**\n",
    "- Where was Davinci born?\n",
    "- When did Davinci live in Rome?"
   ]
  },
  {
   "cell_type": "code",
   "execution_count": 29,
   "id": "605b71d1-c55c-44a9-b527-3c5445799ef1",
   "metadata": {
    "height": 166
   },
   "outputs": [
    {
     "name": "stdout",
     "output_type": "stream",
     "text": [
      "\n",
      "--------------\n",
      "\n",
      "DOCUMENT 0\n",
      "staircase in the Victoria and Albert Museum. It depicts the\r\n",
      "Florentines under Cardinal Ludovico Mezzarota Scarampo fighting\r\n",
      "against the Milanese under Niccolò Piccinino, the General of Filippo\r\n",
      "Maria Visconti, on June 29, 1440.\r\n",
      "\r\n",
      "\r\n",
      "\r\n",
      "AGAIN IN MILAN\r\n",
      "\r\n",
      "Leonardo was back in Milan in May 1506 in the service of the French\r\n",
      "King, for whom he executed, apparently with the help of assistants,\r\n",
      "\"the Madonna, the Infant Christ, and Saint Anne\" (Plate VIII.). The\r\n",
      "composition of this oil-painting seems to have been built up on the\r\n",
      "second cartoon, which he had made some eight years earlier, and which\r\n",
      "was apparently taken to France in 1516 and ultimately lost.\r\n",
      "\r\n",
      "\r\n",
      "\r\n",
      "IN ROME\r\n",
      "\r\n",
      "From 1513-1515 he was in Rome, where Giovanni de' Medici had been\r\n",
      "elected Pope under the title of Leo X. He did not, however, work for\r\n",
      "the Pope, although he resided in the Vatican, his time being occupied\r\n",
      "in studying acoustics, anatomy, optics, geology, minerals,\r\n",
      "engineering, and geometry!\r\n",
      "\r\n",
      "\r\n",
      "\r\n",
      "IN FRANCE\r\n",
      "\r\n",
      "At last in 1516, three years before his death, Leonardo left his\r\n",
      "native land for France, where he received from Francis I. a princely\r\n",
      "income. His powers, however, had already begun to fail, and he\r\n",
      "produced very little in the country of his adoption. It is,\r\n",
      "nevertheless, only in the Louvre that his achievements as a painter\r\n",
      "can to-day be adequately studied.\r\n",
      "\r\n",
      "[Illustration: PLATE VIII.-MADONNA, INFANT \n"
     ]
    }
   ],
   "source": [
    "question = \"When did Davinci live in Rome\"\n",
    "\n",
    "results = document_search.run({\"query_embedder\": {\"text\": question},\n",
    "                               \"retriever\": {\"top_k\": 1}})\n",
    "\n",
    "for i, document in enumerate(results[\"retriever\"][\"documents\"]):\n",
    "    print(\"\\n--------------\\n\")\n",
    "    print(f\"DOCUMENT {i}\")\n",
    "    print(document.content)"
   ]
  }
 ],
 "metadata": {
  "kernelspec": {
   "display_name": "Python 3 (ipykernel)",
   "language": "python",
   "name": "python3"
  },
  "language_info": {
   "codemirror_mode": {
    "name": "ipython",
    "version": 3
   },
   "file_extension": ".py",
   "mimetype": "text/x-python",
   "name": "python",
   "nbconvert_exporter": "python",
   "pygments_lexer": "ipython3",
   "version": "3.11.9"
  }
 },
 "nbformat": 4,
 "nbformat_minor": 5
}
