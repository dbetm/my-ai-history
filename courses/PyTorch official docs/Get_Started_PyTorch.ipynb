{
  "nbformat": 4,
  "nbformat_minor": 0,
  "metadata": {
    "colab": {
      "name": "Get Started PyTorch.ipynb",
      "provenance": []
    },
    "kernelspec": {
      "name": "python3",
      "display_name": "Python 3"
    },
    "accelerator": "GPU"
  },
  "cells": [
    {
      "cell_type": "code",
      "metadata": {
        "id": "hmpmdsNZ6vEe"
      },
      "source": [
        "%matplotlib inline"
      ],
      "execution_count": 17,
      "outputs": []
    },
    {
      "cell_type": "code",
      "metadata": {
        "id": "GHVtAigrbIMF"
      },
      "source": [
        "import torch\n",
        "from torch import nn\n",
        "from torch.utils.data import DataLoader\n",
        "from torchvision import datasets\n",
        "from torchvision.transforms import ToTensor, Lambda, Compose\n",
        "import matplotlib.pyplot as plt"
      ],
      "execution_count": 30,
      "outputs": []
    },
    {
      "cell_type": "markdown",
      "metadata": {
        "id": "t0MNFFDcdlR1"
      },
      "source": [
        "Download training data from open datasets"
      ]
    },
    {
      "cell_type": "code",
      "metadata": {
        "id": "oqHyhvoMdil6"
      },
      "source": [
        "training_data = datasets.FashionMNIST(\n",
        "    root=\"data\",\n",
        "    train=True,\n",
        "    download=True,\n",
        "    transform=ToTensor(),\n",
        ")"
      ],
      "execution_count": 31,
      "outputs": []
    },
    {
      "cell_type": "markdown",
      "metadata": {
        "id": "RTbsL4stfgMh"
      },
      "source": [
        "Download test data from open datasets"
      ]
    },
    {
      "cell_type": "code",
      "metadata": {
        "id": "0vxZ7E0Cfhp8"
      },
      "source": [
        "test_data = datasets.FashionMNIST(\n",
        "    root=\"data\",\n",
        "    train=False,\n",
        "    download=True,\n",
        "    transform=ToTensor(),\n",
        ")"
      ],
      "execution_count": 32,
      "outputs": []
    },
    {
      "cell_type": "markdown",
      "metadata": {
        "id": "ydw7hn_lh-2x"
      },
      "source": [
        "Create data loaders"
      ]
    },
    {
      "cell_type": "code",
      "metadata": {
        "colab": {
          "base_uri": "https://localhost:8080/"
        },
        "id": "ITzNmnsIiBSp",
        "outputId": "673dc256-109c-4593-e458-a6dd38ec1597"
      },
      "source": [
        "batch_size = 64\n",
        "\n",
        "# Create data loaders.\n",
        "train_dataloader = DataLoader(training_data, batch_size=batch_size)\n",
        "test_dataloader = DataLoader(test_data, batch_size=batch_size)\n",
        "\n",
        "for X, y in test_dataloader:\n",
        "    print(\"Shape of X [N, C, H, W]: \", X.shape)\n",
        "    print(\"Shape of y: \", y.shape, y.dtype)\n",
        "    break"
      ],
      "execution_count": 33,
      "outputs": [
        {
          "output_type": "stream",
          "text": [
            "Shape of X [N, C, H, W]:  torch.Size([64, 1, 28, 28])\n",
            "Shape of y:  torch.Size([64]) torch.int64\n"
          ],
          "name": "stdout"
        }
      ]
    },
    {
      "cell_type": "markdown",
      "metadata": {
        "id": "423LKr2ijp9f"
      },
      "source": [
        "Select GPU or CPU"
      ]
    },
    {
      "cell_type": "code",
      "metadata": {
        "colab": {
          "base_uri": "https://localhost:8080/"
        },
        "id": "iFepd91Pjtpd",
        "outputId": "2361acbd-8b9d-47f8-8230-ae1c5ce61eb8"
      },
      "source": [
        "device = \"cuda\" if torch.cuda.is_available() else \"cpu\"\n",
        "print(\"Using {} device\".format(device))"
      ],
      "execution_count": 34,
      "outputs": [
        {
          "output_type": "stream",
          "text": [
            "Using cuda device\n"
          ],
          "name": "stdout"
        }
      ]
    },
    {
      "cell_type": "markdown",
      "metadata": {
        "id": "7x8RGCHLkaAS"
      },
      "source": [
        "Creating model"
      ]
    },
    {
      "cell_type": "code",
      "metadata": {
        "id": "h_VkCoszkcfu"
      },
      "source": [
        "# Define model\n",
        "class NeuralNetwork(nn.Module):\n",
        "    def __init__(self):\n",
        "        super(NeuralNetwork, self).__init__()\n",
        "        self.flatten = nn.Flatten()\n",
        "        self.linear_relu_stack = nn.Sequential(\n",
        "            nn.Linear(28*28, 512),\n",
        "            nn.ReLU(),\n",
        "            nn.Linear(512, 512),\n",
        "            nn.ReLU(),\n",
        "            nn.Linear(512, 10),\n",
        "            nn.ReLU()\n",
        "        )\n",
        "\n",
        "    def forward(self, x):\n",
        "        x = self.flatten(x)\n",
        "        logits = self.linear_relu_stack(x)\n",
        "        return logits"
      ],
      "execution_count": 35,
      "outputs": []
    },
    {
      "cell_type": "code",
      "metadata": {
        "colab": {
          "base_uri": "https://localhost:8080/"
        },
        "id": "mDTcL3KlnSP0",
        "outputId": "e6292915-af62-4c2a-e89f-4f8ff298b8e8"
      },
      "source": [
        "model = NeuralNetwork().to(device)\n",
        "print(model)"
      ],
      "execution_count": 36,
      "outputs": [
        {
          "output_type": "stream",
          "text": [
            "NeuralNetwork(\n",
            "  (flatten): Flatten(start_dim=1, end_dim=-1)\n",
            "  (linear_relu_stack): Sequential(\n",
            "    (0): Linear(in_features=784, out_features=512, bias=True)\n",
            "    (1): ReLU()\n",
            "    (2): Linear(in_features=512, out_features=512, bias=True)\n",
            "    (3): ReLU()\n",
            "    (4): Linear(in_features=512, out_features=10, bias=True)\n",
            "    (5): ReLU()\n",
            "  )\n",
            ")\n"
          ],
          "name": "stdout"
        }
      ]
    },
    {
      "cell_type": "markdown",
      "metadata": {
        "id": "gUpMDeJLnvJg"
      },
      "source": [
        "Optimizing the model parameters"
      ]
    },
    {
      "cell_type": "code",
      "metadata": {
        "id": "H_ZXGKUYnzum"
      },
      "source": [
        "loss_fn = nn.CrossEntropyLoss()\n",
        "optimizer = torch.optim.SGD(model.parameters(), lr=1e-3)"
      ],
      "execution_count": 37,
      "outputs": []
    },
    {
      "cell_type": "code",
      "metadata": {
        "id": "99UvtuT0oc92"
      },
      "source": [
        "def train(dataloader, model, loss_fn, optimizer):\n",
        "    size = len(dataloader.dataset)\n",
        "    for batch, (X, y) in enumerate(dataloader):\n",
        "        X, y = X.to(device), y.to(device)\n",
        "        \n",
        "        # Compute prediction error\n",
        "        pred = model(X)\n",
        "        loss = loss_fn(pred, y)\n",
        "        \n",
        "        # Backpropagation\n",
        "        optimizer.zero_grad()\n",
        "        loss.backward()\n",
        "        optimizer.step()\n",
        "\n",
        "        if batch % 100 == 0:\n",
        "            loss, current = loss.item(), batch * len(X)\n",
        "            print(f\"loss: {loss:>7f}  [{current:>5d}/{size:>5d}]\")"
      ],
      "execution_count": 38,
      "outputs": []
    },
    {
      "cell_type": "markdown",
      "metadata": {
        "id": "kXCGGoiFptKH"
      },
      "source": [
        "Check the model’s performance against the test dataset to ensure it is learning."
      ]
    },
    {
      "cell_type": "code",
      "metadata": {
        "id": "627vxS6Tpxxq"
      },
      "source": [
        "def test(dataloader, model):\n",
        "    size = len(dataloader.dataset)\n",
        "    model.eval()\n",
        "    test_loss, correct = 0, 0\n",
        "    with torch.no_grad():\n",
        "        for X, y in dataloader:\n",
        "            X, y = X.to(device), y.to(device)\n",
        "            pred = model(X)\n",
        "            test_loss += loss_fn(pred, y).item()\n",
        "            correct += (pred.argmax(1) == y).type(torch.float).sum().item()\n",
        "    test_loss /= size\n",
        "    correct /= size\n",
        "    print(f\"Test Error: \\n Accuracy: {(100*correct):>0.1f}%, Avg loss: {test_loss:>8f} \\n\")"
      ],
      "execution_count": 39,
      "outputs": []
    },
    {
      "cell_type": "markdown",
      "metadata": {
        "id": "J7OLfWK20rkh"
      },
      "source": [
        "Training process"
      ]
    },
    {
      "cell_type": "code",
      "metadata": {
        "colab": {
          "base_uri": "https://localhost:8080/"
        },
        "id": "qal6VECZ0t2y",
        "outputId": "d473717f-008d-4d13-9a75-13b23030208c"
      },
      "source": [
        "epochs = 5\n",
        "for t in range(epochs):\n",
        "    print(f\"Epoch {t+1}\\n-------------------------------\")\n",
        "    train(train_dataloader, model, loss_fn, optimizer)\n",
        "    test(test_dataloader, model)\n",
        "print(\"Done!\")"
      ],
      "execution_count": 40,
      "outputs": [
        {
          "output_type": "stream",
          "text": [
            "Epoch 1\n",
            "-------------------------------\n",
            "loss: 2.299605  [    0/60000]\n",
            "loss: 2.298157  [ 6400/60000]\n",
            "loss: 2.286244  [12800/60000]\n",
            "loss: 2.291619  [19200/60000]\n",
            "loss: 2.275769  [25600/60000]\n",
            "loss: 2.269157  [32000/60000]\n",
            "loss: 2.261402  [38400/60000]\n",
            "loss: 2.246399  [44800/60000]\n",
            "loss: 2.235716  [51200/60000]\n",
            "loss: 2.266193  [57600/60000]\n",
            "Test Error: \n",
            " Accuracy: 38.1%, Avg loss: 0.035198 \n",
            "\n",
            "Epoch 2\n",
            "-------------------------------\n",
            "loss: 2.222927  [    0/60000]\n",
            "loss: 2.245309  [ 6400/60000]\n",
            "loss: 2.221532  [12800/60000]\n",
            "loss: 2.247670  [19200/60000]\n",
            "loss: 2.214798  [25600/60000]\n",
            "loss: 2.203819  [32000/60000]\n",
            "loss: 2.194250  [38400/60000]\n",
            "loss: 2.161663  [44800/60000]\n",
            "loss: 2.142135  [51200/60000]\n",
            "loss: 2.216307  [57600/60000]\n",
            "Test Error: \n",
            " Accuracy: 42.3%, Avg loss: 0.033991 \n",
            "\n",
            "Epoch 3\n",
            "-------------------------------\n",
            "loss: 2.127815  [    0/60000]\n",
            "loss: 2.174199  [ 6400/60000]\n",
            "loss: 2.127486  [12800/60000]\n",
            "loss: 2.178519  [19200/60000]\n",
            "loss: 2.129337  [25600/60000]\n",
            "loss: 2.113336  [32000/60000]\n",
            "loss: 2.098818  [38400/60000]\n",
            "loss: 2.040788  [44800/60000]\n",
            "loss: 2.012397  [51200/60000]\n",
            "loss: 2.144864  [57600/60000]\n",
            "Test Error: \n",
            " Accuracy: 42.1%, Avg loss: 0.032329 \n",
            "\n",
            "Epoch 4\n",
            "-------------------------------\n",
            "loss: 2.001750  [    0/60000]\n",
            "loss: 2.081457  [ 6400/60000]\n",
            "loss: 2.002563  [12800/60000]\n",
            "loss: 2.086458  [19200/60000]\n",
            "loss: 2.029331  [25600/60000]\n",
            "loss: 2.004012  [32000/60000]\n",
            "loss: 1.981057  [38400/60000]\n",
            "loss: 1.907329  [44800/60000]\n",
            "loss: 1.870337  [51200/60000]\n",
            "loss: 2.037983  [57600/60000]\n",
            "Test Error: \n",
            " Accuracy: 47.5%, Avg loss: 0.029981 \n",
            "\n",
            "Epoch 5\n",
            "-------------------------------\n",
            "loss: 1.871332  [    0/60000]\n",
            "loss: 1.951178  [ 6400/60000]\n",
            "loss: 1.830312  [12800/60000]\n",
            "loss: 1.917958  [19200/60000]\n",
            "loss: 1.900043  [25600/60000]\n",
            "loss: 1.815361  [32000/60000]\n",
            "loss: 1.880201  [38400/60000]\n",
            "loss: 1.767113  [44800/60000]\n",
            "loss: 1.711686  [51200/60000]\n",
            "loss: 1.924699  [57600/60000]\n",
            "Test Error: \n",
            " Accuracy: 52.5%, Avg loss: 0.027835 \n",
            "\n",
            "Done!\n"
          ],
          "name": "stdout"
        }
      ]
    },
    {
      "cell_type": "markdown",
      "metadata": {
        "id": "xqQOHqxO9jPD"
      },
      "source": [
        "SAVING MODELS"
      ]
    },
    {
      "cell_type": "code",
      "metadata": {
        "colab": {
          "base_uri": "https://localhost:8080/"
        },
        "id": "gSBKZr9T9i5O",
        "outputId": "6f4348a5-f6ef-458a-89ea-a4863bca93cb"
      },
      "source": [
        "torch.save(model.state_dict(), 'model.pth')\n",
        "print(\"Saved PyTorch Model State to model.pth\")"
      ],
      "execution_count": 42,
      "outputs": [
        {
          "output_type": "stream",
          "text": [
            "Saved PyTorch Model State to model.pth\n"
          ],
          "name": "stdout"
        }
      ]
    },
    {
      "cell_type": "markdown",
      "metadata": {
        "id": "N3uy2Dtd-IAL"
      },
      "source": [
        "LOADING MODELS"
      ]
    },
    {
      "cell_type": "code",
      "metadata": {
        "colab": {
          "base_uri": "https://localhost:8080/"
        },
        "id": "pZcMEkCB-K9u",
        "outputId": "d2193b97-6469-411b-9808-3f20f0891c00"
      },
      "source": [
        "model = NeuralNetwork()\n",
        "model.load_state_dict(torch.load(\"model.pth\"))"
      ],
      "execution_count": 43,
      "outputs": [
        {
          "output_type": "execute_result",
          "data": {
            "text/plain": [
              "<All keys matched successfully>"
            ]
          },
          "metadata": {
            "tags": []
          },
          "execution_count": 43
        }
      ]
    },
    {
      "cell_type": "markdown",
      "metadata": {
        "id": "GDZjuqBN-jMk"
      },
      "source": [
        "TESTING"
      ]
    },
    {
      "cell_type": "code",
      "metadata": {
        "colab": {
          "base_uri": "https://localhost:8080/"
        },
        "id": "pG9cH_l_-cG-",
        "outputId": "17f37603-4730-4ac9-bf49-b177f84c917b"
      },
      "source": [
        "classes = [\n",
        "    \"T-shirt/top\",\n",
        "    \"Trouser\",\n",
        "    \"Pullover\",\n",
        "    \"Dress\",\n",
        "    \"Coat\",\n",
        "    \"Sandal\",\n",
        "    \"Shirt\",\n",
        "    \"Sneaker\",\n",
        "    \"Bag\",\n",
        "    \"Ankle boot\",\n",
        "]\n",
        "\n",
        "model.eval()\n",
        "x, y = test_data[42][0], test_data[42][1]\n",
        "with torch.no_grad():\n",
        "    pred = model(x)\n",
        "    predicted, actual = classes[pred[0].argmax(0)], classes[y]\n",
        "    print(f'Predicted: \"{predicted}\", Actual: \"{actual}\"')"
      ],
      "execution_count": 44,
      "outputs": [
        {
          "output_type": "stream",
          "text": [
            "Predicted: \"Dress\", Actual: \"Dress\"\n"
          ],
          "name": "stdout"
        }
      ]
    }
  ]
}