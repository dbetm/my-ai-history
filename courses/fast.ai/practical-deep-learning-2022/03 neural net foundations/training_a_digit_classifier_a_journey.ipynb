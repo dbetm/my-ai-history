{
 "cells": [
  {
   "attachments": {},
   "cell_type": "markdown",
   "metadata": {},
   "source": [
    "# PROBLEM\n",
    "\n",
    "In this knowledge adventure we will learn many thing while trying to create a computer vision system that classify \"3\"s or \"7\"s from the known MNIST dataset."
   ]
  },
  {
   "cell_type": "code",
   "execution_count": 1,
   "metadata": {},
   "outputs": [
    {
     "name": "stdout",
     "output_type": "stream",
     "text": [
      "fastbook                 0.0.29\n"
     ]
    }
   ],
   "source": [
    "!pip list | grep fastbook"
   ]
  },
  {
   "cell_type": "code",
   "execution_count": 2,
   "metadata": {},
   "outputs": [],
   "source": [
    "import random"
   ]
  },
  {
   "cell_type": "code",
   "execution_count": 3,
   "metadata": {},
   "outputs": [],
   "source": [
    "import pandas as pd"
   ]
  },
  {
   "cell_type": "code",
   "execution_count": 172,
   "metadata": {},
   "outputs": [],
   "source": [
    "\n",
    "from fastai.basics import torch, tensor, plt, SGD, L\n",
    "from fastai.vision.all import (\n",
    "    matplotlib,\n",
    "    untar_data,\n",
    ")\n",
    "from fastai.vision.widgets import Image, show_image\n",
    "from fastbook import (\n",
    "    DataLoader,\n",
    "    DataLoaders,\n",
    "    first,\n",
    "    Path,\n",
    "    Learner,\n",
    "    URLs,\n",
    ")\n",
    "\n",
    "matplotlib.rc(\"image\", cmap=\"Greys\")"
   ]
  },
  {
   "attachments": {},
   "cell_type": "markdown",
   "metadata": {},
   "source": [
    "## DATASET"
   ]
  },
  {
   "cell_type": "code",
   "execution_count": 5,
   "metadata": {},
   "outputs": [],
   "source": [
    "dest_dataset = \"/home/david/ML_DL/datasets/mini_mnist/\"\n",
    "path = untar_data(URLs.MNIST_SAMPLE, dest_dataset)"
   ]
  },
  {
   "cell_type": "code",
   "execution_count": 6,
   "metadata": {},
   "outputs": [],
   "source": [
    "Path.BASE_PATH = path"
   ]
  },
  {
   "cell_type": "code",
   "execution_count": 7,
   "metadata": {},
   "outputs": [
    {
     "data": {
      "text/plain": [
       "(#3) [Path('labels.csv'),Path('valid'),Path('train')]"
      ]
     },
     "execution_count": 7,
     "metadata": {},
     "output_type": "execute_result"
    }
   ],
   "source": [
    "path.ls()"
   ]
  },
  {
   "cell_type": "code",
   "execution_count": 8,
   "metadata": {},
   "outputs": [
    {
     "data": {
      "text/plain": [
       "(#2) [Path('train/7'),Path('train/3')]"
      ]
     },
     "execution_count": 8,
     "metadata": {},
     "output_type": "execute_result"
    }
   ],
   "source": [
    "(path/\"train\").ls()"
   ]
  },
  {
   "cell_type": "code",
   "execution_count": 9,
   "metadata": {},
   "outputs": [
    {
     "data": {
      "text/plain": [
       "(#6131) [Path('train/3/10.png'),Path('train/3/10000.png'),Path('train/3/10011.png'),Path('train/3/10031.png'),Path('train/3/10034.png'),Path('train/3/10042.png'),Path('train/3/10052.png'),Path('train/3/1007.png'),Path('train/3/10074.png'),Path('train/3/10091.png')...]"
      ]
     },
     "execution_count": 9,
     "metadata": {},
     "output_type": "execute_result"
    }
   ],
   "source": [
    "# get files from each class-folder\n",
    "threes = (path/\"train\"/\"3\").ls().sorted()\n",
    "sevens = (path/\"train\"/\"7\").ls().sorted()\n",
    "threes"
   ]
  },
  {
   "cell_type": "code",
   "execution_count": 10,
   "metadata": {},
   "outputs": [
    {
     "data": {
      "image/png": "[encoded data removed]",
      "text/plain": [
       "<PIL.PngImagePlugin.PngImageFile image mode=L size=28x28>"
      ]
     },
     "execution_count": 10,
     "metadata": {},
     "output_type": "execute_result"
    }
   ],
   "source": [
    "im3_path = threes[1]\n",
    "im3 = Image.open(im3_path)\n",
    "im3"
   ]
  },
  {
   "cell_type": "code",
   "execution_count": 11,
   "metadata": {},
   "outputs": [
    {
     "data": {
      "text/plain": [
       "tensor([[  0,   0,   0,   0,   0,   0,   0,   0,   0,   0],\n",
       "        [  0,   0,   0,   0,   0,   0,   0,   0,   0,   0],\n",
       "        [  0,   0,   0,   0,   0,   0,   0,   0,   0,   0],\n",
       "        [  0,   0,   0,   0,   0,   0,   0,   0,   0,   0],\n",
       "        [  0,   0,   0,   0,   0,   0,   0,   0,   0,   0],\n",
       "        [  0,   0,   0,   0,   0,   0,   0,   0,   0,  29],\n",
       "        [  0,   0,   0,   0,   0,   0,   0,  48, 166, 224],\n",
       "        [  0,   0,   0,   0,   0,  93, 244, 249, 253, 187],\n",
       "        [  0,   0,   0,   0,   0, 107, 253, 253, 230,  48],\n",
       "        [  0,   0,   0,   0,   0,   3,  20,  20,  15,   0]], dtype=torch.uint8)"
      ]
     },
     "execution_count": 11,
     "metadata": {},
     "output_type": "execute_result"
    }
   ],
   "source": [
    "# take a look at the pixel values from a section of one image, loading the values as a PyTorch tensor\n",
    "tensor(im3)[0:10,0:10]"
   ]
  },
  {
   "attachments": {},
   "cell_type": "markdown",
   "metadata": {},
   "source": [
    "We can slice the array to pick just the part with the top of the digit in it, and then use a Pandas DataFrame to color-code the values using a gradient, which shows us clearly how the image is created from the pixel values:"
   ]
  },
  {
   "cell_type": "code",
   "execution_count": 12,
   "metadata": {},
   "outputs": [
    {
     "data": {
      "text/html": [
       "<style type=\"text/css\">\n",
       "#T_330f8_row0_col0, #T_330f8_row0_col1, #T_330f8_row0_col2, #T_330f8_row0_col3, #T_330f8_row0_col4, #T_330f8_row0_col5, #T_330f8_row0_col6, #T_330f8_row0_col7, #T_330f8_row0_col8, #T_330f8_row0_col9, #T_330f8_row0_col10, #T_330f8_row0_col11, #T_330f8_row0_col12, #T_330f8_row0_col13, #T_330f8_row0_col14, #T_330f8_row0_col15, #T_330f8_row0_col16, #T_330f8_row0_col17, #T_330f8_row1_col0, #T_330f8_row1_col1, #T_330f8_row1_col2, #T_330f8_row1_col3, #T_330f8_row1_col4, #T_330f8_row1_col15, #T_330f8_row1_col16, #T_330f8_row1_col17, #T_330f8_row2_col0, #T_330f8_row2_col1, #T_330f8_row2_col2, #T_330f8_row2_col15, #T_330f8_row2_col16, #T_330f8_row2_col17, #T_330f8_row3_col0, #T_330f8_row3_col15, #T_330f8_row3_col16, #T_330f8_row3_col17, #T_330f8_row4_col0, #T_330f8_row4_col6, #T_330f8_row4_col7, #T_330f8_row4_col8, #T_330f8_row4_col9, #T_330f8_row4_col10, #T_330f8_row4_col15, #T_330f8_row4_col16, #T_330f8_row4_col17, #T_330f8_row5_col0, #T_330f8_row5_col5, #T_330f8_row5_col6, #T_330f8_row5_col7, #T_330f8_row5_col8, #T_330f8_row5_col9, #T_330f8_row5_col15, #T_330f8_row5_col16, #T_330f8_row5_col17, #T_330f8_row6_col0, #T_330f8_row6_col1, #T_330f8_row6_col2, #T_330f8_row6_col3, #T_330f8_row6_col4, #T_330f8_row6_col5, #T_330f8_row6_col6, #T_330f8_row6_col7, #T_330f8_row6_col8, #T_330f8_row6_col9, #T_330f8_row6_col14, #T_330f8_row6_col15, #T_330f8_row6_col16, #T_330f8_row6_col17, #T_330f8_row7_col0, #T_330f8_row7_col1, #T_330f8_row7_col2, #T_330f8_row7_col3, #T_330f8_row7_col4, #T_330f8_row7_col5, #T_330f8_row7_col6, #T_330f8_row7_col13, #T_330f8_row7_col14, #T_330f8_row7_col15, #T_330f8_row7_col16, #T_330f8_row7_col17, #T_330f8_row8_col0, #T_330f8_row8_col1, #T_330f8_row8_col2, #T_330f8_row8_col3, #T_330f8_row8_col4, #T_330f8_row8_col13, #T_330f8_row8_col14, #T_330f8_row8_col15, #T_330f8_row8_col16, #T_330f8_row8_col17, #T_330f8_row9_col0, #T_330f8_row9_col1, #T_330f8_row9_col2, #T_330f8_row9_col3, #T_330f8_row9_col4, #T_330f8_row9_col16, #T_330f8_row9_col17, #T_330f8_row10_col0, #T_330f8_row10_col1, #T_330f8_row10_col2, #T_330f8_row10_col3, #T_330f8_row10_col4, #T_330f8_row10_col5, #T_330f8_row10_col6, #T_330f8_row10_col17 {\n",
       "  font-size: 6pt;\n",
       "  background-color: #ffffff;\n",
       "  color: #000000;\n",
       "}\n",
       "#T_330f8_row1_col5 {\n",
       "  font-size: 6pt;\n",
       "  background-color: #efefef;\n",
       "  color: #000000;\n",
       "}\n",
       "#T_330f8_row1_col6, #T_330f8_row1_col13 {\n",
       "  font-size: 6pt;\n",
       "  background-color: #7c7c7c;\n",
       "  color: #f1f1f1;\n",
       "}\n",
       "#T_330f8_row1_col7 {\n",
       "  font-size: 6pt;\n",
       "  background-color: #4a4a4a;\n",
       "  color: #f1f1f1;\n",
       "}\n",
       "#T_330f8_row1_col8, #T_330f8_row1_col9, #T_330f8_row1_col10, #T_330f8_row2_col5, #T_330f8_row2_col6, #T_330f8_row2_col7, #T_330f8_row2_col11, #T_330f8_row2_col12, #T_330f8_row2_col13, #T_330f8_row3_col4, #T_330f8_row3_col12, #T_330f8_row3_col13, #T_330f8_row4_col1, #T_330f8_row4_col2, #T_330f8_row4_col3, #T_330f8_row4_col12, #T_330f8_row4_col13, #T_330f8_row5_col12, #T_330f8_row6_col11, #T_330f8_row9_col11, #T_330f8_row10_col11, #T_330f8_row10_col12, #T_330f8_row10_col13, #T_330f8_row10_col14, #T_330f8_row10_col15, #T_330f8_row10_col16 {\n",
       "  font-size: 6pt;\n",
       "  background-color: #000000;\n",
       "  color: #f1f1f1;\n",
       "}\n",
       "#T_330f8_row1_col11 {\n",
       "  font-size: 6pt;\n",
       "  background-color: #606060;\n",
       "  color: #f1f1f1;\n",
       "}\n",
       "#T_330f8_row1_col12 {\n",
       "  font-size: 6pt;\n",
       "  background-color: #4d4d4d;\n",
       "  color: #f1f1f1;\n",
       "}\n",
       "#T_330f8_row1_col14 {\n",
       "  font-size: 6pt;\n",
       "  background-color: #bbbbbb;\n",
       "  color: #000000;\n",
       "}\n",
       "#T_330f8_row2_col3 {\n",
       "  font-size: 6pt;\n",
       "  background-color: #e4e4e4;\n",
       "  color: #000000;\n",
       "}\n",
       "#T_330f8_row2_col4, #T_330f8_row8_col6 {\n",
       "  font-size: 6pt;\n",
       "  background-color: #6b6b6b;\n",
       "  color: #f1f1f1;\n",
       "}\n",
       "#T_330f8_row2_col8, #T_330f8_row2_col14, #T_330f8_row3_col14 {\n",
       "  font-size: 6pt;\n",
       "  background-color: #171717;\n",
       "  color: #f1f1f1;\n",
       "}\n",
       "#T_330f8_row2_col9, #T_330f8_row3_col11 {\n",
       "  font-size: 6pt;\n",
       "  background-color: #4b4b4b;\n",
       "  color: #f1f1f1;\n",
       "}\n",
       "#T_330f8_row2_col10, #T_330f8_row7_col10, #T_330f8_row8_col8, #T_330f8_row8_col10, #T_330f8_row9_col8, #T_330f8_row9_col10 {\n",
       "  font-size: 6pt;\n",
       "  background-color: #010101;\n",
       "  color: #f1f1f1;\n",
       "}\n",
       "#T_330f8_row3_col1 {\n",
       "  font-size: 6pt;\n",
       "  background-color: #272727;\n",
       "  color: #f1f1f1;\n",
       "}\n",
       "#T_330f8_row3_col2 {\n",
       "  font-size: 6pt;\n",
       "  background-color: #0a0a0a;\n",
       "  color: #f1f1f1;\n",
       "}\n",
       "#T_330f8_row3_col3 {\n",
       "  font-size: 6pt;\n",
       "  background-color: #050505;\n",
       "  color: #f1f1f1;\n",
       "}\n",
       "#T_330f8_row3_col5 {\n",
       "  font-size: 6pt;\n",
       "  background-color: #333333;\n",
       "  color: #f1f1f1;\n",
       "}\n",
       "#T_330f8_row3_col6 {\n",
       "  font-size: 6pt;\n",
       "  background-color: #e6e6e6;\n",
       "  color: #000000;\n",
       "}\n",
       "#T_330f8_row3_col7, #T_330f8_row3_col10 {\n",
       "  font-size: 6pt;\n",
       "  background-color: #fafafa;\n",
       "  color: #000000;\n",
       "}\n",
       "#T_330f8_row3_col8 {\n",
       "  font-size: 6pt;\n",
       "  background-color: #fbfbfb;\n",
       "  color: #000000;\n",
       "}\n",
       "#T_330f8_row3_col9 {\n",
       "  font-size: 6pt;\n",
       "  background-color: #fdfdfd;\n",
       "  color: #000000;\n",
       "}\n",
       "#T_330f8_row4_col4 {\n",
       "  font-size: 6pt;\n",
       "  background-color: #1b1b1b;\n",
       "  color: #f1f1f1;\n",
       "}\n",
       "#T_330f8_row4_col5 {\n",
       "  font-size: 6pt;\n",
       "  background-color: #e0e0e0;\n",
       "  color: #000000;\n",
       "}\n",
       "#T_330f8_row4_col11 {\n",
       "  font-size: 6pt;\n",
       "  background-color: #4e4e4e;\n",
       "  color: #f1f1f1;\n",
       "}\n",
       "#T_330f8_row4_col14 {\n",
       "  font-size: 6pt;\n",
       "  background-color: #767676;\n",
       "  color: #f1f1f1;\n",
       "}\n",
       "#T_330f8_row5_col1 {\n",
       "  font-size: 6pt;\n",
       "  background-color: #fcfcfc;\n",
       "  color: #000000;\n",
       "}\n",
       "#T_330f8_row5_col2, #T_330f8_row5_col3 {\n",
       "  font-size: 6pt;\n",
       "  background-color: #f6f6f6;\n",
       "  color: #000000;\n",
       "}\n",
       "#T_330f8_row5_col4, #T_330f8_row7_col7 {\n",
       "  font-size: 6pt;\n",
       "  background-color: #f8f8f8;\n",
       "  color: #000000;\n",
       "}\n",
       "#T_330f8_row5_col10, #T_330f8_row10_col7 {\n",
       "  font-size: 6pt;\n",
       "  background-color: #e8e8e8;\n",
       "  color: #000000;\n",
       "}\n",
       "#T_330f8_row5_col11 {\n",
       "  font-size: 6pt;\n",
       "  background-color: #222222;\n",
       "  color: #f1f1f1;\n",
       "}\n",
       "#T_330f8_row5_col13, #T_330f8_row6_col12 {\n",
       "  font-size: 6pt;\n",
       "  background-color: #090909;\n",
       "  color: #f1f1f1;\n",
       "}\n",
       "#T_330f8_row5_col14 {\n",
       "  font-size: 6pt;\n",
       "  background-color: #d0d0d0;\n",
       "  color: #000000;\n",
       "}\n",
       "#T_330f8_row6_col10, #T_330f8_row7_col11, #T_330f8_row9_col6 {\n",
       "  font-size: 6pt;\n",
       "  background-color: #060606;\n",
       "  color: #f1f1f1;\n",
       "}\n",
       "#T_330f8_row6_col13 {\n",
       "  font-size: 6pt;\n",
       "  background-color: #979797;\n",
       "  color: #f1f1f1;\n",
       "}\n",
       "#T_330f8_row7_col8 {\n",
       "  font-size: 6pt;\n",
       "  background-color: #b6b6b6;\n",
       "  color: #000000;\n",
       "}\n",
       "#T_330f8_row7_col9 {\n",
       "  font-size: 6pt;\n",
       "  background-color: #252525;\n",
       "  color: #f1f1f1;\n",
       "}\n",
       "#T_330f8_row7_col12 {\n",
       "  font-size: 6pt;\n",
       "  background-color: #999999;\n",
       "  color: #f1f1f1;\n",
       "}\n",
       "#T_330f8_row8_col5 {\n",
       "  font-size: 6pt;\n",
       "  background-color: #f9f9f9;\n",
       "  color: #000000;\n",
       "}\n",
       "#T_330f8_row8_col7 {\n",
       "  font-size: 6pt;\n",
       "  background-color: #101010;\n",
       "  color: #f1f1f1;\n",
       "}\n",
       "#T_330f8_row8_col9, #T_330f8_row9_col9 {\n",
       "  font-size: 6pt;\n",
       "  background-color: #020202;\n",
       "  color: #f1f1f1;\n",
       "}\n",
       "#T_330f8_row8_col11 {\n",
       "  font-size: 6pt;\n",
       "  background-color: #545454;\n",
       "  color: #f1f1f1;\n",
       "}\n",
       "#T_330f8_row8_col12 {\n",
       "  font-size: 6pt;\n",
       "  background-color: #f1f1f1;\n",
       "  color: #000000;\n",
       "}\n",
       "#T_330f8_row9_col5 {\n",
       "  font-size: 6pt;\n",
       "  background-color: #f7f7f7;\n",
       "  color: #000000;\n",
       "}\n",
       "#T_330f8_row9_col7 {\n",
       "  font-size: 6pt;\n",
       "  background-color: #030303;\n",
       "  color: #f1f1f1;\n",
       "}\n",
       "#T_330f8_row9_col12 {\n",
       "  font-size: 6pt;\n",
       "  background-color: #181818;\n",
       "  color: #f1f1f1;\n",
       "}\n",
       "#T_330f8_row9_col13 {\n",
       "  font-size: 6pt;\n",
       "  background-color: #303030;\n",
       "  color: #f1f1f1;\n",
       "}\n",
       "#T_330f8_row9_col14 {\n",
       "  font-size: 6pt;\n",
       "  background-color: #a9a9a9;\n",
       "  color: #f1f1f1;\n",
       "}\n",
       "#T_330f8_row9_col15 {\n",
       "  font-size: 6pt;\n",
       "  background-color: #fefefe;\n",
       "  color: #000000;\n",
       "}\n",
       "#T_330f8_row10_col8, #T_330f8_row10_col9 {\n",
       "  font-size: 6pt;\n",
       "  background-color: #bababa;\n",
       "  color: #000000;\n",
       "}\n",
       "#T_330f8_row10_col10 {\n",
       "  font-size: 6pt;\n",
       "  background-color: #393939;\n",
       "  color: #f1f1f1;\n",
       "}\n",
       "</style>\n",
       "<table id=\"T_330f8\">\n",
       "  <thead>\n",
       "    <tr>\n",
       "      <th class=\"blank level0\" >&nbsp;</th>\n",
       "      <th id=\"T_330f8_level0_col0\" class=\"col_heading level0 col0\" >0</th>\n",
       "      <th id=\"T_330f8_level0_col1\" class=\"col_heading level0 col1\" >1</th>\n",
       "      <th id=\"T_330f8_level0_col2\" class=\"col_heading level0 col2\" >2</th>\n",
       "      <th id=\"T_330f8_level0_col3\" class=\"col_heading level0 col3\" >3</th>\n",
       "      <th id=\"T_330f8_level0_col4\" class=\"col_heading level0 col4\" >4</th>\n",
       "      <th id=\"T_330f8_level0_col5\" class=\"col_heading level0 col5\" >5</th>\n",
       "      <th id=\"T_330f8_level0_col6\" class=\"col_heading level0 col6\" >6</th>\n",
       "      <th id=\"T_330f8_level0_col7\" class=\"col_heading level0 col7\" >7</th>\n",
       "      <th id=\"T_330f8_level0_col8\" class=\"col_heading level0 col8\" >8</th>\n",
       "      <th id=\"T_330f8_level0_col9\" class=\"col_heading level0 col9\" >9</th>\n",
       "      <th id=\"T_330f8_level0_col10\" class=\"col_heading level0 col10\" >10</th>\n",
       "      <th id=\"T_330f8_level0_col11\" class=\"col_heading level0 col11\" >11</th>\n",
       "      <th id=\"T_330f8_level0_col12\" class=\"col_heading level0 col12\" >12</th>\n",
       "      <th id=\"T_330f8_level0_col13\" class=\"col_heading level0 col13\" >13</th>\n",
       "      <th id=\"T_330f8_level0_col14\" class=\"col_heading level0 col14\" >14</th>\n",
       "      <th id=\"T_330f8_level0_col15\" class=\"col_heading level0 col15\" >15</th>\n",
       "      <th id=\"T_330f8_level0_col16\" class=\"col_heading level0 col16\" >16</th>\n",
       "      <th id=\"T_330f8_level0_col17\" class=\"col_heading level0 col17\" >17</th>\n",
       "    </tr>\n",
       "  </thead>\n",
       "  <tbody>\n",
       "    <tr>\n",
       "      <th id=\"T_330f8_level0_row0\" class=\"row_heading level0 row0\" >0</th>\n",
       "      <td id=\"T_330f8_row0_col0\" class=\"data row0 col0\" >0</td>\n",
       "      <td id=\"T_330f8_row0_col1\" class=\"data row0 col1\" >0</td>\n",
       "      <td id=\"T_330f8_row0_col2\" class=\"data row0 col2\" >0</td>\n",
       "      <td id=\"T_330f8_row0_col3\" class=\"data row0 col3\" >0</td>\n",
       "      <td id=\"T_330f8_row0_col4\" class=\"data row0 col4\" >0</td>\n",
       "      <td id=\"T_330f8_row0_col5\" class=\"data row0 col5\" >0</td>\n",
       "      <td id=\"T_330f8_row0_col6\" class=\"data row0 col6\" >0</td>\n",
       "      <td id=\"T_330f8_row0_col7\" class=\"data row0 col7\" >0</td>\n",
       "      <td id=\"T_330f8_row0_col8\" class=\"data row0 col8\" >0</td>\n",
       "      <td id=\"T_330f8_row0_col9\" class=\"data row0 col9\" >0</td>\n",
       "      <td id=\"T_330f8_row0_col10\" class=\"data row0 col10\" >0</td>\n",
       "      <td id=\"T_330f8_row0_col11\" class=\"data row0 col11\" >0</td>\n",
       "      <td id=\"T_330f8_row0_col12\" class=\"data row0 col12\" >0</td>\n",
       "      <td id=\"T_330f8_row0_col13\" class=\"data row0 col13\" >0</td>\n",
       "      <td id=\"T_330f8_row0_col14\" class=\"data row0 col14\" >0</td>\n",
       "      <td id=\"T_330f8_row0_col15\" class=\"data row0 col15\" >0</td>\n",
       "      <td id=\"T_330f8_row0_col16\" class=\"data row0 col16\" >0</td>\n",
       "      <td id=\"T_330f8_row0_col17\" class=\"data row0 col17\" >0</td>\n",
       "    </tr>\n",
       "    <tr>\n",
       "      <th id=\"T_330f8_level0_row1\" class=\"row_heading level0 row1\" >1</th>\n",
       "      <td id=\"T_330f8_row1_col0\" class=\"data row1 col0\" >0</td>\n",
       "      <td id=\"T_330f8_row1_col1\" class=\"data row1 col1\" >0</td>\n",
       "      <td id=\"T_330f8_row1_col2\" class=\"data row1 col2\" >0</td>\n",
       "      <td id=\"T_330f8_row1_col3\" class=\"data row1 col3\" >0</td>\n",
       "      <td id=\"T_330f8_row1_col4\" class=\"data row1 col4\" >0</td>\n",
       "      <td id=\"T_330f8_row1_col5\" class=\"data row1 col5\" >29</td>\n",
       "      <td id=\"T_330f8_row1_col6\" class=\"data row1 col6\" >150</td>\n",
       "      <td id=\"T_330f8_row1_col7\" class=\"data row1 col7\" >195</td>\n",
       "      <td id=\"T_330f8_row1_col8\" class=\"data row1 col8\" >254</td>\n",
       "      <td id=\"T_330f8_row1_col9\" class=\"data row1 col9\" >255</td>\n",
       "      <td id=\"T_330f8_row1_col10\" class=\"data row1 col10\" >254</td>\n",
       "      <td id=\"T_330f8_row1_col11\" class=\"data row1 col11\" >176</td>\n",
       "      <td id=\"T_330f8_row1_col12\" class=\"data row1 col12\" >193</td>\n",
       "      <td id=\"T_330f8_row1_col13\" class=\"data row1 col13\" >150</td>\n",
       "      <td id=\"T_330f8_row1_col14\" class=\"data row1 col14\" >96</td>\n",
       "      <td id=\"T_330f8_row1_col15\" class=\"data row1 col15\" >0</td>\n",
       "      <td id=\"T_330f8_row1_col16\" class=\"data row1 col16\" >0</td>\n",
       "      <td id=\"T_330f8_row1_col17\" class=\"data row1 col17\" >0</td>\n",
       "    </tr>\n",
       "    <tr>\n",
       "      <th id=\"T_330f8_level0_row2\" class=\"row_heading level0 row2\" >2</th>\n",
       "      <td id=\"T_330f8_row2_col0\" class=\"data row2 col0\" >0</td>\n",
       "      <td id=\"T_330f8_row2_col1\" class=\"data row2 col1\" >0</td>\n",
       "      <td id=\"T_330f8_row2_col2\" class=\"data row2 col2\" >0</td>\n",
       "      <td id=\"T_330f8_row2_col3\" class=\"data row2 col3\" >48</td>\n",
       "      <td id=\"T_330f8_row2_col4\" class=\"data row2 col4\" >166</td>\n",
       "      <td id=\"T_330f8_row2_col5\" class=\"data row2 col5\" >224</td>\n",
       "      <td id=\"T_330f8_row2_col6\" class=\"data row2 col6\" >253</td>\n",
       "      <td id=\"T_330f8_row2_col7\" class=\"data row2 col7\" >253</td>\n",
       "      <td id=\"T_330f8_row2_col8\" class=\"data row2 col8\" >234</td>\n",
       "      <td id=\"T_330f8_row2_col9\" class=\"data row2 col9\" >196</td>\n",
       "      <td id=\"T_330f8_row2_col10\" class=\"data row2 col10\" >253</td>\n",
       "      <td id=\"T_330f8_row2_col11\" class=\"data row2 col11\" >253</td>\n",
       "      <td id=\"T_330f8_row2_col12\" class=\"data row2 col12\" >253</td>\n",
       "      <td id=\"T_330f8_row2_col13\" class=\"data row2 col13\" >253</td>\n",
       "      <td id=\"T_330f8_row2_col14\" class=\"data row2 col14\" >233</td>\n",
       "      <td id=\"T_330f8_row2_col15\" class=\"data row2 col15\" >0</td>\n",
       "      <td id=\"T_330f8_row2_col16\" class=\"data row2 col16\" >0</td>\n",
       "      <td id=\"T_330f8_row2_col17\" class=\"data row2 col17\" >0</td>\n",
       "    </tr>\n",
       "    <tr>\n",
       "      <th id=\"T_330f8_level0_row3\" class=\"row_heading level0 row3\" >3</th>\n",
       "      <td id=\"T_330f8_row3_col0\" class=\"data row3 col0\" >0</td>\n",
       "      <td id=\"T_330f8_row3_col1\" class=\"data row3 col1\" >93</td>\n",
       "      <td id=\"T_330f8_row3_col2\" class=\"data row3 col2\" >244</td>\n",
       "      <td id=\"T_330f8_row3_col3\" class=\"data row3 col3\" >249</td>\n",
       "      <td id=\"T_330f8_row3_col4\" class=\"data row3 col4\" >253</td>\n",
       "      <td id=\"T_330f8_row3_col5\" class=\"data row3 col5\" >187</td>\n",
       "      <td id=\"T_330f8_row3_col6\" class=\"data row3 col6\" >46</td>\n",
       "      <td id=\"T_330f8_row3_col7\" class=\"data row3 col7\" >10</td>\n",
       "      <td id=\"T_330f8_row3_col8\" class=\"data row3 col8\" >8</td>\n",
       "      <td id=\"T_330f8_row3_col9\" class=\"data row3 col9\" >4</td>\n",
       "      <td id=\"T_330f8_row3_col10\" class=\"data row3 col10\" >10</td>\n",
       "      <td id=\"T_330f8_row3_col11\" class=\"data row3 col11\" >194</td>\n",
       "      <td id=\"T_330f8_row3_col12\" class=\"data row3 col12\" >253</td>\n",
       "      <td id=\"T_330f8_row3_col13\" class=\"data row3 col13\" >253</td>\n",
       "      <td id=\"T_330f8_row3_col14\" class=\"data row3 col14\" >233</td>\n",
       "      <td id=\"T_330f8_row3_col15\" class=\"data row3 col15\" >0</td>\n",
       "      <td id=\"T_330f8_row3_col16\" class=\"data row3 col16\" >0</td>\n",
       "      <td id=\"T_330f8_row3_col17\" class=\"data row3 col17\" >0</td>\n",
       "    </tr>\n",
       "    <tr>\n",
       "      <th id=\"T_330f8_level0_row4\" class=\"row_heading level0 row4\" >4</th>\n",
       "      <td id=\"T_330f8_row4_col0\" class=\"data row4 col0\" >0</td>\n",
       "      <td id=\"T_330f8_row4_col1\" class=\"data row4 col1\" >107</td>\n",
       "      <td id=\"T_330f8_row4_col2\" class=\"data row4 col2\" >253</td>\n",
       "      <td id=\"T_330f8_row4_col3\" class=\"data row4 col3\" >253</td>\n",
       "      <td id=\"T_330f8_row4_col4\" class=\"data row4 col4\" >230</td>\n",
       "      <td id=\"T_330f8_row4_col5\" class=\"data row4 col5\" >48</td>\n",
       "      <td id=\"T_330f8_row4_col6\" class=\"data row4 col6\" >0</td>\n",
       "      <td id=\"T_330f8_row4_col7\" class=\"data row4 col7\" >0</td>\n",
       "      <td id=\"T_330f8_row4_col8\" class=\"data row4 col8\" >0</td>\n",
       "      <td id=\"T_330f8_row4_col9\" class=\"data row4 col9\" >0</td>\n",
       "      <td id=\"T_330f8_row4_col10\" class=\"data row4 col10\" >0</td>\n",
       "      <td id=\"T_330f8_row4_col11\" class=\"data row4 col11\" >192</td>\n",
       "      <td id=\"T_330f8_row4_col12\" class=\"data row4 col12\" >253</td>\n",
       "      <td id=\"T_330f8_row4_col13\" class=\"data row4 col13\" >253</td>\n",
       "      <td id=\"T_330f8_row4_col14\" class=\"data row4 col14\" >156</td>\n",
       "      <td id=\"T_330f8_row4_col15\" class=\"data row4 col15\" >0</td>\n",
       "      <td id=\"T_330f8_row4_col16\" class=\"data row4 col16\" >0</td>\n",
       "      <td id=\"T_330f8_row4_col17\" class=\"data row4 col17\" >0</td>\n",
       "    </tr>\n",
       "    <tr>\n",
       "      <th id=\"T_330f8_level0_row5\" class=\"row_heading level0 row5\" >5</th>\n",
       "      <td id=\"T_330f8_row5_col0\" class=\"data row5 col0\" >0</td>\n",
       "      <td id=\"T_330f8_row5_col1\" class=\"data row5 col1\" >3</td>\n",
       "      <td id=\"T_330f8_row5_col2\" class=\"data row5 col2\" >20</td>\n",
       "      <td id=\"T_330f8_row5_col3\" class=\"data row5 col3\" >20</td>\n",
       "      <td id=\"T_330f8_row5_col4\" class=\"data row5 col4\" >15</td>\n",
       "      <td id=\"T_330f8_row5_col5\" class=\"data row5 col5\" >0</td>\n",
       "      <td id=\"T_330f8_row5_col6\" class=\"data row5 col6\" >0</td>\n",
       "      <td id=\"T_330f8_row5_col7\" class=\"data row5 col7\" >0</td>\n",
       "      <td id=\"T_330f8_row5_col8\" class=\"data row5 col8\" >0</td>\n",
       "      <td id=\"T_330f8_row5_col9\" class=\"data row5 col9\" >0</td>\n",
       "      <td id=\"T_330f8_row5_col10\" class=\"data row5 col10\" >43</td>\n",
       "      <td id=\"T_330f8_row5_col11\" class=\"data row5 col11\" >224</td>\n",
       "      <td id=\"T_330f8_row5_col12\" class=\"data row5 col12\" >253</td>\n",
       "      <td id=\"T_330f8_row5_col13\" class=\"data row5 col13\" >245</td>\n",
       "      <td id=\"T_330f8_row5_col14\" class=\"data row5 col14\" >74</td>\n",
       "      <td id=\"T_330f8_row5_col15\" class=\"data row5 col15\" >0</td>\n",
       "      <td id=\"T_330f8_row5_col16\" class=\"data row5 col16\" >0</td>\n",
       "      <td id=\"T_330f8_row5_col17\" class=\"data row5 col17\" >0</td>\n",
       "    </tr>\n",
       "    <tr>\n",
       "      <th id=\"T_330f8_level0_row6\" class=\"row_heading level0 row6\" >6</th>\n",
       "      <td id=\"T_330f8_row6_col0\" class=\"data row6 col0\" >0</td>\n",
       "      <td id=\"T_330f8_row6_col1\" class=\"data row6 col1\" >0</td>\n",
       "      <td id=\"T_330f8_row6_col2\" class=\"data row6 col2\" >0</td>\n",
       "      <td id=\"T_330f8_row6_col3\" class=\"data row6 col3\" >0</td>\n",
       "      <td id=\"T_330f8_row6_col4\" class=\"data row6 col4\" >0</td>\n",
       "      <td id=\"T_330f8_row6_col5\" class=\"data row6 col5\" >0</td>\n",
       "      <td id=\"T_330f8_row6_col6\" class=\"data row6 col6\" >0</td>\n",
       "      <td id=\"T_330f8_row6_col7\" class=\"data row6 col7\" >0</td>\n",
       "      <td id=\"T_330f8_row6_col8\" class=\"data row6 col8\" >0</td>\n",
       "      <td id=\"T_330f8_row6_col9\" class=\"data row6 col9\" >0</td>\n",
       "      <td id=\"T_330f8_row6_col10\" class=\"data row6 col10\" >249</td>\n",
       "      <td id=\"T_330f8_row6_col11\" class=\"data row6 col11\" >253</td>\n",
       "      <td id=\"T_330f8_row6_col12\" class=\"data row6 col12\" >245</td>\n",
       "      <td id=\"T_330f8_row6_col13\" class=\"data row6 col13\" >126</td>\n",
       "      <td id=\"T_330f8_row6_col14\" class=\"data row6 col14\" >0</td>\n",
       "      <td id=\"T_330f8_row6_col15\" class=\"data row6 col15\" >0</td>\n",
       "      <td id=\"T_330f8_row6_col16\" class=\"data row6 col16\" >0</td>\n",
       "      <td id=\"T_330f8_row6_col17\" class=\"data row6 col17\" >0</td>\n",
       "    </tr>\n",
       "    <tr>\n",
       "      <th id=\"T_330f8_level0_row7\" class=\"row_heading level0 row7\" >7</th>\n",
       "      <td id=\"T_330f8_row7_col0\" class=\"data row7 col0\" >0</td>\n",
       "      <td id=\"T_330f8_row7_col1\" class=\"data row7 col1\" >0</td>\n",
       "      <td id=\"T_330f8_row7_col2\" class=\"data row7 col2\" >0</td>\n",
       "      <td id=\"T_330f8_row7_col3\" class=\"data row7 col3\" >0</td>\n",
       "      <td id=\"T_330f8_row7_col4\" class=\"data row7 col4\" >0</td>\n",
       "      <td id=\"T_330f8_row7_col5\" class=\"data row7 col5\" >0</td>\n",
       "      <td id=\"T_330f8_row7_col6\" class=\"data row7 col6\" >0</td>\n",
       "      <td id=\"T_330f8_row7_col7\" class=\"data row7 col7\" >14</td>\n",
       "      <td id=\"T_330f8_row7_col8\" class=\"data row7 col8\" >101</td>\n",
       "      <td id=\"T_330f8_row7_col9\" class=\"data row7 col9\" >223</td>\n",
       "      <td id=\"T_330f8_row7_col10\" class=\"data row7 col10\" >253</td>\n",
       "      <td id=\"T_330f8_row7_col11\" class=\"data row7 col11\" >248</td>\n",
       "      <td id=\"T_330f8_row7_col12\" class=\"data row7 col12\" >124</td>\n",
       "      <td id=\"T_330f8_row7_col13\" class=\"data row7 col13\" >0</td>\n",
       "      <td id=\"T_330f8_row7_col14\" class=\"data row7 col14\" >0</td>\n",
       "      <td id=\"T_330f8_row7_col15\" class=\"data row7 col15\" >0</td>\n",
       "      <td id=\"T_330f8_row7_col16\" class=\"data row7 col16\" >0</td>\n",
       "      <td id=\"T_330f8_row7_col17\" class=\"data row7 col17\" >0</td>\n",
       "    </tr>\n",
       "    <tr>\n",
       "      <th id=\"T_330f8_level0_row8\" class=\"row_heading level0 row8\" >8</th>\n",
       "      <td id=\"T_330f8_row8_col0\" class=\"data row8 col0\" >0</td>\n",
       "      <td id=\"T_330f8_row8_col1\" class=\"data row8 col1\" >0</td>\n",
       "      <td id=\"T_330f8_row8_col2\" class=\"data row8 col2\" >0</td>\n",
       "      <td id=\"T_330f8_row8_col3\" class=\"data row8 col3\" >0</td>\n",
       "      <td id=\"T_330f8_row8_col4\" class=\"data row8 col4\" >0</td>\n",
       "      <td id=\"T_330f8_row8_col5\" class=\"data row8 col5\" >11</td>\n",
       "      <td id=\"T_330f8_row8_col6\" class=\"data row8 col6\" >166</td>\n",
       "      <td id=\"T_330f8_row8_col7\" class=\"data row8 col7\" >239</td>\n",
       "      <td id=\"T_330f8_row8_col8\" class=\"data row8 col8\" >253</td>\n",
       "      <td id=\"T_330f8_row8_col9\" class=\"data row8 col9\" >253</td>\n",
       "      <td id=\"T_330f8_row8_col10\" class=\"data row8 col10\" >253</td>\n",
       "      <td id=\"T_330f8_row8_col11\" class=\"data row8 col11\" >187</td>\n",
       "      <td id=\"T_330f8_row8_col12\" class=\"data row8 col12\" >30</td>\n",
       "      <td id=\"T_330f8_row8_col13\" class=\"data row8 col13\" >0</td>\n",
       "      <td id=\"T_330f8_row8_col14\" class=\"data row8 col14\" >0</td>\n",
       "      <td id=\"T_330f8_row8_col15\" class=\"data row8 col15\" >0</td>\n",
       "      <td id=\"T_330f8_row8_col16\" class=\"data row8 col16\" >0</td>\n",
       "      <td id=\"T_330f8_row8_col17\" class=\"data row8 col17\" >0</td>\n",
       "    </tr>\n",
       "    <tr>\n",
       "      <th id=\"T_330f8_level0_row9\" class=\"row_heading level0 row9\" >9</th>\n",
       "      <td id=\"T_330f8_row9_col0\" class=\"data row9 col0\" >0</td>\n",
       "      <td id=\"T_330f8_row9_col1\" class=\"data row9 col1\" >0</td>\n",
       "      <td id=\"T_330f8_row9_col2\" class=\"data row9 col2\" >0</td>\n",
       "      <td id=\"T_330f8_row9_col3\" class=\"data row9 col3\" >0</td>\n",
       "      <td id=\"T_330f8_row9_col4\" class=\"data row9 col4\" >0</td>\n",
       "      <td id=\"T_330f8_row9_col5\" class=\"data row9 col5\" >16</td>\n",
       "      <td id=\"T_330f8_row9_col6\" class=\"data row9 col6\" >248</td>\n",
       "      <td id=\"T_330f8_row9_col7\" class=\"data row9 col7\" >250</td>\n",
       "      <td id=\"T_330f8_row9_col8\" class=\"data row9 col8\" >253</td>\n",
       "      <td id=\"T_330f8_row9_col9\" class=\"data row9 col9\" >253</td>\n",
       "      <td id=\"T_330f8_row9_col10\" class=\"data row9 col10\" >253</td>\n",
       "      <td id=\"T_330f8_row9_col11\" class=\"data row9 col11\" >253</td>\n",
       "      <td id=\"T_330f8_row9_col12\" class=\"data row9 col12\" >232</td>\n",
       "      <td id=\"T_330f8_row9_col13\" class=\"data row9 col13\" >213</td>\n",
       "      <td id=\"T_330f8_row9_col14\" class=\"data row9 col14\" >111</td>\n",
       "      <td id=\"T_330f8_row9_col15\" class=\"data row9 col15\" >2</td>\n",
       "      <td id=\"T_330f8_row9_col16\" class=\"data row9 col16\" >0</td>\n",
       "      <td id=\"T_330f8_row9_col17\" class=\"data row9 col17\" >0</td>\n",
       "    </tr>\n",
       "    <tr>\n",
       "      <th id=\"T_330f8_level0_row10\" class=\"row_heading level0 row10\" >10</th>\n",
       "      <td id=\"T_330f8_row10_col0\" class=\"data row10 col0\" >0</td>\n",
       "      <td id=\"T_330f8_row10_col1\" class=\"data row10 col1\" >0</td>\n",
       "      <td id=\"T_330f8_row10_col2\" class=\"data row10 col2\" >0</td>\n",
       "      <td id=\"T_330f8_row10_col3\" class=\"data row10 col3\" >0</td>\n",
       "      <td id=\"T_330f8_row10_col4\" class=\"data row10 col4\" >0</td>\n",
       "      <td id=\"T_330f8_row10_col5\" class=\"data row10 col5\" >0</td>\n",
       "      <td id=\"T_330f8_row10_col6\" class=\"data row10 col6\" >0</td>\n",
       "      <td id=\"T_330f8_row10_col7\" class=\"data row10 col7\" >43</td>\n",
       "      <td id=\"T_330f8_row10_col8\" class=\"data row10 col8\" >98</td>\n",
       "      <td id=\"T_330f8_row10_col9\" class=\"data row10 col9\" >98</td>\n",
       "      <td id=\"T_330f8_row10_col10\" class=\"data row10 col10\" >208</td>\n",
       "      <td id=\"T_330f8_row10_col11\" class=\"data row10 col11\" >253</td>\n",
       "      <td id=\"T_330f8_row10_col12\" class=\"data row10 col12\" >253</td>\n",
       "      <td id=\"T_330f8_row10_col13\" class=\"data row10 col13\" >253</td>\n",
       "      <td id=\"T_330f8_row10_col14\" class=\"data row10 col14\" >253</td>\n",
       "      <td id=\"T_330f8_row10_col15\" class=\"data row10 col15\" >187</td>\n",
       "      <td id=\"T_330f8_row10_col16\" class=\"data row10 col16\" >22</td>\n",
       "      <td id=\"T_330f8_row10_col17\" class=\"data row10 col17\" >0</td>\n",
       "    </tr>\n",
       "  </tbody>\n",
       "</table>\n"
      ],
      "text/plain": [
       "<pandas.io.formats.style.Styler at 0x7f6a76da1130>"
      ]
     },
     "execution_count": 12,
     "metadata": {},
     "output_type": "execute_result"
    }
   ],
   "source": [
    "im3_t = tensor(im3)\n",
    "df = pd.DataFrame(im3_t[4:15,4:22])\n",
    "df.style.set_properties(**{'font-size':'6pt'}).background_gradient('Greys')"
   ]
  },
  {
   "attachments": {},
   "cell_type": "markdown",
   "metadata": {},
   "source": [
    "## BASELINE\n",
    "\n",
    "Create (or find) a baseline is an important task when creating a machine learning system, so we can compare if our new fancy model is better than a simpler approach, and we can know how much better it is.\n",
    "\n",
    "The idea to create the baseline is:\n",
    "+ Create a list of tensors for all images.\n",
    "+ Compute average pixel values considering all images for each class (3 and 7).\n",
    "+ Compute a sort of distance between the average images a new ones in order to decide which is more similar to which."
   ]
  },
  {
   "cell_type": "code",
   "execution_count": 13,
   "metadata": {},
   "outputs": [
    {
     "data": {
      "text/plain": [
       "(6131, 6265)"
      ]
     },
     "execution_count": 13,
     "metadata": {},
     "output_type": "execute_result"
    }
   ],
   "source": [
    "threes_tensors = [tensor(Image.open(o)) for o in threes]\n",
    "seven_tensors = [tensor(Image.open(o)) for o in sevens]\n",
    "\n",
    "len(threes_tensors), len(seven_tensors)"
   ]
  },
  {
   "cell_type": "code",
   "execution_count": 14,
   "metadata": {},
   "outputs": [
    {
     "data": {
      "text/plain": [
       "torch.Size([28, 28])"
      ]
     },
     "execution_count": 14,
     "metadata": {},
     "output_type": "execute_result"
    }
   ],
   "source": [
    "# which is the shape of a single tensor?\n",
    "threes_tensors[1].shape"
   ]
  },
  {
   "cell_type": "code",
   "execution_count": 15,
   "metadata": {},
   "outputs": [
    {
     "data": {
      "text/plain": [
       "(torch.Size([6131, 28, 28]), torch.Size([6265, 28, 28]))"
      ]
     },
     "execution_count": 15,
     "metadata": {},
     "output_type": "execute_result"
    }
   ],
   "source": [
    "# stack all images for each class and regularizate values\n",
    "stacked_threes = torch.stack(threes_tensors).float() / 255\n",
    "stacked_sevens = torch.stack(seven_tensors).float() / 255\n",
    "\n",
    "stacked_threes.shape, stacked_sevens.shape"
   ]
  },
  {
   "cell_type": "code",
   "execution_count": 16,
   "metadata": {},
   "outputs": [
    {
     "data": {
      "text/plain": [
       "<AxesSubplot:>"
      ]
     },
     "execution_count": 16,
     "metadata": {},
     "output_type": "execute_result"
    },
    {
     "data": {
      "image/png": "[encoded data removed]",
      "text/plain": [
       "<Figure size 100x100 with 1 Axes>"
      ]
     },
     "metadata": {},
     "output_type": "display_data"
    }
   ],
   "source": [
    "# compute average image for each class\n",
    "mean3 = stacked_threes.mean(axis=0)\n",
    "show_image(mean3)"
   ]
  },
  {
   "cell_type": "code",
   "execution_count": 17,
   "metadata": {},
   "outputs": [
    {
     "data": {
      "text/plain": [
       "<AxesSubplot:>"
      ]
     },
     "execution_count": 17,
     "metadata": {},
     "output_type": "execute_result"
    },
    {
     "data": {
      "image/png": "[encoded data removed]",
      "text/plain": [
       "<Figure size 100x100 with 1 Axes>"
      ]
     },
     "metadata": {},
     "output_type": "display_data"
    }
   ],
   "source": [
    "mean7 = stacked_sevens.mean(axis=0)\n",
    "show_image(mean7)"
   ]
  },
  {
   "attachments": {},
   "cell_type": "markdown",
   "metadata": {},
   "source": [
    "Let's take a random \"3\" image and the compute its similarity with mean images."
   ]
  },
  {
   "cell_type": "code",
   "execution_count": 18,
   "metadata": {},
   "outputs": [
    {
     "data": {
      "text/plain": [
       "(tensor(0.1210), tensor(0.2216))"
      ]
     },
     "execution_count": 18,
     "metadata": {},
     "output_type": "execute_result"
    }
   ],
   "source": [
    "a_3 = stacked_threes[42]\n",
    "\n",
    "# we can use absolute mean of differences\n",
    "dist_3_abs = (a_3 - mean3).abs().mean()\n",
    "# or we can use RMSE - or root mean squared error\n",
    "dist_3_sqr = ((a_3 - mean3)**2).mean().sqrt()\n",
    "\n",
    "# print both of them\n",
    "dist_3_abs, dist_3_sqr"
   ]
  },
  {
   "cell_type": "code",
   "execution_count": 19,
   "metadata": {},
   "outputs": [
    {
     "data": {
      "text/plain": [
       "(tensor(0.1769), tensor(0.3294))"
      ]
     },
     "execution_count": 19,
     "metadata": {},
     "output_type": "execute_result"
    }
   ],
   "source": [
    "# not let's compare with the mean7\n",
    "\n",
    "dist_7_abs = (a_3 - mean7).abs().mean()\n",
    "dist_7_sqrt = ((a_3 - mean7)**2).mean().sqrt()\n",
    "\n",
    "dist_7_abs, dist_7_sqrt"
   ]
  },
  {
   "attachments": {},
   "cell_type": "markdown",
   "metadata": {},
   "source": [
    "the distances are lower when comparing with mean3, so we can conclude the selected image is a 3."
   ]
  },
  {
   "cell_type": "code",
   "execution_count": 20,
   "metadata": {},
   "outputs": [],
   "source": [
    "# we can use in-built functions by PyTorch to compute those distances\n",
    "from torch.nn import functional as F"
   ]
  },
  {
   "cell_type": "code",
   "execution_count": 21,
   "metadata": {},
   "outputs": [
    {
     "data": {
      "text/plain": [
       "tensor(0.1210)"
      ]
     },
     "execution_count": 21,
     "metadata": {},
     "output_type": "execute_result"
    }
   ],
   "source": [
    "# mean absolute difference, also know as F1 norm\n",
    "F.l1_loss(a_3.float(), mean3)"
   ]
  },
  {
   "cell_type": "code",
   "execution_count": 22,
   "metadata": {},
   "outputs": [
    {
     "data": {
      "text/plain": [
       "tensor(0.2216)"
      ]
     },
     "execution_count": 22,
     "metadata": {},
     "output_type": "execute_result"
    }
   ],
   "source": [
    "# the RMSE\n",
    "F.mse_loss(a_3, mean3).sqrt()"
   ]
  },
  {
   "attachments": {},
   "cell_type": "markdown",
   "metadata": {},
   "source": [
    "### Get a metric for our baseline model based on pixel similarity"
   ]
  },
  {
   "cell_type": "code",
   "execution_count": 23,
   "metadata": {},
   "outputs": [
    {
     "data": {
      "text/plain": [
       "(torch.Size([1010, 28, 28]), torch.Size([1028, 28, 28]))"
      ]
     },
     "execution_count": 23,
     "metadata": {},
     "output_type": "execute_result"
    }
   ],
   "source": [
    "# Create stack of tensors for each image from the validation dataset\n",
    "\n",
    "valid_3_tensors = torch.stack([\n",
    "    tensor(Image.open(o)) for o in (path/\"valid\"/\"3\").ls()\n",
    "]).float() / 255\n",
    "\n",
    "valid_7_tensors = torch.stack([\n",
    "    tensor(Image.open(o)) for o in (path/\"valid\"/\"7\").ls()\n",
    "]).float() / 255\n",
    "\n",
    "valid_3_tensors.shape, valid_7_tensors.shape"
   ]
  },
  {
   "cell_type": "code",
   "execution_count": 24,
   "metadata": {},
   "outputs": [],
   "source": [
    "def mnist_distance(a, b):\n",
    "    \"\"\"This computes mean absolute error, if a or b are tensors, then PyTorch\n",
    "    performs broadcasting.\"\"\"\n",
    "    # mean is computed in the two dimensions of images, they are the last ones.\n",
    "    return (a-b).abs().mean((-1, -2))"
   ]
  },
  {
   "cell_type": "code",
   "execution_count": 25,
   "metadata": {},
   "outputs": [],
   "source": [
    "def is_3(x):\n",
    "    \"\"\"Return boolean tensor, when the mnist_distance is less for mean3 then is a 3.\"\"\"\n",
    "    return mnist_distance(x, mean3) < mnist_distance(x, mean7)"
   ]
  },
  {
   "cell_type": "code",
   "execution_count": 26,
   "metadata": {},
   "outputs": [
    {
     "data": {
      "text/plain": [
       "(tensor(True), tensor(1.))"
      ]
     },
     "execution_count": 26,
     "metadata": {},
     "output_type": "execute_result"
    }
   ],
   "source": [
    "# test\n",
    "label = is_3(a_3)\n",
    "# we can convert to float, to calculate accuracy\n",
    "label, label.float()"
   ]
  },
  {
   "cell_type": "code",
   "execution_count": 27,
   "metadata": {},
   "outputs": [
    {
     "name": "stdout",
     "output_type": "stream",
     "text": [
      "tensor(0.9168) tensor(0.9854)\n",
      "Accuracy of the baseline model tensor(0.9511)\n"
     ]
    }
   ],
   "source": [
    "# Calculate the final accuracy as an average of the two classes\n",
    "acc_3s = is_3(valid_3_tensors).float().mean()\n",
    "acc_7s = (1 - is_3(valid_7_tensors).float()).mean()\n",
    "\n",
    "print(acc_3s, acc_7s)\n",
    "print(\"Accuracy of the baseline model\", (acc_3s + acc_7s) / 2)"
   ]
  },
  {
   "attachments": {},
   "cell_type": "markdown",
   "metadata": {},
   "source": [
    "## The MNIST Loss Function"
   ]
  },
  {
   "attachments": {},
   "cell_type": "markdown",
   "metadata": {},
   "source": [
    "### Create dataset as PyTorch tensors"
   ]
  },
  {
   "cell_type": "code",
   "execution_count": 28,
   "metadata": {},
   "outputs": [
    {
     "data": {
      "text/plain": [
       "(torch.Size([12396, 784]), torch.Size([12396, 1]))"
      ]
     },
     "execution_count": 28,
     "metadata": {},
     "output_type": "execute_result"
    }
   ],
   "source": [
    "\"\"\"We use view() to change the from a list of matrices (a rank-3 tensor) to a list of \n",
    "flattened matrices, i.e. vectors. -1 means \"makes this axis as big as necessary to fit\n",
    "all the data.\n",
    "\"\"\"\n",
    "train_x = torch.cat([stacked_threes, stacked_sevens]).view(-1, 28*28)\n",
    "# then we need to create the labels, where 1 is for \"three\"'s and 0 for \"seven\"'s\n",
    "train_y = tensor([1]*len(threes) + [0]*len(sevens)).unsqueeze(dim=1)\n",
    "\n",
    "train_x.shape, train_y.shape"
   ]
  },
  {
   "cell_type": "code",
   "execution_count": 29,
   "metadata": {},
   "outputs": [
    {
     "data": {
      "text/plain": [
       "(torch.Size([784]), tensor([1]))"
      ]
     },
     "execution_count": 29,
     "metadata": {},
     "output_type": "execute_result"
    }
   ],
   "source": [
    "# create train dataset\n",
    "train_dataset = list(zip(train_x, train_y))\n",
    "x_i, y_i = train_dataset[0]\n",
    "\n",
    "x_i.shape, y_i"
   ]
  },
  {
   "cell_type": "code",
   "execution_count": 30,
   "metadata": {},
   "outputs": [
    {
     "data": {
      "text/plain": [
       "(2038, 2)"
      ]
     },
     "execution_count": 30,
     "metadata": {},
     "output_type": "execute_result"
    }
   ],
   "source": [
    "# We do the same to create the validation dataset\n",
    "valid_x = torch.cat([valid_3_tensors, valid_7_tensors]).view(-1, 28*28)\n",
    "valid_y = tensor([1]*len(valid_3_tensors) + [0]*len(valid_7_tensors)).unsqueeze(dim=1)\n",
    "valid_dataset = list(zip(valid_x, valid_y))\n",
    "\n",
    "len(valid_dataset), len(valid_dataset[0])"
   ]
  },
  {
   "cell_type": "code",
   "execution_count": 31,
   "metadata": {},
   "outputs": [],
   "source": [
    "def init_params(size: tuple, std=1.0):\n",
    "    return (torch.rand(size)*std).requires_grad_()"
   ]
  },
  {
   "cell_type": "code",
   "execution_count": 32,
   "metadata": {},
   "outputs": [],
   "source": [
    "weights = init_params((28*28, 1)) # a vector (28*28, 1)\n",
    "bias = init_params(1)"
   ]
  },
  {
   "cell_type": "code",
   "execution_count": 33,
   "metadata": {},
   "outputs": [],
   "source": [
    "# linear operation, dot product -> matrix multiplication\n",
    "def linear_1(image_x):\n",
    "    return image_x@weights + bias"
   ]
  },
  {
   "attachments": {},
   "cell_type": "markdown",
   "metadata": {},
   "source": [
    "Note\n",
    "\n",
    "In recent versions of Python 3, it can be used as an operator in expressions. It was added to allow a simple operator for matrix multiplication. (Interestingly, Python does not have a built-in matrix class, so if you are just using Python without importing anything, you can’t use this operator! But there are math libraries that define matrix types, and those types implement the special method functions to make @ work\n",
    "\n",
    "src: https://qr.ae/pyXol4"
   ]
  },
  {
   "cell_type": "code",
   "execution_count": 34,
   "metadata": {},
   "outputs": [
    {
     "data": {
      "text/plain": [
       "tensor([[49.1828],\n",
       "        [53.0565],\n",
       "        [51.7499],\n",
       "        ...,\n",
       "        [45.9112],\n",
       "        [44.8076],\n",
       "        [37.9669]], grad_fn=<AddBackward0>)"
      ]
     },
     "execution_count": 34,
     "metadata": {},
     "output_type": "execute_result"
    }
   ],
   "source": [
    "preds = linear_1(train_x)\n",
    "preds"
   ]
  },
  {
   "cell_type": "code",
   "execution_count": 35,
   "metadata": {},
   "outputs": [
    {
     "data": {
      "text/plain": [
       "tensor([[ True],\n",
       "        [ True],\n",
       "        [ True],\n",
       "        ...,\n",
       "        [False],\n",
       "        [False],\n",
       "        [False]])"
      ]
     },
     "execution_count": 35,
     "metadata": {},
     "output_type": "execute_result"
    }
   ],
   "source": [
    "# we can check the right predictions, creating labels and comparing with train_y\n",
    "corrects = (preds > 0.0).float() == train_y\n",
    "corrects"
   ]
  },
  {
   "cell_type": "code",
   "execution_count": 36,
   "metadata": {},
   "outputs": [
    {
     "data": {
      "text/plain": [
       "tensor(0.4946)"
      ]
     },
     "execution_count": 36,
     "metadata": {},
     "output_type": "execute_result"
    }
   ],
   "source": [
    "acc = corrects.float().mean() \n",
    "acc"
   ]
  },
  {
   "attachments": {},
   "cell_type": "markdown",
   "metadata": {},
   "source": [
    "**We need gradients to be able to update the weights and for that we need a loss function**\n",
    "\n",
    "Can we use the accuracy metric as the loss function?\n",
    "\n",
    "No. There's a problem...accuracy is a (non-smooth) function that is constant almost everywhere (except at the threshold, 0.5), so its derivative is nil almost everywhere (and infinity at the threshold). This then gives gradients that are 0 or infinite, which are useless for updating the model.\n",
    "\n",
    "Instead, we need a loss function which, when our weights result in slightly better predictions, gives us a slightly better loss. We can use a **sigmoid function**.\n",
    "\n",
    "We want that when loss functions receives more right predictions the return value is a lower number, and when they're wrong we get higher values."
   ]
  },
  {
   "cell_type": "code",
   "execution_count": 37,
   "metadata": {},
   "outputs": [],
   "source": [
    "def plot_function(f, title=None, min=-2.1, max=2.1, color=\"g\", ylim=None):\n",
    "    x = torch.linspace(min, max, 100)[:, None]\n",
    "\n",
    "    if ylim:\n",
    "        plt.ylim(ylim)\n",
    "    \n",
    "    plt.plot(x, f(x), color)\n",
    "    if title:\n",
    "        plt.title(label=title)"
   ]
  },
  {
   "cell_type": "code",
   "execution_count": 38,
   "metadata": {},
   "outputs": [
    {
     "data": {
      "image/png": "[encoded data removed]",
      "text/plain": [
       "<Figure size 640x480 with 1 Axes>"
      ]
     },
     "metadata": {},
     "output_type": "display_data"
    }
   ],
   "source": [
    "plot_function(torch.sigmoid, title=\"Sigmoid\", min=-4, max=4)"
   ]
  },
  {
   "cell_type": "code",
   "execution_count": 39,
   "metadata": {},
   "outputs": [],
   "source": [
    "def sigmoid(x):\n",
    "    # btw, we can use in-built sigmoid fn by PyTorch\n",
    "    return 1 / (1 + torch.exp(-x))"
   ]
  },
  {
   "cell_type": "code",
   "execution_count": 40,
   "metadata": {},
   "outputs": [],
   "source": [
    "# so we can use the next function, where predictions are always between 0 and 1 because\n",
    "# sigmoid were applied to them.\n",
    "def mnist_loss(preds, targets):\n",
    "    \"\"\"torch.where(a,b,c). This is the same as running the list comprehension \n",
    "    [b[i] if a[i] else c[i] for i in range(len(a))]\n",
    "\n",
    "    if targets is equal to 1, then return 1 - pred (it will be lower if it's right the prediction)\n",
    "    other case, return the prediction, meaning that was expected a 0.\n",
    "    \"\"\"\n",
    "    preds.sigmoid()\n",
    "    return torch.where(condition=targets==1, input=1-preds, other=preds).mean()"
   ]
  },
  {
   "attachments": {},
   "cell_type": "markdown",
   "metadata": {},
   "source": [
    "The metric is to drive human understanding and the loss is to drive automated learning. To drive automated learning, the loss must be a function that has a meaningful derivative. It can't have big flat sections and large jumps, but instead must be reasonably smooth. "
   ]
  },
  {
   "attachments": {},
   "cell_type": "markdown",
   "metadata": {},
   "source": [
    "## Stochastic Gradient Descent (SGD) and Mini-Batches"
   ]
  },
  {
   "attachments": {},
   "cell_type": "markdown",
   "metadata": {},
   "source": [
    "We can update the weights after process one single input forward, but this will be so inestable, the other option is to process the whole dataset, get an average loss and then update the weights and bias, so there's a trade-off, in practice we take a batch to do backpropagation."
   ]
  },
  {
   "cell_type": "code",
   "execution_count": 41,
   "metadata": {},
   "outputs": [
    {
     "data": {
      "text/plain": [
       "[tensor([ 3, 12,  8, 10,  2]),\n",
       " tensor([ 9,  4,  7, 14,  5]),\n",
       " tensor([ 1, 13,  0,  6, 11])]"
      ]
     },
     "execution_count": 41,
     "metadata": {},
     "output_type": "execute_result"
    }
   ],
   "source": [
    "# A data loader helps us to create batches from a collection (like a dataset), example\n",
    "coll = range(15)\n",
    "dl = DataLoader(coll, batch_size=5, shuffle=True)\n",
    "list(dl)"
   ]
  },
  {
   "cell_type": "code",
   "execution_count": 42,
   "metadata": {},
   "outputs": [
    {
     "data": {
      "text/plain": [
       "[(0, 'a'), (1, 'b'), (2, 'c'), (3, 'd'), (4, 'e')]"
      ]
     },
     "execution_count": 42,
     "metadata": {},
     "output_type": "execute_result"
    }
   ],
   "source": [
    "# A dataset tipically has the independent variables and the dependent one\n",
    "import string\n",
    "\n",
    "little_dataset = list(enumerate(string.ascii_lowercase))\n",
    "little_dataset[:5]"
   ]
  },
  {
   "cell_type": "code",
   "execution_count": 43,
   "metadata": {},
   "outputs": [
    {
     "data": {
      "text/plain": [
       "[(tensor([17, 18, 10, 22,  8, 14]), ('r', 's', 'k', 'w', 'i', 'o')),\n",
       " (tensor([20, 15,  9, 13, 21, 12]), ('u', 'p', 'j', 'n', 'v', 'm')),\n",
       " (tensor([ 7, 25,  6,  5, 11, 23]), ('h', 'z', 'g', 'f', 'l', 'x')),\n",
       " (tensor([ 1,  3,  0, 24, 19, 16]), ('b', 'd', 'a', 'y', 't', 'q')),\n",
       " (tensor([2, 4]), ('c', 'e'))]"
      ]
     },
     "execution_count": 43,
     "metadata": {},
     "output_type": "execute_result"
    }
   ],
   "source": [
    "dl = DataLoader(little_dataset, batch_size=6, shuffle=True)\n",
    "list(dl)"
   ]
  },
  {
   "attachments": {},
   "cell_type": "markdown",
   "metadata": {},
   "source": [
    "## Putting it all together"
   ]
  },
  {
   "cell_type": "code",
   "execution_count": 66,
   "metadata": {},
   "outputs": [
    {
     "data": {
      "text/plain": [
       "(torch.Size([256, 784]), torch.Size([256, 1]))"
      ]
     },
     "execution_count": 66,
     "metadata": {},
     "output_type": "execute_result"
    }
   ],
   "source": [
    "# Create data loader from MNIST dataset\n",
    "dataloader = DataLoader(dataset=train_dataset, batch_size=256)\n",
    "\n",
    "xbatch, ybatch = first(dataloader)\n",
    "\n",
    "xbatch.shape, ybatch.shape"
   ]
  },
  {
   "cell_type": "code",
   "execution_count": 67,
   "metadata": {},
   "outputs": [
    {
     "data": {
      "text/plain": [
       "fastai.data.load.DataLoader"
      ]
     },
     "execution_count": 67,
     "metadata": {},
     "output_type": "execute_result"
    }
   ],
   "source": [
    "# the same for the validation dataset\n",
    "dataloader_valid = DataLoader(dataset=valid_dataset, batch_size=256)\n",
    "\n",
    "type(dataloader_valid)"
   ]
  },
  {
   "attachments": {},
   "cell_type": "markdown",
   "metadata": {},
   "source": [
    "### Training using our own functions and methods"
   ]
  },
  {
   "cell_type": "code",
   "execution_count": 46,
   "metadata": {},
   "outputs": [],
   "source": [
    "# re-initialize params\n",
    "weights = init_params((28*28,1))\n",
    "bias = init_params(1)"
   ]
  },
  {
   "cell_type": "code",
   "execution_count": 47,
   "metadata": {},
   "outputs": [],
   "source": [
    "# linear operation, dot product -> matrix multiplication\n",
    "def linear_1(image_x):\n",
    "    return image_x@weights + bias"
   ]
  },
  {
   "cell_type": "code",
   "execution_count": 48,
   "metadata": {},
   "outputs": [],
   "source": [
    "def calc_grad(xb, yb, model):\n",
    "    \"\"\"Forward and compute the gradient for a single batch\"\"\"\n",
    "    preds = model(xb)\n",
    "    loss = mnist_loss(preds, yb)\n",
    "    loss.backward()"
   ]
  },
  {
   "cell_type": "code",
   "execution_count": 49,
   "metadata": {},
   "outputs": [],
   "source": [
    "def train_epoch(model, lr, params):\n",
    "    \"\"\"Calculate gradient for each batch of the data loader.\"\"\"\n",
    "    for xb, yb in dataloader:\n",
    "        calc_grad(xb, yb, model)\n",
    "        for p in params:\n",
    "            p.data -= p.grad*lr\n",
    "            # this important to reset gradient in-place, to not affect the next iteration\n",
    "            # since PyTorch keep stores the gradient.\n",
    "            p.grad.zero_()"
   ]
  },
  {
   "cell_type": "code",
   "execution_count": 50,
   "metadata": {},
   "outputs": [],
   "source": [
    "def batch_accuracy(x_batch, y_batch, threshold=0.5):\n",
    "    \"\"\"Compute the average accuracy for a sigle batch\"\"\"\n",
    "    preds = x_batch.sigmoid() # make sure everything is between 0 and 1\n",
    "    correct = (preds > threshold) == y_batch\n",
    "\n",
    "    return correct.float().mean()\n"
   ]
  },
  {
   "cell_type": "code",
   "execution_count": 51,
   "metadata": {},
   "outputs": [],
   "source": [
    "def validate_epoch(model):\n",
    "    \"\"\"Compute accuracy usign the validation dataset\"\"\"\n",
    "    accs = [batch_accuracy(model(xb), yb) for xb, yb in dataloader_valid]\n",
    "\n",
    "    return round(torch.stack(accs).mean().item(), 4)"
   ]
  },
  {
   "cell_type": "code",
   "execution_count": 52,
   "metadata": {},
   "outputs": [
    {
     "name": "stdout",
     "output_type": "stream",
     "text": [
      "0.5228\n",
      "0.8056\n",
      "0.88\n",
      "0.9091\n",
      "0.9234\n",
      "0.9353\n",
      "0.9392\n",
      "0.9417\n",
      "0.9442\n",
      "0.9447\n",
      "0.9466\n",
      "0.9486\n",
      "0.9491\n",
      "0.9491\n",
      "0.9496\n",
      "0.9506\n",
      "0.9511\n",
      "0.9521\n",
      "0.9526\n",
      "0.9526\n"
     ]
    }
   ],
   "source": [
    "# train for a few epochs\n",
    "NUM_EPOCHS = 20\n",
    "LEARNING_RATE = 0.1\n",
    "params = (weights, bias)\n",
    "\n",
    "for epoch in range(NUM_EPOCHS):\n",
    "    train_epoch(linear_1, lr=LEARNING_RATE, params=params)\n",
    "    print(validate_epoch(linear_1))"
   ]
  },
  {
   "attachments": {},
   "cell_type": "markdown",
   "metadata": {},
   "source": [
    "### Training using an optimizer"
   ]
  },
  {
   "cell_type": "code",
   "execution_count": 68,
   "metadata": {},
   "outputs": [],
   "source": [
    "## nn.Linear does the same thing as our init_params and linear functions together.\n",
    "# It contains both the weights and biases in a single class.\n",
    "from torch import nn"
   ]
  },
  {
   "cell_type": "code",
   "execution_count": 138,
   "metadata": {},
   "outputs": [
    {
     "data": {
      "text/plain": [
       "(torch.Size([1, 784]), torch.Size([1]))"
      ]
     },
     "execution_count": 138,
     "metadata": {},
     "output_type": "execute_result"
    }
   ],
   "source": [
    "linear_model = nn.Linear(\n",
    "    in_features=28*28, out_features=1, bias=True\n",
    ")\n",
    "\n",
    "w, b = linear_model.parameters()\n",
    "w.shape, b.shape"
   ]
  },
  {
   "cell_type": "code",
   "execution_count": 139,
   "metadata": {},
   "outputs": [],
   "source": [
    "class BasicOptimizer:\n",
    "    def __init__(self, params, lr: float):\n",
    "        self.params = list(params)\n",
    "        self.lr = lr\n",
    "    \n",
    "    def step(self, *args, **kwargs):\n",
    "        for param in self.params:\n",
    "            param.data -= param.grad.data * self.lr\n",
    "    \n",
    "    def zero_grad(self, *args, **kwargs):\n",
    "        for param in self.params:\n",
    "            param.grad = None"
   ]
  },
  {
   "cell_type": "code",
   "execution_count": 140,
   "metadata": {},
   "outputs": [],
   "source": [
    "optimizer = BasicOptimizer(linear_model.parameters(), 0.001)"
   ]
  },
  {
   "cell_type": "code",
   "execution_count": 141,
   "metadata": {},
   "outputs": [],
   "source": [
    "# update the training loop\n",
    "def train_epoch(model):\n",
    "    for xb, yb in dataloader:\n",
    "        calc_grad(xb, yb, model)\n",
    "        optimizer.step()\n",
    "        optimizer.zero_grad()"
   ]
  },
  {
   "cell_type": "code",
   "execution_count": 142,
   "metadata": {},
   "outputs": [],
   "source": [
    "def fit(model, epochs):\n",
    "    for epoch in range(epochs):\n",
    "        train_epoch(model)\n",
    "        print(f\"epoch: {epoch},\", validate_epoch(model))"
   ]
  },
  {
   "cell_type": "code",
   "execution_count": 143,
   "metadata": {},
   "outputs": [
    {
     "name": "stdout",
     "output_type": "stream",
     "text": [
      "epoch: 0, 0.9201\n",
      "epoch: 1, 0.9502\n",
      "epoch: 2, 0.9561\n",
      "epoch: 3, 0.9581\n",
      "epoch: 4, 0.9576\n",
      "epoch: 5, 0.9571\n",
      "epoch: 6, 0.9571\n",
      "epoch: 7, 0.9566\n",
      "epoch: 8, 0.9551\n",
      "epoch: 9, 0.9541\n",
      "epoch: 10, 0.9541\n",
      "epoch: 11, 0.9546\n",
      "epoch: 12, 0.9541\n",
      "epoch: 13, 0.9541\n",
      "epoch: 14, 0.9541\n",
      "epoch: 15, 0.9541\n",
      "epoch: 16, 0.9541\n",
      "epoch: 17, 0.9541\n",
      "epoch: 18, 0.9541\n",
      "epoch: 19, 0.9541\n"
     ]
    }
   ],
   "source": [
    "fit(linear_model, epochs=20)"
   ]
  },
  {
   "attachments": {},
   "cell_type": "markdown",
   "metadata": {},
   "source": [
    "**We can use the Optimizer by fastai**"
   ]
  },
  {
   "cell_type": "code",
   "execution_count": 150,
   "metadata": {},
   "outputs": [
    {
     "name": "stdout",
     "output_type": "stream",
     "text": [
      "epoch: 0, 0.4149\n",
      "epoch: 1, 0.5003\n",
      "epoch: 2, 0.5823\n",
      "epoch: 3, 0.6567\n",
      "epoch: 4, 0.7242\n",
      "epoch: 5, 0.7874\n",
      "epoch: 6, 0.8369\n",
      "epoch: 7, 0.8726\n",
      "epoch: 8, 0.9039\n",
      "epoch: 9, 0.92\n",
      "epoch: 10, 0.9303\n",
      "epoch: 11, 0.9381\n",
      "epoch: 12, 0.9425\n",
      "epoch: 13, 0.9454\n",
      "epoch: 14, 0.9493\n",
      "epoch: 15, 0.9508\n",
      "epoch: 16, 0.9522\n",
      "epoch: 17, 0.9537\n",
      "epoch: 18, 0.9551\n",
      "epoch: 19, 0.9561\n"
     ]
    }
   ],
   "source": [
    "linear_model = nn.Linear(28*28, 1)\n",
    "optimizer = SGD(linear_model.parameters(), lr=0.0001)\n",
    "\n",
    "fit(linear_model, 20)"
   ]
  },
  {
   "cell_type": "code",
   "execution_count": 156,
   "metadata": {},
   "outputs": [],
   "source": [
    "# We can use a Learner (instead of fit function) and DataLoaders by fastai\n",
    "data_loaders = DataLoaders(dataloader, dataloader_valid)\n",
    "\n",
    "learner = Learner(\n",
    "    data_loaders,\n",
    "    model=nn.Linear(28*28, 1),\n",
    "    opt_func=SGD,\n",
    "    loss_func=mnist_loss,\n",
    "    metrics=batch_accuracy,\n",
    ")"
   ]
  },
  {
   "cell_type": "code",
   "execution_count": 162,
   "metadata": {},
   "outputs": [],
   "source": [
    "learner.fit(NUM_EPOCHS, lr=0.0001)"
   ]
  },
  {
   "attachments": {},
   "cell_type": "markdown",
   "metadata": {},
   "source": [
    "## Adding a non-linearity\n",
    "\n",
    "To make it a bit more complex (and able to handle more tasks), we need to add something nonlinear between two linear classifiers—this is what gives us a neural network."
   ]
  },
  {
   "cell_type": "code",
   "execution_count": 165,
   "metadata": {},
   "outputs": [],
   "source": [
    "w1 = init_params((28*28,30))\n",
    "b1 = init_params(30)\n",
    "w2 = init_params((30,1))\n",
    "b2 = init_params(1)"
   ]
  },
  {
   "cell_type": "code",
   "execution_count": 166,
   "metadata": {},
   "outputs": [],
   "source": [
    "def simple_net(xb): \n",
    "    res = xb@w1 + b1\n",
    "    # ReLU\n",
    "    res = res.max(tensor(0.0))\n",
    "    res = res@w2 + b2\n",
    "    return res"
   ]
  },
  {
   "attachments": {},
   "cell_type": "markdown",
   "metadata": {},
   "source": [
    "The basic idea is that by using more linear layers, we can have our model do more computation, and therefore model more complex functions."
   ]
  },
  {
   "cell_type": "code",
   "execution_count": 185,
   "metadata": {},
   "outputs": [],
   "source": [
    "# or we can use PyTorch class Sequential to define a NN with a non-linear activation fn\n",
    "\n",
    "simple_net = nn.Sequential(\n",
    "    nn.Linear(28*28, 30),\n",
    "    nn.ReLU(),\n",
    "    nn.Linear(30, 1),\n",
    ")"
   ]
  },
  {
   "cell_type": "code",
   "execution_count": 188,
   "metadata": {},
   "outputs": [],
   "source": [
    "learn = Learner(\n",
    "    data_loaders,\n",
    "    simple_net,\n",
    "    opt_func=SGD,\n",
    "    loss_func=mnist_loss,\n",
    "    metrics=batch_accuracy\n",
    ")\n",
    "\n",
    "learn.fit(20, 0.001)"
   ]
  },
  {
   "cell_type": "code",
   "execution_count": 189,
   "metadata": {},
   "outputs": [
    {
     "data": {
      "text/plain": [
       "[<matplotlib.lines.Line2D at 0x7f69dd1e3cd0>]"
      ]
     },
     "execution_count": 189,
     "metadata": {},
     "output_type": "execute_result"
    },
    {
     "data": {
      "image/png": "[encoded data removed]",
      "text/plain": [
       "<Figure size 640x480 with 1 Axes>"
      ]
     },
     "metadata": {},
     "output_type": "display_data"
    }
   ],
   "source": [
    "plt.plot(L(learn.recorder.values).itemgot(2))\n"
   ]
  },
  {
   "cell_type": "code",
   "execution_count": 190,
   "metadata": {},
   "outputs": [
    {
     "data": {
      "text/plain": [
       "0.9538763761520386"
      ]
     },
     "execution_count": 190,
     "metadata": {},
     "output_type": "execute_result"
    }
   ],
   "source": [
    "# final accuracy\n",
    "learn.recorder.values[-1][2]\n"
   ]
  }
 ],
 "metadata": {
  "kernelspec": {
   "display_name": "fast.ai",
   "language": "python",
   "name": "python3"
  },
  "language_info": {
   "codemirror_mode": {
    "name": "ipython",
    "version": 3
   },
   "file_extension": ".py",
   "mimetype": "text/x-python",
   "name": "python",
   "nbconvert_exporter": "python",
   "pygments_lexer": "ipython3",
   "version": "3.9.16"
  },
  "orig_nbformat": 4
 },
 "nbformat": 4,
 "nbformat_minor": 2
}
