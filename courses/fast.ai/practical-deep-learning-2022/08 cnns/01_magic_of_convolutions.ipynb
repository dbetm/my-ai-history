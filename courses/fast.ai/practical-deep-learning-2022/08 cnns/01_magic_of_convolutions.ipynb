{
 "cells": [
  {
   "cell_type": "code",
   "execution_count": 47,
   "metadata": {},
   "outputs": [],
   "source": [
    "import pandas as pd\n",
    "import numpy as np\n",
    "import torch\n",
    "from torchvision import transforms\n",
    "from fastai.vision.all import (\n",
    "    get_image_files,\n",
    "    first,\n",
    "    parent_label,\n",
    "    to_cpu,\n",
    "    untar_data,\n",
    "    CategoryBlock,\n",
    "    DataBlock,\n",
    "    GrandparentSplitter,\n",
    "    ImageBlock,\n",
    "    Path,\n",
    "    PILImageBW,\n",
    "    URLs,\n",
    ")\n",
    "from fastai.vision.widgets import Image\n",
    "from fastbook import show_image\n",
    "from torch import tensor\n"
   ]
  },
  {
   "attachments": {},
   "cell_type": "markdown",
   "metadata": {},
   "source": [
    "## The magic of convolutions\n",
    "\n",
    "\n",
    "In an image a feature is a visually distinctive attribute. What if we could extract information about where the edges occur in each image and then use that information as our features, instead of raw pixels?\n",
    "\n",
    "To find the edges in an image we used convolutions. A convolution requires nothing more than multiplicatio and addition.\n",
    "\n",
    "A convolution applies a kernel across an image. A kernel is a little matrix.\n",
    "\n",
    "![](images/conv_basic.png)\n",
    "\n",
    "\n",
    "**Example with code using a picture from MNIST dataset**"
   ]
  },
  {
   "cell_type": "code",
   "execution_count": 2,
   "metadata": {},
   "outputs": [
    {
     "data": {
      "text/plain": [
       "tensor([[-1., -1., -1.],\n",
       "        [ 0.,  0.,  0.],\n",
       "        [ 1.,  1.,  1.]])"
      ]
     },
     "execution_count": 2,
     "metadata": {},
     "output_type": "execute_result"
    }
   ],
   "source": [
    "# define kernel\n",
    "\n",
    "top_edge_filter = tensor([\n",
    "    [-1, -1, -1],\n",
    "    [0, 0, 0],\n",
    "    [1, 1, 1]\n",
    "]).float()\n",
    "\n",
    "top_edge_filter"
   ]
  },
  {
   "cell_type": "code",
   "execution_count": 3,
   "metadata": {},
   "outputs": [],
   "source": [
    "path = untar_data(URLs.MNIST_SAMPLE)\n",
    "Path.BASE_PATH = path"
   ]
  },
  {
   "cell_type": "code",
   "execution_count": 4,
   "metadata": {},
   "outputs": [
    {
     "data": {
      "image/png": "[encoded data removed]",
      "text/plain": [
       "<PIL.PngImagePlugin.PngImageFile image mode=L size=28x28>"
      ]
     },
     "metadata": {},
     "output_type": "display_data"
    }
   ],
   "source": [
    "im3 = Image.open(path/\"train\"/\"3\"/\"12.png\")\n",
    "display(im3)"
   ]
  },
  {
   "attachments": {},
   "cell_type": "markdown",
   "metadata": {},
   "source": [
    "Now we're going to take the top 3×3-pixel square of our image, and multiply each of those values by each item in our kernel. Then we'll add them up"
   ]
  },
  {
   "cell_type": "code",
   "execution_count": 12,
   "metadata": {},
   "outputs": [
    {
     "data": {
      "text/plain": [
       "tensor([[-0., -0., -0.],\n",
       "        [0., 0., 0.],\n",
       "        [0., 0., 0.]])"
      ]
     },
     "execution_count": 12,
     "metadata": {},
     "output_type": "execute_result"
    }
   ],
   "source": [
    "to_tensor_fn = transforms.ToTensor()\n",
    "\n",
    "im3_t = to_tensor_fn(im3)[0]\n",
    "im3_t[0:3,0:3] * top_edge_filter"
   ]
  },
  {
   "cell_type": "code",
   "execution_count": 13,
   "metadata": {},
   "outputs": [
    {
     "data": {
      "text/plain": [
       "tensor(0.)"
      ]
     },
     "execution_count": 13,
     "metadata": {},
     "output_type": "execute_result"
    }
   ],
   "source": [
    "# it will be 0, because that area of the image is all white backgroud\n",
    "(im3_t[0:3,0:3] * top_edge_filter).sum()"
   ]
  },
  {
   "cell_type": "code",
   "execution_count": 16,
   "metadata": {},
   "outputs": [
    {
     "data": {
      "text/html": [
       "<style type=\"text/css\">\n",
       "#T_9bf50_row0_col0, #T_9bf50_row0_col1, #T_9bf50_row0_col2, #T_9bf50_row0_col3, #T_9bf50_row0_col4, #T_9bf50_row0_col5, #T_9bf50_row0_col6, #T_9bf50_row0_col7, #T_9bf50_row0_col8, #T_9bf50_row0_col9, #T_9bf50_row0_col10, #T_9bf50_row0_col11, #T_9bf50_row0_col12, #T_9bf50_row0_col13, #T_9bf50_row0_col14, #T_9bf50_row0_col15, #T_9bf50_row0_col16, #T_9bf50_row0_col17, #T_9bf50_row0_col18, #T_9bf50_row0_col19, #T_9bf50_row1_col0, #T_9bf50_row1_col1, #T_9bf50_row1_col2, #T_9bf50_row1_col3, #T_9bf50_row1_col4, #T_9bf50_row1_col5, #T_9bf50_row1_col6, #T_9bf50_row1_col7, #T_9bf50_row1_col8, #T_9bf50_row1_col9, #T_9bf50_row1_col10, #T_9bf50_row1_col11, #T_9bf50_row1_col12, #T_9bf50_row1_col13, #T_9bf50_row1_col14, #T_9bf50_row1_col15, #T_9bf50_row1_col16, #T_9bf50_row1_col17, #T_9bf50_row1_col18, #T_9bf50_row1_col19, #T_9bf50_row2_col0, #T_9bf50_row2_col1, #T_9bf50_row2_col2, #T_9bf50_row2_col3, #T_9bf50_row2_col4, #T_9bf50_row2_col5, #T_9bf50_row2_col6, #T_9bf50_row2_col7, #T_9bf50_row2_col8, #T_9bf50_row2_col9, #T_9bf50_row2_col10, #T_9bf50_row2_col11, #T_9bf50_row2_col12, #T_9bf50_row2_col13, #T_9bf50_row2_col14, #T_9bf50_row2_col15, #T_9bf50_row2_col16, #T_9bf50_row2_col17, #T_9bf50_row2_col18, #T_9bf50_row2_col19, #T_9bf50_row3_col0, #T_9bf50_row3_col1, #T_9bf50_row3_col2, #T_9bf50_row3_col3, #T_9bf50_row3_col4, #T_9bf50_row3_col5, #T_9bf50_row3_col6, #T_9bf50_row3_col7, #T_9bf50_row3_col8, #T_9bf50_row3_col9, #T_9bf50_row3_col10, #T_9bf50_row3_col11, #T_9bf50_row3_col12, #T_9bf50_row3_col13, #T_9bf50_row3_col14, #T_9bf50_row3_col15, #T_9bf50_row3_col16, #T_9bf50_row3_col17, #T_9bf50_row3_col18, #T_9bf50_row3_col19, #T_9bf50_row4_col0, #T_9bf50_row4_col1, #T_9bf50_row4_col2, #T_9bf50_row4_col3, #T_9bf50_row4_col4, #T_9bf50_row4_col5, #T_9bf50_row4_col6, #T_9bf50_row4_col7, #T_9bf50_row4_col8, #T_9bf50_row4_col9, #T_9bf50_row4_col10, #T_9bf50_row4_col11, #T_9bf50_row4_col12, #T_9bf50_row4_col13, #T_9bf50_row4_col14, #T_9bf50_row4_col15, #T_9bf50_row4_col16, #T_9bf50_row4_col17, #T_9bf50_row4_col18, #T_9bf50_row4_col19, #T_9bf50_row5_col0, #T_9bf50_row5_col1, #T_9bf50_row5_col2, #T_9bf50_row5_col16, #T_9bf50_row5_col17, #T_9bf50_row5_col18, #T_9bf50_row5_col19, #T_9bf50_row6_col0, #T_9bf50_row6_col1, #T_9bf50_row6_col2, #T_9bf50_row6_col19, #T_9bf50_row7_col0, #T_9bf50_row7_col1, #T_9bf50_row7_col2, #T_9bf50_row7_col19, #T_9bf50_row8_col0, #T_9bf50_row8_col1, #T_9bf50_row8_col2, #T_9bf50_row8_col8, #T_9bf50_row8_col9, #T_9bf50_row8_col10, #T_9bf50_row8_col11, #T_9bf50_row8_col12, #T_9bf50_row8_col13, #T_9bf50_row8_col19, #T_9bf50_row9_col0, #T_9bf50_row9_col1, #T_9bf50_row9_col2, #T_9bf50_row9_col3, #T_9bf50_row9_col4, #T_9bf50_row9_col5, #T_9bf50_row9_col6, #T_9bf50_row9_col7, #T_9bf50_row9_col8, #T_9bf50_row9_col9, #T_9bf50_row9_col10, #T_9bf50_row9_col11, #T_9bf50_row9_col12, #T_9bf50_row9_col13, #T_9bf50_row9_col19 {\n",
       "  font-size: 6pt;\n",
       "  background-color: #ffffff;\n",
       "  color: #000000;\n",
       "}\n",
       "#T_9bf50_row5_col3, #T_9bf50_row8_col14 {\n",
       "  font-size: 6pt;\n",
       "  background-color: #f9f9f9;\n",
       "  color: #000000;\n",
       "}\n",
       "#T_9bf50_row5_col4 {\n",
       "  font-size: 6pt;\n",
       "  background-color: #b9b9b9;\n",
       "  color: #000000;\n",
       "}\n",
       "#T_9bf50_row5_col5 {\n",
       "  font-size: 6pt;\n",
       "  background-color: #c1c1c1;\n",
       "  color: #000000;\n",
       "}\n",
       "#T_9bf50_row5_col6 {\n",
       "  font-size: 6pt;\n",
       "  background-color: #858585;\n",
       "  color: #f1f1f1;\n",
       "}\n",
       "#T_9bf50_row5_col7, #T_9bf50_row5_col10, #T_9bf50_row5_col11, #T_9bf50_row5_col12, #T_9bf50_row5_col13 {\n",
       "  font-size: 6pt;\n",
       "  background-color: #777777;\n",
       "  color: #f1f1f1;\n",
       "}\n",
       "#T_9bf50_row5_col8 {\n",
       "  font-size: 6pt;\n",
       "  background-color: #090909;\n",
       "  color: #f1f1f1;\n",
       "}\n",
       "#T_9bf50_row5_col9 {\n",
       "  font-size: 6pt;\n",
       "  background-color: #5b5b5b;\n",
       "  color: #f1f1f1;\n",
       "}\n",
       "#T_9bf50_row5_col14 {\n",
       "  font-size: 6pt;\n",
       "  background-color: #919191;\n",
       "  color: #f1f1f1;\n",
       "}\n",
       "#T_9bf50_row5_col15 {\n",
       "  font-size: 6pt;\n",
       "  background-color: #e1e1e1;\n",
       "  color: #000000;\n",
       "}\n",
       "#T_9bf50_row6_col3 {\n",
       "  font-size: 6pt;\n",
       "  background-color: #727272;\n",
       "  color: #f1f1f1;\n",
       "}\n",
       "#T_9bf50_row6_col4, #T_9bf50_row6_col5, #T_9bf50_row6_col6, #T_9bf50_row6_col7, #T_9bf50_row6_col8, #T_9bf50_row6_col9, #T_9bf50_row6_col10, #T_9bf50_row6_col11, #T_9bf50_row6_col12, #T_9bf50_row6_col13, #T_9bf50_row6_col14, #T_9bf50_row7_col3, #T_9bf50_row7_col4, #T_9bf50_row7_col5, #T_9bf50_row7_col6, #T_9bf50_row7_col15, #T_9bf50_row7_col16, #T_9bf50_row7_col17, #T_9bf50_row8_col16, #T_9bf50_row8_col17, #T_9bf50_row8_col18, #T_9bf50_row9_col15, #T_9bf50_row9_col16 {\n",
       "  font-size: 6pt;\n",
       "  background-color: #000000;\n",
       "  color: #f1f1f1;\n",
       "}\n",
       "#T_9bf50_row6_col15 {\n",
       "  font-size: 6pt;\n",
       "  background-color: #020202;\n",
       "  color: #f1f1f1;\n",
       "}\n",
       "#T_9bf50_row6_col16 {\n",
       "  font-size: 6pt;\n",
       "  background-color: #363636;\n",
       "  color: #f1f1f1;\n",
       "}\n",
       "#T_9bf50_row6_col17 {\n",
       "  font-size: 6pt;\n",
       "  background-color: #9d9d9d;\n",
       "  color: #f1f1f1;\n",
       "}\n",
       "#T_9bf50_row6_col18 {\n",
       "  font-size: 6pt;\n",
       "  background-color: #dfdfdf;\n",
       "  color: #000000;\n",
       "}\n",
       "#T_9bf50_row7_col7 {\n",
       "  font-size: 6pt;\n",
       "  background-color: #161616;\n",
       "  color: #f1f1f1;\n",
       "}\n",
       "#T_9bf50_row7_col8, #T_9bf50_row7_col9, #T_9bf50_row7_col10, #T_9bf50_row7_col11, #T_9bf50_row7_col13 {\n",
       "  font-size: 6pt;\n",
       "  background-color: #535353;\n",
       "  color: #f1f1f1;\n",
       "}\n",
       "#T_9bf50_row7_col12 {\n",
       "  font-size: 6pt;\n",
       "  background-color: #7c7c7c;\n",
       "  color: #f1f1f1;\n",
       "}\n",
       "#T_9bf50_row7_col14 {\n",
       "  font-size: 6pt;\n",
       "  background-color: #3d3d3d;\n",
       "  color: #f1f1f1;\n",
       "}\n",
       "#T_9bf50_row7_col18 {\n",
       "  font-size: 6pt;\n",
       "  background-color: #999999;\n",
       "  color: #f1f1f1;\n",
       "}\n",
       "#T_9bf50_row8_col3 {\n",
       "  font-size: 6pt;\n",
       "  background-color: #eaeaea;\n",
       "  color: #000000;\n",
       "}\n",
       "#T_9bf50_row8_col4 {\n",
       "  font-size: 6pt;\n",
       "  background-color: #d0d0d0;\n",
       "  color: #000000;\n",
       "}\n",
       "#T_9bf50_row8_col5, #T_9bf50_row8_col6 {\n",
       "  font-size: 6pt;\n",
       "  background-color: #eeeeee;\n",
       "  color: #000000;\n",
       "}\n",
       "#T_9bf50_row8_col7 {\n",
       "  font-size: 6pt;\n",
       "  background-color: #f3f3f3;\n",
       "  color: #000000;\n",
       "}\n",
       "#T_9bf50_row8_col15 {\n",
       "  font-size: 6pt;\n",
       "  background-color: #232323;\n",
       "  color: #f1f1f1;\n",
       "}\n",
       "#T_9bf50_row9_col14 {\n",
       "  font-size: 6pt;\n",
       "  background-color: #c2c2c2;\n",
       "  color: #000000;\n",
       "}\n",
       "#T_9bf50_row9_col17 {\n",
       "  font-size: 6pt;\n",
       "  background-color: #080808;\n",
       "  color: #f1f1f1;\n",
       "}\n",
       "#T_9bf50_row9_col18 {\n",
       "  font-size: 6pt;\n",
       "  background-color: #c4c4c4;\n",
       "  color: #000000;\n",
       "}\n",
       "</style>\n",
       "<table id=\"T_9bf50\">\n",
       "  <thead>\n",
       "    <tr>\n",
       "      <th class=\"blank level0\" >&nbsp;</th>\n",
       "      <th id=\"T_9bf50_level0_col0\" class=\"col_heading level0 col0\" >0</th>\n",
       "      <th id=\"T_9bf50_level0_col1\" class=\"col_heading level0 col1\" >1</th>\n",
       "      <th id=\"T_9bf50_level0_col2\" class=\"col_heading level0 col2\" >2</th>\n",
       "      <th id=\"T_9bf50_level0_col3\" class=\"col_heading level0 col3\" >3</th>\n",
       "      <th id=\"T_9bf50_level0_col4\" class=\"col_heading level0 col4\" >4</th>\n",
       "      <th id=\"T_9bf50_level0_col5\" class=\"col_heading level0 col5\" >5</th>\n",
       "      <th id=\"T_9bf50_level0_col6\" class=\"col_heading level0 col6\" >6</th>\n",
       "      <th id=\"T_9bf50_level0_col7\" class=\"col_heading level0 col7\" >7</th>\n",
       "      <th id=\"T_9bf50_level0_col8\" class=\"col_heading level0 col8\" >8</th>\n",
       "      <th id=\"T_9bf50_level0_col9\" class=\"col_heading level0 col9\" >9</th>\n",
       "      <th id=\"T_9bf50_level0_col10\" class=\"col_heading level0 col10\" >10</th>\n",
       "      <th id=\"T_9bf50_level0_col11\" class=\"col_heading level0 col11\" >11</th>\n",
       "      <th id=\"T_9bf50_level0_col12\" class=\"col_heading level0 col12\" >12</th>\n",
       "      <th id=\"T_9bf50_level0_col13\" class=\"col_heading level0 col13\" >13</th>\n",
       "      <th id=\"T_9bf50_level0_col14\" class=\"col_heading level0 col14\" >14</th>\n",
       "      <th id=\"T_9bf50_level0_col15\" class=\"col_heading level0 col15\" >15</th>\n",
       "      <th id=\"T_9bf50_level0_col16\" class=\"col_heading level0 col16\" >16</th>\n",
       "      <th id=\"T_9bf50_level0_col17\" class=\"col_heading level0 col17\" >17</th>\n",
       "      <th id=\"T_9bf50_level0_col18\" class=\"col_heading level0 col18\" >18</th>\n",
       "      <th id=\"T_9bf50_level0_col19\" class=\"col_heading level0 col19\" >19</th>\n",
       "    </tr>\n",
       "  </thead>\n",
       "  <tbody>\n",
       "    <tr>\n",
       "      <th id=\"T_9bf50_level0_row0\" class=\"row_heading level0 row0\" >0</th>\n",
       "      <td id=\"T_9bf50_row0_col0\" class=\"data row0 col0\" >0.000000</td>\n",
       "      <td id=\"T_9bf50_row0_col1\" class=\"data row0 col1\" >0.000000</td>\n",
       "      <td id=\"T_9bf50_row0_col2\" class=\"data row0 col2\" >0.000000</td>\n",
       "      <td id=\"T_9bf50_row0_col3\" class=\"data row0 col3\" >0.000000</td>\n",
       "      <td id=\"T_9bf50_row0_col4\" class=\"data row0 col4\" >0.000000</td>\n",
       "      <td id=\"T_9bf50_row0_col5\" class=\"data row0 col5\" >0.000000</td>\n",
       "      <td id=\"T_9bf50_row0_col6\" class=\"data row0 col6\" >0.000000</td>\n",
       "      <td id=\"T_9bf50_row0_col7\" class=\"data row0 col7\" >0.000000</td>\n",
       "      <td id=\"T_9bf50_row0_col8\" class=\"data row0 col8\" >0.000000</td>\n",
       "      <td id=\"T_9bf50_row0_col9\" class=\"data row0 col9\" >0.000000</td>\n",
       "      <td id=\"T_9bf50_row0_col10\" class=\"data row0 col10\" >0.000000</td>\n",
       "      <td id=\"T_9bf50_row0_col11\" class=\"data row0 col11\" >0.000000</td>\n",
       "      <td id=\"T_9bf50_row0_col12\" class=\"data row0 col12\" >0.000000</td>\n",
       "      <td id=\"T_9bf50_row0_col13\" class=\"data row0 col13\" >0.000000</td>\n",
       "      <td id=\"T_9bf50_row0_col14\" class=\"data row0 col14\" >0.000000</td>\n",
       "      <td id=\"T_9bf50_row0_col15\" class=\"data row0 col15\" >0.000000</td>\n",
       "      <td id=\"T_9bf50_row0_col16\" class=\"data row0 col16\" >0.000000</td>\n",
       "      <td id=\"T_9bf50_row0_col17\" class=\"data row0 col17\" >0.000000</td>\n",
       "      <td id=\"T_9bf50_row0_col18\" class=\"data row0 col18\" >0.000000</td>\n",
       "      <td id=\"T_9bf50_row0_col19\" class=\"data row0 col19\" >0.000000</td>\n",
       "    </tr>\n",
       "    <tr>\n",
       "      <th id=\"T_9bf50_level0_row1\" class=\"row_heading level0 row1\" >1</th>\n",
       "      <td id=\"T_9bf50_row1_col0\" class=\"data row1 col0\" >0.000000</td>\n",
       "      <td id=\"T_9bf50_row1_col1\" class=\"data row1 col1\" >0.000000</td>\n",
       "      <td id=\"T_9bf50_row1_col2\" class=\"data row1 col2\" >0.000000</td>\n",
       "      <td id=\"T_9bf50_row1_col3\" class=\"data row1 col3\" >0.000000</td>\n",
       "      <td id=\"T_9bf50_row1_col4\" class=\"data row1 col4\" >0.000000</td>\n",
       "      <td id=\"T_9bf50_row1_col5\" class=\"data row1 col5\" >0.000000</td>\n",
       "      <td id=\"T_9bf50_row1_col6\" class=\"data row1 col6\" >0.000000</td>\n",
       "      <td id=\"T_9bf50_row1_col7\" class=\"data row1 col7\" >0.000000</td>\n",
       "      <td id=\"T_9bf50_row1_col8\" class=\"data row1 col8\" >0.000000</td>\n",
       "      <td id=\"T_9bf50_row1_col9\" class=\"data row1 col9\" >0.000000</td>\n",
       "      <td id=\"T_9bf50_row1_col10\" class=\"data row1 col10\" >0.000000</td>\n",
       "      <td id=\"T_9bf50_row1_col11\" class=\"data row1 col11\" >0.000000</td>\n",
       "      <td id=\"T_9bf50_row1_col12\" class=\"data row1 col12\" >0.000000</td>\n",
       "      <td id=\"T_9bf50_row1_col13\" class=\"data row1 col13\" >0.000000</td>\n",
       "      <td id=\"T_9bf50_row1_col14\" class=\"data row1 col14\" >0.000000</td>\n",
       "      <td id=\"T_9bf50_row1_col15\" class=\"data row1 col15\" >0.000000</td>\n",
       "      <td id=\"T_9bf50_row1_col16\" class=\"data row1 col16\" >0.000000</td>\n",
       "      <td id=\"T_9bf50_row1_col17\" class=\"data row1 col17\" >0.000000</td>\n",
       "      <td id=\"T_9bf50_row1_col18\" class=\"data row1 col18\" >0.000000</td>\n",
       "      <td id=\"T_9bf50_row1_col19\" class=\"data row1 col19\" >0.000000</td>\n",
       "    </tr>\n",
       "    <tr>\n",
       "      <th id=\"T_9bf50_level0_row2\" class=\"row_heading level0 row2\" >2</th>\n",
       "      <td id=\"T_9bf50_row2_col0\" class=\"data row2 col0\" >0.000000</td>\n",
       "      <td id=\"T_9bf50_row2_col1\" class=\"data row2 col1\" >0.000000</td>\n",
       "      <td id=\"T_9bf50_row2_col2\" class=\"data row2 col2\" >0.000000</td>\n",
       "      <td id=\"T_9bf50_row2_col3\" class=\"data row2 col3\" >0.000000</td>\n",
       "      <td id=\"T_9bf50_row2_col4\" class=\"data row2 col4\" >0.000000</td>\n",
       "      <td id=\"T_9bf50_row2_col5\" class=\"data row2 col5\" >0.000000</td>\n",
       "      <td id=\"T_9bf50_row2_col6\" class=\"data row2 col6\" >0.000000</td>\n",
       "      <td id=\"T_9bf50_row2_col7\" class=\"data row2 col7\" >0.000000</td>\n",
       "      <td id=\"T_9bf50_row2_col8\" class=\"data row2 col8\" >0.000000</td>\n",
       "      <td id=\"T_9bf50_row2_col9\" class=\"data row2 col9\" >0.000000</td>\n",
       "      <td id=\"T_9bf50_row2_col10\" class=\"data row2 col10\" >0.000000</td>\n",
       "      <td id=\"T_9bf50_row2_col11\" class=\"data row2 col11\" >0.000000</td>\n",
       "      <td id=\"T_9bf50_row2_col12\" class=\"data row2 col12\" >0.000000</td>\n",
       "      <td id=\"T_9bf50_row2_col13\" class=\"data row2 col13\" >0.000000</td>\n",
       "      <td id=\"T_9bf50_row2_col14\" class=\"data row2 col14\" >0.000000</td>\n",
       "      <td id=\"T_9bf50_row2_col15\" class=\"data row2 col15\" >0.000000</td>\n",
       "      <td id=\"T_9bf50_row2_col16\" class=\"data row2 col16\" >0.000000</td>\n",
       "      <td id=\"T_9bf50_row2_col17\" class=\"data row2 col17\" >0.000000</td>\n",
       "      <td id=\"T_9bf50_row2_col18\" class=\"data row2 col18\" >0.000000</td>\n",
       "      <td id=\"T_9bf50_row2_col19\" class=\"data row2 col19\" >0.000000</td>\n",
       "    </tr>\n",
       "    <tr>\n",
       "      <th id=\"T_9bf50_level0_row3\" class=\"row_heading level0 row3\" >3</th>\n",
       "      <td id=\"T_9bf50_row3_col0\" class=\"data row3 col0\" >0.000000</td>\n",
       "      <td id=\"T_9bf50_row3_col1\" class=\"data row3 col1\" >0.000000</td>\n",
       "      <td id=\"T_9bf50_row3_col2\" class=\"data row3 col2\" >0.000000</td>\n",
       "      <td id=\"T_9bf50_row3_col3\" class=\"data row3 col3\" >0.000000</td>\n",
       "      <td id=\"T_9bf50_row3_col4\" class=\"data row3 col4\" >0.000000</td>\n",
       "      <td id=\"T_9bf50_row3_col5\" class=\"data row3 col5\" >0.000000</td>\n",
       "      <td id=\"T_9bf50_row3_col6\" class=\"data row3 col6\" >0.000000</td>\n",
       "      <td id=\"T_9bf50_row3_col7\" class=\"data row3 col7\" >0.000000</td>\n",
       "      <td id=\"T_9bf50_row3_col8\" class=\"data row3 col8\" >0.000000</td>\n",
       "      <td id=\"T_9bf50_row3_col9\" class=\"data row3 col9\" >0.000000</td>\n",
       "      <td id=\"T_9bf50_row3_col10\" class=\"data row3 col10\" >0.000000</td>\n",
       "      <td id=\"T_9bf50_row3_col11\" class=\"data row3 col11\" >0.000000</td>\n",
       "      <td id=\"T_9bf50_row3_col12\" class=\"data row3 col12\" >0.000000</td>\n",
       "      <td id=\"T_9bf50_row3_col13\" class=\"data row3 col13\" >0.000000</td>\n",
       "      <td id=\"T_9bf50_row3_col14\" class=\"data row3 col14\" >0.000000</td>\n",
       "      <td id=\"T_9bf50_row3_col15\" class=\"data row3 col15\" >0.000000</td>\n",
       "      <td id=\"T_9bf50_row3_col16\" class=\"data row3 col16\" >0.000000</td>\n",
       "      <td id=\"T_9bf50_row3_col17\" class=\"data row3 col17\" >0.000000</td>\n",
       "      <td id=\"T_9bf50_row3_col18\" class=\"data row3 col18\" >0.000000</td>\n",
       "      <td id=\"T_9bf50_row3_col19\" class=\"data row3 col19\" >0.000000</td>\n",
       "    </tr>\n",
       "    <tr>\n",
       "      <th id=\"T_9bf50_level0_row4\" class=\"row_heading level0 row4\" >4</th>\n",
       "      <td id=\"T_9bf50_row4_col0\" class=\"data row4 col0\" >0.000000</td>\n",
       "      <td id=\"T_9bf50_row4_col1\" class=\"data row4 col1\" >0.000000</td>\n",
       "      <td id=\"T_9bf50_row4_col2\" class=\"data row4 col2\" >0.000000</td>\n",
       "      <td id=\"T_9bf50_row4_col3\" class=\"data row4 col3\" >0.000000</td>\n",
       "      <td id=\"T_9bf50_row4_col4\" class=\"data row4 col4\" >0.000000</td>\n",
       "      <td id=\"T_9bf50_row4_col5\" class=\"data row4 col5\" >0.000000</td>\n",
       "      <td id=\"T_9bf50_row4_col6\" class=\"data row4 col6\" >0.000000</td>\n",
       "      <td id=\"T_9bf50_row4_col7\" class=\"data row4 col7\" >0.000000</td>\n",
       "      <td id=\"T_9bf50_row4_col8\" class=\"data row4 col8\" >0.000000</td>\n",
       "      <td id=\"T_9bf50_row4_col9\" class=\"data row4 col9\" >0.000000</td>\n",
       "      <td id=\"T_9bf50_row4_col10\" class=\"data row4 col10\" >0.000000</td>\n",
       "      <td id=\"T_9bf50_row4_col11\" class=\"data row4 col11\" >0.000000</td>\n",
       "      <td id=\"T_9bf50_row4_col12\" class=\"data row4 col12\" >0.000000</td>\n",
       "      <td id=\"T_9bf50_row4_col13\" class=\"data row4 col13\" >0.000000</td>\n",
       "      <td id=\"T_9bf50_row4_col14\" class=\"data row4 col14\" >0.000000</td>\n",
       "      <td id=\"T_9bf50_row4_col15\" class=\"data row4 col15\" >0.000000</td>\n",
       "      <td id=\"T_9bf50_row4_col16\" class=\"data row4 col16\" >0.000000</td>\n",
       "      <td id=\"T_9bf50_row4_col17\" class=\"data row4 col17\" >0.000000</td>\n",
       "      <td id=\"T_9bf50_row4_col18\" class=\"data row4 col18\" >0.000000</td>\n",
       "      <td id=\"T_9bf50_row4_col19\" class=\"data row4 col19\" >0.000000</td>\n",
       "    </tr>\n",
       "    <tr>\n",
       "      <th id=\"T_9bf50_level0_row5\" class=\"row_heading level0 row5\" >5</th>\n",
       "      <td id=\"T_9bf50_row5_col0\" class=\"data row5 col0\" >0.000000</td>\n",
       "      <td id=\"T_9bf50_row5_col1\" class=\"data row5 col1\" >0.000000</td>\n",
       "      <td id=\"T_9bf50_row5_col2\" class=\"data row5 col2\" >0.000000</td>\n",
       "      <td id=\"T_9bf50_row5_col3\" class=\"data row5 col3\" >0.047059</td>\n",
       "      <td id=\"T_9bf50_row5_col4\" class=\"data row5 col4\" >0.388235</td>\n",
       "      <td id=\"T_9bf50_row5_col5\" class=\"data row5 col5\" >0.356863</td>\n",
       "      <td id=\"T_9bf50_row5_col6\" class=\"data row5 col6\" >0.556863</td>\n",
       "      <td id=\"T_9bf50_row5_col7\" class=\"data row5 col7\" >0.607843</td>\n",
       "      <td id=\"T_9bf50_row5_col8\" class=\"data row5 col8\" >0.964706</td>\n",
       "      <td id=\"T_9bf50_row5_col9\" class=\"data row5 col9\" >0.713726</td>\n",
       "      <td id=\"T_9bf50_row5_col10\" class=\"data row5 col10\" >0.607843</td>\n",
       "      <td id=\"T_9bf50_row5_col11\" class=\"data row5 col11\" >0.607843</td>\n",
       "      <td id=\"T_9bf50_row5_col12\" class=\"data row5 col12\" >0.607843</td>\n",
       "      <td id=\"T_9bf50_row5_col13\" class=\"data row5 col13\" >0.607843</td>\n",
       "      <td id=\"T_9bf50_row5_col14\" class=\"data row5 col14\" >0.513726</td>\n",
       "      <td id=\"T_9bf50_row5_col15\" class=\"data row5 col15\" >0.203922</td>\n",
       "      <td id=\"T_9bf50_row5_col16\" class=\"data row5 col16\" >0.000000</td>\n",
       "      <td id=\"T_9bf50_row5_col17\" class=\"data row5 col17\" >0.000000</td>\n",
       "      <td id=\"T_9bf50_row5_col18\" class=\"data row5 col18\" >0.000000</td>\n",
       "      <td id=\"T_9bf50_row5_col19\" class=\"data row5 col19\" >0.000000</td>\n",
       "    </tr>\n",
       "    <tr>\n",
       "      <th id=\"T_9bf50_level0_row6\" class=\"row_heading level0 row6\" >6</th>\n",
       "      <td id=\"T_9bf50_row6_col0\" class=\"data row6 col0\" >0.000000</td>\n",
       "      <td id=\"T_9bf50_row6_col1\" class=\"data row6 col1\" >0.000000</td>\n",
       "      <td id=\"T_9bf50_row6_col2\" class=\"data row6 col2\" >0.000000</td>\n",
       "      <td id=\"T_9bf50_row6_col3\" class=\"data row6 col3\" >0.541176</td>\n",
       "      <td id=\"T_9bf50_row6_col4\" class=\"data row6 col4\" >0.996078</td>\n",
       "      <td id=\"T_9bf50_row6_col5\" class=\"data row6 col5\" >0.996078</td>\n",
       "      <td id=\"T_9bf50_row6_col6\" class=\"data row6 col6\" >0.996078</td>\n",
       "      <td id=\"T_9bf50_row6_col7\" class=\"data row6 col7\" >0.996078</td>\n",
       "      <td id=\"T_9bf50_row6_col8\" class=\"data row6 col8\" >0.996078</td>\n",
       "      <td id=\"T_9bf50_row6_col9\" class=\"data row6 col9\" >0.996078</td>\n",
       "      <td id=\"T_9bf50_row6_col10\" class=\"data row6 col10\" >0.996078</td>\n",
       "      <td id=\"T_9bf50_row6_col11\" class=\"data row6 col11\" >0.996078</td>\n",
       "      <td id=\"T_9bf50_row6_col12\" class=\"data row6 col12\" >0.996078</td>\n",
       "      <td id=\"T_9bf50_row6_col13\" class=\"data row6 col13\" >0.996078</td>\n",
       "      <td id=\"T_9bf50_row6_col14\" class=\"data row6 col14\" >0.996078</td>\n",
       "      <td id=\"T_9bf50_row6_col15\" class=\"data row6 col15\" >0.988235</td>\n",
       "      <td id=\"T_9bf50_row6_col16\" class=\"data row6 col16\" >0.823529</td>\n",
       "      <td id=\"T_9bf50_row6_col17\" class=\"data row6 col17\" >0.478431</td>\n",
       "      <td id=\"T_9bf50_row6_col18\" class=\"data row6 col18\" >0.129412</td>\n",
       "      <td id=\"T_9bf50_row6_col19\" class=\"data row6 col19\" >0.000000</td>\n",
       "    </tr>\n",
       "    <tr>\n",
       "      <th id=\"T_9bf50_level0_row7\" class=\"row_heading level0 row7\" >7</th>\n",
       "      <td id=\"T_9bf50_row7_col0\" class=\"data row7 col0\" >0.000000</td>\n",
       "      <td id=\"T_9bf50_row7_col1\" class=\"data row7 col1\" >0.000000</td>\n",
       "      <td id=\"T_9bf50_row7_col2\" class=\"data row7 col2\" >0.000000</td>\n",
       "      <td id=\"T_9bf50_row7_col3\" class=\"data row7 col3\" >0.862745</td>\n",
       "      <td id=\"T_9bf50_row7_col4\" class=\"data row7 col4\" >0.996078</td>\n",
       "      <td id=\"T_9bf50_row7_col5\" class=\"data row7 col5\" >0.996078</td>\n",
       "      <td id=\"T_9bf50_row7_col6\" class=\"data row7 col6\" >0.996078</td>\n",
       "      <td id=\"T_9bf50_row7_col7\" class=\"data row7 col7\" >0.921569</td>\n",
       "      <td id=\"T_9bf50_row7_col8\" class=\"data row7 col8\" >0.741176</td>\n",
       "      <td id=\"T_9bf50_row7_col9\" class=\"data row7 col9\" >0.741176</td>\n",
       "      <td id=\"T_9bf50_row7_col10\" class=\"data row7 col10\" >0.741176</td>\n",
       "      <td id=\"T_9bf50_row7_col11\" class=\"data row7 col11\" >0.741176</td>\n",
       "      <td id=\"T_9bf50_row7_col12\" class=\"data row7 col12\" >0.588235</td>\n",
       "      <td id=\"T_9bf50_row7_col13\" class=\"data row7 col13\" >0.741176</td>\n",
       "      <td id=\"T_9bf50_row7_col14\" class=\"data row7 col14\" >0.803922</td>\n",
       "      <td id=\"T_9bf50_row7_col15\" class=\"data row7 col15\" >0.996078</td>\n",
       "      <td id=\"T_9bf50_row7_col16\" class=\"data row7 col16\" >0.996078</td>\n",
       "      <td id=\"T_9bf50_row7_col17\" class=\"data row7 col17\" >0.996078</td>\n",
       "      <td id=\"T_9bf50_row7_col18\" class=\"data row7 col18\" >0.294118</td>\n",
       "      <td id=\"T_9bf50_row7_col19\" class=\"data row7 col19\" >0.000000</td>\n",
       "    </tr>\n",
       "    <tr>\n",
       "      <th id=\"T_9bf50_level0_row8\" class=\"row_heading level0 row8\" >8</th>\n",
       "      <td id=\"T_9bf50_row8_col0\" class=\"data row8 col0\" >0.000000</td>\n",
       "      <td id=\"T_9bf50_row8_col1\" class=\"data row8 col1\" >0.000000</td>\n",
       "      <td id=\"T_9bf50_row8_col2\" class=\"data row8 col2\" >0.000000</td>\n",
       "      <td id=\"T_9bf50_row8_col3\" class=\"data row8 col3\" >0.137255</td>\n",
       "      <td id=\"T_9bf50_row8_col4\" class=\"data row8 col4\" >0.290196</td>\n",
       "      <td id=\"T_9bf50_row8_col5\" class=\"data row8 col5\" >0.137255</td>\n",
       "      <td id=\"T_9bf50_row8_col6\" class=\"data row8 col6\" >0.137255</td>\n",
       "      <td id=\"T_9bf50_row8_col7\" class=\"data row8 col7\" >0.098039</td>\n",
       "      <td id=\"T_9bf50_row8_col8\" class=\"data row8 col8\" >0.000000</td>\n",
       "      <td id=\"T_9bf50_row8_col9\" class=\"data row8 col9\" >0.000000</td>\n",
       "      <td id=\"T_9bf50_row8_col10\" class=\"data row8 col10\" >0.000000</td>\n",
       "      <td id=\"T_9bf50_row8_col11\" class=\"data row8 col11\" >0.000000</td>\n",
       "      <td id=\"T_9bf50_row8_col12\" class=\"data row8 col12\" >0.000000</td>\n",
       "      <td id=\"T_9bf50_row8_col13\" class=\"data row8 col13\" >0.000000</td>\n",
       "      <td id=\"T_9bf50_row8_col14\" class=\"data row8 col14\" >0.050980</td>\n",
       "      <td id=\"T_9bf50_row8_col15\" class=\"data row8 col15\" >0.878431</td>\n",
       "      <td id=\"T_9bf50_row8_col16\" class=\"data row8 col16\" >0.996078</td>\n",
       "      <td id=\"T_9bf50_row8_col17\" class=\"data row8 col17\" >0.996078</td>\n",
       "      <td id=\"T_9bf50_row8_col18\" class=\"data row8 col18\" >0.600000</td>\n",
       "      <td id=\"T_9bf50_row8_col19\" class=\"data row8 col19\" >0.000000</td>\n",
       "    </tr>\n",
       "    <tr>\n",
       "      <th id=\"T_9bf50_level0_row9\" class=\"row_heading level0 row9\" >9</th>\n",
       "      <td id=\"T_9bf50_row9_col0\" class=\"data row9 col0\" >0.000000</td>\n",
       "      <td id=\"T_9bf50_row9_col1\" class=\"data row9 col1\" >0.000000</td>\n",
       "      <td id=\"T_9bf50_row9_col2\" class=\"data row9 col2\" >0.000000</td>\n",
       "      <td id=\"T_9bf50_row9_col3\" class=\"data row9 col3\" >0.000000</td>\n",
       "      <td id=\"T_9bf50_row9_col4\" class=\"data row9 col4\" >0.000000</td>\n",
       "      <td id=\"T_9bf50_row9_col5\" class=\"data row9 col5\" >0.000000</td>\n",
       "      <td id=\"T_9bf50_row9_col6\" class=\"data row9 col6\" >0.000000</td>\n",
       "      <td id=\"T_9bf50_row9_col7\" class=\"data row9 col7\" >0.000000</td>\n",
       "      <td id=\"T_9bf50_row9_col8\" class=\"data row9 col8\" >0.000000</td>\n",
       "      <td id=\"T_9bf50_row9_col9\" class=\"data row9 col9\" >0.000000</td>\n",
       "      <td id=\"T_9bf50_row9_col10\" class=\"data row9 col10\" >0.000000</td>\n",
       "      <td id=\"T_9bf50_row9_col11\" class=\"data row9 col11\" >0.000000</td>\n",
       "      <td id=\"T_9bf50_row9_col12\" class=\"data row9 col12\" >0.000000</td>\n",
       "      <td id=\"T_9bf50_row9_col13\" class=\"data row9 col13\" >0.000000</td>\n",
       "      <td id=\"T_9bf50_row9_col14\" class=\"data row9 col14\" >0.352941</td>\n",
       "      <td id=\"T_9bf50_row9_col15\" class=\"data row9 col15\" >0.996078</td>\n",
       "      <td id=\"T_9bf50_row9_col16\" class=\"data row9 col16\" >0.996078</td>\n",
       "      <td id=\"T_9bf50_row9_col17\" class=\"data row9 col17\" >0.968627</td>\n",
       "      <td id=\"T_9bf50_row9_col18\" class=\"data row9 col18\" >0.207843</td>\n",
       "      <td id=\"T_9bf50_row9_col19\" class=\"data row9 col19\" >0.000000</td>\n",
       "    </tr>\n",
       "  </tbody>\n",
       "</table>\n"
      ],
      "text/plain": [
       "<pandas.io.formats.style.Styler at 0x7fe677e830d0>"
      ]
     },
     "execution_count": 16,
     "metadata": {},
     "output_type": "execute_result"
    }
   ],
   "source": [
    "# check visually where we have black pixels to apply the filther somewhere there\n",
    "df = pd.DataFrame(im3_t[:10,:20])\n",
    "df.style.set_properties(**{\"font-size\": \"6pt\"}).background_gradient(\"Greys\")"
   ]
  },
  {
   "cell_type": "code",
   "execution_count": 17,
   "metadata": {},
   "outputs": [
    {
     "data": {
      "text/plain": [
       "tensor(2.9882)"
      ]
     },
     "execution_count": 17,
     "metadata": {},
     "output_type": "execute_result"
    }
   ],
   "source": [
    "# There's a top edge at cell 5,8. Let's repeat our calculation there:\n",
    "(im3_t[4:7,6:9] * top_edge_filter).sum()"
   ]
  },
  {
   "cell_type": "code",
   "execution_count": 18,
   "metadata": {},
   "outputs": [
    {
     "data": {
      "text/plain": [
       "tensor(-0.1137)"
      ]
     },
     "execution_count": 18,
     "metadata": {},
     "output_type": "execute_result"
    }
   ],
   "source": [
    "# what happens when there's applied to the right edge at 8, 18\n",
    "(im3_t[7:10,17:20] * top_edge_filter).sum()"
   ]
  },
  {
   "attachments": {},
   "cell_type": "markdown",
   "metadata": {},
   "source": [
    "Let's look a tiny bit at the math. The filter will take any window of size 3×3 in our images, and if we name the pixel values like this:\n",
    "\n",
    "```text\n",
    "a1 a2 a3\n",
    "a4 a5 a6\n",
    "a7 a8 a9\n",
    "```\n",
    "\n",
    "it will return `-a1-a2-a3+a7+a8+a9`. If we are in a part of the image where a1, a2, and a3 add up to the same as a7, a8, and a9, then the terms will cancel each other out and we will get 0. However, if a7 is greater than a1, a8 is greater than a2, and a9 is greater than a3, we will get a bigger number as a result. So this filter detects horizontal edges—more precisely, edges where we go from bright parts of the image at the top to darker parts at the bottom.\n"
   ]
  },
  {
   "cell_type": "code",
   "execution_count": 19,
   "metadata": {},
   "outputs": [],
   "source": [
    "def apply_kernel(row, col, kernel):\n",
    "    return (im3_t[row-1:row+2, col-1:col+2] * kernel).sum()"
   ]
  },
  {
   "cell_type": "code",
   "execution_count": 20,
   "metadata": {},
   "outputs": [
    {
     "data": {
      "text/plain": [
       "tensor(2.9882)"
      ]
     },
     "execution_count": 20,
     "metadata": {},
     "output_type": "execute_result"
    }
   ],
   "source": [
    "apply_kernel(5, 7, top_edge_filter)"
   ]
  },
  {
   "attachments": {},
   "cell_type": "markdown",
   "metadata": {},
   "source": [
    "### Mapping a convolutional kernel\n",
    "\n",
    "\n",
    "We can map `apply_kernel()` across the coordinate grid. That is, we'll be taking our 3×3 kernel, and applying it to each 3×3 section of our image.\n",
    "\n",
    "![](images/mapping_kernel.svg)"
   ]
  },
  {
   "cell_type": "code",
   "execution_count": 21,
   "metadata": {},
   "outputs": [
    {
     "data": {
      "text/plain": [
       "[[(1, 1), (1, 2), (1, 3), (1, 4)],\n",
       " [(2, 1), (2, 2), (2, 3), (2, 4)],\n",
       " [(3, 1), (3, 2), (3, 3), (3, 4)],\n",
       " [(4, 1), (4, 2), (4, 3), (4, 4)]]"
      ]
     },
     "execution_count": 21,
     "metadata": {},
     "output_type": "execute_result"
    }
   ],
   "source": [
    "# To get a grid of coordinates we can use a nested list comprehension, like so:\n",
    "\n",
    "[[(i,j) for j in range(1,5)] for i in range(1,5)]"
   ]
  },
  {
   "cell_type": "code",
   "execution_count": 28,
   "metadata": {},
   "outputs": [
    {
     "data": {
      "text/plain": [
       "<AxesSubplot:>"
      ]
     },
     "execution_count": 28,
     "metadata": {},
     "output_type": "execute_result"
    },
    {
     "data": {
      "image/png": "[encoded data removed]",
      "text/plain": [
       "<Figure size 100x100 with 1 Axes>"
      ]
     },
     "metadata": {},
     "output_type": "display_data"
    }
   ],
   "source": [
    "# apply kernel to the full image\n",
    "\n",
    "rng = range(1, im3_t.shape[0]-1)\n",
    "\n",
    "top_edge3 = tensor([[apply_kernel(i,j,top_edge_filter) for j in rng] for i in rng])\n",
    "\n",
    "show_image(top_edge3, cmap=\"Greys\")"
   ]
  },
  {
   "attachments": {},
   "cell_type": "markdown",
   "metadata": {},
   "source": [
    "Our top edges are black, and bottom edges are white (since they are the opposite of top edges).\n",
    "\n",
    "\n",
    "We can try with another filter."
   ]
  },
  {
   "cell_type": "code",
   "execution_count": 32,
   "metadata": {},
   "outputs": [
    {
     "data": {
      "text/plain": [
       "<AxesSubplot:title={'center':'left edge'}>"
      ]
     },
     "execution_count": 32,
     "metadata": {},
     "output_type": "execute_result"
    },
    {
     "data": {
      "image/png": "[encoded data removed]",
      "text/plain": [
       "<Figure size 100x100 with 1 Axes>"
      ]
     },
     "metadata": {},
     "output_type": "display_data"
    }
   ],
   "source": [
    "left_edge = tensor([\n",
    "    [-1, 1, 0],\n",
    "    [-1, 1, 0],\n",
    "    [-1, 1, 0],\n",
    "]).float()\n",
    "\n",
    "left_edge3 = tensor([[apply_kernel(i,j,left_edge) for j in rng] for i in rng])\n",
    "\n",
    "show_image(left_edge3, cmap=\"Greys\", title=\"left edge\")"
   ]
  },
  {
   "cell_type": "code",
   "execution_count": 35,
   "metadata": {},
   "outputs": [
    {
     "data": {
      "text/plain": [
       "tensor([[ 0.0000,  0.0000,  0.0000,  0.0000,  0.0000,  0.0000,  0.0000,  0.0000,  0.0000,  0.0000],\n",
       "        [ 0.0000,  0.0000,  0.0000,  0.0000,  0.0000,  0.0000,  0.0000,  0.0000,  0.0000,  0.0000],\n",
       "        [ 0.0000,  0.0000,  0.0000,  0.0000,  0.0000,  0.0000,  0.0000,  0.0000,  0.0000,  0.0000],\n",
       "        [ 0.0000,  0.0000,  0.0471,  0.3412, -0.0314,  0.2000,  0.0510,  0.3569, -0.2510, -0.1059],\n",
       "        [ 0.0000,  0.0000,  0.5882,  0.7961, -0.0314,  0.2000,  0.0510,  0.3569, -0.2510, -0.1059],\n",
       "        [ 0.0000,  0.0000,  1.4510,  0.9294, -0.0314,  0.2000, -0.0235,  0.1765, -0.2510, -0.1059],\n",
       "        [ 0.0000,  0.0000,  1.5412,  0.7412, -0.1529,  0.0000, -0.1137, -0.2784,  0.0000,  0.0000],\n",
       "        [ 0.0000,  0.0000,  1.0000,  0.2863, -0.1529,  0.0000, -0.1137, -0.2784,  0.0000,  0.0000],\n",
       "        [ 0.0000,  0.0000,  0.1373,  0.1529, -0.1529,  0.0000, -0.0392, -0.0980,  0.0000,  0.0000],\n",
       "        [ 0.0000,  0.0000,  0.0000,  0.0000,  0.0000,  0.0000,  0.0000,  0.0000,  0.0000,  0.0000]])"
      ]
     },
     "execution_count": 35,
     "metadata": {},
     "output_type": "execute_result"
    }
   ],
   "source": [
    "left_edge3[0:10, 0:10]"
   ]
  },
  {
   "attachments": {},
   "cell_type": "markdown",
   "metadata": {},
   "source": [
    "![](images/output_activation_map.png)\n",
    "\n",
    "\n",
    "Look at the shape of the result. If the original image has a height of `h` and a width of `w`, how many 3×3 windows can we find? As you can see from the example, there are `h-2` by `w-2` windows, so the image we get has a result as a height of `h-2` and a width of `w-2`."
   ]
  },
  {
   "attachments": {},
   "cell_type": "markdown",
   "metadata": {},
   "source": [
    "### Convolutions in PyTorch\n",
    "\n",
    "In Python it's called `F.conv2d` (F is a fastai import from torch.nn.functional), it includes these params:\n",
    "\n",
    "- input:: input tensor of shape (minibatch, in_channels, iH, iW)\n",
    "- weight:: filters of shape (out_channels, in_channels, kH, kW)\n",
    "\n",
    "\n",
    "Here `iH`, `iW` is the height and width of the image (i.e., 28,28), and `kH`, `kW` is the height and width of our kernel (3,3).\n",
    "\n",
    "PyTorch can apply a convolution to multiple images at the same time and can apply multiple kernels at the same time."
   ]
  },
  {
   "cell_type": "code",
   "execution_count": 39,
   "metadata": {},
   "outputs": [
    {
     "data": {
      "text/plain": [
       "torch.Size([4, 3, 3])"
      ]
     },
     "execution_count": 39,
     "metadata": {},
     "output_type": "execute_result"
    }
   ],
   "source": [
    "diag1_edge = tensor([\n",
    "    [ 0,-1, 1],\n",
    "    [-1, 1, 0],\n",
    "    [ 1, 0, 0],\n",
    "]).float()\n",
    "\n",
    "diag2_edge = tensor([\n",
    "    [ 1,-1, 0],\n",
    "    [ 0, 1,-1],\n",
    "    [ 0, 0, 1]\n",
    "]).float()\n",
    "\n",
    "\n",
    "edge_kernels = torch.stack([left_edge, top_edge_filter, diag1_edge, diag2_edge])\n",
    "edge_kernels.shape"
   ]
  },
  {
   "cell_type": "code",
   "execution_count": 46,
   "metadata": {},
   "outputs": [
    {
     "data": {
      "text/plain": [
       "torch.Size([64, 1, 28, 28])"
      ]
     },
     "execution_count": 46,
     "metadata": {},
     "output_type": "execute_result"
    }
   ],
   "source": [
    "# To test this, we'll need a DataLoader and a sample mini-batch. Let's use the data block API:\n",
    "\n",
    "mnist = DataBlock(\n",
    "    (ImageBlock(cls=PILImageBW), CategoryBlock), \n",
    "    get_items=get_image_files, \n",
    "    splitter=GrandparentSplitter(),\n",
    "    get_y=parent_label\n",
    ")\n",
    "\n",
    "dls = mnist.dataloaders(path)\n",
    "\n",
    "xb, yb = first(dls.valid)\n",
    "xb.shape"
   ]
  },
  {
   "attachments": {},
   "cell_type": "markdown",
   "metadata": {},
   "source": [
    "One batch contains 64 images, each of 1 channel, with 28×28 pixels"
   ]
  },
  {
   "cell_type": "code",
   "execution_count": null,
   "metadata": {},
   "outputs": [],
   "source": [
    "# By default, fastai puts data on the GPU when using data blocks. Let's move it to the CPU for our examples:\n",
    "\n",
    "xb, yb = to_cpu(xb), to_cpu(yb)"
   ]
  },
  {
   "attachments": {},
   "cell_type": "markdown",
   "metadata": {},
   "source": [
    "Currently the shape of our kernels (weights for pytorch) is [4, 3, 3], we need to insert one axis to represent the amount of channels, in this case must be 1 because we're working with black and white images."
   ]
  },
  {
   "cell_type": "code",
   "execution_count": 49,
   "metadata": {},
   "outputs": [
    {
     "data": {
      "text/plain": [
       "(torch.Size([4, 3, 3]), torch.Size([4, 1, 3, 3]))"
      ]
     },
     "execution_count": 49,
     "metadata": {},
     "output_type": "execute_result"
    }
   ],
   "source": [
    "# we can use unsqueeze at axis 1\n",
    "\n",
    "edge_kernels.shape, edge_kernels.unsqueeze(1).shape\n"
   ]
  },
  {
   "cell_type": "code",
   "execution_count": 50,
   "metadata": {},
   "outputs": [],
   "source": [
    "edge_kernels = edge_kernels.unsqueeze(1)"
   ]
  },
  {
   "cell_type": "code",
   "execution_count": 51,
   "metadata": {},
   "outputs": [
    {
     "data": {
      "text/plain": [
       "torch.Size([64, 4, 26, 26])"
      ]
     },
     "execution_count": 51,
     "metadata": {},
     "output_type": "execute_result"
    }
   ],
   "source": [
    "# apply convolution\n",
    "batch_features = torch.nn.functional.conv2d(xb, edge_kernels)\n",
    "batch_features.shape"
   ]
  },
  {
   "attachments": {},
   "cell_type": "markdown",
   "metadata": {},
   "source": [
    "The output shape shows we gave 64 images in the mini-batch, 4 kernels, and 26×26 edge maps (we started with 28×28 images, but lost one pixel from each side as discussed earlier). We can see we get the same results as when we did this manually:"
   ]
  },
  {
   "cell_type": "code",
   "execution_count": 53,
   "metadata": {},
   "outputs": [
    {
     "data": {
      "text/plain": [
       "<AxesSubplot:title={'center':'diag2_edge'}>"
      ]
     },
     "execution_count": 53,
     "metadata": {},
     "output_type": "execute_result"
    },
    {
     "data": {
      "image/png": "[encoded data removed]",
      "text/plain": [
       "<Figure size 100x100 with 1 Axes>"
      ]
     },
     "metadata": {},
     "output_type": "display_data"
    },
    {
     "data": {
      "image/png": "[encoded data removed]",
      "text/plain": [
       "<Figure size 100x100 with 1 Axes>"
      ]
     },
     "metadata": {},
     "output_type": "display_data"
    },
    {
     "data": {
      "image/png": "[encoded data removed]",
      "text/plain": [
       "<Figure size 100x100 with 1 Axes>"
      ]
     },
     "metadata": {},
     "output_type": "display_data"
    },
    {
     "data": {
      "image/png": "[encoded data removed]",
      "text/plain": [
       "<Figure size 100x100 with 1 Axes>"
      ]
     },
     "metadata": {},
     "output_type": "display_data"
    }
   ],
   "source": [
    "# check filters: left_edge, top_edge, diag1_edge, diag2_edge\n",
    "show_image(batch_features[0, 0], cmap=\"Greys\", title=\"left edge\")\n",
    "show_image(batch_features[0, 1], cmap=\"Greys\", title=\"top edge\")\n",
    "show_image(batch_features[0, 2], cmap=\"Greys\", title=\"diag1_edge\")\n",
    "show_image(batch_features[0, 3], cmap=\"Greys\", title=\"diag2_edge\")"
   ]
  },
  {
   "attachments": {},
   "cell_type": "markdown",
   "metadata": {},
   "source": [
    "The most important trick that PyTorch has up its sleeve is that it can use the GPU to do all this work in parallel—that is, applying multiple kernels, to multiple images, across multiple channels."
   ]
  },
  {
   "attachments": {},
   "cell_type": "markdown",
   "metadata": {},
   "source": [
    "### Strides and padding\n",
    "\n",
    "It would be nice to not lose those two pixels on each axis. The way we do that is to add padding, which is simply additional pixels added around the outside of our image (for instace, zeros).\n",
    "\n",
    "With appropriate padding, we can ensure that the output activation map is the same size as the original image.\n",
    "\n",
    "![](images/padding.svg)\n",
    "\n",
    "If we add a kernel of size `ks` by `ks` (with ks an odd number), the necessary padding on each side to keep the same shape is `ks//2`.\n",
    "\n",
    "\n",
    "So far, when we have applied the kernel to the grid, we have moved it 1 pixel over at a time. But we can jump further; for instance, we could move over 2 pixels after each kernel application. This is known as a `stride-2` convolution.\n",
    "\n",
    "The most common kernel size in practice is 3×3, and the most common padding is 1. As you'll see, `stride-2` convolutions are useful for decreasing the size of our outputs, and `stride-1` convolutions are useful for adding layers without changing the output size.\n",
    "\n",
    "![](images/stride_and_padding.png)\n",
    "\n",
    "\n",
    "In an image of size `h` by `w`, using a padding of 1 and a stride of 2 will give us a result of size `(h+1)//2` by `(w+1)//2`. The general formula for each dimension is `(n + 2*pad - ks)//stride + 1`, where `pad` is the padding, `ks`, the size of our kernel."
   ]
  }
 ],
 "metadata": {
  "kernelspec": {
   "display_name": "fast.ai",
   "language": "python",
   "name": "python3"
  },
  "language_info": {
   "codemirror_mode": {
    "name": "ipython",
    "version": 3
   },
   "file_extension": ".py",
   "mimetype": "text/x-python",
   "name": "python",
   "nbconvert_exporter": "python",
   "pygments_lexer": "ipython3",
   "version": "3.9.16"
  },
  "orig_nbformat": 4
 },
 "nbformat": 4,
 "nbformat_minor": 2
}
