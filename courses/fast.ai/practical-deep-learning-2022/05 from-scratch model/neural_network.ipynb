{
 "cells": [
  {
   "attachments": {},
   "cell_type": "markdown",
   "metadata": {},
   "source": [
    "In this notebook we will build a NN with a hidden layer to solve the Titanic dataset (from Kaggle competition).\n",
    "\n",
    "The simple neural network will have a layer with N inputs equal to the number of coefficients (`n_coeff`)\n",
    "and then `n_hidden` neurons in the hidden layer -- `MATRIX W_0=(n_coeff, n_hidden)` --, finally the second layer will take `n_hidden` inputs and create a single output, in addition a bias term (independent) -- `MATRIX W_1=(n_hidden, 1), BIAS B = <SCALAR>`."
   ]
  },
  {
   "cell_type": "code",
   "execution_count": null,
   "metadata": {},
   "outputs": [],
   "source": [
    "def init_coeffs():\n",
    "    pass"
   ]
  }
 ],
 "metadata": {
  "language_info": {
   "name": "python"
  },
  "orig_nbformat": 4
 },
 "nbformat": 4,
 "nbformat_minor": 2
}
