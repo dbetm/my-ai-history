{
 "cells": [
  {
   "cell_type": "code",
   "execution_count": 2,
   "metadata": {},
   "outputs": [],
   "source": [
    "# from fastai.imports import *\n",
    "import numpy as np\n",
    "import pandas as pd\n",
    "\n",
    "\n",
    "np.set_printoptions(linewidth=110)"
   ]
  },
  {
   "attachments": {},
   "cell_type": "markdown",
   "metadata": {},
   "source": [
    "### Titanic problem\n",
    "\n",
    "We have a tabular dataset containing info about Titanic's passengers. The goal of the model is to predict if a person survided or not to the well-known accident."
   ]
  },
  {
   "attachments": {},
   "cell_type": "markdown",
   "metadata": {},
   "source": [
    "### Data preprocessing"
   ]
  },
  {
   "cell_type": "code",
   "execution_count": 3,
   "metadata": {},
   "outputs": [
    {
     "data": {
      "text/plain": [
       "((891, 12), (418, 11))"
      ]
     },
     "execution_count": 3,
     "metadata": {},
     "output_type": "execute_result"
    }
   ],
   "source": [
    "import os\n",
    "\n",
    "datasets_base_path = \"../../../../datasets\"\n",
    "trainset_path = os.path.join(datasets_base_path, \"titanic_train.csv\")\n",
    "testset_path = os.path.join(datasets_base_path, \"titanic_test.csv\")\n",
    "\n",
    "df = pd.read_csv(trainset_path)\n",
    "df_test = pd.read_csv(testset_path)\n",
    "\n",
    "df.shape, df_test.shape"
   ]
  },
  {
   "attachments": {},
   "cell_type": "markdown",
   "metadata": {},
   "source": [
    "One difference with Random Forests however is that we don't generally have to create _dummy variables_ like we did for non-numeric columns in the linear models and neural network. \n",
    "\n",
    "Instead, we can just convert those fields to categorical variables, which internally in Pandas makes a list of all the unique values in the column, and replaces each value with a number."
   ]
  },
  {
   "cell_type": "code",
   "execution_count": 4,
   "metadata": {},
   "outputs": [],
   "source": [
    "def process_data(df, modes):\n",
    "    df[\"Fare\"] = df.Fare.fillna(0) # fill NaN values in Fare with 0\n",
    "    df.fillna(modes, inplace=True) # fill NaN values in another columns with modes\n",
    "    df[\"LogFare\"] = np.log1p(df[\"Fare\"]) # calculate a new column called LogFare, log(Fare + 1)\n",
    "    df[\"Embarked\"] = pd.Categorical(df.Embarked) # get categories for the set of values of Embarqued\n",
    "    df[\"Sex\"] = pd.Categorical(df.Sex) # similar idea to the Embarqued columnd"
   ]
  },
  {
   "cell_type": "code",
   "execution_count": 5,
   "metadata": {},
   "outputs": [],
   "source": [
    "modes = df.mode().iloc[0]\n",
    "process_data(df, modes)\n",
    "process_data(df_test, modes)"
   ]
  },
  {
   "cell_type": "code",
   "execution_count": 6,
   "metadata": {},
   "outputs": [],
   "source": [
    "\"\"\"Note that we no longer consider Pclass a categorical variable. \n",
    "That's because it's ordered (i.e 1st, 2nd, and 3rd class have an order), \n",
    "and decision trees, as we'll see, only care about order, not about absolute value.\n",
    "\"\"\"\n",
    "cats = [\"Sex\",\"Embarked\"] # categorical\n",
    "conts = ['Age', 'SibSp', 'Parch', 'LogFare',\"Pclass\"] # continuous\n",
    "dep = \"Survived\" # dependent one: Y\n"
   ]
  },
  {
   "attachments": {},
   "cell_type": "markdown",
   "metadata": {},
   "source": [
    "Even although we've made the cats columns categorical, they are still shown by Pandas as their original values:"
   ]
  },
  {
   "cell_type": "code",
   "execution_count": 7,
   "metadata": {},
   "outputs": [
    {
     "data": {
      "text/plain": [
       "0      male\n",
       "1    female\n",
       "2    female\n",
       "3    female\n",
       "4      male\n",
       "Name: Sex, dtype: category\n",
       "Categories (2, object): ['female', 'male']"
      ]
     },
     "execution_count": 7,
     "metadata": {},
     "output_type": "execute_result"
    }
   ],
   "source": [
    "df.Sex.head()\n"
   ]
  },
  {
   "attachments": {},
   "cell_type": "markdown",
   "metadata": {},
   "source": [
    "However behind the scenes they're now stored as integers, with indices that are looked up in the Categories list shown in the output above"
   ]
  },
  {
   "cell_type": "code",
   "execution_count": 8,
   "metadata": {},
   "outputs": [
    {
     "data": {
      "text/plain": [
       "0    1\n",
       "1    0\n",
       "2    0\n",
       "3    0\n",
       "4    1\n",
       "dtype: int8"
      ]
     },
     "execution_count": 8,
     "metadata": {},
     "output_type": "execute_result"
    }
   ],
   "source": [
    "df.Sex.cat.codes.head()"
   ]
  },
  {
   "attachments": {},
   "cell_type": "markdown",
   "metadata": {},
   "source": [
    "### Binary splits\n",
    "\n",
    "To create a decision tree, we will first need to create a binary split, since that's what a decision tree is built from."
   ]
  },
  {
   "attachments": {},
   "cell_type": "markdown",
   "metadata": {},
   "source": [
    "A binary split categorizes rows into two groups according to a specific threshold in a chosen column. For instance, in a dataset with a 'Sex' column, where '0' represents female and '1' represents male, applying a 0.5 threshold effectively divides the dataset into male and female groups."
   ]
  },
  {
   "cell_type": "code",
   "execution_count": 9,
   "metadata": {},
   "outputs": [
    {
     "data": {
      "image/png": "[encoded data removed]",
      "text/plain": [
       "<Figure size 1100x500 with 2 Axes>"
      ]
     },
     "metadata": {},
     "output_type": "display_data"
    }
   ],
   "source": [
    "import matplotlib.pyplot as plt\n",
    "import seaborn as sns\n",
    "\n",
    "\n",
    "fig, axs = plt.subplots(1, 2, figsize=(11,5))\n",
    "sns.barplot(data=df, y=dep, x=\"Sex\", ax=axs[0]).set(title=\"Survival rate\")\n",
    "sns.countplot(data=df, x=\"Sex\", ax=axs[1]).set(title=\"Histogram\");"
   ]
  },
  {
   "attachments": {},
   "cell_type": "markdown",
   "metadata": {},
   "source": [
    "Survival rate displays the percentage of person (by sex) who has a survived target of 1. While the histogram displays the amount of persons (by sex).\n",
    "\n",
    "\n",
    "We could create a very simple \"model\" which simply says that all females survive, and no males do. We first split our data into a training and validation set, to see how accurate this approach turns out to be:"
   ]
  },
  {
   "cell_type": "code",
   "execution_count": 10,
   "metadata": {},
   "outputs": [],
   "source": [
    "from sklearn.model_selection import train_test_split\n",
    "\n",
    "np.random.seed(42)\n",
    "\n",
    "trn_df, val_df = train_test_split(df, test_size=0.25) # 75% of data for training\n",
    "# Replace categorical columns by their code values assigned by Pandas\n",
    "trn_df[cats] = trn_df[cats].apply(lambda x: x.cat.codes)\n",
    "val_df[cats] = val_df[cats].apply(lambda x: x.cat.codes)"
   ]
  },
  {
   "cell_type": "code",
   "execution_count": 11,
   "metadata": {},
   "outputs": [],
   "source": [
    "# We can create our independent variables (the x variables) and the dependent (y variables)\n",
    "\n",
    "def xs_y(df):\n",
    "    \"\"\"Return a tuple(x, y), y might be None if dep is not present in the given df.\"\"\"\n",
    "    xs = df[cats+conts].copy()\n",
    "    return (xs, df[dep] if dep in df else None)\n",
    "\n",
    "\n",
    "trn_xs, trn_y = xs_y(trn_df)\n",
    "val_xs, val_y = xs_y(val_df)"
   ]
  },
  {
   "cell_type": "code",
   "execution_count": 12,
   "metadata": {},
   "outputs": [
    {
     "data": {
      "text/html": [
       "<div>\n",
       "<style scoped>\n",
       "    .dataframe tbody tr th:only-of-type {\n",
       "        vertical-align: middle;\n",
       "    }\n",
       "\n",
       "    .dataframe tbody tr th {\n",
       "        vertical-align: top;\n",
       "    }\n",
       "\n",
       "    .dataframe thead th {\n",
       "        text-align: right;\n",
       "    }\n",
       "</style>\n",
       "<table border=\"1\" class=\"dataframe\">\n",
       "  <thead>\n",
       "    <tr style=\"text-align: right;\">\n",
       "      <th></th>\n",
       "      <th>Sex</th>\n",
       "      <th>Embarked</th>\n",
       "      <th>Age</th>\n",
       "      <th>SibSp</th>\n",
       "      <th>Parch</th>\n",
       "      <th>LogFare</th>\n",
       "      <th>Pclass</th>\n",
       "    </tr>\n",
       "  </thead>\n",
       "  <tbody>\n",
       "    <tr>\n",
       "      <th>298</th>\n",
       "      <td>1</td>\n",
       "      <td>2</td>\n",
       "      <td>24.00</td>\n",
       "      <td>0</td>\n",
       "      <td>0</td>\n",
       "      <td>3.449988</td>\n",
       "      <td>1</td>\n",
       "    </tr>\n",
       "    <tr>\n",
       "      <th>884</th>\n",
       "      <td>1</td>\n",
       "      <td>2</td>\n",
       "      <td>25.00</td>\n",
       "      <td>0</td>\n",
       "      <td>0</td>\n",
       "      <td>2.085672</td>\n",
       "      <td>3</td>\n",
       "    </tr>\n",
       "    <tr>\n",
       "      <th>247</th>\n",
       "      <td>0</td>\n",
       "      <td>2</td>\n",
       "      <td>24.00</td>\n",
       "      <td>0</td>\n",
       "      <td>2</td>\n",
       "      <td>2.740840</td>\n",
       "      <td>2</td>\n",
       "    </tr>\n",
       "    <tr>\n",
       "      <th>478</th>\n",
       "      <td>1</td>\n",
       "      <td>2</td>\n",
       "      <td>22.00</td>\n",
       "      <td>0</td>\n",
       "      <td>0</td>\n",
       "      <td>2.142510</td>\n",
       "      <td>3</td>\n",
       "    </tr>\n",
       "    <tr>\n",
       "      <th>305</th>\n",
       "      <td>1</td>\n",
       "      <td>2</td>\n",
       "      <td>0.92</td>\n",
       "      <td>1</td>\n",
       "      <td>2</td>\n",
       "      <td>5.027492</td>\n",
       "      <td>1</td>\n",
       "    </tr>\n",
       "    <tr>\n",
       "      <th>...</th>\n",
       "      <td>...</td>\n",
       "      <td>...</td>\n",
       "      <td>...</td>\n",
       "      <td>...</td>\n",
       "      <td>...</td>\n",
       "      <td>...</td>\n",
       "      <td>...</td>\n",
       "    </tr>\n",
       "    <tr>\n",
       "      <th>106</th>\n",
       "      <td>0</td>\n",
       "      <td>2</td>\n",
       "      <td>21.00</td>\n",
       "      <td>0</td>\n",
       "      <td>0</td>\n",
       "      <td>2.157559</td>\n",
       "      <td>3</td>\n",
       "    </tr>\n",
       "    <tr>\n",
       "      <th>270</th>\n",
       "      <td>1</td>\n",
       "      <td>2</td>\n",
       "      <td>24.00</td>\n",
       "      <td>0</td>\n",
       "      <td>0</td>\n",
       "      <td>3.465736</td>\n",
       "      <td>1</td>\n",
       "    </tr>\n",
       "    <tr>\n",
       "      <th>860</th>\n",
       "      <td>1</td>\n",
       "      <td>2</td>\n",
       "      <td>41.00</td>\n",
       "      <td>2</td>\n",
       "      <td>0</td>\n",
       "      <td>2.715244</td>\n",
       "      <td>3</td>\n",
       "    </tr>\n",
       "    <tr>\n",
       "      <th>435</th>\n",
       "      <td>0</td>\n",
       "      <td>2</td>\n",
       "      <td>14.00</td>\n",
       "      <td>1</td>\n",
       "      <td>2</td>\n",
       "      <td>4.795791</td>\n",
       "      <td>1</td>\n",
       "    </tr>\n",
       "    <tr>\n",
       "      <th>102</th>\n",
       "      <td>1</td>\n",
       "      <td>2</td>\n",
       "      <td>21.00</td>\n",
       "      <td>0</td>\n",
       "      <td>1</td>\n",
       "      <td>4.360388</td>\n",
       "      <td>1</td>\n",
       "    </tr>\n",
       "  </tbody>\n",
       "</table>\n",
       "<p>668 rows × 7 columns</p>\n",
       "</div>"
      ],
      "text/plain": [
       "     Sex  Embarked    Age  SibSp  Parch   LogFare  Pclass\n",
       "298    1         2  24.00      0      0  3.449988       1\n",
       "884    1         2  25.00      0      0  2.085672       3\n",
       "247    0         2  24.00      0      2  2.740840       2\n",
       "478    1         2  22.00      0      0  2.142510       3\n",
       "305    1         2   0.92      1      2  5.027492       1\n",
       "..   ...       ...    ...    ...    ...       ...     ...\n",
       "106    0         2  21.00      0      0  2.157559       3\n",
       "270    1         2  24.00      0      0  3.465736       1\n",
       "860    1         2  41.00      2      0  2.715244       3\n",
       "435    0         2  14.00      1      2  4.795791       1\n",
       "102    1         2  21.00      0      1  4.360388       1\n",
       "\n",
       "[668 rows x 7 columns]"
      ]
     },
     "execution_count": 12,
     "metadata": {},
     "output_type": "execute_result"
    }
   ],
   "source": [
    "trn_xs"
   ]
  },
  {
   "cell_type": "code",
   "execution_count": 13,
   "metadata": {},
   "outputs": [
    {
     "data": {
      "text/plain": [
       "298    1\n",
       "884    0\n",
       "247    1\n",
       "478    0\n",
       "305    1\n",
       "      ..\n",
       "106    1\n",
       "270    0\n",
       "860    0\n",
       "435    1\n",
       "102    0\n",
       "Name: Survived, Length: 668, dtype: int64"
      ]
     },
     "execution_count": 13,
     "metadata": {},
     "output_type": "execute_result"
    }
   ],
   "source": [
    "trn_y"
   ]
  },
  {
   "cell_type": "code",
   "execution_count": 14,
   "metadata": {},
   "outputs": [
    {
     "data": {
      "text/plain": [
       "709    False\n",
       "439    False\n",
       "840    False\n",
       "720     True\n",
       "39      True\n",
       "Name: Sex, dtype: bool"
      ]
     },
     "execution_count": 14,
     "metadata": {},
     "output_type": "execute_result"
    }
   ],
   "source": [
    "# Here our VERY simple model\n",
    "\n",
    "FEMALE_CODE = 0\n",
    "\n",
    "preds = val_xs.Sex == FEMALE_CODE\n",
    "\n",
    "preds[:5]"
   ]
  },
  {
   "cell_type": "code",
   "execution_count": 15,
   "metadata": {},
   "outputs": [
    {
     "data": {
      "text/plain": [
       "0.21524663677130046"
      ]
     },
     "execution_count": 15,
     "metadata": {},
     "output_type": "execute_result"
    }
   ],
   "source": [
    "from sklearn.metrics import mean_absolute_error\n",
    "\n",
    "# calculate MAE\n",
    "mean_absolute_error(val_y, preds)"
   ]
  },
  {
   "attachments": {},
   "cell_type": "markdown",
   "metadata": {},
   "source": [
    "Alternatively, we could try splitting on a continuous column."
   ]
  },
  {
   "cell_type": "code",
   "execution_count": 16,
   "metadata": {},
   "outputs": [
    {
     "data": {
      "text/plain": [
       "<AxesSubplot:xlabel='LogFare', ylabel='Density'>"
      ]
     },
     "execution_count": 16,
     "metadata": {},
     "output_type": "execute_result"
    },
    {
     "data": {
      "image/png": "[encoded data removed]",
      "text/plain": [
       "<Figure size 1100x500 with 2 Axes>"
      ]
     },
     "metadata": {},
     "output_type": "display_data"
    }
   ],
   "source": [
    "df_fare = trn_df[trn_df.LogFare > 0]\n",
    "fig, axs = plt.subplots(1,2, figsize=(11,5))\n",
    "# Like a traditional box plot, the boxen plot shows the median, quartiles, and potential outliers in the data.\n",
    "sns.boxenplot(data=df_fare, x=dep, y=\"LogFare\", ax=axs[0])\n",
    "# KDE (Kernel Density Estimate) plots are used for visualizing the probability density of a \n",
    "# continuous variable or variables. It's a way to estimate the probability density function \n",
    "# of a continuous random variable.\n",
    "sns.kdeplot(data=df_fare, x=\"LogFare\", ax=axs[1])"
   ]
  },
  {
   "attachments": {},
   "cell_type": "markdown",
   "metadata": {},
   "source": [
    "The boxenplot above shows quantiles of `LogFare` for each group of `Survived==0` and `Survived==1`. It shows that the average `LogFare` for passengers that didn't survive is around 2.5, and for those that did it's around 3.2. Let's create a simple model based on this observation:"
   ]
  },
  {
   "cell_type": "code",
   "execution_count": 17,
   "metadata": {},
   "outputs": [
    {
     "data": {
      "text/plain": [
       "0.336322869955157"
      ]
     },
     "execution_count": 17,
     "metadata": {},
     "output_type": "execute_result"
    }
   ],
   "source": [
    "preds = val_xs.LogFare > 2.7\n",
    "mean_absolute_error(val_y, preds) # it's worse comparing to sex split"
   ]
  },
  {
   "attachments": {},
   "cell_type": "markdown",
   "metadata": {},
   "source": [
    "We'd like some way to try more columns and breakpoints more easily. We could create a function that returns how good our model is, in order to more quickly try out a few different splits.\n",
    "\n",
    "We'll create a score function to do this. Instead of returning the mean absolute error, we'll calculate a measure of impurity -- that is, how much the binary split creates two groups where the rows in a group are each similar to each other, or dissimilar."
   ]
  },
  {
   "cell_type": "code",
   "execution_count": 31,
   "metadata": {},
   "outputs": [],
   "source": [
    "def _side_score(side: pd.Series, y: pd.Series):\n",
    "    \"\"\"We can measure the similarity of rows inside a group by taking the standard deviation of \n",
    "    the dependent variable. If it's higher, then it means the rows are more different to \n",
    "    each other. We'll then multiply this by the number of rows, since a bigger group as more \n",
    "    impact than a smaller group.\n",
    "    \"\"\"\n",
    "    tot = side.sum()\n",
    "\n",
    "    if tot <= 1:\n",
    "        return 0\n",
    "\n",
    "    return y[side].std() * tot"
   ]
  },
  {
   "cell_type": "code",
   "execution_count": 32,
   "metadata": {},
   "outputs": [],
   "source": [
    "def score(col: pd.Series, y: pd.Series, split_threshold: float):\n",
    "    \"\"\"we can calculate the score for a split by adding up the scores for the \"left hand side\" \n",
    "    (lhs) and \"right hand side\" (rhs).\"\"\"\n",
    "\n",
    "    lhs = col <= split_threshold\n",
    "\n",
    "    return (_side_score(lhs, y) + _side_score(~lhs, y)) / len(y)"
   ]
  },
  {
   "cell_type": "code",
   "execution_count": 33,
   "metadata": {},
   "outputs": [
    {
     "data": {
      "text/plain": [
       "0.40787530982063946"
      ]
     },
     "execution_count": 33,
     "metadata": {},
     "output_type": "execute_result"
    }
   ],
   "source": [
    "score(trn_xs[\"Sex\"], trn_y, 0.5)\n"
   ]
  },
  {
   "cell_type": "code",
   "execution_count": 34,
   "metadata": {},
   "outputs": [
    {
     "data": {
      "text/plain": [
       "0.47180873952099694"
      ]
     },
     "execution_count": 34,
     "metadata": {},
     "output_type": "execute_result"
    }
   ],
   "source": [
    "score(trn_xs[\"LogFare\"], trn_y, 2.7)"
   ]
  },
  {
   "attachments": {},
   "cell_type": "markdown",
   "metadata": {},
   "source": [
    "To make it easier to find the best binary split, we can create a simple interactive tool"
   ]
  },
  {
   "cell_type": "code",
   "execution_count": 35,
   "metadata": {},
   "outputs": [
    {
     "data": {
      "application/vnd.jupyter.widget-view+json": {
       "model_id": "45ba9864565b42fbabf6fa3ceaaf53b6",
       "version_major": 2,
       "version_minor": 0
      },
      "text/plain": [
       "interactive(children=(Dropdown(description='column_name', options=('Age', 'SibSp', 'Parch', 'LogFare', 'Pclass…"
      ]
     },
     "metadata": {},
     "output_type": "display_data"
    },
    {
     "data": {
      "text/plain": [
       "<function __main__.iscore(column_name, split_threshold)>"
      ]
     },
     "execution_count": 35,
     "metadata": {},
     "output_type": "execute_result"
    }
   ],
   "source": [
    "from ipywidgets import interact\n",
    "\n",
    "\n",
    "def iscore(column_name, split_threshold):\n",
    "    col = trn_xs[column_name]\n",
    "\n",
    "    return score(col, trn_y, split_threshold)\n",
    "\n",
    "\n",
    "interact(column_name=conts, split_threshold=15.5)(iscore)"
   ]
  },
  {
   "attachments": {},
   "cell_type": "markdown",
   "metadata": {},
   "source": [
    "What splits can you find that increase the purity of the data?\n",
    "- Age: 5.8 (0.4788)\n",
    "- SibSp: 4.0 (0.4783)\n",
    "- Parch: 0.7 (0.4805)\n",
    "- LogFare: 2.4 (0.4631)\n",
    "- Pclass: 2.4 (0.4604)"
   ]
  },
  {
   "attachments": {},
   "cell_type": "markdown",
   "metadata": {},
   "source": [
    "We can do the same thing for the categorical variables:\n",
    "\n"
   ]
  },
  {
   "cell_type": "code",
   "execution_count": 36,
   "metadata": {},
   "outputs": [
    {
     "data": {
      "application/vnd.jupyter.widget-view+json": {
       "model_id": "0b2772f87db74c3aa9631bc3ab64f490",
       "version_major": 2,
       "version_minor": 0
      },
      "text/plain": [
       "interactive(children=(Dropdown(description='column_name', options=('Sex', 'Embarked'), value='Sex'), IntSlider…"
      ]
     },
     "metadata": {},
     "output_type": "display_data"
    },
    {
     "data": {
      "text/plain": [
       "<function __main__.iscore(column_name, split_threshold)>"
      ]
     },
     "execution_count": 36,
     "metadata": {},
     "output_type": "execute_result"
    }
   ],
   "source": [
    "interact(column_name=cats, split_threshold=2)(iscore)"
   ]
  },
  {
   "attachments": {},
   "cell_type": "markdown",
   "metadata": {},
   "source": [
    "That works well enough, but it's rather slow and fiddly. Perhaps we could get the computer to automatically find the best split point for a column for us?"
   ]
  },
  {
   "cell_type": "code",
   "execution_count": 37,
   "metadata": {},
   "outputs": [
    {
     "data": {
      "text/plain": [
       "array([ 0.42,  0.67,  0.75,  0.83,  0.92,  1.  ,  2.  ,  3.  ,  4.  ,  5.  ,  6.  ,  7.  ,  8.  ,  9.  ,\n",
       "       10.  , 11.  , 12.  , 13.  , 14.  , 14.5 , 15.  , 16.  , 17.  , 18.  , 19.  , 20.  , 21.  , 22.  ,\n",
       "       23.  , 24.  , 24.5 , 25.  , 26.  , 27.  , 28.  , 28.5 , 29.  , 30.  , 31.  , 32.  , 32.5 , 33.  ,\n",
       "       34.  , 34.5 , 35.  , 36.  , 36.5 , 37.  , 38.  , 39.  , 40.  , 40.5 , 41.  , 42.  , 43.  , 44.  ,\n",
       "       45.  , 45.5 , 46.  , 47.  , 48.  , 49.  , 50.  , 51.  , 52.  , 53.  , 54.  , 55.  , 55.5 , 56.  ,\n",
       "       57.  , 58.  , 59.  , 60.  , 61.  , 62.  , 64.  , 65.  , 70.  , 70.5 , 74.  , 80.  ])"
      ]
     },
     "execution_count": 37,
     "metadata": {},
     "output_type": "execute_result"
    }
   ],
   "source": [
    "\"\"\"For example, to find the best split point for age we'd first need to make a list of all\n",
    "the possible split points (i.e all the unique values of that field).\n",
    "\"\"\"\n",
    "column_name: str = \"Age\"\n",
    "col = trn_xs[column_name: str]\n",
    "unq = col.unique()\n",
    "unq.sort()\n",
    "unq"
   ]
  },
  {
   "cell_type": "code",
   "execution_count": 39,
   "metadata": {},
   "outputs": [
    {
     "data": {
      "text/plain": [
       "6.0"
      ]
     },
     "execution_count": 39,
     "metadata": {},
     "output_type": "execute_result"
    }
   ],
   "source": [
    "# ...and find which index of those values is where score() is the lowest\n",
    "\n",
    "scores = np.array([score(col, trn_y, o) for o in unq if not np.isnan(o)])\n",
    "\n",
    "min_idx = scores.argmin()\n",
    "unq[min_idx] # age 6 is the best threshold"
   ]
  },
  {
   "attachments": {},
   "cell_type": "markdown",
   "metadata": {},
   "source": [
    "We can write a little function that implements the previous idea"
   ]
  },
  {
   "cell_type": "code",
   "execution_count": 42,
   "metadata": {},
   "outputs": [],
   "source": [
    "def min_col(df, column_name: str) -> tuple:\n",
    "    \"\"\"Returns the threshold value and the associated score which is minimum considerding \n",
    "    all possible vslues for the given column name.\"\"\"\n",
    "\n",
    "    col, y = df[column_name], df[dep]\n",
    "\n",
    "    unq = col.dropna().unique()\n",
    "\n",
    "    scores = np.array([score(col, y, o) for o in unq if not np.isnan(o)])\n",
    "    idx = scores.argmin()\n",
    "\n",
    "    return unq[idx], scores[idx]"
   ]
  },
  {
   "cell_type": "code",
   "execution_count": 43,
   "metadata": {},
   "outputs": [
    {
     "data": {
      "text/plain": [
       "{'Sex': (0, 0.40787530982063946),\n",
       " 'Embarked': (0, 0.47883342573147836),\n",
       " 'Age': (6.0, 0.478316717508991),\n",
       " 'SibSp': (4, 0.4783740258817434),\n",
       " 'Parch': (0, 0.4805296527841601),\n",
       " 'LogFare': (2.4390808375825834, 0.4620823937736597),\n",
       " 'Pclass': (2, 0.46048261885806596)}"
      ]
     },
     "execution_count": 43,
     "metadata": {},
     "output_type": "execute_result"
    }
   ],
   "source": [
    "# Compute for all columns\n",
    "all_cols = cats + conts\n",
    "\n",
    "{column: min_col(trn_df, column) for column in all_cols}"
   ]
  },
  {
   "attachments": {},
   "cell_type": "markdown",
   "metadata": {},
   "source": [
    "**According to this, Sex<=0 is the best split we can use.**\n",
    "\n",
    "We've just re-invented the OneR classifier (or at least, a minor variant of it), which was found to be one of the most effective classifiers in real-world datasets, compared to the algorithms in use in 1993. Since it's so simple and surprisingly effective, it a great baseline."
   ]
  },
  {
   "attachments": {},
   "cell_type": "markdown",
   "metadata": {},
   "source": [
    "### Creating a decision tree\n",
    "\n",
    "How can we improve our OneR classifier, which predicts survival based only on the column Sex?\n",
    "\n",
    "\n",
    "How about we take each of our two groups, female and male, and create one more binary split for each of them.\n",
    "\n",
    "That is: fine the single best split for females, and the single best split for males. To do this, all we have to do is repeat the previous section's steps, once for males, and once for females."
   ]
  },
  {
   "cell_type": "code",
   "execution_count": 44,
   "metadata": {},
   "outputs": [],
   "source": [
    "\"\"\"First, we'll remove Sex from the list of possible splits (since we've already used it, \n",
    "and there's only one possible split for that binary column), and create our two groups\"\"\"\n",
    "\n",
    "all_cols.remove(\"Sex\")\n",
    "ismale = trn_df.Sex == 1\n",
    "\n",
    "males, females = trn_df[ismale], trn_df[~ismale]"
   ]
  },
  {
   "cell_type": "code",
   "execution_count": 46,
   "metadata": {},
   "outputs": [
    {
     "data": {
      "text/plain": [
       "{'Embarked': (0, 0.3875581870410906),\n",
       " 'Age': (6.0, 0.3739828371010595),\n",
       " 'SibSp': (4, 0.3875864227586273),\n",
       " 'Parch': (0, 0.3874704821461959),\n",
       " 'LogFare': (2.803360380906535, 0.3804856231758151),\n",
       " 'Pclass': (1, 0.38155442004360934)}"
      ]
     },
     "execution_count": 46,
     "metadata": {},
     "output_type": "execute_result"
    }
   ],
   "source": [
    "# Now let's find the single best binary split for males...:\n",
    "{column: min_col(males, column) for column in all_cols} # it's age with threshold of 6"
   ]
  },
  {
   "cell_type": "code",
   "execution_count": 47,
   "metadata": {},
   "outputs": [
    {
     "data": {
      "text/plain": [
       "{'Embarked': (0, 0.4295252982857327),\n",
       " 'Age': (50.0, 0.4225927658431649),\n",
       " 'SibSp': (4, 0.42319212059713535),\n",
       " 'Parch': (3, 0.4193314500446158),\n",
       " 'LogFare': (4.256321678298823, 0.41350598332911376),\n",
       " 'Pclass': (2, 0.3335388911567601)}"
      ]
     },
     "execution_count": 47,
     "metadata": {},
     "output_type": "execute_result"
    }
   ],
   "source": [
    "# and for females\n",
    "{column :min_col(females, column) for column in all_cols} # it's pClass with threshold 2"
   ]
  },
  {
   "attachments": {},
   "cell_type": "markdown",
   "metadata": {},
   "source": [
    "By adding these rules, we have created a decision tree, where our model will first check whether Sex is female or male, and depending on the result will then check either the above Age or Pclass rules, as appropriate. We could then repeat the process, creating new additional rules for each of the four groups we've now created.\n",
    "\n",
    "But this time we will use an existing library to avoid repeat code many times."
   ]
  },
  {
   "cell_type": "code",
   "execution_count": 48,
   "metadata": {},
   "outputs": [],
   "source": [
    "from sklearn.tree import DecisionTreeClassifier, export_graphviz\n",
    "\n",
    "model = DecisionTreeClassifier(max_leaf_nodes=4).fit(trn_xs, trn_y)"
   ]
  },
  {
   "cell_type": "code",
   "execution_count": 49,
   "metadata": {},
   "outputs": [],
   "source": [
    "# We can draw the decision tree, it's so cool this\n",
    "import re\n",
    "\n",
    "import graphviz\n",
    "\n",
    "\n",
    "def draw_tree(tree_model, df, size=10, ratio=0.6, precision=2, **kwargs):\n",
    "    s = export_graphviz(\n",
    "        tree_model,\n",
    "        out_file=None,\n",
    "        feature_names=df.columns,\n",
    "        filled=True,\n",
    "        rounded=True,\n",
    "        special_characters=True,\n",
    "        rotate=False,\n",
    "        precision=precision,\n",
    "        **kwargs,\n",
    "    )\n",
    "\n",
    "    return graphviz.Source(re.sub('Tree {', f'Tree {{ size={size}; ratio={ratio}', s))"
   ]
  },
  {
   "cell_type": "code",
   "execution_count": 50,
   "metadata": {},
   "outputs": [
    {
     "data": {
      "image/svg+xml": [
       "<?xml version=\"1.0\" encoding=\"UTF-8\" standalone=\"no\"?>\n",
       "<!DOCTYPE svg PUBLIC \"-//W3C//DTD SVG 1.1//EN\"\n",
       " \"http://www.w3.org/Graphics/SVG/1.1/DTD/svg11.dtd\">\n",
       "<!-- Generated by graphviz version 2.40.1 (20161225.0304)\n",
       " -->\n",
       "<!-- Title: Tree Pages: 1 -->\n",
       "<svg width=\"507pt\" height=\"307pt\"\n",
       " viewBox=\"0.00 0.00 506.50 306.80\" xmlns=\"http://www.w3.org/2000/svg\" xmlns:xlink=\"http://www.w3.org/1999/xlink\">\n",
       "<g id=\"graph0\" class=\"graph\" transform=\"scale(1 1) rotate(0) translate(4 302.8)\">\n",
       "<title>Tree</title>\n",
       "<polygon fill=\"#ffffff\" stroke=\"transparent\" points=\"-4,4 -4,-302.8 502.5,-302.8 502.5,4 -4,4\"/>\n",
       "<!-- 0 -->\n",
       "<g id=\"node1\" class=\"node\">\n",
       "<title>0</title>\n",
       "<path fill=\"#f5ceb2\" stroke=\"#000000\" d=\"M297.5,-294C297.5,-294 196.5,-294 196.5,-294 190.5,-294 184.5,-288 184.5,-282 184.5,-282 184.5,-238 184.5,-238 184.5,-232 190.5,-226 196.5,-226 196.5,-226 297.5,-226 297.5,-226 303.5,-226 309.5,-232 309.5,-238 309.5,-238 309.5,-282 309.5,-282 309.5,-288 303.5,-294 297.5,-294\"/>\n",
       "<text text-anchor=\"start\" x=\"218\" y=\"-278.8\" font-family=\"Helvetica,sans-Serif\" font-size=\"14.00\" fill=\"#000000\">Sex ≤ 0.5</text>\n",
       "<text text-anchor=\"start\" x=\"215\" y=\"-263.8\" font-family=\"Helvetica,sans-Serif\" font-size=\"14.00\" fill=\"#000000\">gini = 0.47</text>\n",
       "<text text-anchor=\"start\" x=\"202\" y=\"-248.8\" font-family=\"Helvetica,sans-Serif\" font-size=\"14.00\" fill=\"#000000\">samples = 668</text>\n",
       "<text text-anchor=\"start\" x=\"192.5\" y=\"-233.8\" font-family=\"Helvetica,sans-Serif\" font-size=\"14.00\" fill=\"#000000\">value = [415, 253]</text>\n",
       "</g>\n",
       "<!-- 1 -->\n",
       "<g id=\"node2\" class=\"node\">\n",
       "<title>1</title>\n",
       "<path fill=\"#7ebfee\" stroke=\"#000000\" d=\"M226.5,-175C226.5,-175 133.5,-175 133.5,-175 127.5,-175 121.5,-169 121.5,-163 121.5,-163 121.5,-119 121.5,-119 121.5,-113 127.5,-107 133.5,-107 133.5,-107 226.5,-107 226.5,-107 232.5,-107 238.5,-113 238.5,-119 238.5,-119 238.5,-163 238.5,-163 238.5,-169 232.5,-175 226.5,-175\"/>\n",
       "<text text-anchor=\"start\" x=\"142.5\" y=\"-159.8\" font-family=\"Helvetica,sans-Serif\" font-size=\"14.00\" fill=\"#000000\">Pclass ≤ 2.5</text>\n",
       "<text text-anchor=\"start\" x=\"148\" y=\"-144.8\" font-family=\"Helvetica,sans-Serif\" font-size=\"14.00\" fill=\"#000000\">gini = 0.38</text>\n",
       "<text text-anchor=\"start\" x=\"135\" y=\"-129.8\" font-family=\"Helvetica,sans-Serif\" font-size=\"14.00\" fill=\"#000000\">samples = 229</text>\n",
       "<text text-anchor=\"start\" x=\"129.5\" y=\"-114.8\" font-family=\"Helvetica,sans-Serif\" font-size=\"14.00\" fill=\"#000000\">value = [59, 170]</text>\n",
       "</g>\n",
       "<!-- 0&#45;&gt;1 -->\n",
       "<g id=\"edge1\" class=\"edge\">\n",
       "<title>0&#45;&gt;1</title>\n",
       "<path fill=\"none\" stroke=\"#000000\" d=\"M227.8005,-225.8994C220.4414,-212.8287 211.9488,-197.7448 204.1821,-183.9503\"/>\n",
       "<polygon fill=\"#000000\" stroke=\"#000000\" points=\"207.1583,-182.1023 199.2023,-175.1056 201.0586,-185.5366 207.1583,-182.1023\"/>\n",
       "<text text-anchor=\"middle\" x=\"192.4712\" y=\"-195.4824\" font-family=\"Helvetica,sans-Serif\" font-size=\"14.00\" fill=\"#000000\">True</text>\n",
       "</g>\n",
       "<!-- 2 -->\n",
       "<g id=\"node5\" class=\"node\">\n",
       "<title>2</title>\n",
       "<path fill=\"#eb9e67\" stroke=\"#000000\" d=\"M361.5,-175C361.5,-175 268.5,-175 268.5,-175 262.5,-175 256.5,-169 256.5,-163 256.5,-163 256.5,-119 256.5,-119 256.5,-113 262.5,-107 268.5,-107 268.5,-107 361.5,-107 361.5,-107 367.5,-107 373.5,-113 373.5,-119 373.5,-119 373.5,-163 373.5,-163 373.5,-169 367.5,-175 361.5,-175\"/>\n",
       "<text text-anchor=\"start\" x=\"285.5\" y=\"-159.8\" font-family=\"Helvetica,sans-Serif\" font-size=\"14.00\" fill=\"#000000\">Age ≤ 6.5</text>\n",
       "<text text-anchor=\"start\" x=\"283\" y=\"-144.8\" font-family=\"Helvetica,sans-Serif\" font-size=\"14.00\" fill=\"#000000\">gini = 0.31</text>\n",
       "<text text-anchor=\"start\" x=\"270\" y=\"-129.8\" font-family=\"Helvetica,sans-Serif\" font-size=\"14.00\" fill=\"#000000\">samples = 439</text>\n",
       "<text text-anchor=\"start\" x=\"264.5\" y=\"-114.8\" font-family=\"Helvetica,sans-Serif\" font-size=\"14.00\" fill=\"#000000\">value = [356, 83]</text>\n",
       "</g>\n",
       "<!-- 0&#45;&gt;2 -->\n",
       "<g id=\"edge4\" class=\"edge\">\n",
       "<title>0&#45;&gt;2</title>\n",
       "<path fill=\"none\" stroke=\"#000000\" d=\"M266.4861,-225.8994C273.955,-212.8287 282.5744,-197.7448 290.457,-183.9503\"/>\n",
       "<polygon fill=\"#000000\" stroke=\"#000000\" points=\"293.5885,-185.5246 295.5111,-175.1056 287.5108,-182.0515 293.5885,-185.5246\"/>\n",
       "<text text-anchor=\"middle\" x=\"302.089\" y=\"-195.5247\" font-family=\"Helvetica,sans-Serif\" font-size=\"14.00\" fill=\"#000000\">False</text>\n",
       "</g>\n",
       "<!-- 3 -->\n",
       "<g id=\"node3\" class=\"node\">\n",
       "<title>3</title>\n",
       "<path fill=\"#40a0e6\" stroke=\"#000000\" d=\"M98,-56.5C98,-56.5 12,-56.5 12,-56.5 6,-56.5 0,-50.5 0,-44.5 0,-44.5 0,-15.5 0,-15.5 0,-9.5 6,-3.5 12,-3.5 12,-3.5 98,-3.5 98,-3.5 104,-3.5 110,-9.5 110,-15.5 110,-15.5 110,-44.5 110,-44.5 110,-50.5 104,-56.5 98,-56.5\"/>\n",
       "<text text-anchor=\"start\" x=\"23\" y=\"-41.3\" font-family=\"Helvetica,sans-Serif\" font-size=\"14.00\" fill=\"#000000\">gini = 0.06</text>\n",
       "<text text-anchor=\"start\" x=\"10\" y=\"-26.3\" font-family=\"Helvetica,sans-Serif\" font-size=\"14.00\" fill=\"#000000\">samples = 120</text>\n",
       "<text text-anchor=\"start\" x=\"8\" y=\"-11.3\" font-family=\"Helvetica,sans-Serif\" font-size=\"14.00\" fill=\"#000000\">value = [4, 116]</text>\n",
       "</g>\n",
       "<!-- 1&#45;&gt;3 -->\n",
       "<g id=\"edge2\" class=\"edge\">\n",
       "<title>1&#45;&gt;3</title>\n",
       "<path fill=\"none\" stroke=\"#000000\" d=\"M141.4759,-106.7906C125.96,-93.0125 108.1204,-77.171 92.6896,-63.4684\"/>\n",
       "<polygon fill=\"#000000\" stroke=\"#000000\" points=\"94.6663,-60.5429 84.8649,-56.52 90.0183,-65.7771 94.6663,-60.5429\"/>\n",
       "</g>\n",
       "<!-- 4 -->\n",
       "<g id=\"node4\" class=\"node\">\n",
       "<title>4</title>\n",
       "<path fill=\"#fffdfb\" stroke=\"#000000\" d=\"M226,-56.5C226,-56.5 140,-56.5 140,-56.5 134,-56.5 128,-50.5 128,-44.5 128,-44.5 128,-15.5 128,-15.5 128,-9.5 134,-3.5 140,-3.5 140,-3.5 226,-3.5 226,-3.5 232,-3.5 238,-9.5 238,-15.5 238,-15.5 238,-44.5 238,-44.5 238,-50.5 232,-56.5 226,-56.5\"/>\n",
       "<text text-anchor=\"start\" x=\"155\" y=\"-41.3\" font-family=\"Helvetica,sans-Serif\" font-size=\"14.00\" fill=\"#000000\">gini = 0.5</text>\n",
       "<text text-anchor=\"start\" x=\"138\" y=\"-26.3\" font-family=\"Helvetica,sans-Serif\" font-size=\"14.00\" fill=\"#000000\">samples = 109</text>\n",
       "<text text-anchor=\"start\" x=\"136\" y=\"-11.3\" font-family=\"Helvetica,sans-Serif\" font-size=\"14.00\" fill=\"#000000\">value = [55, 54]</text>\n",
       "</g>\n",
       "<!-- 1&#45;&gt;4 -->\n",
       "<g id=\"edge3\" class=\"edge\">\n",
       "<title>1&#45;&gt;4</title>\n",
       "<path fill=\"none\" stroke=\"#000000\" d=\"M180.9246,-106.7906C181.2696,-94.0237 181.6626,-79.4852 182.013,-66.5184\"/>\n",
       "<polygon fill=\"#000000\" stroke=\"#000000\" points=\"185.5117,-66.611 182.2832,-56.52 178.5143,-66.4218 185.5117,-66.611\"/>\n",
       "</g>\n",
       "<!-- 5 -->\n",
       "<g id=\"node6\" class=\"node\">\n",
       "<title>5</title>\n",
       "<path fill=\"#88c4ef\" stroke=\"#000000\" d=\"M351,-56.5C351,-56.5 273,-56.5 273,-56.5 267,-56.5 261,-50.5 261,-44.5 261,-44.5 261,-15.5 261,-15.5 261,-9.5 267,-3.5 273,-3.5 273,-3.5 351,-3.5 351,-3.5 357,-3.5 363,-9.5 363,-15.5 363,-15.5 363,-44.5 363,-44.5 363,-50.5 357,-56.5 351,-56.5\"/>\n",
       "<text text-anchor=\"start\" x=\"280\" y=\"-41.3\" font-family=\"Helvetica,sans-Serif\" font-size=\"14.00\" fill=\"#000000\">gini = 0.41</text>\n",
       "<text text-anchor=\"start\" x=\"271\" y=\"-26.3\" font-family=\"Helvetica,sans-Serif\" font-size=\"14.00\" fill=\"#000000\">samples = 21</text>\n",
       "<text text-anchor=\"start\" x=\"269\" y=\"-11.3\" font-family=\"Helvetica,sans-Serif\" font-size=\"14.00\" fill=\"#000000\">value = [6, 15]</text>\n",
       "</g>\n",
       "<!-- 2&#45;&gt;5 -->\n",
       "<g id=\"edge5\" class=\"edge\">\n",
       "<title>2&#45;&gt;5</title>\n",
       "<path fill=\"none\" stroke=\"#000000\" d=\"M314.0754,-106.7906C313.7304,-94.0237 313.3374,-79.4852 312.987,-66.5184\"/>\n",
       "<polygon fill=\"#000000\" stroke=\"#000000\" points=\"316.4857,-66.4218 312.7168,-56.52 309.4883,-66.611 316.4857,-66.4218\"/>\n",
       "</g>\n",
       "<!-- 6 -->\n",
       "<g id=\"node7\" class=\"node\">\n",
       "<title>6</title>\n",
       "<path fill=\"#ea995f\" stroke=\"#000000\" d=\"M486.5,-56.5C486.5,-56.5 393.5,-56.5 393.5,-56.5 387.5,-56.5 381.5,-50.5 381.5,-44.5 381.5,-44.5 381.5,-15.5 381.5,-15.5 381.5,-9.5 387.5,-3.5 393.5,-3.5 393.5,-3.5 486.5,-3.5 486.5,-3.5 492.5,-3.5 498.5,-9.5 498.5,-15.5 498.5,-15.5 498.5,-44.5 498.5,-44.5 498.5,-50.5 492.5,-56.5 486.5,-56.5\"/>\n",
       "<text text-anchor=\"start\" x=\"408\" y=\"-41.3\" font-family=\"Helvetica,sans-Serif\" font-size=\"14.00\" fill=\"#000000\">gini = 0.27</text>\n",
       "<text text-anchor=\"start\" x=\"395\" y=\"-26.3\" font-family=\"Helvetica,sans-Serif\" font-size=\"14.00\" fill=\"#000000\">samples = 418</text>\n",
       "<text text-anchor=\"start\" x=\"389.5\" y=\"-11.3\" font-family=\"Helvetica,sans-Serif\" font-size=\"14.00\" fill=\"#000000\">value = [350, 68]</text>\n",
       "</g>\n",
       "<!-- 2&#45;&gt;6 -->\n",
       "<g id=\"edge6\" class=\"edge\">\n",
       "<title>2&#45;&gt;6</title>\n",
       "<path fill=\"none\" stroke=\"#000000\" d=\"M353.5241,-106.7906C369.04,-93.0125 386.8796,-77.171 402.3104,-63.4684\"/>\n",
       "<polygon fill=\"#000000\" stroke=\"#000000\" points=\"404.9817,-65.7771 410.1351,-56.52 400.3337,-60.5429 404.9817,-65.7771\"/>\n",
       "</g>\n",
       "</g>\n",
       "</svg>\n"
      ],
      "text/plain": [
       "<graphviz.sources.Source at 0x7f544cc85eb0>"
      ]
     },
     "execution_count": 50,
     "metadata": {},
     "output_type": "execute_result"
    }
   ],
   "source": [
    "draw_tree(model, trn_xs, size=10)"
   ]
  },
  {
   "attachments": {},
   "cell_type": "markdown",
   "metadata": {},
   "source": [
    "In the picture, the more orange nodes have a lower survival rate, and blue have higher survival.\n",
    "Values display how many people die or survive, `Value = [die, survive]`.\n",
    "\n",
    "There's also something called \"gini\". That's another measure of impurity."
   ]
  },
  {
   "cell_type": "code",
   "execution_count": 57,
   "metadata": {},
   "outputs": [],
   "source": [
    "def gini(condition: pd.Series):\n",
    "    \"\"\"What this calculates is the probability that, if you pick two rows from a group, \n",
    "    you'll get the same Survived result each time. If the group is all the same, \n",
    "    the probability is 1.0, and 0.0 if they're all different.\n",
    "    \"\"\"\n",
    "\n",
    "    # Conditional that returns a boolean Series with column labels specified\n",
    "    act = df.loc[condition, dep]\n",
    "\n",
    "    return 1 - act.mean()**2 - (1-act).mean()**2"
   ]
  },
  {
   "cell_type": "code",
   "execution_count": 56,
   "metadata": {},
   "outputs": [
    {
     "data": {
      "text/plain": [
       "1      1\n",
       "2      1\n",
       "3      1\n",
       "8      1\n",
       "9      1\n",
       "      ..\n",
       "880    1\n",
       "882    0\n",
       "885    0\n",
       "887    1\n",
       "888    0\n",
       "Name: Survived, Length: 314, dtype: int64"
      ]
     },
     "execution_count": 56,
     "metadata": {},
     "output_type": "execute_result"
    }
   ],
   "source": [
    "condition = df.Sex == \"female\"\n",
    "\n",
    "df.loc[condition, dep]"
   ]
  },
  {
   "cell_type": "code",
   "execution_count": 58,
   "metadata": {},
   "outputs": [
    {
     "data": {
      "text/plain": [
       "(0.3828350034484158, 0.3064437162277842)"
      ]
     },
     "execution_count": 58,
     "metadata": {},
     "output_type": "execute_result"
    }
   ],
   "source": [
    "gini(df.Sex == \"female\"), gini(df.Sex == \"male\")"
   ]
  },
  {
   "cell_type": "code",
   "execution_count": 59,
   "metadata": {},
   "outputs": [
    {
     "data": {
      "text/plain": [
       "0.2242152466367713"
      ]
     },
     "execution_count": 59,
     "metadata": {},
     "output_type": "execute_result"
    }
   ],
   "source": [
    "# Let's see how this model compares to our OneR version\n",
    "\n",
    "mean_absolute_error(val_y, model.predict(val_xs))"
   ]
  },
  {
   "attachments": {},
   "cell_type": "markdown",
   "metadata": {},
   "source": [
    "It's a tiny bit worse. Since this is such a small dataset (we've only got around 200 rows in our validation set) this small difference isn't really meaningful. Perhaps we'll see better results if we create a bigger tree:"
   ]
  },
  {
   "cell_type": "code",
   "execution_count": 60,
   "metadata": {},
   "outputs": [
    {
     "data": {
      "image/svg+xml": [
       "<?xml version=\"1.0\" encoding=\"UTF-8\" standalone=\"no\"?>\n",
       "<!DOCTYPE svg PUBLIC \"-//W3C//DTD SVG 1.1//EN\"\n",
       " \"http://www.w3.org/Graphics/SVG/1.1/DTD/svg11.dtd\">\n",
       "<!-- Generated by graphviz version 2.40.1 (20161225.0304)\n",
       " -->\n",
       "<!-- Title: Tree Pages: 1 -->\n",
       "<svg width=\"864pt\" height=\"521pt\"\n",
       " viewBox=\"0.00 0.00 864.00 520.83\" xmlns=\"http://www.w3.org/2000/svg\" xmlns:xlink=\"http://www.w3.org/1999/xlink\">\n",
       "<g id=\"graph0\" class=\"graph\" transform=\"scale(.7603 .7603) rotate(0) translate(4 681)\">\n",
       "<title>Tree</title>\n",
       "<polygon fill=\"#ffffff\" stroke=\"transparent\" points=\"-4,4 -4,-681 1132.3333,-681 1132.3333,4 -4,4\"/>\n",
       "<!-- 0 -->\n",
       "<g id=\"node1\" class=\"node\">\n",
       "<title>0</title>\n",
       "<path fill=\"#f5ceb2\" stroke=\"#000000\" d=\"M596.8039,-677C596.8039,-677 495.8039,-677 495.8039,-677 489.8039,-677 483.8039,-671 483.8039,-665 483.8039,-665 483.8039,-621 483.8039,-621 483.8039,-615 489.8039,-609 495.8039,-609 495.8039,-609 596.8039,-609 596.8039,-609 602.8039,-609 608.8039,-615 608.8039,-621 608.8039,-621 608.8039,-665 608.8039,-665 608.8039,-671 602.8039,-677 596.8039,-677\"/>\n",
       "<text text-anchor=\"start\" x=\"517.3039\" y=\"-661.8\" font-family=\"Helvetica,sans-Serif\" font-size=\"14.00\" fill=\"#000000\">Sex ≤ 0.5</text>\n",
       "<text text-anchor=\"start\" x=\"514.3039\" y=\"-646.8\" font-family=\"Helvetica,sans-Serif\" font-size=\"14.00\" fill=\"#000000\">gini = 0.47</text>\n",
       "<text text-anchor=\"start\" x=\"501.3039\" y=\"-631.8\" font-family=\"Helvetica,sans-Serif\" font-size=\"14.00\" fill=\"#000000\">samples = 668</text>\n",
       "<text text-anchor=\"start\" x=\"491.8039\" y=\"-616.8\" font-family=\"Helvetica,sans-Serif\" font-size=\"14.00\" fill=\"#000000\">value = [415, 253]</text>\n",
       "</g>\n",
       "<!-- 1 -->\n",
       "<g id=\"node2\" class=\"node\">\n",
       "<title>1</title>\n",
       "<path fill=\"#7ebfee\" stroke=\"#000000\" d=\"M449.8039,-573C449.8039,-573 356.8039,-573 356.8039,-573 350.8039,-573 344.8039,-567 344.8039,-561 344.8039,-561 344.8039,-517 344.8039,-517 344.8039,-511 350.8039,-505 356.8039,-505 356.8039,-505 449.8039,-505 449.8039,-505 455.8039,-505 461.8039,-511 461.8039,-517 461.8039,-517 461.8039,-561 461.8039,-561 461.8039,-567 455.8039,-573 449.8039,-573\"/>\n",
       "<text text-anchor=\"start\" x=\"365.8039\" y=\"-557.8\" font-family=\"Helvetica,sans-Serif\" font-size=\"14.00\" fill=\"#000000\">Pclass ≤ 2.5</text>\n",
       "<text text-anchor=\"start\" x=\"371.3039\" y=\"-542.8\" font-family=\"Helvetica,sans-Serif\" font-size=\"14.00\" fill=\"#000000\">gini = 0.38</text>\n",
       "<text text-anchor=\"start\" x=\"358.3039\" y=\"-527.8\" font-family=\"Helvetica,sans-Serif\" font-size=\"14.00\" fill=\"#000000\">samples = 229</text>\n",
       "<text text-anchor=\"start\" x=\"352.8039\" y=\"-512.8\" font-family=\"Helvetica,sans-Serif\" font-size=\"14.00\" fill=\"#000000\">value = [59, 170]</text>\n",
       "</g>\n",
       "<!-- 0&#45;&gt;1 -->\n",
       "<g id=\"edge1\" class=\"edge\">\n",
       "<title>0&#45;&gt;1</title>\n",
       "<path fill=\"none\" stroke=\"#000000\" d=\"M499.4804,-608.9465C486.3942,-599.4293 472.051,-588.9978 458.528,-579.163\"/>\n",
       "<polygon fill=\"#000000\" stroke=\"#000000\" points=\"460.3787,-576.1812 450.2327,-573.13 456.2615,-581.8423 460.3787,-576.1812\"/>\n",
       "<text text-anchor=\"middle\" x=\"454.1318\" y=\"-594.1241\" font-family=\"Helvetica,sans-Serif\" font-size=\"14.00\" fill=\"#000000\">True</text>\n",
       "</g>\n",
       "<!-- 8 -->\n",
       "<g id=\"node9\" class=\"node\">\n",
       "<title>8</title>\n",
       "<path fill=\"#eb9e67\" stroke=\"#000000\" d=\"M743.8039,-573C743.8039,-573 650.8039,-573 650.8039,-573 644.8039,-573 638.8039,-567 638.8039,-561 638.8039,-561 638.8039,-517 638.8039,-517 638.8039,-511 644.8039,-505 650.8039,-505 650.8039,-505 743.8039,-505 743.8039,-505 749.8039,-505 755.8039,-511 755.8039,-517 755.8039,-517 755.8039,-561 755.8039,-561 755.8039,-567 749.8039,-573 743.8039,-573\"/>\n",
       "<text text-anchor=\"start\" x=\"650.8039\" y=\"-557.8\" font-family=\"Helvetica,sans-Serif\" font-size=\"14.00\" fill=\"#000000\">LogFare ≤ 3.31</text>\n",
       "<text text-anchor=\"start\" x=\"665.3039\" y=\"-542.8\" font-family=\"Helvetica,sans-Serif\" font-size=\"14.00\" fill=\"#000000\">gini = 0.31</text>\n",
       "<text text-anchor=\"start\" x=\"652.3039\" y=\"-527.8\" font-family=\"Helvetica,sans-Serif\" font-size=\"14.00\" fill=\"#000000\">samples = 439</text>\n",
       "<text text-anchor=\"start\" x=\"646.8039\" y=\"-512.8\" font-family=\"Helvetica,sans-Serif\" font-size=\"14.00\" fill=\"#000000\">value = [356, 83]</text>\n",
       "</g>\n",
       "<!-- 0&#45;&gt;8 -->\n",
       "<g id=\"edge8\" class=\"edge\">\n",
       "<title>0&#45;&gt;8</title>\n",
       "<path fill=\"none\" stroke=\"#000000\" d=\"M595.747,-608.9465C609.6957,-599.3395 624.9968,-588.8009 639.3943,-578.8848\"/>\n",
       "<polygon fill=\"#000000\" stroke=\"#000000\" points=\"641.4994,-581.6848 647.7498,-573.13 637.5289,-575.9198 641.4994,-581.6848\"/>\n",
       "<text text-anchor=\"middle\" x=\"643.2183\" y=\"-594.0159\" font-family=\"Helvetica,sans-Serif\" font-size=\"14.00\" fill=\"#000000\">False</text>\n",
       "</g>\n",
       "<!-- 2 -->\n",
       "<g id=\"node3\" class=\"node\">\n",
       "<title>2</title>\n",
       "<path fill=\"#40a0e6\" stroke=\"#000000\" d=\"M236.3039,-469C236.3039,-469 150.3039,-469 150.3039,-469 144.3039,-469 138.3039,-463 138.3039,-457 138.3039,-457 138.3039,-413 138.3039,-413 138.3039,-407 144.3039,-401 150.3039,-401 150.3039,-401 236.3039,-401 236.3039,-401 242.3039,-401 248.3039,-407 248.3039,-413 248.3039,-413 248.3039,-457 248.3039,-457 248.3039,-463 242.3039,-469 236.3039,-469\"/>\n",
       "<text text-anchor=\"start\" x=\"157.8039\" y=\"-453.8\" font-family=\"Helvetica,sans-Serif\" font-size=\"14.00\" fill=\"#000000\">SibSp ≤ 0.5</text>\n",
       "<text text-anchor=\"start\" x=\"161.3039\" y=\"-438.8\" font-family=\"Helvetica,sans-Serif\" font-size=\"14.00\" fill=\"#000000\">gini = 0.06</text>\n",
       "<text text-anchor=\"start\" x=\"148.3039\" y=\"-423.8\" font-family=\"Helvetica,sans-Serif\" font-size=\"14.00\" fill=\"#000000\">samples = 120</text>\n",
       "<text text-anchor=\"start\" x=\"146.3039\" y=\"-408.8\" font-family=\"Helvetica,sans-Serif\" font-size=\"14.00\" fill=\"#000000\">value = [4, 116]</text>\n",
       "</g>\n",
       "<!-- 1&#45;&gt;2 -->\n",
       "<g id=\"edge2\" class=\"edge\">\n",
       "<title>1&#45;&gt;2</title>\n",
       "<path fill=\"none\" stroke=\"#000000\" d=\"M344.528,-509.8919C317.4922,-496.5028 285.3482,-480.5838 257.662,-466.8726\"/>\n",
       "<polygon fill=\"#000000\" stroke=\"#000000\" points=\"258.9721,-463.6157 248.4575,-462.3142 255.8655,-469.8886 258.9721,-463.6157\"/>\n",
       "</g>\n",
       "<!-- 5 -->\n",
       "<g id=\"node6\" class=\"node\">\n",
       "<title>5</title>\n",
       "<path fill=\"#fffdfb\" stroke=\"#000000\" d=\"M446.3039,-469C446.3039,-469 360.3039,-469 360.3039,-469 354.3039,-469 348.3039,-463 348.3039,-457 348.3039,-457 348.3039,-413 348.3039,-413 348.3039,-407 354.3039,-401 360.3039,-401 360.3039,-401 446.3039,-401 446.3039,-401 452.3039,-401 458.3039,-407 458.3039,-413 458.3039,-413 458.3039,-457 458.3039,-457 458.3039,-463 452.3039,-469 446.3039,-469\"/>\n",
       "<text text-anchor=\"start\" x=\"360.8039\" y=\"-453.8\" font-family=\"Helvetica,sans-Serif\" font-size=\"14.00\" fill=\"#000000\">LogFare ≤ 2.7</text>\n",
       "<text text-anchor=\"start\" x=\"375.3039\" y=\"-438.8\" font-family=\"Helvetica,sans-Serif\" font-size=\"14.00\" fill=\"#000000\">gini = 0.5</text>\n",
       "<text text-anchor=\"start\" x=\"358.3039\" y=\"-423.8\" font-family=\"Helvetica,sans-Serif\" font-size=\"14.00\" fill=\"#000000\">samples = 109</text>\n",
       "<text text-anchor=\"start\" x=\"356.3039\" y=\"-408.8\" font-family=\"Helvetica,sans-Serif\" font-size=\"14.00\" fill=\"#000000\">value = [55, 54]</text>\n",
       "</g>\n",
       "<!-- 1&#45;&gt;5 -->\n",
       "<g id=\"edge5\" class=\"edge\">\n",
       "<title>1&#45;&gt;5</title>\n",
       "<path fill=\"none\" stroke=\"#000000\" d=\"M403.3039,-504.9465C403.3039,-496.776 403.3039,-487.9318 403.3039,-479.3697\"/>\n",
       "<polygon fill=\"#000000\" stroke=\"#000000\" points=\"406.804,-479.13 403.3039,-469.13 399.804,-479.13 406.804,-479.13\"/>\n",
       "</g>\n",
       "<!-- 3 -->\n",
       "<g id=\"node4\" class=\"node\">\n",
       "<title>3</title>\n",
       "<path fill=\"#3c9ee5\" stroke=\"#000000\" d=\"M96.3039,-357.5C96.3039,-357.5 18.3039,-357.5 18.3039,-357.5 12.3039,-357.5 6.3039,-351.5 6.3039,-345.5 6.3039,-345.5 6.3039,-316.5 6.3039,-316.5 6.3039,-310.5 12.3039,-304.5 18.3039,-304.5 18.3039,-304.5 96.3039,-304.5 96.3039,-304.5 102.3039,-304.5 108.3039,-310.5 108.3039,-316.5 108.3039,-316.5 108.3039,-345.5 108.3039,-345.5 108.3039,-351.5 102.3039,-357.5 96.3039,-357.5\"/>\n",
       "<text text-anchor=\"start\" x=\"25.3039\" y=\"-342.3\" font-family=\"Helvetica,sans-Serif\" font-size=\"14.00\" fill=\"#000000\">gini = 0.03</text>\n",
       "<text text-anchor=\"start\" x=\"16.3039\" y=\"-327.3\" font-family=\"Helvetica,sans-Serif\" font-size=\"14.00\" fill=\"#000000\">samples = 67</text>\n",
       "<text text-anchor=\"start\" x=\"14.3039\" y=\"-312.3\" font-family=\"Helvetica,sans-Serif\" font-size=\"14.00\" fill=\"#000000\">value = [1, 66]</text>\n",
       "</g>\n",
       "<!-- 2&#45;&gt;3 -->\n",
       "<g id=\"edge3\" class=\"edge\">\n",
       "<title>2&#45;&gt;3</title>\n",
       "<path fill=\"none\" stroke=\"#000000\" d=\"M148.7725,-400.9465C133.216,-389.0504 115.7918,-375.726 100.358,-363.9237\"/>\n",
       "<polygon fill=\"#000000\" stroke=\"#000000\" points=\"102.0826,-360.8364 92.0129,-357.5422 97.8304,-366.397 102.0826,-360.8364\"/>\n",
       "</g>\n",
       "<!-- 4 -->\n",
       "<g id=\"node5\" class=\"node\">\n",
       "<title>4</title>\n",
       "<path fill=\"#45a3e7\" stroke=\"#000000\" d=\"M232.3039,-357.5C232.3039,-357.5 154.3039,-357.5 154.3039,-357.5 148.3039,-357.5 142.3039,-351.5 142.3039,-345.5 142.3039,-345.5 142.3039,-316.5 142.3039,-316.5 142.3039,-310.5 148.3039,-304.5 154.3039,-304.5 154.3039,-304.5 232.3039,-304.5 232.3039,-304.5 238.3039,-304.5 244.3039,-310.5 244.3039,-316.5 244.3039,-316.5 244.3039,-345.5 244.3039,-345.5 244.3039,-351.5 238.3039,-357.5 232.3039,-357.5\"/>\n",
       "<text text-anchor=\"start\" x=\"161.3039\" y=\"-342.3\" font-family=\"Helvetica,sans-Serif\" font-size=\"14.00\" fill=\"#000000\">gini = 0.11</text>\n",
       "<text text-anchor=\"start\" x=\"152.3039\" y=\"-327.3\" font-family=\"Helvetica,sans-Serif\" font-size=\"14.00\" fill=\"#000000\">samples = 53</text>\n",
       "<text text-anchor=\"start\" x=\"150.3039\" y=\"-312.3\" font-family=\"Helvetica,sans-Serif\" font-size=\"14.00\" fill=\"#000000\">value = [3, 50]</text>\n",
       "</g>\n",
       "<!-- 2&#45;&gt;4 -->\n",
       "<g id=\"edge4\" class=\"edge\">\n",
       "<title>2&#45;&gt;4</title>\n",
       "<path fill=\"none\" stroke=\"#000000\" d=\"M193.3039,-400.9465C193.3039,-390.2621 193.3039,-378.4254 193.3039,-367.5742\"/>\n",
       "<polygon fill=\"#000000\" stroke=\"#000000\" points=\"196.804,-367.5421 193.3039,-357.5422 189.804,-367.5422 196.804,-367.5421\"/>\n",
       "</g>\n",
       "<!-- 6 -->\n",
       "<g id=\"node7\" class=\"node\">\n",
       "<title>6</title>\n",
       "<path fill=\"#cbe5f8\" stroke=\"#000000\" d=\"M376.3039,-357.5C376.3039,-357.5 290.3039,-357.5 290.3039,-357.5 284.3039,-357.5 278.3039,-351.5 278.3039,-345.5 278.3039,-345.5 278.3039,-316.5 278.3039,-316.5 278.3039,-310.5 284.3039,-304.5 290.3039,-304.5 290.3039,-304.5 376.3039,-304.5 376.3039,-304.5 382.3039,-304.5 388.3039,-310.5 388.3039,-316.5 388.3039,-316.5 388.3039,-345.5 388.3039,-345.5 388.3039,-351.5 382.3039,-357.5 376.3039,-357.5\"/>\n",
       "<text text-anchor=\"start\" x=\"301.3039\" y=\"-342.3\" font-family=\"Helvetica,sans-Serif\" font-size=\"14.00\" fill=\"#000000\">gini = 0.49</text>\n",
       "<text text-anchor=\"start\" x=\"292.3039\" y=\"-327.3\" font-family=\"Helvetica,sans-Serif\" font-size=\"14.00\" fill=\"#000000\">samples = 59</text>\n",
       "<text text-anchor=\"start\" x=\"286.3039\" y=\"-312.3\" font-family=\"Helvetica,sans-Serif\" font-size=\"14.00\" fill=\"#000000\">value = [25, 34]</text>\n",
       "</g>\n",
       "<!-- 5&#45;&gt;6 -->\n",
       "<g id=\"edge6\" class=\"edge\">\n",
       "<title>5&#45;&gt;6</title>\n",
       "<path fill=\"none\" stroke=\"#000000\" d=\"M380.3833,-400.9465C372.8212,-389.7113 364.4015,-377.2021 356.7972,-365.9043\"/>\n",
       "<polygon fill=\"#000000\" stroke=\"#000000\" points=\"359.6562,-363.8837 351.1689,-357.5422 353.8491,-367.7924 359.6562,-363.8837\"/>\n",
       "</g>\n",
       "<!-- 7 -->\n",
       "<g id=\"node8\" class=\"node\">\n",
       "<title>7</title>\n",
       "<path fill=\"#f6d5bd\" stroke=\"#000000\" d=\"M521.3039,-357.5C521.3039,-357.5 435.3039,-357.5 435.3039,-357.5 429.3039,-357.5 423.3039,-351.5 423.3039,-345.5 423.3039,-345.5 423.3039,-316.5 423.3039,-316.5 423.3039,-310.5 429.3039,-304.5 435.3039,-304.5 435.3039,-304.5 521.3039,-304.5 521.3039,-304.5 527.3039,-304.5 533.3039,-310.5 533.3039,-316.5 533.3039,-316.5 533.3039,-345.5 533.3039,-345.5 533.3039,-351.5 527.3039,-357.5 521.3039,-357.5\"/>\n",
       "<text text-anchor=\"start\" x=\"446.3039\" y=\"-342.3\" font-family=\"Helvetica,sans-Serif\" font-size=\"14.00\" fill=\"#000000\">gini = 0.48</text>\n",
       "<text text-anchor=\"start\" x=\"437.3039\" y=\"-327.3\" font-family=\"Helvetica,sans-Serif\" font-size=\"14.00\" fill=\"#000000\">samples = 50</text>\n",
       "<text text-anchor=\"start\" x=\"431.3039\" y=\"-312.3\" font-family=\"Helvetica,sans-Serif\" font-size=\"14.00\" fill=\"#000000\">value = [30, 20]</text>\n",
       "</g>\n",
       "<!-- 5&#45;&gt;7 -->\n",
       "<g id=\"edge7\" class=\"edge\">\n",
       "<title>5&#45;&gt;7</title>\n",
       "<path fill=\"none\" stroke=\"#000000\" d=\"M427.8617,-400.9465C435.9641,-389.7113 444.9851,-377.2021 453.1326,-365.9043\"/>\n",
       "<polygon fill=\"#000000\" stroke=\"#000000\" points=\"456.1525,-367.7003 459.163,-357.5422 450.4749,-363.6058 456.1525,-367.7003\"/>\n",
       "</g>\n",
       "<!-- 9 -->\n",
       "<g id=\"node10\" class=\"node\">\n",
       "<title>9</title>\n",
       "<path fill=\"#e99659\" stroke=\"#000000\" d=\"M743.8039,-469C743.8039,-469 650.8039,-469 650.8039,-469 644.8039,-469 638.8039,-463 638.8039,-457 638.8039,-457 638.8039,-413 638.8039,-413 638.8039,-407 644.8039,-401 650.8039,-401 650.8039,-401 743.8039,-401 743.8039,-401 749.8039,-401 755.8039,-407 755.8039,-413 755.8039,-413 755.8039,-457 755.8039,-457 755.8039,-463 749.8039,-469 743.8039,-469\"/>\n",
       "<text text-anchor=\"start\" x=\"663.8039\" y=\"-453.8\" font-family=\"Helvetica,sans-Serif\" font-size=\"14.00\" fill=\"#000000\">Age ≤ 20.5</text>\n",
       "<text text-anchor=\"start\" x=\"665.3039\" y=\"-438.8\" font-family=\"Helvetica,sans-Serif\" font-size=\"14.00\" fill=\"#000000\">gini = 0.24</text>\n",
       "<text text-anchor=\"start\" x=\"652.3039\" y=\"-423.8\" font-family=\"Helvetica,sans-Serif\" font-size=\"14.00\" fill=\"#000000\">samples = 320</text>\n",
       "<text text-anchor=\"start\" x=\"646.8039\" y=\"-408.8\" font-family=\"Helvetica,sans-Serif\" font-size=\"14.00\" fill=\"#000000\">value = [275, 45]</text>\n",
       "</g>\n",
       "<!-- 8&#45;&gt;9 -->\n",
       "<g id=\"edge9\" class=\"edge\">\n",
       "<title>8&#45;&gt;9</title>\n",
       "<path fill=\"none\" stroke=\"#000000\" d=\"M697.3039,-504.9465C697.3039,-496.776 697.3039,-487.9318 697.3039,-479.3697\"/>\n",
       "<polygon fill=\"#000000\" stroke=\"#000000\" points=\"700.804,-479.13 697.3039,-469.13 693.804,-479.13 700.804,-479.13\"/>\n",
       "</g>\n",
       "<!-- 18 -->\n",
       "<g id=\"node19\" class=\"node\">\n",
       "<title>18</title>\n",
       "<path fill=\"#f1bc96\" stroke=\"#000000\" d=\"M964.3039,-469C964.3039,-469 878.3039,-469 878.3039,-469 872.3039,-469 866.3039,-463 866.3039,-457 866.3039,-457 866.3039,-413 866.3039,-413 866.3039,-407 872.3039,-401 878.3039,-401 878.3039,-401 964.3039,-401 964.3039,-401 970.3039,-401 976.3039,-407 976.3039,-413 976.3039,-413 976.3039,-457 976.3039,-457 976.3039,-463 970.3039,-469 964.3039,-469\"/>\n",
       "<text text-anchor=\"start\" x=\"885.8039\" y=\"-453.8\" font-family=\"Helvetica,sans-Serif\" font-size=\"14.00\" fill=\"#000000\">SibSp ≤ 0.5</text>\n",
       "<text text-anchor=\"start\" x=\"889.3039\" y=\"-438.8\" font-family=\"Helvetica,sans-Serif\" font-size=\"14.00\" fill=\"#000000\">gini = 0.43</text>\n",
       "<text text-anchor=\"start\" x=\"876.3039\" y=\"-423.8\" font-family=\"Helvetica,sans-Serif\" font-size=\"14.00\" fill=\"#000000\">samples = 119</text>\n",
       "<text text-anchor=\"start\" x=\"874.3039\" y=\"-408.8\" font-family=\"Helvetica,sans-Serif\" font-size=\"14.00\" fill=\"#000000\">value = [81, 38]</text>\n",
       "</g>\n",
       "<!-- 8&#45;&gt;18 -->\n",
       "<g id=\"edge18\" class=\"edge\">\n",
       "<title>8&#45;&gt;18</title>\n",
       "<path fill=\"none\" stroke=\"#000000\" d=\"M755.8647,-511.8111C786.8938,-497.4047 825.0704,-479.6798 856.9292,-464.8883\"/>\n",
       "<polygon fill=\"#000000\" stroke=\"#000000\" points=\"858.5699,-467.9854 866.1661,-460.5997 855.6221,-461.6364 858.5699,-467.9854\"/>\n",
       "</g>\n",
       "<!-- 10 -->\n",
       "<g id=\"node11\" class=\"node\">\n",
       "<title>10</title>\n",
       "<path fill=\"#f1b992\" stroke=\"#000000\" d=\"M666.3039,-357.5C666.3039,-357.5 580.3039,-357.5 580.3039,-357.5 574.3039,-357.5 568.3039,-351.5 568.3039,-345.5 568.3039,-345.5 568.3039,-316.5 568.3039,-316.5 568.3039,-310.5 574.3039,-304.5 580.3039,-304.5 580.3039,-304.5 666.3039,-304.5 666.3039,-304.5 672.3039,-304.5 678.3039,-310.5 678.3039,-316.5 678.3039,-316.5 678.3039,-345.5 678.3039,-345.5 678.3039,-351.5 672.3039,-357.5 666.3039,-357.5\"/>\n",
       "<text text-anchor=\"start\" x=\"591.3039\" y=\"-342.3\" font-family=\"Helvetica,sans-Serif\" font-size=\"14.00\" fill=\"#000000\">gini = 0.43</text>\n",
       "<text text-anchor=\"start\" x=\"582.3039\" y=\"-327.3\" font-family=\"Helvetica,sans-Serif\" font-size=\"14.00\" fill=\"#000000\">samples = 55</text>\n",
       "<text text-anchor=\"start\" x=\"576.3039\" y=\"-312.3\" font-family=\"Helvetica,sans-Serif\" font-size=\"14.00\" fill=\"#000000\">value = [38, 17]</text>\n",
       "</g>\n",
       "<!-- 9&#45;&gt;10 -->\n",
       "<g id=\"edge10\" class=\"edge\">\n",
       "<title>9&#45;&gt;10</title>\n",
       "<path fill=\"none\" stroke=\"#000000\" d=\"M673.0736,-400.9465C665.0793,-389.7113 656.1785,-377.2021 648.1397,-365.9043\"/>\n",
       "<polygon fill=\"#000000\" stroke=\"#000000\" points=\"650.8391,-363.6609 642.1897,-357.5422 645.1355,-367.7192 650.8391,-363.6609\"/>\n",
       "</g>\n",
       "<!-- 11 -->\n",
       "<g id=\"node12\" class=\"node\">\n",
       "<title>11</title>\n",
       "<path fill=\"#e89050\" stroke=\"#000000\" d=\"M818.8039,-365C818.8039,-365 725.8039,-365 725.8039,-365 719.8039,-365 713.8039,-359 713.8039,-353 713.8039,-353 713.8039,-309 713.8039,-309 713.8039,-303 719.8039,-297 725.8039,-297 725.8039,-297 818.8039,-297 818.8039,-297 824.8039,-297 830.8039,-303 830.8039,-309 830.8039,-309 830.8039,-353 830.8039,-353 830.8039,-359 824.8039,-365 818.8039,-365\"/>\n",
       "<text text-anchor=\"start\" x=\"738.8039\" y=\"-349.8\" font-family=\"Helvetica,sans-Serif\" font-size=\"14.00\" fill=\"#000000\">Age ≤ 32.5</text>\n",
       "<text text-anchor=\"start\" x=\"740.3039\" y=\"-334.8\" font-family=\"Helvetica,sans-Serif\" font-size=\"14.00\" fill=\"#000000\">gini = 0.19</text>\n",
       "<text text-anchor=\"start\" x=\"727.3039\" y=\"-319.8\" font-family=\"Helvetica,sans-Serif\" font-size=\"14.00\" fill=\"#000000\">samples = 265</text>\n",
       "<text text-anchor=\"start\" x=\"721.8039\" y=\"-304.8\" font-family=\"Helvetica,sans-Serif\" font-size=\"14.00\" fill=\"#000000\">value = [237, 28]</text>\n",
       "</g>\n",
       "<!-- 9&#45;&gt;11 -->\n",
       "<g id=\"edge11\" class=\"edge\">\n",
       "<title>9&#45;&gt;11</title>\n",
       "<path fill=\"none\" stroke=\"#000000\" d=\"M721.8617,-400.9465C728.2072,-392.1475 735.1161,-382.5672 741.7275,-373.3993\"/>\n",
       "<polygon fill=\"#000000\" stroke=\"#000000\" points=\"744.6805,-375.2882 747.691,-365.13 739.0029,-371.1937 744.6805,-375.2882\"/>\n",
       "</g>\n",
       "<!-- 12 -->\n",
       "<g id=\"node13\" class=\"node\">\n",
       "<title>12</title>\n",
       "<path fill=\"#e99356\" stroke=\"#000000\" d=\"M746.8039,-261C746.8039,-261 653.8039,-261 653.8039,-261 647.8039,-261 641.8039,-255 641.8039,-249 641.8039,-249 641.8039,-205 641.8039,-205 641.8039,-199 647.8039,-193 653.8039,-193 653.8039,-193 746.8039,-193 746.8039,-193 752.8039,-193 758.8039,-199 758.8039,-205 758.8039,-205 758.8039,-249 758.8039,-249 758.8039,-255 752.8039,-261 746.8039,-261\"/>\n",
       "<text text-anchor=\"start\" x=\"663.3039\" y=\"-245.8\" font-family=\"Helvetica,sans-Serif\" font-size=\"14.00\" fill=\"#000000\">Age ≤ 24.75</text>\n",
       "<text text-anchor=\"start\" x=\"668.3039\" y=\"-230.8\" font-family=\"Helvetica,sans-Serif\" font-size=\"14.00\" fill=\"#000000\">gini = 0.22</text>\n",
       "<text text-anchor=\"start\" x=\"655.3039\" y=\"-215.8\" font-family=\"Helvetica,sans-Serif\" font-size=\"14.00\" fill=\"#000000\">samples = 181</text>\n",
       "<text text-anchor=\"start\" x=\"649.8039\" y=\"-200.8\" font-family=\"Helvetica,sans-Serif\" font-size=\"14.00\" fill=\"#000000\">value = [158, 23]</text>\n",
       "</g>\n",
       "<!-- 11&#45;&gt;12 -->\n",
       "<g id=\"edge12\" class=\"edge\">\n",
       "<title>11&#45;&gt;12</title>\n",
       "<path fill=\"none\" stroke=\"#000000\" d=\"M748.7284,-296.9465C742.6369,-288.1475 736.0043,-278.5672 729.6573,-269.3993\"/>\n",
       "<polygon fill=\"#000000\" stroke=\"#000000\" points=\"732.5022,-267.3597 723.9324,-261.13 726.7469,-271.3442 732.5022,-267.3597\"/>\n",
       "</g>\n",
       "<!-- 17 -->\n",
       "<g id=\"node18\" class=\"node\">\n",
       "<title>17</title>\n",
       "<path fill=\"#e78946\" stroke=\"#000000\" d=\"M883.3039,-253.5C883.3039,-253.5 805.3039,-253.5 805.3039,-253.5 799.3039,-253.5 793.3039,-247.5 793.3039,-241.5 793.3039,-241.5 793.3039,-212.5 793.3039,-212.5 793.3039,-206.5 799.3039,-200.5 805.3039,-200.5 805.3039,-200.5 883.3039,-200.5 883.3039,-200.5 889.3039,-200.5 895.3039,-206.5 895.3039,-212.5 895.3039,-212.5 895.3039,-241.5 895.3039,-241.5 895.3039,-247.5 889.3039,-253.5 883.3039,-253.5\"/>\n",
       "<text text-anchor=\"start\" x=\"812.3039\" y=\"-238.3\" font-family=\"Helvetica,sans-Serif\" font-size=\"14.00\" fill=\"#000000\">gini = 0.11</text>\n",
       "<text text-anchor=\"start\" x=\"803.3039\" y=\"-223.3\" font-family=\"Helvetica,sans-Serif\" font-size=\"14.00\" fill=\"#000000\">samples = 84</text>\n",
       "<text text-anchor=\"start\" x=\"801.3039\" y=\"-208.3\" font-family=\"Helvetica,sans-Serif\" font-size=\"14.00\" fill=\"#000000\">value = [79, 5]</text>\n",
       "</g>\n",
       "<!-- 11&#45;&gt;17 -->\n",
       "<g id=\"edge17\" class=\"edge\">\n",
       "<title>11&#45;&gt;17</title>\n",
       "<path fill=\"none\" stroke=\"#000000\" d=\"M795.8794,-296.9465C803.6577,-285.7113 812.3179,-273.2021 820.1394,-261.9043\"/>\n",
       "<polygon fill=\"#000000\" stroke=\"#000000\" points=\"823.1141,-263.7564 825.9286,-253.5422 817.3588,-259.7719 823.1141,-263.7564\"/>\n",
       "</g>\n",
       "<!-- 13 -->\n",
       "<g id=\"node14\" class=\"node\">\n",
       "<title>13</title>\n",
       "<path fill=\"#e88d4c\" stroke=\"#000000\" d=\"M671.8039,-157C671.8039,-157 578.8039,-157 578.8039,-157 572.8039,-157 566.8039,-151 566.8039,-145 566.8039,-145 566.8039,-101 566.8039,-101 566.8039,-95 572.8039,-89 578.8039,-89 578.8039,-89 671.8039,-89 671.8039,-89 677.8039,-89 683.8039,-95 683.8039,-101 683.8039,-101 683.8039,-145 683.8039,-145 683.8039,-151 677.8039,-157 671.8039,-157\"/>\n",
       "<text text-anchor=\"start\" x=\"578.8039\" y=\"-141.8\" font-family=\"Helvetica,sans-Serif\" font-size=\"14.00\" fill=\"#000000\">LogFare ≤ 2.18</text>\n",
       "<text text-anchor=\"start\" x=\"593.3039\" y=\"-126.8\" font-family=\"Helvetica,sans-Serif\" font-size=\"14.00\" fill=\"#000000\">gini = 0.16</text>\n",
       "<text text-anchor=\"start\" x=\"580.3039\" y=\"-111.8\" font-family=\"Helvetica,sans-Serif\" font-size=\"14.00\" fill=\"#000000\">samples = 114</text>\n",
       "<text text-anchor=\"start\" x=\"574.8039\" y=\"-96.8\" font-family=\"Helvetica,sans-Serif\" font-size=\"14.00\" fill=\"#000000\">value = [104, 10]</text>\n",
       "</g>\n",
       "<!-- 12&#45;&gt;13 -->\n",
       "<g id=\"edge13\" class=\"edge\">\n",
       "<title>12&#45;&gt;13</title>\n",
       "<path fill=\"none\" stroke=\"#000000\" d=\"M675.7461,-192.9465C669.4007,-184.1475 662.4918,-174.5672 655.8803,-165.3993\"/>\n",
       "<polygon fill=\"#000000\" stroke=\"#000000\" points=\"658.605,-163.1937 649.9169,-157.13 652.9273,-167.2882 658.605,-163.1937\"/>\n",
       "</g>\n",
       "<!-- 16 -->\n",
       "<g id=\"node17\" class=\"node\">\n",
       "<title>16</title>\n",
       "<path fill=\"#eb9f69\" stroke=\"#000000\" d=\"M817.3039,-149.5C817.3039,-149.5 731.3039,-149.5 731.3039,-149.5 725.3039,-149.5 719.3039,-143.5 719.3039,-137.5 719.3039,-137.5 719.3039,-108.5 719.3039,-108.5 719.3039,-102.5 725.3039,-96.5 731.3039,-96.5 731.3039,-96.5 817.3039,-96.5 817.3039,-96.5 823.3039,-96.5 829.3039,-102.5 829.3039,-108.5 829.3039,-108.5 829.3039,-137.5 829.3039,-137.5 829.3039,-143.5 823.3039,-149.5 817.3039,-149.5\"/>\n",
       "<text text-anchor=\"start\" x=\"742.3039\" y=\"-134.3\" font-family=\"Helvetica,sans-Serif\" font-size=\"14.00\" fill=\"#000000\">gini = 0.31</text>\n",
       "<text text-anchor=\"start\" x=\"733.3039\" y=\"-119.3\" font-family=\"Helvetica,sans-Serif\" font-size=\"14.00\" fill=\"#000000\">samples = 67</text>\n",
       "<text text-anchor=\"start\" x=\"727.3039\" y=\"-104.3\" font-family=\"Helvetica,sans-Serif\" font-size=\"14.00\" fill=\"#000000\">value = [54, 13]</text>\n",
       "</g>\n",
       "<!-- 12&#45;&gt;16 -->\n",
       "<g id=\"edge16\" class=\"edge\">\n",
       "<title>12&#45;&gt;16</title>\n",
       "<path fill=\"none\" stroke=\"#000000\" d=\"M724.5343,-192.9465C732.5286,-181.7113 741.4294,-169.2021 749.4682,-157.9043\"/>\n",
       "<polygon fill=\"#000000\" stroke=\"#000000\" points=\"752.4724,-159.7192 755.4182,-149.5422 746.7688,-155.6609 752.4724,-159.7192\"/>\n",
       "</g>\n",
       "<!-- 14 -->\n",
       "<g id=\"node15\" class=\"node\">\n",
       "<title>14</title>\n",
       "<path fill=\"#e99254\" stroke=\"#000000\" d=\"M596.3039,-52.5C596.3039,-52.5 518.3039,-52.5 518.3039,-52.5 512.3039,-52.5 506.3039,-46.5 506.3039,-40.5 506.3039,-40.5 506.3039,-11.5 506.3039,-11.5 506.3039,-5.5 512.3039,.5 518.3039,.5 518.3039,.5 596.3039,.5 596.3039,.5 602.3039,.5 608.3039,-5.5 608.3039,-11.5 608.3039,-11.5 608.3039,-40.5 608.3039,-40.5 608.3039,-46.5 602.3039,-52.5 596.3039,-52.5\"/>\n",
       "<text text-anchor=\"start\" x=\"525.3039\" y=\"-37.3\" font-family=\"Helvetica,sans-Serif\" font-size=\"14.00\" fill=\"#000000\">gini = 0.21</text>\n",
       "<text text-anchor=\"start\" x=\"516.3039\" y=\"-22.3\" font-family=\"Helvetica,sans-Serif\" font-size=\"14.00\" fill=\"#000000\">samples = 50</text>\n",
       "<text text-anchor=\"start\" x=\"514.3039\" y=\"-7.3\" font-family=\"Helvetica,sans-Serif\" font-size=\"14.00\" fill=\"#000000\">value = [44, 6]</text>\n",
       "</g>\n",
       "<!-- 13&#45;&gt;14 -->\n",
       "<g id=\"edge14\" class=\"edge\">\n",
       "<title>13&#45;&gt;14</title>\n",
       "<path fill=\"none\" stroke=\"#000000\" d=\"M601.3297,-88.8014C595.0127,-79.7905 588.1887,-70.0562 581.8425,-61.0035\"/>\n",
       "<polygon fill=\"#000000\" stroke=\"#000000\" points=\"584.5428,-58.7581 575.9365,-52.5788 578.8109,-62.7763 584.5428,-58.7581\"/>\n",
       "</g>\n",
       "<!-- 15 -->\n",
       "<g id=\"node16\" class=\"node\">\n",
       "<title>15</title>\n",
       "<path fill=\"#e78946\" stroke=\"#000000\" d=\"M732.3039,-52.5C732.3039,-52.5 654.3039,-52.5 654.3039,-52.5 648.3039,-52.5 642.3039,-46.5 642.3039,-40.5 642.3039,-40.5 642.3039,-11.5 642.3039,-11.5 642.3039,-5.5 648.3039,.5 654.3039,.5 654.3039,.5 732.3039,.5 732.3039,.5 738.3039,.5 744.3039,-5.5 744.3039,-11.5 744.3039,-11.5 744.3039,-40.5 744.3039,-40.5 744.3039,-46.5 738.3039,-52.5 732.3039,-52.5\"/>\n",
       "<text text-anchor=\"start\" x=\"661.3039\" y=\"-37.3\" font-family=\"Helvetica,sans-Serif\" font-size=\"14.00\" fill=\"#000000\">gini = 0.12</text>\n",
       "<text text-anchor=\"start\" x=\"652.3039\" y=\"-22.3\" font-family=\"Helvetica,sans-Serif\" font-size=\"14.00\" fill=\"#000000\">samples = 64</text>\n",
       "<text text-anchor=\"start\" x=\"650.3039\" y=\"-7.3\" font-family=\"Helvetica,sans-Serif\" font-size=\"14.00\" fill=\"#000000\">value = [60, 4]</text>\n",
       "</g>\n",
       "<!-- 13&#45;&gt;15 -->\n",
       "<g id=\"edge15\" class=\"edge\">\n",
       "<title>13&#45;&gt;15</title>\n",
       "<path fill=\"none\" stroke=\"#000000\" d=\"M649.2782,-88.8014C655.5952,-79.7905 662.4192,-70.0562 668.7654,-61.0035\"/>\n",
       "<polygon fill=\"#000000\" stroke=\"#000000\" points=\"671.797,-62.7763 674.6714,-52.5788 666.0651,-58.7581 671.797,-62.7763\"/>\n",
       "</g>\n",
       "<!-- 19 -->\n",
       "<g id=\"node20\" class=\"node\">\n",
       "<title>19</title>\n",
       "<path fill=\"#f6d5bd\" stroke=\"#000000\" d=\"M964.3039,-357.5C964.3039,-357.5 878.3039,-357.5 878.3039,-357.5 872.3039,-357.5 866.3039,-351.5 866.3039,-345.5 866.3039,-345.5 866.3039,-316.5 866.3039,-316.5 866.3039,-310.5 872.3039,-304.5 878.3039,-304.5 878.3039,-304.5 964.3039,-304.5 964.3039,-304.5 970.3039,-304.5 976.3039,-310.5 976.3039,-316.5 976.3039,-316.5 976.3039,-345.5 976.3039,-345.5 976.3039,-351.5 970.3039,-357.5 964.3039,-357.5\"/>\n",
       "<text text-anchor=\"start\" x=\"889.3039\" y=\"-342.3\" font-family=\"Helvetica,sans-Serif\" font-size=\"14.00\" fill=\"#000000\">gini = 0.48</text>\n",
       "<text text-anchor=\"start\" x=\"880.3039\" y=\"-327.3\" font-family=\"Helvetica,sans-Serif\" font-size=\"14.00\" fill=\"#000000\">samples = 60</text>\n",
       "<text text-anchor=\"start\" x=\"874.3039\" y=\"-312.3\" font-family=\"Helvetica,sans-Serif\" font-size=\"14.00\" fill=\"#000000\">value = [36, 24]</text>\n",
       "</g>\n",
       "<!-- 18&#45;&gt;19 -->\n",
       "<g id=\"edge19\" class=\"edge\">\n",
       "<title>18&#45;&gt;19</title>\n",
       "<path fill=\"none\" stroke=\"#000000\" d=\"M921.3039,-400.9465C921.3039,-390.2621 921.3039,-378.4254 921.3039,-367.5742\"/>\n",
       "<polygon fill=\"#000000\" stroke=\"#000000\" points=\"924.804,-367.5421 921.3039,-357.5422 917.804,-367.5422 924.804,-367.5421\"/>\n",
       "</g>\n",
       "<!-- 20 -->\n",
       "<g id=\"node21\" class=\"node\">\n",
       "<title>20</title>\n",
       "<path fill=\"#eda877\" stroke=\"#000000\" d=\"M1109.3039,-357.5C1109.3039,-357.5 1023.3039,-357.5 1023.3039,-357.5 1017.3039,-357.5 1011.3039,-351.5 1011.3039,-345.5 1011.3039,-345.5 1011.3039,-316.5 1011.3039,-316.5 1011.3039,-310.5 1017.3039,-304.5 1023.3039,-304.5 1023.3039,-304.5 1109.3039,-304.5 1109.3039,-304.5 1115.3039,-304.5 1121.3039,-310.5 1121.3039,-316.5 1121.3039,-316.5 1121.3039,-345.5 1121.3039,-345.5 1121.3039,-351.5 1115.3039,-357.5 1109.3039,-357.5\"/>\n",
       "<text text-anchor=\"start\" x=\"1034.3039\" y=\"-342.3\" font-family=\"Helvetica,sans-Serif\" font-size=\"14.00\" fill=\"#000000\">gini = 0.36</text>\n",
       "<text text-anchor=\"start\" x=\"1025.3039\" y=\"-327.3\" font-family=\"Helvetica,sans-Serif\" font-size=\"14.00\" fill=\"#000000\">samples = 59</text>\n",
       "<text text-anchor=\"start\" x=\"1019.3039\" y=\"-312.3\" font-family=\"Helvetica,sans-Serif\" font-size=\"14.00\" fill=\"#000000\">value = [45, 14]</text>\n",
       "</g>\n",
       "<!-- 18&#45;&gt;20 -->\n",
       "<g id=\"edge20\" class=\"edge\">\n",
       "<title>18&#45;&gt;20</title>\n",
       "<path fill=\"none\" stroke=\"#000000\" d=\"M968.7824,-400.9465C985.5218,-388.9403 1004.2898,-375.4791 1020.8573,-363.5962\"/>\n",
       "<polygon fill=\"#000000\" stroke=\"#000000\" points=\"1023.212,-366.2146 1029.298,-357.5422 1019.1322,-360.5264 1023.212,-366.2146\"/>\n",
       "</g>\n",
       "</g>\n",
       "</svg>\n"
      ],
      "text/plain": [
       "<graphviz.sources.Source at 0x7f544cc90a60>"
      ]
     },
     "execution_count": 60,
     "metadata": {},
     "output_type": "execute_result"
    }
   ],
   "source": [
    "bigger_model = DecisionTreeClassifier(min_samples_leaf=50) # we need that each leaf has at least 50 samples\n",
    "bigger_model.fit(trn_xs, trn_y)\n",
    "draw_tree(bigger_model, trn_xs, size=12)"
   ]
  },
  {
   "cell_type": "code",
   "execution_count": 61,
   "metadata": {},
   "outputs": [
    {
     "data": {
      "text/plain": [
       "0.18385650224215247"
      ]
     },
     "execution_count": 61,
     "metadata": {},
     "output_type": "execute_result"
    }
   ],
   "source": [
    "mean_absolute_error(val_y, bigger_model.predict(val_xs)) # best resuls so far"
   ]
  },
  {
   "attachments": {},
   "cell_type": "markdown",
   "metadata": {},
   "source": [
    "### The random forest\n",
    "\n",
    "\n",
    "We can't make the decision tree much bigger than the example above, since some leaf nodes already have only 50 rows in them.\n",
    "\n",
    "what if we create lots of bigger trees, and take the average of their predictions? Taking the average prediction of a bunch of models in this way is known as bagging.\n",
    "\n",
    "The idea is that we want each model's predictions in the averaged ensemble to be uncorrelated with each other model. That way, if we average the predictions, the average will be equal to the true target value..\n",
    "\n",
    "One way we can create a bunch of uncorrelated models is to train each of them on a different random subset of the data"
   ]
  },
  {
   "cell_type": "code",
   "execution_count": 73,
   "metadata": {},
   "outputs": [],
   "source": [
    "import random\n",
    "\n",
    "\n",
    "def get_tree(prop: float = 0.75):\n",
    "    n = len(trn_y)\n",
    "    # get prop % of indices randomly selected from the range of indexes\n",
    "    idxs = random.choices(range(n), k=int(n*prop))\n",
    "    return DecisionTreeClassifier(min_samples_leaf=5).fit(trn_xs.iloc[idxs], trn_y.iloc[idxs])"
   ]
  },
  {
   "cell_type": "code",
   "execution_count": 74,
   "metadata": {},
   "outputs": [],
   "source": [
    "trees = [get_tree(0.55) for t in range(100)]"
   ]
  },
  {
   "cell_type": "code",
   "execution_count": 75,
   "metadata": {},
   "outputs": [
    {
     "data": {
      "text/plain": [
       "0.22434977578475337"
      ]
     },
     "execution_count": 75,
     "metadata": {},
     "output_type": "execute_result"
    }
   ],
   "source": [
    "# Our prediction will be the average of these trees' predictions:\n",
    "\n",
    "all_probs = [tree.predict(val_xs) for tree in trees]\n",
    "avg_probs = np.stack(all_probs).mean(0)\n",
    "\n",
    "mean_absolute_error(val_y, avg_probs)"
   ]
  },
  {
   "attachments": {},
   "cell_type": "markdown",
   "metadata": {},
   "source": [
    "This is nearly identical to what sklearn's RandomForestClassifier does.\n",
    "\n",
    "The main extra piece in a \"real\" random forest is that as well as choosing a random sample of data for each tree, it also picks a random subset of columns for each split."
   ]
  },
  {
   "cell_type": "code",
   "execution_count": 76,
   "metadata": {},
   "outputs": [
    {
     "data": {
      "text/plain": [
       "0.19282511210762332"
      ]
     },
     "execution_count": 76,
     "metadata": {},
     "output_type": "execute_result"
    }
   ],
   "source": [
    "from sklearn.ensemble import RandomForestClassifier\n",
    "\n",
    "\n",
    "rf = RandomForestClassifier(n_estimators=100, min_samples_leaf=5)\n",
    "rf.fit(trn_xs, trn_y)\n",
    "mean_absolute_error(val_y, rf.predict(val_xs))"
   ]
  },
  {
   "attachments": {},
   "cell_type": "markdown",
   "metadata": {},
   "source": [
    "One particularly nice feature of random forests is they can tell us which independent variables were the most important in the model, using `feature_importances_`"
   ]
  },
  {
   "cell_type": "code",
   "execution_count": 77,
   "metadata": {},
   "outputs": [
    {
     "data": {
      "image/png": "[encoded data removed]",
      "text/plain": [
       "<Figure size 640x480 with 1 Axes>"
      ]
     },
     "metadata": {},
     "output_type": "display_data"
    }
   ],
   "source": [
    "pd.DataFrame(dict(cols=trn_xs.columns, imp=rf.feature_importances_)).plot(\"cols\", \"imp\", \"barh\");"
   ]
  },
  {
   "attachments": {},
   "cell_type": "markdown",
   "metadata": {},
   "source": [
    "We can see that `Sex` is by far the most important predictor, with `Pclass` a distant second, and `LogFare` and `Age` behind that."
   ]
  },
  {
   "attachments": {},
   "cell_type": "markdown",
   "metadata": {},
   "source": [
    "- More complex models aren't always better...\n",
    "\n",
    "- So we should always be careful to benchmark simple models, as see if they're good enough for our needs.\n",
    "\n",
    "- Random forests aren't actually that complicated at all. And they aren't sensitive to issues like normalization, interactions, or non-linear transformations, which make them extremely easy to work with, and hard to mess up!"
   ]
  }
 ],
 "metadata": {
  "kernelspec": {
   "display_name": "fast.ai",
   "language": "python",
   "name": "python3"
  },
  "language_info": {
   "codemirror_mode": {
    "name": "ipython",
    "version": 3
   },
   "file_extension": ".py",
   "mimetype": "text/x-python",
   "name": "python",
   "nbconvert_exporter": "python",
   "pygments_lexer": "ipython3",
   "version": "3.9.16"
  },
  "orig_nbformat": 4
 },
 "nbformat": 4,
 "nbformat_minor": 2
}
