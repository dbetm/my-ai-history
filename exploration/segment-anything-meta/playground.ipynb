{
  "nbformat": 4,
  "nbformat_minor": 0,
  "metadata": {
    "colab": {
      "provenance": []
    },
    "kernelspec": {
      "name": "python3",
      "display_name": "Python 3"
    },
    "language_info": {
      "name": "python"
    }
  },
  "cells": [
    {
      "cell_type": "markdown",
      "source": [
        "## Install SAMA\n"
      ],
      "metadata": {
        "id": "aEQdRtGVh0Kv"
      }
    },
    {
      "cell_type": "code",
      "source": [
        "!pip install git+https://github.com/facebookresearch/segment-anything.git"
      ],
      "metadata": {
        "id": "FhYjzT8Hi4WN"
      },
      "execution_count": null,
      "outputs": []
    },
    {
      "cell_type": "markdown",
      "source": [
        "## Download weights\n",
        "\n",
        "Model types:\n",
        "- vit_h (larger) - 2.4 GB\n",
        "- vit_l - 1.2 GB\n",
        "- vit_b (smaller) - 358 MB\n",
        "\n",
        "They are downloaded as pth files, which are PyTorch state dictionaries (contain the state of a model - weights, biases and another params)."
      ],
      "metadata": {
        "id": "LYRZwMqOh4kx"
      }
    },
    {
      "cell_type": "code",
      "source": [
        "from http import HTTPStatus\n",
        "\n",
        "import requests\n",
        "\n",
        "MODEL_NAME = \"vit_h\"\n",
        "VIT_H_MODEL_URL = \"https://dl.fbaipublicfiles.com/segment_anything/sam_vit_h_4b8939.pth\"\n",
        "VIT_H_MODEL_LOCAL_PATH = \"model_vit_h.pth\"\n",
        "\n",
        "response = requests.get(url=VIT_H_MODEL_URL)\n",
        "\n",
        "if response.status_code == HTTPStatus.OK:\n",
        "    with open(VIT_H_MODEL_LOCAL_PATH, \"wb\") as f:\n",
        "        f.write(response.content)\n",
        "else:\n",
        "    print(response.status_code)"
      ],
      "metadata": {
        "id": "Y12wqKrhh2hr"
      },
      "execution_count": 5,
      "outputs": []
    },
    {
      "cell_type": "markdown",
      "source": [
        "## Generating masks"
      ],
      "metadata": {
        "id": "VMSvrS5ZkkCE"
      }
    },
    {
      "cell_type": "code",
      "source": [
        "from segment_anything import SamPredictor, sam_model_registry\n",
        "\n",
        "sam = sam_model_registry[MODEL_NAME](checkpoint=VIT_H_MODEL_LOCAL_PATH)\n",
        "\n",
        "predictor = SamPredictor(sam_model=sam)"
      ],
      "metadata": {
        "id": "cTiZ7XY_hzxt"
      },
      "execution_count": 7,
      "outputs": []
    },
    {
      "cell_type": "code",
      "source": [
        "import numpy as np\n",
        "from PIL import Image\n",
        "\n",
        "\n",
        "img = Image.open(\"sunsetx.jpg\")\n",
        "img_data = np.asarray(img)\n",
        "\n",
        "predictor.set_image(image=img_data)\n",
        "\n",
        "masks, _, _ = predictor.predict(\"clouds\")"
      ],
      "metadata": {
        "colab": {
          "base_uri": "https://localhost:8080/",
          "height": 339
        },
        "id": "wi4tS7hKllPe",
        "outputId": "137c1069-31bd-4630-f186-daf3c9687e69"
      },
      "execution_count": 10,
      "outputs": [
        {
          "output_type": "error",
          "ename": "AssertionError",
          "evalue": "ignored",
          "traceback": [
            "\u001b[0;31m---------------------------------------------------------------------------\u001b[0m",
            "\u001b[0;31mAssertionError\u001b[0m                            Traceback (most recent call last)",
            "\u001b[0;32m<ipython-input-10-c0ba744f5e34>\u001b[0m in \u001b[0;36m<cell line: 10>\u001b[0;34m()\u001b[0m\n\u001b[1;32m      8\u001b[0m \u001b[0mpredictor\u001b[0m\u001b[0;34m.\u001b[0m\u001b[0mset_image\u001b[0m\u001b[0;34m(\u001b[0m\u001b[0mimage\u001b[0m\u001b[0;34m=\u001b[0m\u001b[0mimg_data\u001b[0m\u001b[0;34m)\u001b[0m\u001b[0;34m\u001b[0m\u001b[0;34m\u001b[0m\u001b[0m\n\u001b[1;32m      9\u001b[0m \u001b[0;34m\u001b[0m\u001b[0m\n\u001b[0;32m---> 10\u001b[0;31m \u001b[0mmasks\u001b[0m\u001b[0;34m,\u001b[0m \u001b[0m_\u001b[0m\u001b[0;34m,\u001b[0m \u001b[0m_\u001b[0m \u001b[0;34m=\u001b[0m \u001b[0mpredictor\u001b[0m\u001b[0;34m.\u001b[0m\u001b[0mpredict\u001b[0m\u001b[0;34m(\u001b[0m\u001b[0;34m\"clouds\"\u001b[0m\u001b[0;34m)\u001b[0m\u001b[0;34m\u001b[0m\u001b[0;34m\u001b[0m\u001b[0m\n\u001b[0m",
            "\u001b[0;32m/usr/local/lib/python3.10/dist-packages/segment_anything/predictor.py\u001b[0m in \u001b[0;36mpredict\u001b[0;34m(self, point_coords, point_labels, box, mask_input, multimask_output, return_logits)\u001b[0m\n\u001b[1;32m    138\u001b[0m         \u001b[0;32mif\u001b[0m \u001b[0mpoint_coords\u001b[0m \u001b[0;32mis\u001b[0m \u001b[0;32mnot\u001b[0m \u001b[0;32mNone\u001b[0m\u001b[0;34m:\u001b[0m\u001b[0;34m\u001b[0m\u001b[0;34m\u001b[0m\u001b[0m\n\u001b[1;32m    139\u001b[0m             assert (\n\u001b[0;32m--> 140\u001b[0;31m                 \u001b[0mpoint_labels\u001b[0m \u001b[0;32mis\u001b[0m \u001b[0;32mnot\u001b[0m \u001b[0;32mNone\u001b[0m\u001b[0;34m\u001b[0m\u001b[0;34m\u001b[0m\u001b[0m\n\u001b[0m\u001b[1;32m    141\u001b[0m             ), \"point_labels must be supplied if point_coords is supplied.\"\n\u001b[1;32m    142\u001b[0m             \u001b[0mpoint_coords\u001b[0m \u001b[0;34m=\u001b[0m \u001b[0mself\u001b[0m\u001b[0;34m.\u001b[0m\u001b[0mtransform\u001b[0m\u001b[0;34m.\u001b[0m\u001b[0mapply_coords\u001b[0m\u001b[0;34m(\u001b[0m\u001b[0mpoint_coords\u001b[0m\u001b[0;34m,\u001b[0m \u001b[0mself\u001b[0m\u001b[0;34m.\u001b[0m\u001b[0moriginal_size\u001b[0m\u001b[0;34m)\u001b[0m\u001b[0;34m\u001b[0m\u001b[0;34m\u001b[0m\u001b[0m\n",
            "\u001b[0;31mAssertionError\u001b[0m: point_labels must be supplied if point_coords is supplied."
          ]
        }
      ]
    }
  ]
}