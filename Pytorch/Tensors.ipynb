{
  "nbformat": 4,
  "nbformat_minor": 0,
  "metadata": {
    "colab": {
      "name": "Tensors.ipynb",
      "provenance": []
    },
    "kernelspec": {
      "name": "python3",
      "display_name": "Python 3"
    },
    "accelerator": "GPU"
  },
  "cells": [
    {
      "cell_type": "markdown",
      "metadata": {
        "id": "b0oJcaNH_TVh"
      },
      "source": [
        "# **TENSORS**\n",
        "Tensors are a specialized data structure that are very similar to arrays and matrices.\n"
      ]
    },
    {
      "cell_type": "code",
      "metadata": {
        "id": "OwZNGF9k_QR0"
      },
      "source": [
        "import torch\n",
        "import numpy as np"
      ],
      "execution_count": 1,
      "outputs": []
    },
    {
      "cell_type": "markdown",
      "metadata": {
        "id": "03m86OPH_vdN"
      },
      "source": [
        "## Initializing a Tensor"
      ]
    },
    {
      "cell_type": "code",
      "metadata": {
        "id": "dcjmcgBS_4dS",
        "colab": {
          "base_uri": "https://localhost:8080/"
        },
        "outputId": "56842b94-ef19-4c0a-83fb-fb7c38af1522"
      },
      "source": [
        "# Directly from data\n",
        "data = [[1, 2], [3, 4]]\n",
        "x_data = torch.tensor(data)\n",
        "print(x_data)\n",
        "\n",
        "# Directly from Numpy\n",
        "np_array = np.array(data)\n",
        "x_np = torch.from_numpy(np_array)\n",
        "print(x_np)\n",
        "\n",
        "# From another tensor\n",
        "x_ones = torch.ones_like(x_data) # Retains the propeerties (shape, datatype) of x_data \n",
        "print(f\"Ones Tensor: \\n {x_ones} \\n\")\n",
        "\n",
        "x_rand = torch.rand_like(x_data, dtype=torch.float) # Overrides the datatype of x_data\n",
        "print(f\"Random Tensor: \\n {x_rand} \\n\")\n",
        "\n",
        "# Witch random or constant values\n",
        "shape = (2, 3)\n",
        "rand_tensor = torch.rand(shape)\n",
        "ones_tensor = torch.ones(shape)\n",
        "zeros_tensor = torch.zeros(shape)\n",
        "\n",
        "print(f\"Random Tensor: \\n {rand_tensor} \\n\")\n",
        "print(f\"Ones Tensor: \\n {ones_tensor} \\n\")\n",
        "print(f\"Zeros Tensor: \\n {zeros_tensor}\")"
      ],
      "execution_count": 2,
      "outputs": [
        {
          "output_type": "stream",
          "text": [
            "tensor([[1, 2],\n",
            "        [3, 4]])\n",
            "tensor([[1, 2],\n",
            "        [3, 4]])\n",
            "Ones Tensor: \n",
            " tensor([[1, 1],\n",
            "        [1, 1]]) \n",
            "\n",
            "Random Tensor: \n",
            " tensor([[0.6817, 0.8133],\n",
            "        [0.3934, 0.1572]]) \n",
            "\n",
            "Random Tensor: \n",
            " tensor([[0.3970, 0.7019, 0.8641],\n",
            "        [0.4363, 0.8291, 0.7281]]) \n",
            "\n",
            "Ones Tensor: \n",
            " tensor([[1., 1., 1.],\n",
            "        [1., 1., 1.]]) \n",
            "\n",
            "Zeros Tensor: \n",
            " tensor([[0., 0., 0.],\n",
            "        [0., 0., 0.]])\n"
          ],
          "name": "stdout"
        }
      ]
    },
    {
      "cell_type": "markdown",
      "metadata": {
        "id": "lr_BFjE-lNCs"
      },
      "source": [
        "## ATTRIBUTES OF A TENSOR"
      ]
    },
    {
      "cell_type": "code",
      "metadata": {
        "colab": {
          "base_uri": "https://localhost:8080/"
        },
        "id": "ME-xr_A3lTx2",
        "outputId": "4b8a396d-9b8e-40b9-e4c0-245f657be41a"
      },
      "source": [
        "tensor = torch.rand(3, 4)\n",
        "\n",
        "print(f\"Shape of tensor: {tensor.shape}\")\n",
        "print(f\"Datatype of tensor: {tensor.dtype}\")\n",
        "print(f\"Device tensor is stored on: {tensor.device}\")"
      ],
      "execution_count": 3,
      "outputs": [
        {
          "output_type": "stream",
          "text": [
            "Shape of tensor: torch.Size([3, 4])\n",
            "Datatype of tensor: torch.float32\n",
            "Device tensor is stored on: cpu\n"
          ],
          "name": "stdout"
        }
      ]
    },
    {
      "cell_type": "markdown",
      "metadata": {
        "id": "-an0XphUlmW5"
      },
      "source": [
        "## OPERATIONS ON TENSORS"
      ]
    },
    {
      "cell_type": "code",
      "metadata": {
        "id": "tMBIzTGslxQ5"
      },
      "source": [
        "# We move our tensor to the GPU if available\n",
        "if torch.cuda.is_available():\n",
        "  tensor = tensor.to('cuda')"
      ],
      "execution_count": 4,
      "outputs": []
    },
    {
      "cell_type": "markdown",
      "metadata": {
        "id": "DWTZWP25mqcc"
      },
      "source": [
        "**Standard Numpy-like indexing and slicing**"
      ]
    },
    {
      "cell_type": "code",
      "metadata": {
        "colab": {
          "base_uri": "https://localhost:8080/"
        },
        "id": "xu6wVcqqmyfv",
        "outputId": "c3bd6ce4-a992-4057-b0fe-d4a27154632a"
      },
      "source": [
        "tensor = torch.rand(size=(4,4))\n",
        "\n",
        "print('First row: ',tensor[0])\n",
        "print('First column: ', tensor[:, 0])\n",
        "print('Last column:', tensor[..., -1])\n",
        "tensor[:,1] = 0.0\n",
        "print(tensor)"
      ],
      "execution_count": 5,
      "outputs": [
        {
          "output_type": "stream",
          "text": [
            "First row:  tensor([0.6260, 0.6266, 0.3481, 0.6259])\n",
            "First column:  tensor([0.6260, 0.2637, 0.8976, 0.4320])\n",
            "Last column: tensor([0.6259, 0.2678, 0.2514, 0.2565])\n",
            "tensor([[0.6260, 0.0000, 0.3481, 0.6259],\n",
            "        [0.2637, 0.0000, 0.8641, 0.2678],\n",
            "        [0.8976, 0.0000, 0.3864, 0.2514],\n",
            "        [0.4320, 0.0000, 0.0120, 0.2565]])\n"
          ],
          "name": "stdout"
        }
      ]
    },
    {
      "cell_type": "markdown",
      "metadata": {
        "id": "f-XFicvGnk7A"
      },
      "source": [
        "**Joining tensors**"
      ]
    },
    {
      "cell_type": "code",
      "metadata": {
        "colab": {
          "base_uri": "https://localhost:8080/"
        },
        "id": "Fw-Cuq8Bno3d",
        "outputId": "7715d260-7580-47fd-b893-bc03b2877f7b"
      },
      "source": [
        "tensor = torch.ones(size=(1, 2))\n",
        "\n",
        "t1 = torch.cat([tensor, tensor, tensor], dim=1) # All tensors must either have the same shape or be empty.\n",
        "print(t1)"
      ],
      "execution_count": 6,
      "outputs": [
        {
          "output_type": "stream",
          "text": [
            "tensor([[1., 1., 1., 1., 1., 1.]])\n"
          ],
          "name": "stdout"
        }
      ]
    },
    {
      "cell_type": "markdown",
      "metadata": {
        "id": "WL1Xvzgqo03y"
      },
      "source": [
        "**Arithmetic operations**"
      ]
    },
    {
      "cell_type": "code",
      "metadata": {
        "id": "GxUtwAmMo380",
        "colab": {
          "base_uri": "https://localhost:8080/"
        },
        "outputId": "c985250f-7a14-4d55-84cc-23deb3f9f7ec"
      },
      "source": [
        "# Computes matrix multiplication between 2 tensors. y1, y2 and y2 will have the same value\n",
        "y1 = tensor @ tensor.T\n",
        "y2 = tensor.matmul(tensor.T)\n",
        "\n",
        "y3 = torch.rand_like(tensor)\n",
        "torch.matmul(tensor, tensor.T, out=y3)\n",
        "\n",
        "print(\"Y1\", y1)\n",
        "print(\"Y2\", y2)\n",
        "print(\"Y3\", y3)"
      ],
      "execution_count": 7,
      "outputs": [
        {
          "output_type": "stream",
          "text": [
            "Y1 tensor([[2.]])\n",
            "Y2 tensor([[2.]])\n",
            "Y3 tensor([[2.]])\n"
          ],
          "name": "stdout"
        }
      ]
    },
    {
      "cell_type": "code",
      "metadata": {
        "colab": {
          "base_uri": "https://localhost:8080/"
        },
        "id": "d77kT2yXIK12",
        "outputId": "ad94cd65-ec2a-45d4-e3e1-7142a4a23d2c"
      },
      "source": [
        "# Compute the element-wise product, z1, z2 and z3 will be have the same value\n",
        "z1 = tensor * tensor\n",
        "z2 = tensor.mul(tensor)\n",
        "\n",
        "z3 = torch.rand_like(tensor)\n",
        "torch.mul(tensor, tensor, out=z3)\n",
        "\n",
        "print(\"Z1\", z1)\n",
        "print(\"Z2\", z2)\n",
        "print(\"Z3\", z3)"
      ],
      "execution_count": 8,
      "outputs": [
        {
          "output_type": "stream",
          "text": [
            "Z1 tensor([[1., 1.]])\n",
            "Z2 tensor([[1., 1.]])\n",
            "Z3 tensor([[1., 1.]])\n"
          ],
          "name": "stdout"
        }
      ]
    },
    {
      "cell_type": "code",
      "metadata": {
        "colab": {
          "base_uri": "https://localhost:8080/"
        },
        "id": "2D2ERSQzJBN3",
        "outputId": "d117a189-70e7-4437-e8c2-2a769ee7d944"
      },
      "source": [
        "# Single-element tensors\n",
        "agg = tensor.sum()\n",
        "agg_item = agg.item()\n",
        "print(agg_item, type(agg_item))"
      ],
      "execution_count": 9,
      "outputs": [
        {
          "output_type": "stream",
          "text": [
            "2.0 <class 'float'>\n"
          ],
          "name": "stdout"
        }
      ]
    },
    {
      "cell_type": "code",
      "metadata": {
        "colab": {
          "base_uri": "https://localhost:8080/"
        },
        "id": "Of9kIz9KJNZr",
        "outputId": "24a075b2-7f34-442e-ffbc-94747ca71225"
      },
      "source": [
        "# In-place operations, they are denoted by a '_' suffix\n",
        "print(tensor, '\\n')\n",
        "tensor.add_(5)\n",
        "print(tensor)"
      ],
      "execution_count": 10,
      "outputs": [
        {
          "output_type": "stream",
          "text": [
            "tensor([[1., 1.]]) \n",
            "\n",
            "tensor([[6., 6.]])\n"
          ],
          "name": "stdout"
        }
      ]
    },
    {
      "cell_type": "code",
      "metadata": {
        "colab": {
          "base_uri": "https://localhost:8080/"
        },
        "id": "0RWBTBeQJqE3",
        "outputId": "bd017844-7e44-457c-a90a-7cc1f842c257"
      },
      "source": [
        "# NumPy array yo Tensor\n",
        "n = np.ones(5)\n",
        "t = torch.from_numpy(n)\n",
        "print(t)\n",
        "# Changes in the NumPy array reflects in the tensor.\n",
        "np.add(n, 1, out=n)\n",
        "print(n)\n",
        "print(t)"
      ],
      "execution_count": 12,
      "outputs": [
        {
          "output_type": "stream",
          "text": [
            "tensor([1., 1., 1., 1., 1.], dtype=torch.float64)\n",
            "[2. 2. 2. 2. 2.]\n",
            "tensor([2., 2., 2., 2., 2.], dtype=torch.float64)\n"
          ],
          "name": "stdout"
        }
      ]
    }
  ]
}